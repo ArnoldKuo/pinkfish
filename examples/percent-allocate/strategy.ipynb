{
 "cells": [
  {
   "cell_type": "markdown",
   "metadata": {},
   "source": [
    "# percent-allocate\n",
    "\n",
    "Maintain a percent allocation of a security in account"
   ]
  },
  {
   "cell_type": "code",
   "execution_count": 1,
   "metadata": {
    "ExecuteTime": {
     "end_time": "2019-11-14T20:50:48.551909Z",
     "start_time": "2019-11-14T20:50:47.379648Z"
    }
   },
   "outputs": [],
   "source": [
    "# use future imports for python 3.x forward compatibility\n",
    "from __future__ import print_function\n",
    "from __future__ import unicode_literals\n",
    "from __future__ import division\n",
    "from __future__ import absolute_import\n",
    "\n",
    "# other imports\n",
    "import pandas as pd\n",
    "import matplotlib.pyplot as plt\n",
    "import datetime\n",
    "from talib.abstract import *\n",
    "\n",
    "# project imports\n",
    "import pinkfish as pf\n",
    "\n",
    "# format price data\n",
    "pd.options.display.float_format = '{:0.2f}'.format\n",
    "\n",
    "%matplotlib inline"
   ]
  },
  {
   "cell_type": "code",
   "execution_count": 2,
   "metadata": {
    "ExecuteTime": {
     "end_time": "2019-11-14T20:50:48.569052Z",
     "start_time": "2019-11-14T20:50:48.562518Z"
    }
   },
   "outputs": [],
   "source": [
    "# set size of inline plots\n",
    "'''note: rcParams can't be in same cell as import matplotlib\n",
    "   or %matplotlib inline\n",
    "   \n",
    "   %matplotlib notebook: will lead to interactive plots embedded within\n",
    "   the notebook, you can zoom and resize the figure\n",
    "   \n",
    "   %matplotlib inline: only draw static images in the notebook\n",
    "'''\n",
    "plt.rcParams[\"figure.figsize\"] = (10, 7)"
   ]
  },
  {
   "cell_type": "markdown",
   "metadata": {},
   "source": [
    "Some global data"
   ]
  },
  {
   "cell_type": "code",
   "execution_count": 3,
   "metadata": {
    "ExecuteTime": {
     "end_time": "2019-11-14T20:50:48.581679Z",
     "start_time": "2019-11-14T20:50:48.574287Z"
    }
   },
   "outputs": [],
   "source": [
    "#symbol = '^GSPC'\n",
    "symbol = 'SPY'\n",
    "#symbol = 'DIA'\n",
    "#symbol = 'QQQ'\n",
    "#symbol = 'IWM'\n",
    "#symbol = 'TLT'\n",
    "#symbol = 'GLD'\n",
    "#symbol = 'AAPL'\n",
    "#symbol = 'BBRY'\n",
    "capital = 10000\n",
    "start = datetime.datetime(1900, 1, 1)\n",
    "end = datetime.datetime.now()"
   ]
  },
  {
   "cell_type": "markdown",
   "metadata": {},
   "source": [
    "Define target_percent and band"
   ]
  },
  {
   "cell_type": "code",
   "execution_count": 4,
   "metadata": {
    "ExecuteTime": {
     "end_time": "2019-11-14T20:50:48.592213Z",
     "start_time": "2019-11-14T20:50:48.586773Z"
    }
   },
   "outputs": [],
   "source": [
    "target_percent = 50\n",
    "band = 3\n",
    "\n",
    "sma200_band = 3.5/100"
   ]
  },
  {
   "cell_type": "markdown",
   "metadata": {},
   "source": [
    "Define Strategy Class "
   ]
  },
  {
   "cell_type": "code",
   "execution_count": 5,
   "metadata": {
    "ExecuteTime": {
     "end_time": "2019-11-14T20:50:48.719101Z",
     "start_time": "2019-11-14T20:50:48.604063Z"
    },
    "scrolled": false
   },
   "outputs": [],
   "source": [
    "class Strategy(object):\n",
    "\n",
    "    def __init__(self, symbol, capital, start, end):\n",
    "        self._symbol = symbol\n",
    "        self._capital = capital\n",
    "        self._start = start\n",
    "        self._end = end\n",
    "\n",
    "    def _algo(self):\n",
    "        self._tlog.cash = self._capital\n",
    "        start_flag = True\n",
    "        end_flag = False\n",
    "\n",
    "        for i, row in enumerate(self._ts.itertuples()):\n",
    "\n",
    "            date = row.Index.to_pydatetime()\n",
    "            high = row.high\n",
    "            low = row.low\n",
    "            close = row.close\n",
    "            sma200 = row.sma200\n",
    "            end_flag = True if (i == len(self._ts) - 1) else False\n",
    "            trade_state = None\n",
    "            shares = 0\n",
    "\n",
    "            if pd.isnull(sma200) or date < self._start:\n",
    "                continue\n",
    "            elif start_flag:\n",
    "                start_flag = False\n",
    "                # set start and end\n",
    "                self._start = date\n",
    "                self._end = self._ts.index[-1]\n",
    "\n",
    "            # adjust shares\n",
    "            if ((self._tlog.percent(close) > target_percent+band or\n",
    "                self._tlog.percent(close) < target_percent-band)\n",
    "                and close > sma200*(1+sma200_band)\n",
    "                and not end_flag):\n",
    "                # adjust shares to target_percent\n",
    "                shares = self._tlog.adjust_percent(date, close, target_percent)   \n",
    "            # close out\n",
    "            elif (close < sma200*(1-sma200_band)\n",
    "                  or end_flag):\n",
    "                # adjust shares to 0\n",
    "                shares = self._tlog.adjust_percent(date, close, 0)\n",
    "\n",
    "            if shares > 0:\n",
    "                trade_state = pf.TradeState.OPEN\n",
    "                print(\"{0} BUY  {1} {2} @ {3:.2f}\".format(\n",
    "                      date, shares, self._symbol, close))\n",
    "            elif shares < 0:\n",
    "                trade_state = pf.TradeState.CLOSE\n",
    "                print(\"{0} SELL {1} {2} @ {3:.2f}\".format(\n",
    "                      date, -shares, self._symbol, close))\n",
    "            else:\n",
    "                trade_state = pf.TradeState.HOLD\n",
    "\n",
    "            # record daily balance\n",
    "            self._dbal.append(date, high, low, close,\n",
    "                              self._tlog.shares, self._tlog.cash,\n",
    "                              trade_state)\n",
    "\n",
    "    def run(self):\n",
    "        self._ts = pf.fetch_timeseries(self._symbol)\n",
    "        self._ts = pf.select_tradeperiod(self._ts, self._start, self._end,\n",
    "                                         use_adj=True, pad=False)\n",
    "\n",
    "        # Add technical indicator: 200 day sma\n",
    "        sma200 = SMA(self._ts, timeperiod=200)\n",
    "        self._ts['sma200'] = sma200\n",
    "\n",
    "        self._tlog = pf.TradeLog()\n",
    "        self._dbal = pf.DailyBal()\n",
    "\n",
    "        self._algo()\n",
    "\n",
    "    def get_logs(self):\n",
    "        \"\"\" return DataFrames \"\"\"\n",
    "        rlog = self._tlog.get_log_raw()\n",
    "        tlog = self._tlog.get_log()\n",
    "        dbal = self._dbal.get_log()\n",
    "        return rlog, tlog, dbal\n",
    "\n",
    "    def stats(self):\n",
    "        _, tlog, dbal = self.get_logs()\n",
    "\n",
    "        stats = pf.stats(self._ts, tlog, dbal,\n",
    "                         self._start, self._end, self._capital)\n",
    "        return stats"
   ]
  },
  {
   "cell_type": "markdown",
   "metadata": {},
   "source": [
    "Run Strategy"
   ]
  },
  {
   "cell_type": "code",
   "execution_count": 6,
   "metadata": {
    "ExecuteTime": {
     "end_time": "2019-11-14T20:50:48.952562Z",
     "start_time": "2019-11-14T20:50:48.729415Z"
    }
   },
   "outputs": [
    {
     "name": "stdout",
     "output_type": "stream",
     "text": [
      "1993-11-11 00:00:00 BUY  175 SPY @ 28.57\n",
      "1994-04-04 00:00:00 SELL 175 SPY @ 27.39\n",
      "1994-08-26 00:00:00 BUY  163 SPY @ 29.94\n",
      "1995-05-23 00:00:00 SELL 10 SPY @ 34.03\n",
      "1995-11-16 00:00:00 SELL 9 SPY @ 38.85\n",
      "1996-05-17 00:00:00 SELL 9 SPY @ 43.96\n",
      "1996-11-25 00:00:00 SELL 8 SPY @ 50.33\n",
      "1997-06-06 00:00:00 SELL 8 SPY @ 57.61\n",
      "1997-10-06 00:00:00 SELL 8 SPY @ 65.38\n",
      "1998-04-02 00:00:00 SELL 7 SPY @ 75.81\n",
      "1998-08-31 00:00:00 SELL 104 SPY @ 65.17\n",
      "1998-11-02 00:00:00 BUY  96 SPY @ 76.21\n",
      "1999-01-06 00:00:00 SELL 6 SPY @ 87.10\n",
      "1999-10-15 00:00:00 SELL 90 SPY @ 86.05\n",
      "1999-10-29 00:00:00 BUY  82 SPY @ 94.41\n",
      "2000-10-10 00:00:00 SELL 82 SPY @ 95.82\n",
      "2003-04-22 00:00:00 BUY  119 SPY @ 65.87\n",
      "2003-09-18 00:00:00 SELL 8 SPY @ 75.70\n",
      "2004-11-11 00:00:00 SELL 7 SPY @ 87.01\n",
      "2006-03-16 00:00:00 SELL 6 SPY @ 99.19\n",
      "2007-02-14 00:00:00 SELL 6 SPY @ 112.27\n",
      "2007-11-21 00:00:00 SELL 92 SPY @ 110.67\n",
      "2009-06-05 00:00:00 BUY  134 SPY @ 76.58\n",
      "2009-09-16 00:00:00 SELL 8 SPY @ 87.41\n",
      "2010-04-09 00:00:00 SELL 8 SPY @ 98.77\n",
      "2010-06-07 00:00:00 SELL 118 SPY @ 87.15\n",
      "2010-09-24 00:00:00 BUY  115 SPY @ 95.82\n",
      "2011-01-18 00:00:00 SELL 7 SPY @ 108.66\n",
      "2011-08-04 00:00:00 SELL 108 SPY @ 101.83\n",
      "2012-01-10 00:00:00 BUY  103 SPY @ 110.60\n",
      "2012-09-13 00:00:00 SELL 7 SPY @ 126.76\n",
      "2013-05-14 00:00:00 SELL 6 SPY @ 145.30\n",
      "2014-02-27 00:00:00 SELL 6 SPY @ 165.97\n",
      "2015-02-13 00:00:00 SELL 5 SPY @ 191.04\n",
      "2015-08-21 00:00:00 SELL 79 SPY @ 181.84\n",
      "2016-04-01 00:00:00 BUY  76 SPY @ 193.31\n",
      "2017-02-13 00:00:00 SELL 5 SPY @ 220.99\n",
      "2017-11-28 00:00:00 SELL 5 SPY @ 253.13\n",
      "2018-10-29 00:00:00 SELL 66 SPY @ 258.72\n",
      "2019-03-18 00:00:00 BUY  61 SPY @ 279.67\n",
      "2019-11-11 00:00:00 SELL 61 SPY @ 308.35\n"
     ]
    }
   ],
   "source": [
    "s = Strategy(symbol, capital, start, end)\n",
    "s.run()"
   ]
  },
  {
   "cell_type": "markdown",
   "metadata": {},
   "source": [
    "Retrieve log DataFrames"
   ]
  },
  {
   "cell_type": "code",
   "execution_count": 7,
   "metadata": {
    "ExecuteTime": {
     "end_time": "2019-11-14T20:50:49.291707Z",
     "start_time": "2019-11-14T20:50:48.960754Z"
    }
   },
   "outputs": [],
   "source": [
    "s.rlog, s.tlog, s.dbal = s.get_logs()\n",
    "s.stats = s.stats()"
   ]
  },
  {
   "cell_type": "code",
   "execution_count": 8,
   "metadata": {
    "ExecuteTime": {
     "end_time": "2019-11-14T20:50:49.342647Z",
     "start_time": "2019-11-14T20:50:49.304383Z"
    }
   },
   "outputs": [
    {
     "data": {
      "text/html": [
       "<div>\n",
       "<style scoped>\n",
       "    .dataframe tbody tr th:only-of-type {\n",
       "        vertical-align: middle;\n",
       "    }\n",
       "\n",
       "    .dataframe tbody tr th {\n",
       "        vertical-align: top;\n",
       "    }\n",
       "\n",
       "    .dataframe thead th {\n",
       "        text-align: right;\n",
       "    }\n",
       "</style>\n",
       "<table border=\"1\" class=\"dataframe\">\n",
       "  <thead>\n",
       "    <tr style=\"text-align: right;\">\n",
       "      <th></th>\n",
       "      <th>date</th>\n",
       "      <th>price</th>\n",
       "      <th>shares</th>\n",
       "      <th>entry_exit</th>\n",
       "    </tr>\n",
       "  </thead>\n",
       "  <tbody>\n",
       "    <tr>\n",
       "      <th>31</th>\n",
       "      <td>2013-05-14</td>\n",
       "      <td>145.30</td>\n",
       "      <td>6</td>\n",
       "      <td>exit</td>\n",
       "    </tr>\n",
       "    <tr>\n",
       "      <th>32</th>\n",
       "      <td>2014-02-27</td>\n",
       "      <td>165.97</td>\n",
       "      <td>6</td>\n",
       "      <td>exit</td>\n",
       "    </tr>\n",
       "    <tr>\n",
       "      <th>33</th>\n",
       "      <td>2015-02-13</td>\n",
       "      <td>191.04</td>\n",
       "      <td>5</td>\n",
       "      <td>exit</td>\n",
       "    </tr>\n",
       "    <tr>\n",
       "      <th>34</th>\n",
       "      <td>2015-08-21</td>\n",
       "      <td>181.84</td>\n",
       "      <td>79</td>\n",
       "      <td>exit</td>\n",
       "    </tr>\n",
       "    <tr>\n",
       "      <th>35</th>\n",
       "      <td>2016-04-01</td>\n",
       "      <td>193.31</td>\n",
       "      <td>76</td>\n",
       "      <td>entry</td>\n",
       "    </tr>\n",
       "    <tr>\n",
       "      <th>36</th>\n",
       "      <td>2017-02-13</td>\n",
       "      <td>220.99</td>\n",
       "      <td>5</td>\n",
       "      <td>exit</td>\n",
       "    </tr>\n",
       "    <tr>\n",
       "      <th>37</th>\n",
       "      <td>2017-11-28</td>\n",
       "      <td>253.13</td>\n",
       "      <td>5</td>\n",
       "      <td>exit</td>\n",
       "    </tr>\n",
       "    <tr>\n",
       "      <th>38</th>\n",
       "      <td>2018-10-29</td>\n",
       "      <td>258.72</td>\n",
       "      <td>66</td>\n",
       "      <td>exit</td>\n",
       "    </tr>\n",
       "    <tr>\n",
       "      <th>39</th>\n",
       "      <td>2019-03-18</td>\n",
       "      <td>279.67</td>\n",
       "      <td>61</td>\n",
       "      <td>entry</td>\n",
       "    </tr>\n",
       "    <tr>\n",
       "      <th>40</th>\n",
       "      <td>2019-11-11</td>\n",
       "      <td>308.35</td>\n",
       "      <td>61</td>\n",
       "      <td>exit</td>\n",
       "    </tr>\n",
       "  </tbody>\n",
       "</table>\n",
       "</div>"
      ],
      "text/plain": [
       "         date  price  shares entry_exit\n",
       "31 2013-05-14 145.30       6       exit\n",
       "32 2014-02-27 165.97       6       exit\n",
       "33 2015-02-13 191.04       5       exit\n",
       "34 2015-08-21 181.84      79       exit\n",
       "35 2016-04-01 193.31      76      entry\n",
       "36 2017-02-13 220.99       5       exit\n",
       "37 2017-11-28 253.13       5       exit\n",
       "38 2018-10-29 258.72      66       exit\n",
       "39 2019-03-18 279.67      61      entry\n",
       "40 2019-11-11 308.35      61       exit"
      ]
     },
     "execution_count": 8,
     "metadata": {},
     "output_type": "execute_result"
    }
   ],
   "source": [
    "s.rlog.tail(10)"
   ]
  },
  {
   "cell_type": "code",
   "execution_count": 9,
   "metadata": {
    "ExecuteTime": {
     "end_time": "2019-11-14T20:50:49.384884Z",
     "start_time": "2019-11-14T20:50:49.347206Z"
    }
   },
   "outputs": [
    {
     "data": {
      "text/html": [
       "<div>\n",
       "<style scoped>\n",
       "    .dataframe tbody tr th:only-of-type {\n",
       "        vertical-align: middle;\n",
       "    }\n",
       "\n",
       "    .dataframe tbody tr th {\n",
       "        vertical-align: top;\n",
       "    }\n",
       "\n",
       "    .dataframe thead th {\n",
       "        text-align: right;\n",
       "    }\n",
       "</style>\n",
       "<table border=\"1\" class=\"dataframe\">\n",
       "  <thead>\n",
       "    <tr style=\"text-align: right;\">\n",
       "      <th></th>\n",
       "      <th>entry_date</th>\n",
       "      <th>entry_price</th>\n",
       "      <th>exit_date</th>\n",
       "      <th>exit_price</th>\n",
       "      <th>pl_points</th>\n",
       "      <th>pl_cash</th>\n",
       "      <th>qty</th>\n",
       "      <th>cumul_total</th>\n",
       "    </tr>\n",
       "  </thead>\n",
       "  <tbody>\n",
       "    <tr>\n",
       "      <th>21</th>\n",
       "      <td>2010-09-24</td>\n",
       "      <td>95.82</td>\n",
       "      <td>2011-08-04</td>\n",
       "      <td>101.83</td>\n",
       "      <td>6.01</td>\n",
       "      <td>648.90</td>\n",
       "      <td>108</td>\n",
       "      <td>12837.45</td>\n",
       "    </tr>\n",
       "    <tr>\n",
       "      <th>22</th>\n",
       "      <td>2012-01-10</td>\n",
       "      <td>110.60</td>\n",
       "      <td>2012-09-13</td>\n",
       "      <td>126.76</td>\n",
       "      <td>16.16</td>\n",
       "      <td>113.11</td>\n",
       "      <td>7</td>\n",
       "      <td>12950.56</td>\n",
       "    </tr>\n",
       "    <tr>\n",
       "      <th>23</th>\n",
       "      <td>2012-01-10</td>\n",
       "      <td>110.60</td>\n",
       "      <td>2013-05-14</td>\n",
       "      <td>145.30</td>\n",
       "      <td>34.70</td>\n",
       "      <td>208.21</td>\n",
       "      <td>6</td>\n",
       "      <td>13158.77</td>\n",
       "    </tr>\n",
       "    <tr>\n",
       "      <th>24</th>\n",
       "      <td>2012-01-10</td>\n",
       "      <td>110.60</td>\n",
       "      <td>2014-02-27</td>\n",
       "      <td>165.97</td>\n",
       "      <td>55.37</td>\n",
       "      <td>332.22</td>\n",
       "      <td>6</td>\n",
       "      <td>13490.99</td>\n",
       "    </tr>\n",
       "    <tr>\n",
       "      <th>25</th>\n",
       "      <td>2012-01-10</td>\n",
       "      <td>110.60</td>\n",
       "      <td>2015-02-13</td>\n",
       "      <td>191.04</td>\n",
       "      <td>80.43</td>\n",
       "      <td>402.17</td>\n",
       "      <td>5</td>\n",
       "      <td>13893.16</td>\n",
       "    </tr>\n",
       "    <tr>\n",
       "      <th>26</th>\n",
       "      <td>2012-01-10</td>\n",
       "      <td>110.60</td>\n",
       "      <td>2015-08-21</td>\n",
       "      <td>181.84</td>\n",
       "      <td>71.24</td>\n",
       "      <td>5627.58</td>\n",
       "      <td>79</td>\n",
       "      <td>19520.74</td>\n",
       "    </tr>\n",
       "    <tr>\n",
       "      <th>27</th>\n",
       "      <td>2016-04-01</td>\n",
       "      <td>193.31</td>\n",
       "      <td>2017-02-13</td>\n",
       "      <td>220.99</td>\n",
       "      <td>27.68</td>\n",
       "      <td>138.40</td>\n",
       "      <td>5</td>\n",
       "      <td>19659.14</td>\n",
       "    </tr>\n",
       "    <tr>\n",
       "      <th>28</th>\n",
       "      <td>2016-04-01</td>\n",
       "      <td>193.31</td>\n",
       "      <td>2017-11-28</td>\n",
       "      <td>253.13</td>\n",
       "      <td>59.81</td>\n",
       "      <td>299.07</td>\n",
       "      <td>5</td>\n",
       "      <td>19958.22</td>\n",
       "    </tr>\n",
       "    <tr>\n",
       "      <th>29</th>\n",
       "      <td>2016-04-01</td>\n",
       "      <td>193.31</td>\n",
       "      <td>2018-10-29</td>\n",
       "      <td>258.72</td>\n",
       "      <td>65.41</td>\n",
       "      <td>4316.86</td>\n",
       "      <td>66</td>\n",
       "      <td>24275.08</td>\n",
       "    </tr>\n",
       "    <tr>\n",
       "      <th>30</th>\n",
       "      <td>2019-03-18</td>\n",
       "      <td>279.67</td>\n",
       "      <td>2019-11-11</td>\n",
       "      <td>308.35</td>\n",
       "      <td>28.68</td>\n",
       "      <td>1749.36</td>\n",
       "      <td>61</td>\n",
       "      <td>26024.44</td>\n",
       "    </tr>\n",
       "  </tbody>\n",
       "</table>\n",
       "</div>"
      ],
      "text/plain": [
       "   entry_date  entry_price  exit_date  exit_price  pl_points  pl_cash  qty  \\\n",
       "21 2010-09-24        95.82 2011-08-04      101.83       6.01   648.90  108   \n",
       "22 2012-01-10       110.60 2012-09-13      126.76      16.16   113.11    7   \n",
       "23 2012-01-10       110.60 2013-05-14      145.30      34.70   208.21    6   \n",
       "24 2012-01-10       110.60 2014-02-27      165.97      55.37   332.22    6   \n",
       "25 2012-01-10       110.60 2015-02-13      191.04      80.43   402.17    5   \n",
       "26 2012-01-10       110.60 2015-08-21      181.84      71.24  5627.58   79   \n",
       "27 2016-04-01       193.31 2017-02-13      220.99      27.68   138.40    5   \n",
       "28 2016-04-01       193.31 2017-11-28      253.13      59.81   299.07    5   \n",
       "29 2016-04-01       193.31 2018-10-29      258.72      65.41  4316.86   66   \n",
       "30 2019-03-18       279.67 2019-11-11      308.35      28.68  1749.36   61   \n",
       "\n",
       "    cumul_total  \n",
       "21     12837.45  \n",
       "22     12950.56  \n",
       "23     13158.77  \n",
       "24     13490.99  \n",
       "25     13893.16  \n",
       "26     19520.74  \n",
       "27     19659.14  \n",
       "28     19958.22  \n",
       "29     24275.08  \n",
       "30     26024.44  "
      ]
     },
     "execution_count": 9,
     "metadata": {},
     "output_type": "execute_result"
    }
   ],
   "source": [
    "s.tlog.tail(10)"
   ]
  },
  {
   "cell_type": "code",
   "execution_count": 10,
   "metadata": {
    "ExecuteTime": {
     "end_time": "2019-11-14T20:50:49.425557Z",
     "start_time": "2019-11-14T20:50:49.394009Z"
    }
   },
   "outputs": [
    {
     "data": {
      "text/html": [
       "<div>\n",
       "<style scoped>\n",
       "    .dataframe tbody tr th:only-of-type {\n",
       "        vertical-align: middle;\n",
       "    }\n",
       "\n",
       "    .dataframe tbody tr th {\n",
       "        vertical-align: top;\n",
       "    }\n",
       "\n",
       "    .dataframe thead th {\n",
       "        text-align: right;\n",
       "    }\n",
       "</style>\n",
       "<table border=\"1\" class=\"dataframe\">\n",
       "  <thead>\n",
       "    <tr style=\"text-align: right;\">\n",
       "      <th></th>\n",
       "      <th>high</th>\n",
       "      <th>low</th>\n",
       "      <th>close</th>\n",
       "      <th>shares</th>\n",
       "      <th>cash</th>\n",
       "      <th>state</th>\n",
       "    </tr>\n",
       "    <tr>\n",
       "      <th>date</th>\n",
       "      <th></th>\n",
       "      <th></th>\n",
       "      <th></th>\n",
       "      <th></th>\n",
       "      <th></th>\n",
       "      <th></th>\n",
       "    </tr>\n",
       "  </thead>\n",
       "  <tbody>\n",
       "    <tr>\n",
       "      <th>2019-11-05</th>\n",
       "      <td>35998.21</td>\n",
       "      <td>35924.40</td>\n",
       "      <td>35943.92</td>\n",
       "      <td>61</td>\n",
       "      <td>17215.09</td>\n",
       "      <td>1</td>\n",
       "    </tr>\n",
       "    <tr>\n",
       "      <th>2019-11-06</th>\n",
       "      <td>35966.49</td>\n",
       "      <td>35884.75</td>\n",
       "      <td>35948.19</td>\n",
       "      <td>61</td>\n",
       "      <td>17215.09</td>\n",
       "      <td>1</td>\n",
       "    </tr>\n",
       "    <tr>\n",
       "      <th>2019-11-07</th>\n",
       "      <td>36103.74</td>\n",
       "      <td>35982.35</td>\n",
       "      <td>36014.07</td>\n",
       "      <td>61</td>\n",
       "      <td>17215.09</td>\n",
       "      <td>1</td>\n",
       "    </tr>\n",
       "    <tr>\n",
       "      <th>2019-11-08</th>\n",
       "      <td>36064.09</td>\n",
       "      <td>35943.92</td>\n",
       "      <td>36060.43</td>\n",
       "      <td>61</td>\n",
       "      <td>17215.09</td>\n",
       "      <td>1</td>\n",
       "    </tr>\n",
       "    <tr>\n",
       "      <th>2019-11-11</th>\n",
       "      <td>36024.44</td>\n",
       "      <td>36024.44</td>\n",
       "      <td>36024.44</td>\n",
       "      <td>0</td>\n",
       "      <td>36024.44</td>\n",
       "      <td>2</td>\n",
       "    </tr>\n",
       "  </tbody>\n",
       "</table>\n",
       "</div>"
      ],
      "text/plain": [
       "               high      low    close  shares     cash  state\n",
       "date                                                         \n",
       "2019-11-05 35998.21 35924.40 35943.92      61 17215.09      1\n",
       "2019-11-06 35966.49 35884.75 35948.19      61 17215.09      1\n",
       "2019-11-07 36103.74 35982.35 36014.07      61 17215.09      1\n",
       "2019-11-08 36064.09 35943.92 36060.43      61 17215.09      1\n",
       "2019-11-11 36024.44 36024.44 36024.44       0 36024.44      2"
      ]
     },
     "execution_count": 10,
     "metadata": {},
     "output_type": "execute_result"
    }
   ],
   "source": [
    "s.dbal.tail()"
   ]
  },
  {
   "cell_type": "markdown",
   "metadata": {},
   "source": [
    "Generate strategy stats - display all available stats"
   ]
  },
  {
   "cell_type": "code",
   "execution_count": 11,
   "metadata": {
    "ExecuteTime": {
     "end_time": "2019-11-14T20:50:49.467162Z",
     "start_time": "2019-11-14T20:50:49.429603Z"
    }
   },
   "outputs": [
    {
     "name": "stdout",
     "output_type": "stream",
     "text": [
      "start                                                  1993-11-11\n",
      "end                                                    2019-11-11\n",
      "beginning_balance                                           10000\n",
      "ending_balance                                           36024.44\n",
      "total_net_profit                                         26024.44\n",
      "gross_profit                                             26230.69\n",
      "gross_loss                                                -206.25\n",
      "profit_factor                                              127.18\n",
      "return_on_initial_capital                                  260.24\n",
      "annual_return_rate                                           5.05\n",
      "trading_period                           26 years 0 months 0 days\n",
      "pct_time_in_market                                          75.47\n",
      "total_num_trades                                               31\n",
      "num_winning_trades                                             30\n",
      "num_losing_trades                                               1\n",
      "num_even_trades                                                 0\n",
      "pct_profitable_trades                                       96.77\n",
      "avg_profit_per_trade                                       839.50\n",
      "avg_profit_per_winning_trade                               874.36\n",
      "avg_loss_per_losing_trade                                 -206.25\n",
      "ratio_avg_profit_win_loss                                    4.24\n",
      "largest_profit_winning_trade                              5627.58\n",
      "largest_loss_losing_trade                                 -206.25\n",
      "num_winning_points                                         871.15\n",
      "num_losing_points                                           -1.18\n",
      "total_net_points                                           869.97\n",
      "avg_points                                                  28.06\n",
      "largest_points_winning_trade                                80.43\n",
      "largest_points_losing_trade                                 -1.18\n",
      "avg_pct_gain_per_trade                                      41.92\n",
      "largest_pct_winning_trade                                  153.15\n",
      "largest_pct_losing_trade                                    -4.13\n",
      "max_consecutive_winning_trades                                 30\n",
      "max_consecutive_losing_trades                                   1\n",
      "avg_bars_winning_trades                                    460.80\n",
      "avg_bars_losing_trades                                      99.00\n",
      "max_closed_out_drawdown                                    -10.11\n",
      "max_closed_out_drawdown_start_date                     1998-07-17\n",
      "max_closed_out_drawdown_end_date                       1998-11-03\n",
      "max_closed_out_drawdown_recovery_date                  1999-04-12\n",
      "drawdown_recovery                                           -0.30\n",
      "drawdown_annualized_return                                  -2.00\n",
      "max_intra_day_drawdown                                     -10.49\n",
      "avg_yearly_closed_out_drawdown                              -4.12\n",
      "max_yearly_closed_out_drawdown                             -10.11\n",
      "avg_monthly_closed_out_drawdown                             -1.21\n",
      "max_monthly_closed_out_drawdown                             -6.85\n",
      "avg_weekly_closed_out_drawdown                              -0.48\n",
      "max_weekly_closed_out_drawdown                              -6.09\n",
      "avg_yearly_closed_out_runup                                  8.78\n",
      "max_yearly_closed_out_runup                                 25.54\n",
      "avg_monthly_closed_out_runup                                 1.55\n",
      "max_monthly_closed_out_runup                                 7.56\n",
      "avg_weekly_closed_out_runup                                  0.58\n",
      "max_weekly_closed_out_runup                                  4.69\n",
      "pct_profitable_years                                        75.17\n",
      "best_year                                                   24.58\n",
      "worst_year                                                  -5.19\n",
      "avg_year                                                     5.31\n",
      "annual_std                                                   5.61\n",
      "pct_profitable_months                                       52.35\n",
      "best_month                                                   7.56\n",
      "worst_month                                                 -6.85\n",
      "avg_month                                                    0.40\n",
      "monthly_std                                                  1.53\n",
      "pct_profitable_weeks                                        45.46\n",
      "best_week                                                    4.69\n",
      "worst_week                                                  -6.09\n",
      "avg_week                                                     0.10\n",
      "weekly_std                                                   0.82\n",
      "sharpe_ratio                                                 0.83\n",
      "sortino_ratio                                                0.94\n",
      "dtype: object\n"
     ]
    }
   ],
   "source": [
    "pf.print_full(s.stats)"
   ]
  },
  {
   "cell_type": "markdown",
   "metadata": {},
   "source": [
    "Run Benchmark"
   ]
  },
  {
   "cell_type": "code",
   "execution_count": 12,
   "metadata": {
    "ExecuteTime": {
     "end_time": "2019-11-14T20:50:49.631051Z",
     "start_time": "2019-11-14T20:50:49.476709Z"
    }
   },
   "outputs": [
    {
     "name": "stdout",
     "output_type": "stream",
     "text": [
      "1993-11-11 00:00:00 BUY  215 SPY @ 46.38\n",
      "2019-11-11 00:00:00 SELL -215 SPY @ 308.35\n"
     ]
    }
   ],
   "source": [
    "benchmark = pf.Benchmark(symbol, capital, s._start, s._end)\n",
    "benchmark.run()"
   ]
  },
  {
   "cell_type": "markdown",
   "metadata": {},
   "source": [
    "Retrieve benchmark logs"
   ]
  },
  {
   "cell_type": "code",
   "execution_count": 13,
   "metadata": {
    "ExecuteTime": {
     "end_time": "2019-11-14T20:50:49.663653Z",
     "start_time": "2019-11-14T20:50:49.639545Z"
    }
   },
   "outputs": [],
   "source": [
    "benchmark.tlog, benchmark.dbal = benchmark.get_logs()"
   ]
  },
  {
   "cell_type": "markdown",
   "metadata": {},
   "source": [
    "Generate benchmark stats"
   ]
  },
  {
   "cell_type": "code",
   "execution_count": 14,
   "metadata": {
    "ExecuteTime": {
     "end_time": "2019-11-14T20:50:49.903574Z",
     "start_time": "2019-11-14T20:50:49.675313Z"
    },
    "scrolled": false
   },
   "outputs": [
    {
     "name": "stdout",
     "output_type": "stream",
     "text": [
      "start                                                  1993-11-11\n",
      "end                                                    2019-11-11\n",
      "beginning_balance                                           10000\n",
      "ending_balance                                           66324.63\n",
      "total_net_profit                                         56324.63\n",
      "gross_profit                                             56324.63\n",
      "gross_loss                                                   0.00\n",
      "profit_factor                                                1000\n",
      "return_on_initial_capital                                  563.25\n",
      "annual_return_rate                                           7.55\n",
      "trading_period                           26 years 0 months 0 days\n",
      "pct_time_in_market                                         100.00\n",
      "total_num_trades                                                1\n",
      "num_winning_trades                                              1\n",
      "num_losing_trades                                               0\n",
      "num_even_trades                                                 0\n",
      "pct_profitable_trades                                      100.00\n",
      "avg_profit_per_trade                                     56324.63\n",
      "avg_profit_per_winning_trade                             56324.63\n",
      "avg_loss_per_losing_trade                                       0\n",
      "ratio_avg_profit_win_loss                                    1000\n",
      "largest_profit_winning_trade                             56324.63\n",
      "largest_loss_losing_trade                                       0\n",
      "num_winning_points                                         261.98\n",
      "num_losing_points                                               0\n",
      "total_net_points                                           261.98\n",
      "avg_points                                                 261.98\n",
      "largest_points_winning_trade                               261.98\n",
      "largest_points_losing_trade                                     0\n",
      "avg_pct_gain_per_trade                                     564.91\n",
      "largest_pct_winning_trade                                  564.91\n",
      "largest_pct_losing_trade                                        0\n",
      "max_consecutive_winning_trades                                  1\n",
      "max_consecutive_losing_trades                                   0\n",
      "avg_bars_winning_trades                                   6547.00\n",
      "avg_bars_losing_trades                                          0\n",
      "max_closed_out_drawdown                                    -56.42\n",
      "max_closed_out_drawdown_start_date                     2007-10-09\n",
      "max_closed_out_drawdown_end_date                       2009-03-09\n",
      "max_closed_out_drawdown_recovery_date                  2013-03-14\n",
      "drawdown_recovery                                           -1.42\n",
      "drawdown_annualized_return                                  -7.48\n",
      "max_intra_day_drawdown                                     -57.35\n",
      "avg_yearly_closed_out_drawdown                             -14.01\n",
      "max_yearly_closed_out_drawdown                             -52.34\n",
      "avg_monthly_closed_out_drawdown                             -3.98\n",
      "max_monthly_closed_out_drawdown                            -29.78\n",
      "avg_weekly_closed_out_drawdown                              -1.62\n",
      "max_weekly_closed_out_drawdown                             -19.77\n",
      "avg_yearly_closed_out_runup                                 23.56\n",
      "max_yearly_closed_out_runup                                 68.79\n",
      "avg_monthly_closed_out_runup                                 4.70\n",
      "max_monthly_closed_out_runup                                23.66\n",
      "avg_weekly_closed_out_runup                                  1.81\n",
      "max_weekly_closed_out_runup                                 19.37\n",
      "pct_profitable_years                                        78.09\n",
      "best_year                                                   67.92\n",
      "worst_year                                                 -48.54\n",
      "avg_year                                                     8.96\n",
      "annual_std                                                  16.68\n",
      "pct_profitable_months                                       62.86\n",
      "best_month                                                  22.70\n",
      "worst_month                                                -29.78\n",
      "avg_month                                                    0.67\n",
      "monthly_std                                                  4.32\n",
      "pct_profitable_weeks                                        57.18\n",
      "best_week                                                   19.37\n",
      "worst_week                                                 -19.77\n",
      "avg_week                                                     0.17\n",
      "weekly_std                                                   2.35\n",
      "sharpe_ratio                                                 0.49\n",
      "sortino_ratio                                                0.63\n",
      "dtype: object\n"
     ]
    }
   ],
   "source": [
    "benchmark.stats = benchmark.stats()\n",
    "pf.print_full(benchmark.stats)"
   ]
  },
  {
   "cell_type": "markdown",
   "metadata": {},
   "source": [
    "Plot Equity Curves: Strategy vs Benchmark"
   ]
  },
  {
   "cell_type": "code",
   "execution_count": 15,
   "metadata": {
    "ExecuteTime": {
     "end_time": "2019-11-14T20:50:50.273566Z",
     "start_time": "2019-11-14T20:50:49.912337Z"
    }
   },
   "outputs": [
    {
     "data": {
      "image/png": "[encoded data removed]",
      "text/plain": [
       "<Figure size 720x504 with 1 Axes>"
      ]
     },
     "metadata": {
      "needs_background": "light"
     },
     "output_type": "display_data"
    }
   ],
   "source": [
    "pf.plot_equity_curve(s.dbal, benchmark=benchmark.dbal)"
   ]
  },
  {
   "cell_type": "markdown",
   "metadata": {},
   "source": [
    "Plot Trades"
   ]
  },
  {
   "cell_type": "code",
   "execution_count": 16,
   "metadata": {
    "ExecuteTime": {
     "end_time": "2019-11-14T20:50:50.563626Z",
     "start_time": "2019-11-14T20:50:50.277613Z"
    },
    "scrolled": false
   },
   "outputs": [
    {
     "data": {
      "image/png": "[encoded data removed]",
      "text/plain": [
       "<Figure size 720x504 with 1 Axes>"
      ]
     },
     "metadata": {
      "needs_background": "light"
     },
     "output_type": "display_data"
    }
   ],
   "source": [
    "pf.plot_trades(s.dbal, benchmark=benchmark.dbal)"
   ]
  },
  {
   "cell_type": "markdown",
   "metadata": {},
   "source": [
    "Bar Graph: Strategy vs Benchmark"
   ]
  },
  {
   "cell_type": "code",
   "execution_count": 17,
   "metadata": {
    "ExecuteTime": {
     "end_time": "2019-11-14T20:50:51.009106Z",
     "start_time": "2019-11-14T20:50:50.572956Z"
    },
    "scrolled": false
   },
   "outputs": [
    {
     "data": {
      "text/html": [
       "<div>\n",
       "<style scoped>\n",
       "    .dataframe tbody tr th:only-of-type {\n",
       "        vertical-align: middle;\n",
       "    }\n",
       "\n",
       "    .dataframe tbody tr th {\n",
       "        vertical-align: top;\n",
       "    }\n",
       "\n",
       "    .dataframe thead th {\n",
       "        text-align: right;\n",
       "    }\n",
       "</style>\n",
       "<table border=\"1\" class=\"dataframe\">\n",
       "  <thead>\n",
       "    <tr style=\"text-align: right;\">\n",
       "      <th></th>\n",
       "      <th>strategy</th>\n",
       "      <th>benchmark</th>\n",
       "    </tr>\n",
       "  </thead>\n",
       "  <tbody>\n",
       "    <tr>\n",
       "      <th>annual_return_rate</th>\n",
       "      <td>5.05</td>\n",
       "      <td>7.55</td>\n",
       "    </tr>\n",
       "    <tr>\n",
       "      <th>max_closed_out_drawdown</th>\n",
       "      <td>-10.11</td>\n",
       "      <td>-56.42</td>\n",
       "    </tr>\n",
       "    <tr>\n",
       "      <th>drawdown_annualized_return</th>\n",
       "      <td>-2.00</td>\n",
       "      <td>-7.48</td>\n",
       "    </tr>\n",
       "    <tr>\n",
       "      <th>drawdown_recovery</th>\n",
       "      <td>-0.30</td>\n",
       "      <td>-1.42</td>\n",
       "    </tr>\n",
       "    <tr>\n",
       "      <th>best_month</th>\n",
       "      <td>7.56</td>\n",
       "      <td>22.70</td>\n",
       "    </tr>\n",
       "    <tr>\n",
       "      <th>worst_month</th>\n",
       "      <td>-6.85</td>\n",
       "      <td>-29.78</td>\n",
       "    </tr>\n",
       "    <tr>\n",
       "      <th>sharpe_ratio</th>\n",
       "      <td>0.83</td>\n",
       "      <td>0.49</td>\n",
       "    </tr>\n",
       "    <tr>\n",
       "      <th>sortino_ratio</th>\n",
       "      <td>0.94</td>\n",
       "      <td>0.63</td>\n",
       "    </tr>\n",
       "    <tr>\n",
       "      <th>monthly_std</th>\n",
       "      <td>1.53</td>\n",
       "      <td>4.32</td>\n",
       "    </tr>\n",
       "  </tbody>\n",
       "</table>\n",
       "</div>"
      ],
      "text/plain": [
       "                            strategy  benchmark\n",
       "annual_return_rate              5.05       7.55\n",
       "max_closed_out_drawdown       -10.11     -56.42\n",
       "drawdown_annualized_return     -2.00      -7.48\n",
       "drawdown_recovery              -0.30      -1.42\n",
       "best_month                      7.56      22.70\n",
       "worst_month                    -6.85     -29.78\n",
       "sharpe_ratio                    0.83       0.49\n",
       "sortino_ratio                   0.94       0.63\n",
       "monthly_std                     1.53       4.32"
      ]
     },
     "execution_count": 17,
     "metadata": {},
     "output_type": "execute_result"
    },
    {
     "data": {
      "image/png": "[encoded data removed]",
      "text/plain": [
       "<Figure size 720x504 with 1 Axes>"
      ]
     },
     "metadata": {
      "needs_background": "light"
     },
     "output_type": "display_data"
    }
   ],
   "source": [
    "metrics = ('annual_return_rate',\n",
    "           'max_closed_out_drawdown',\n",
    "           'drawdown_annualized_return',\n",
    "           'drawdown_recovery',\n",
    "           'best_month',\n",
    "           'worst_month',\n",
    "           'sharpe_ratio',\n",
    "           'sortino_ratio',\n",
    "           'monthly_std')\n",
    "df = pf.plot_bar_graph(s.stats, benchmark.stats, *metrics)\n",
    "df"
   ]
  }
 ],
 "metadata": {
  "kernelspec": {
   "display_name": "Python 2",
   "language": "python",
   "name": "python2"
  },
  "language_info": {
   "codemirror_mode": {
    "name": "ipython",
    "version": 2
   },
   "file_extension": ".py",
   "mimetype": "text/x-python",
   "name": "python",
   "nbconvert_exporter": "python",
   "pygments_lexer": "ipython2",
   "version": "2.7.15+"
  },
  "latex_envs": {
   "LaTeX_envs_menu_present": true,
   "autoclose": false,
   "autocomplete": true,
   "bibliofile": "biblio.bib",
   "cite_by": "apalike",
   "current_citInitial": 1,
   "eqLabelWithNumbers": true,
   "eqNumInitial": 1,
   "hotkeys": {
    "equation": "Ctrl-E",
    "itemize": "Ctrl-I"
   },
   "labels_anchors": false,
   "latex_user_defs": false,
   "report_style_numbering": false,
   "user_envs_cfg": false
  }
 },
 "nbformat": 4,
 "nbformat_minor": 1
}
