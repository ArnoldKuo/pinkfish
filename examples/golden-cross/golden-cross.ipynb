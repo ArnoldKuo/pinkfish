{
 "metadata": {
  "kernelspec": {
   "display_name": "Python 2",
   "language": "python",
   "name": "python2"
  },
  "language_info": {
   "codemirror_mode": {
    "name": "ipython",
    "version": 2
   },
   "file_extension": ".py",
   "mimetype": "text/x-python",
   "name": "python",
   "nbconvert_exporter": "python",
   "pygments_lexer": "ipython2",
   "version": "2.7.6"
  },
  "name": "",
  "signature": "sha256:446294aadc4d2ea57d7250dacebefd38f779c8a7e83e80eca70546ea1051dc6f"
 },
 "nbformat": 3,
 "nbformat_minor": 0,
 "worksheets": [
  {
   "cells": [
    {
     "cell_type": "markdown",
     "metadata": {},
     "source": [
      "#Golden Cross / Death Cross S&P 500 index (^GSPC)\n",
      "\n",
      "    1. sma50>sma200, buy\n",
      "    2. sma50<sma200, sell your long position."
     ]
    },
    {
     "cell_type": "code",
     "collapsed": false,
     "input": [
      "%matplotlib inline"
     ],
     "language": "python",
     "metadata": {},
     "outputs": [],
     "prompt_number": 1
    },
    {
     "cell_type": "markdown",
     "metadata": {},
     "source": [
      "Use future imports for python 3.0 forward compatibility"
     ]
    },
    {
     "cell_type": "code",
     "collapsed": false,
     "input": [
      "from __future__ import print_function\n",
      "from __future__ import unicode_literals\n",
      "from __future__ import division\n",
      "from __future__ import absolute_import"
     ],
     "language": "python",
     "metadata": {},
     "outputs": [],
     "prompt_number": 2
    },
    {
     "cell_type": "markdown",
     "metadata": {},
     "source": [
      "Other imports"
     ]
    },
    {
     "cell_type": "code",
     "collapsed": false,
     "input": [
      "import pandas as pd\n",
      "import numpy as np\n",
      "import matplotlib\n",
      "import matplotlib.pyplot as plt\n",
      "import datetime\n",
      "from talib.abstract import *\n",
      "import pinkfish as pf\n",
      "\n",
      "# format price data\n",
      "pd.options.display.float_format = '{:0.2f}'.format\n",
      "\n",
      "# Double the DPI, so we are making 2x plots:\n",
      "matplotlib.rcParams['savefig.dpi'] = 2 * matplotlib.rcParams['savefig.dpi']"
     ],
     "language": "python",
     "metadata": {},
     "outputs": [],
     "prompt_number": 3
    },
    {
     "cell_type": "markdown",
     "metadata": {},
     "source": [
      "Some global data"
     ]
    },
    {
     "cell_type": "code",
     "collapsed": false,
     "input": [
      "symbol = '^GSPC'\n",
      "#symbol = 'SPY'\n",
      "#symbol = 'DIA'\n",
      "#symbol = 'QQQ'\n",
      "#symbol = 'IWM'\n",
      "#symbol = 'TLT'\n",
      "#symbol = 'GLD'\n",
      "#symbol = 'AAPL'\n",
      "#symbol = 'BBRY'\n",
      "capital = 100000\n",
      "start = datetime.datetime(1900, 1, 1)\n",
      "end = datetime.datetime.now()"
     ],
     "language": "python",
     "metadata": {},
     "outputs": [],
     "prompt_number": 4
    },
    {
     "cell_type": "markdown",
     "metadata": {},
     "source": [
      "Fetch symbol data from internet"
     ]
    },
    {
     "cell_type": "code",
     "collapsed": false,
     "input": [
      "ts = pf.fetch_timeseries(symbol)"
     ],
     "language": "python",
     "metadata": {},
     "outputs": [],
     "prompt_number": 5
    },
    {
     "cell_type": "code",
     "collapsed": false,
     "input": [
      "ts.head()"
     ],
     "language": "python",
     "metadata": {},
     "outputs": [
      {
       "html": [
        "<div style=\"max-width:1500px;overflow:auto;\">\n",
        "<style scoped>\n",
        "    .dataframe tbody tr th:only-of-type {\n",
        "        vertical-align: middle;\n",
        "    }\n",
        "\n",
        "    .dataframe tbody tr th {\n",
        "        vertical-align: top;\n",
        "    }\n",
        "\n",
        "    .dataframe thead th {\n",
        "        text-align: right;\n",
        "    }\n",
        "</style>\n",
        "<table border=\"1\" class=\"dataframe\">\n",
        "  <thead>\n",
        "    <tr style=\"text-align: right;\">\n",
        "      <th></th>\n",
        "      <th>open</th>\n",
        "      <th>high</th>\n",
        "      <th>low</th>\n",
        "      <th>close</th>\n",
        "      <th>adj_close</th>\n",
        "      <th>volume</th>\n",
        "    </tr>\n",
        "    <tr>\n",
        "      <th>date</th>\n",
        "      <th></th>\n",
        "      <th></th>\n",
        "      <th></th>\n",
        "      <th></th>\n",
        "      <th></th>\n",
        "      <th></th>\n",
        "    </tr>\n",
        "  </thead>\n",
        "  <tbody>\n",
        "    <tr>\n",
        "      <th>1950-01-03</th>\n",
        "      <td>16.66</td>\n",
        "      <td>16.66</td>\n",
        "      <td>16.66</td>\n",
        "      <td>16.66</td>\n",
        "      <td>16.66</td>\n",
        "      <td>1260000</td>\n",
        "    </tr>\n",
        "    <tr>\n",
        "      <th>1950-01-04</th>\n",
        "      <td>16.85</td>\n",
        "      <td>16.85</td>\n",
        "      <td>16.85</td>\n",
        "      <td>16.85</td>\n",
        "      <td>16.85</td>\n",
        "      <td>1890000</td>\n",
        "    </tr>\n",
        "    <tr>\n",
        "      <th>1950-01-05</th>\n",
        "      <td>16.93</td>\n",
        "      <td>16.93</td>\n",
        "      <td>16.93</td>\n",
        "      <td>16.93</td>\n",
        "      <td>16.93</td>\n",
        "      <td>2550000</td>\n",
        "    </tr>\n",
        "    <tr>\n",
        "      <th>1950-01-06</th>\n",
        "      <td>16.98</td>\n",
        "      <td>16.98</td>\n",
        "      <td>16.98</td>\n",
        "      <td>16.98</td>\n",
        "      <td>16.98</td>\n",
        "      <td>2010000</td>\n",
        "    </tr>\n",
        "    <tr>\n",
        "      <th>1950-01-09</th>\n",
        "      <td>17.09</td>\n",
        "      <td>17.09</td>\n",
        "      <td>17.08</td>\n",
        "      <td>17.08</td>\n",
        "      <td>17.08</td>\n",
        "      <td>3850000</td>\n",
        "    </tr>\n",
        "  </tbody>\n",
        "</table>\n",
        "</div>"
       ],
       "metadata": {},
       "output_type": "pyout",
       "prompt_number": 6,
       "text": [
        "            open  high   low  close  adj_close   volume\n",
        "date                                                   \n",
        "1950-01-03 16.66 16.66 16.66  16.66      16.66  1260000\n",
        "1950-01-04 16.85 16.85 16.85  16.85      16.85  1890000\n",
        "1950-01-05 16.93 16.93 16.93  16.93      16.93  2550000\n",
        "1950-01-06 16.98 16.98 16.98  16.98      16.98  2010000\n",
        "1950-01-09 17.09 17.09 17.08  17.08      17.08  3850000"
       ]
      }
     ],
     "prompt_number": 6
    },
    {
     "cell_type": "markdown",
     "metadata": {},
     "source": [
      "Select timeseries between start and end. Back adjust prices relative to adj_close for dividends and splits."
     ]
    },
    {
     "cell_type": "code",
     "collapsed": false,
     "input": [
      "ts = pf.select_tradeperiod(ts, start, end, use_adj=True)"
     ],
     "language": "python",
     "metadata": {},
     "outputs": [],
     "prompt_number": 7
    },
    {
     "cell_type": "code",
     "collapsed": false,
     "input": [
      "ts.head()"
     ],
     "language": "python",
     "metadata": {},
     "outputs": [
      {
       "html": [
        "<div style=\"max-width:1500px;overflow:auto;\">\n",
        "<style scoped>\n",
        "    .dataframe tbody tr th:only-of-type {\n",
        "        vertical-align: middle;\n",
        "    }\n",
        "\n",
        "    .dataframe tbody tr th {\n",
        "        vertical-align: top;\n",
        "    }\n",
        "\n",
        "    .dataframe thead th {\n",
        "        text-align: right;\n",
        "    }\n",
        "</style>\n",
        "<table border=\"1\" class=\"dataframe\">\n",
        "  <thead>\n",
        "    <tr style=\"text-align: right;\">\n",
        "      <th></th>\n",
        "      <th>open</th>\n",
        "      <th>high</th>\n",
        "      <th>low</th>\n",
        "      <th>close</th>\n",
        "      <th>adj_close</th>\n",
        "      <th>volume</th>\n",
        "    </tr>\n",
        "    <tr>\n",
        "      <th>date</th>\n",
        "      <th></th>\n",
        "      <th></th>\n",
        "      <th></th>\n",
        "      <th></th>\n",
        "      <th></th>\n",
        "      <th></th>\n",
        "    </tr>\n",
        "  </thead>\n",
        "  <tbody>\n",
        "    <tr>\n",
        "      <th>1950-01-03</th>\n",
        "      <td>16.66</td>\n",
        "      <td>16.66</td>\n",
        "      <td>16.66</td>\n",
        "      <td>16.66</td>\n",
        "      <td>16.66</td>\n",
        "      <td>1260000</td>\n",
        "    </tr>\n",
        "    <tr>\n",
        "      <th>1950-01-04</th>\n",
        "      <td>16.85</td>\n",
        "      <td>16.85</td>\n",
        "      <td>16.85</td>\n",
        "      <td>16.85</td>\n",
        "      <td>16.85</td>\n",
        "      <td>1890000</td>\n",
        "    </tr>\n",
        "    <tr>\n",
        "      <th>1950-01-05</th>\n",
        "      <td>16.93</td>\n",
        "      <td>16.93</td>\n",
        "      <td>16.93</td>\n",
        "      <td>16.93</td>\n",
        "      <td>16.93</td>\n",
        "      <td>2550000</td>\n",
        "    </tr>\n",
        "    <tr>\n",
        "      <th>1950-01-06</th>\n",
        "      <td>16.98</td>\n",
        "      <td>16.98</td>\n",
        "      <td>16.98</td>\n",
        "      <td>16.98</td>\n",
        "      <td>16.98</td>\n",
        "      <td>2010000</td>\n",
        "    </tr>\n",
        "    <tr>\n",
        "      <th>1950-01-09</th>\n",
        "      <td>17.09</td>\n",
        "      <td>17.09</td>\n",
        "      <td>17.08</td>\n",
        "      <td>17.08</td>\n",
        "      <td>17.08</td>\n",
        "      <td>3850000</td>\n",
        "    </tr>\n",
        "  </tbody>\n",
        "</table>\n",
        "</div>"
       ],
       "metadata": {},
       "output_type": "pyout",
       "prompt_number": 8,
       "text": [
        "            open  high   low  close  adj_close   volume\n",
        "date                                                   \n",
        "1950-01-03 16.66 16.66 16.66  16.66      16.66  1260000\n",
        "1950-01-04 16.85 16.85 16.85  16.85      16.85  1890000\n",
        "1950-01-05 16.93 16.93 16.93  16.93      16.93  2550000\n",
        "1950-01-06 16.98 16.98 16.98  16.98      16.98  2010000\n",
        "1950-01-09 17.09 17.09 17.08  17.08      17.08  3850000"
       ]
      }
     ],
     "prompt_number": 8
    },
    {
     "cell_type": "markdown",
     "metadata": {},
     "source": [
      "Add technical indicator: 50 day ma, and 200 day ma"
     ]
    },
    {
     "cell_type": "code",
     "collapsed": false,
     "input": [
      "sma50 = SMA(ts, timeperiod=50)\n",
      "ts['sma50'] = sma50\n",
      "\n",
      "sma200 = SMA(ts, timeperiod=200)\n",
      "ts['sma200'] = sma200"
     ],
     "language": "python",
     "metadata": {},
     "outputs": [],
     "prompt_number": 9
    },
    {
     "cell_type": "code",
     "collapsed": false,
     "input": [
      "ts.tail()"
     ],
     "language": "python",
     "metadata": {},
     "outputs": [
      {
       "html": [
        "<div style=\"max-width:1500px;overflow:auto;\">\n",
        "<style scoped>\n",
        "    .dataframe tbody tr th:only-of-type {\n",
        "        vertical-align: middle;\n",
        "    }\n",
        "\n",
        "    .dataframe tbody tr th {\n",
        "        vertical-align: top;\n",
        "    }\n",
        "\n",
        "    .dataframe thead th {\n",
        "        text-align: right;\n",
        "    }\n",
        "</style>\n",
        "<table border=\"1\" class=\"dataframe\">\n",
        "  <thead>\n",
        "    <tr style=\"text-align: right;\">\n",
        "      <th></th>\n",
        "      <th>open</th>\n",
        "      <th>high</th>\n",
        "      <th>low</th>\n",
        "      <th>close</th>\n",
        "      <th>adj_close</th>\n",
        "      <th>volume</th>\n",
        "      <th>sma50</th>\n",
        "      <th>sma200</th>\n",
        "    </tr>\n",
        "    <tr>\n",
        "      <th>date</th>\n",
        "      <th></th>\n",
        "      <th></th>\n",
        "      <th></th>\n",
        "      <th></th>\n",
        "      <th></th>\n",
        "      <th></th>\n",
        "      <th></th>\n",
        "      <th></th>\n",
        "    </tr>\n",
        "  </thead>\n",
        "  <tbody>\n",
        "    <tr>\n",
        "      <th>2018-01-23</th>\n",
        "      <td>2835.05</td>\n",
        "      <td>2842.24</td>\n",
        "      <td>2830.59</td>\n",
        "      <td>2839.13</td>\n",
        "      <td>2839.13</td>\n",
        "      <td>3519650000</td>\n",
        "      <td>2675.32</td>\n",
        "      <td>2513.09</td>\n",
        "    </tr>\n",
        "    <tr>\n",
        "      <th>2018-01-24</th>\n",
        "      <td>2845.42</td>\n",
        "      <td>2852.97</td>\n",
        "      <td>2824.81</td>\n",
        "      <td>2837.54</td>\n",
        "      <td>2837.54</td>\n",
        "      <td>4014070000</td>\n",
        "      <td>2680.37</td>\n",
        "      <td>2515.50</td>\n",
        "    </tr>\n",
        "    <tr>\n",
        "      <th>2018-01-25</th>\n",
        "      <td>2846.24</td>\n",
        "      <td>2848.56</td>\n",
        "      <td>2830.94</td>\n",
        "      <td>2839.25</td>\n",
        "      <td>2839.25</td>\n",
        "      <td>3835150000</td>\n",
        "      <td>2685.51</td>\n",
        "      <td>2517.91</td>\n",
        "    </tr>\n",
        "    <tr>\n",
        "      <th>2018-01-26</th>\n",
        "      <td>2847.48</td>\n",
        "      <td>2872.87</td>\n",
        "      <td>2846.18</td>\n",
        "      <td>2872.87</td>\n",
        "      <td>2872.87</td>\n",
        "      <td>3443230000</td>\n",
        "      <td>2691.27</td>\n",
        "      <td>2520.50</td>\n",
        "    </tr>\n",
        "    <tr>\n",
        "      <th>2018-01-29</th>\n",
        "      <td>2867.23</td>\n",
        "      <td>2870.62</td>\n",
        "      <td>2851.48</td>\n",
        "      <td>2853.53</td>\n",
        "      <td>2853.53</td>\n",
        "      <td>3573830000</td>\n",
        "      <td>2696.77</td>\n",
        "      <td>2523.05</td>\n",
        "    </tr>\n",
        "  </tbody>\n",
        "</table>\n",
        "</div>"
       ],
       "metadata": {},
       "output_type": "pyout",
       "prompt_number": 10,
       "text": [
        "              open    high     low   close  adj_close      volume   sma50  \\\n",
        "date                                                                        \n",
        "2018-01-23 2835.05 2842.24 2830.59 2839.13    2839.13  3519650000 2675.32   \n",
        "2018-01-24 2845.42 2852.97 2824.81 2837.54    2837.54  4014070000 2680.37   \n",
        "2018-01-25 2846.24 2848.56 2830.94 2839.25    2839.25  3835150000 2685.51   \n",
        "2018-01-26 2847.48 2872.87 2846.18 2872.87    2872.87  3443230000 2691.27   \n",
        "2018-01-29 2867.23 2870.62 2851.48 2853.53    2853.53  3573830000 2696.77   \n",
        "\n",
        "            sma200  \n",
        "date                \n",
        "2018-01-23 2513.09  \n",
        "2018-01-24 2515.50  \n",
        "2018-01-25 2517.91  \n",
        "2018-01-26 2520.50  \n",
        "2018-01-29 2523.05  "
       ]
      }
     ],
     "prompt_number": 10
    },
    {
     "cell_type": "markdown",
     "metadata": {},
     "source": [
      "Plot closing price along with moving averages"
     ]
    },
    {
     "cell_type": "code",
     "collapsed": false,
     "input": [
      "fig = plt.figure()\n",
      "axes = fig.add_subplot(111,  ylabel='Price in $')\n",
      "\n",
      "ts['close'].plot(ax=axes, label='close', color='k')\n",
      "ts['sma50'].plot(ax=axes, label='sma50', color='r')\n",
      "ts['sma200'].plot(ax=axes, label='sma200', color='b')\n",
      "plt.legend(loc='best')"
     ],
     "language": "python",
     "metadata": {},
     "outputs": [
      {
       "metadata": {},
       "output_type": "pyout",
       "prompt_number": 11,
       "text": [
        "<matplotlib.legend.Legend at 0x7f3fac5d4550>"
       ]
      },
      {
       "metadata": {},
       "output_type": "display_data",
       "png": "[encoded data removed]",
       "text": [
        "<matplotlib.figure.Figure at 0x7f3fac59a310>"
       ]
      }
     ],
     "prompt_number": 11
    },
    {
     "cell_type": "markdown",
     "metadata": {},
     "source": [
      "Create Trade Log (tlog); Create Daily Balance (dbal)"
     ]
    },
    {
     "cell_type": "code",
     "collapsed": false,
     "input": [
      "tlog = pf.TradeLog()\n",
      "dbal = pf.DailyBal()"
     ],
     "language": "python",
     "metadata": {},
     "outputs": [],
     "prompt_number": 12
    },
    {
     "cell_type": "markdown",
     "metadata": {},
     "source": [
      "Algo: Buy when 50 day ma crosses above 200 day ma.  Sell when 50 day ma crosses below 200 day ma. "
     ]
    },
    {
     "cell_type": "code",
     "collapsed": false,
     "input": [
      "cash = capital\n",
      "shares = 0\n",
      "start_flag = True\n",
      "end_flag = False\n",
      "\n",
      "import time\n",
      "t0 = time.time()\n",
      "\n",
      "\n",
      "for i in range(len(ts.index)):\n",
      "\n",
      "    date = ts.index[i]\n",
      "    high = ts['high'][i]\n",
      "    low = ts['low'][i]\n",
      "    close = ts['close'][i]\n",
      "    sma50 = ts['sma50'][i]\n",
      "    sma200 = ts['sma200'][i]\n",
      "    end_flag = True if (i == len(ts.index) - 1) else False\n",
      "\n",
      "    if pd.isnull(sma200) or ts.index[i] < start:\n",
      "        continue\n",
      "    elif start_flag:\n",
      "        start_flag = False\n",
      "        # set start and end\n",
      "        start = ts.index[i]\n",
      "        end = ts.index[-1]\n",
      "\n",
      "    # buy\n",
      "    if tlog.num_open_trades() == 0:\n",
      "        if sma50 > sma200 and ts['sma50'][i-1] <= ts['sma200'][i-1] and not end_flag:\n",
      "\n",
      "            # calculate shares to buy and remaining cash\n",
      "            shares, cash = tlog.calc_shares(cash, close)\n",
      "\n",
      "            # enter buy in trade log\n",
      "            tlog.enter_trade(date, close, shares)\n",
      "            print(\"{0} BUY  {1} {2} @ {3:.2f}\".format(date, shares, symbol, close))\n",
      "\n",
      "            # record daily balance\n",
      "            dbal.append(date, high, low, close, shares, cash, pf.TradeState.OPEN)\n",
      "        else:\n",
      "            # hold\n",
      "            dbal.append(date, high, low, close, shares, cash, pf.TradeState.HOLD)\n",
      "\n",
      "    # sell\n",
      "    elif (sma50 < sma200 and ts['sma50'][i-1] >= ts['sma200'][i-1]) or end_flag:\n",
      "\n",
      "            # enter sell in trade log\n",
      "            idx = tlog.exit_trade(date, close)\n",
      "            shares = tlog.get_log()['qty'][idx]\n",
      "            print(\"{0} SELL {1} {2} @ {3:.2f}\".format(date, shares, symbol, close))\n",
      "\n",
      "            # record daily balance\n",
      "            dbal.append(date, high, low, close, shares, cash, pf.TradeState.CLOSE)   \n",
      "            \n",
      "            # update cash\n",
      "            cash = tlog.calc_cash(cash, close, shares)\n",
      "            \n",
      "            # update shares\n",
      "            shares = 0\n",
      "\n",
      "    # hold\n",
      "    else:\n",
      "        dbal.append(date, high, low, close, shares, cash, pf.TradeState.HOLD)    \n",
      "\n",
      "t1 = time.time()\n",
      "total = t1-t0\n",
      "print(total)\n",
      "        "
     ],
     "language": "python",
     "metadata": {},
     "outputs": [
      {
       "output_type": "stream",
       "stream": "stdout",
       "text": [
        "1953-12-21 00:00:00 BUY  4008 ^GSPC @ 24.95\n",
        "1956-10-26 00:00:00 SELL 4008 ^GSPC @ 46.27"
       ]
      },
      {
       "output_type": "stream",
       "stream": "stdout",
       "text": [
        "\n",
        "1957-06-03 00:00:00 BUY  3914 ^GSPC @ 47.37"
       ]
      },
      {
       "output_type": "stream",
       "stream": "stdout",
       "text": [
        "\n",
        "1957-09-26 00:00:00 SELL 3914 ^GSPC @ 42.57"
       ]
      },
      {
       "output_type": "stream",
       "stream": "stdout",
       "text": [
        "\n",
        "1958-05-08 00:00:00 BUY  3788 ^GSPC @ 43.99"
       ]
      },
      {
       "output_type": "stream",
       "stream": "stdout",
       "text": [
        "\n",
        "1959-10-30 00:00:00 SELL 3788 ^GSPC @ 57.52"
       ]
      },
      {
       "output_type": "stream",
       "stream": "stdout",
       "text": [
        "\n",
        "1959-12-30 00:00:00 BUY  3645 ^GSPC @ 59.77"
       ]
      },
      {
       "output_type": "stream",
       "stream": "stdout",
       "text": [
        "\n",
        "1960-02-15 00:00:00 SELL 3645 ^GSPC @ 55.17\n",
        "1961-01-04 00:00:00 BUY  3446 ^GSPC @ 58.36"
       ]
      },
      {
       "output_type": "stream",
       "stream": "stdout",
       "text": [
        "\n",
        "1962-05-07 00:00:00 SELL 3446 ^GSPC @ 66.02"
       ]
      },
      {
       "output_type": "stream",
       "stream": "stdout",
       "text": [
        "\n",
        "1963-01-03 00:00:00 BUY  3571 ^GSPC @ 63.72"
       ]
      },
      {
       "output_type": "stream",
       "stream": "stdout",
       "text": [
        "\n",
        "1965-07-22 00:00:00 SELL 3571 ^GSPC @ 83.85"
       ]
      },
      {
       "output_type": "stream",
       "stream": "stdout",
       "text": [
        "\n",
        "1965-09-17 00:00:00 BUY  3325 ^GSPC @ 90.05"
       ]
      },
      {
       "output_type": "stream",
       "stream": "stdout",
       "text": [
        "\n",
        "1966-04-28 00:00:00 SELL 3325 ^GSPC @ 91.13"
       ]
      },
      {
       "output_type": "stream",
       "stream": "stdout",
       "text": [
        "\n",
        "1967-02-03 00:00:00 BUY  3468 ^GSPC @ 87.36"
       ]
      },
      {
       "output_type": "stream",
       "stream": "stdout",
       "text": [
        "\n",
        "1968-02-27 00:00:00 SELL 3468 ^GSPC @ 90.53"
       ]
      },
      {
       "output_type": "stream",
       "stream": "stdout",
       "text": [
        "\n",
        "1968-05-17 00:00:00 BUY  3240 ^GSPC @ 96.90"
       ]
      },
      {
       "output_type": "stream",
       "stream": "stdout",
       "text": [
        "\n",
        "1969-03-13 00:00:00 SELL 3240 ^GSPC @ 98.39"
       ]
      },
      {
       "output_type": "stream",
       "stream": "stdout",
       "text": [
        "\n",
        "1969-05-27 00:00:00 BUY  3078 ^GSPC @ 103.57"
       ]
      },
      {
       "output_type": "stream",
       "stream": "stdout",
       "text": [
        "\n",
        "1969-06-23 00:00:00 SELL 3078 ^GSPC @ 96.23\n",
        "1970-10-22 00:00:00 BUY  3552 ^GSPC @ 83.38"
       ]
      },
      {
       "output_type": "stream",
       "stream": "stdout",
       "text": [
        "\n",
        "1971-09-24 00:00:00 SELL 3552 ^GSPC @ 98.15"
       ]
      },
      {
       "output_type": "stream",
       "stream": "stdout",
       "text": [
        "\n",
        "1972-01-26 00:00:00 BUY  3402 ^GSPC @ 102.50"
       ]
      },
      {
       "output_type": "stream",
       "stream": "stdout",
       "text": [
        "\n",
        "1973-04-18 00:00:00 SELL 3402 ^GSPC @ 111.54"
       ]
      },
      {
       "output_type": "stream",
       "stream": "stdout",
       "text": [
        "\n",
        "1975-03-06 00:00:00 BUY  4534 ^GSPC @ 83.69"
       ]
      },
      {
       "output_type": "stream",
       "stream": "stdout",
       "text": [
        "\n",
        "1976-12-01 00:00:00 SELL 4534 ^GSPC @ 102.49"
       ]
      },
      {
       "output_type": "stream",
       "stream": "stdout",
       "text": [
        "\n",
        "1977-01-04 00:00:00 BUY  4396 ^GSPC @ 105.70\n",
        "1977-03-03 00:00:00 SELL 4396 ^GSPC @ 100.88"
       ]
      },
      {
       "output_type": "stream",
       "stream": "stdout",
       "text": [
        "\n",
        "1978-05-22 00:00:00 BUY  4475 ^GSPC @ 99.09"
       ]
      },
      {
       "output_type": "stream",
       "stream": "stdout",
       "text": [
        "\n",
        "1978-12-13 00:00:00 SELL 4475 ^GSPC @ 96.06"
       ]
      },
      {
       "output_type": "stream",
       "stream": "stdout",
       "text": [
        "\n",
        "1979-03-21 00:00:00 BUY  4246 ^GSPC @ 101.25"
       ]
      },
      {
       "output_type": "stream",
       "stream": "stdout",
       "text": [
        "\n",
        "1980-04-22 00:00:00 SELL 4246 ^GSPC @ 103.43"
       ]
      },
      {
       "output_type": "stream",
       "stream": "stdout",
       "text": [
        "\n",
        "1980-06-17 00:00:00 BUY  3785 ^GSPC @ 116.03"
       ]
      },
      {
       "output_type": "stream",
       "stream": "stdout",
       "text": [
        "\n",
        "1981-07-02 00:00:00 SELL 3785 ^GSPC @ 128.64"
       ]
      },
      {
       "output_type": "stream",
       "stream": "stdout",
       "text": [
        "\n",
        "1982-09-28 00:00:00 BUY  3951 ^GSPC @ 123.24"
       ]
      },
      {
       "output_type": "stream",
       "stream": "stdout",
       "text": [
        "\n",
        "1984-02-03 00:00:00 SELL 3951 ^GSPC @ 160.91"
       ]
      },
      {
       "output_type": "stream",
       "stream": "stdout",
       "text": [
        "\n",
        "1984-09-12 00:00:00 BUY  3860 ^GSPC @ 164.68"
       ]
      },
      {
       "output_type": "stream",
       "stream": "stdout",
       "text": [
        "\n",
        "1986-11-18 00:00:00 SELL 3860 ^GSPC @ 236.78"
       ]
      },
      {
       "output_type": "stream",
       "stream": "stdout",
       "text": [
        "\n",
        "1986-11-25 00:00:00 BUY  3683 ^GSPC @ 248.17\n",
        "1987-11-05 00:00:00 SELL 3683 ^GSPC @ 254.48"
       ]
      },
      {
       "output_type": "stream",
       "stream": "stdout",
       "text": [
        "\n",
        "1988-06-28 00:00:00 BUY  3442 ^GSPC @ 272.31"
       ]
      },
      {
       "output_type": "stream",
       "stream": "stdout",
       "text": [
        "\n",
        "1990-02-26 00:00:00 SELL 3442 ^GSPC @ 328.67"
       ]
      },
      {
       "output_type": "stream",
       "stream": "stdout",
       "text": [
        "\n",
        "1990-05-25 00:00:00 BUY  3190 ^GSPC @ 354.58"
       ]
      },
      {
       "output_type": "stream",
       "stream": "stdout",
       "text": [
        "\n",
        "1990-09-07 00:00:00 SELL 3190 ^GSPC @ 323.40"
       ]
      },
      {
       "output_type": "stream",
       "stream": "stdout",
       "text": [
        "\n",
        "1991-02-15 00:00:00 BUY  2795 ^GSPC @ 369.06"
       ]
      },
      {
       "output_type": "stream",
       "stream": "stdout",
       "text": [
        "\n",
        "1994-04-19 00:00:00 SELL 2795 ^GSPC @ 442.54"
       ]
      },
      {
       "output_type": "stream",
       "stream": "stdout",
       "text": [
        "\n",
        "1994-09-15 00:00:00 BUY  2605 ^GSPC @ 474.81"
       ]
      },
      {
       "output_type": "stream",
       "stream": "stdout",
       "text": [
        "\n",
        "1998-09-29 00:00:00 SELL 2605 ^GSPC @ 1049.02"
       ]
      },
      {
       "output_type": "stream",
       "stream": "stdout",
       "text": [
        "\n",
        "1998-12-08 00:00:00 BUY  2313 ^GSPC @ 1181.38"
       ]
      },
      {
       "output_type": "stream",
       "stream": "stdout",
       "text": [
        "\n",
        "1999-11-04 00:00:00 SELL 2313 ^GSPC @ 1362.64"
       ]
      },
      {
       "output_type": "stream",
       "stream": "stdout",
       "text": [
        "\n",
        "1999-11-11 00:00:00 BUY  2281 ^GSPC @ 1381.46\n",
        "2000-10-30 00:00:00 SELL 2281 ^GSPC @ 1398.66"
       ]
      },
      {
       "output_type": "stream",
       "stream": "stdout",
       "text": [
        "\n",
        "2003-05-14 00:00:00 BUY  3397 ^GSPC @ 939.28"
       ]
      },
      {
       "output_type": "stream",
       "stream": "stdout",
       "text": [
        "\n",
        "2004-08-18 00:00:00 SELL 3397 ^GSPC @ 1095.17"
       ]
      },
      {
       "output_type": "stream",
       "stream": "stdout",
       "text": [
        "\n",
        "2004-11-05 00:00:00 BUY  3190 ^GSPC @ 1166.17"
       ]
      },
      {
       "output_type": "stream",
       "stream": "stdout",
       "text": [
        "\n",
        "2006-07-19 00:00:00 SELL 3190 ^GSPC @ 1259.81"
       ]
      },
      {
       "output_type": "stream",
       "stream": "stdout",
       "text": [
        "\n",
        "2006-09-12 00:00:00 BUY  3061 ^GSPC @ 1313.00"
       ]
      },
      {
       "output_type": "stream",
       "stream": "stdout",
       "text": [
        "\n",
        "2007-12-21 00:00:00 SELL 3061 ^GSPC @ 1484.46"
       ]
      },
      {
       "output_type": "stream",
       "stream": "stdout",
       "text": [
        "\n",
        "2009-06-23 00:00:00 BUY  5077 ^GSPC @ 895.10"
       ]
      },
      {
       "output_type": "stream",
       "stream": "stdout",
       "text": [
        "\n",
        "2010-07-02 00:00:00 SELL 5077 ^GSPC @ 1022.58"
       ]
      },
      {
       "output_type": "stream",
       "stream": "stdout",
       "text": [
        "\n",
        "2010-10-22 00:00:00 BUY  4388 ^GSPC @ 1183.08"
       ]
      },
      {
       "output_type": "stream",
       "stream": "stdout",
       "text": [
        "\n",
        "2011-08-12 00:00:00 SELL 4388 ^GSPC @ 1178.81"
       ]
      },
      {
       "output_type": "stream",
       "stream": "stdout",
       "text": [
        "\n",
        "2012-01-31 00:00:00 BUY  3941 ^GSPC @ 1312.41"
       ]
      },
      {
       "output_type": "stream",
       "stream": "stdout",
       "text": [
        "\n",
        "2015-08-28 00:00:00 SELL 3941 ^GSPC @ 1988.87"
       ]
      },
      {
       "output_type": "stream",
       "stream": "stdout",
       "text": [
        "\n",
        "2015-12-21 00:00:00 BUY  3878 ^GSPC @ 2021.15"
       ]
      },
      {
       "output_type": "stream",
       "stream": "stdout",
       "text": [
        "\n",
        "2016-01-11 00:00:00 SELL 3878 ^GSPC @ 1923.67\n",
        "2016-04-25 00:00:00 BUY  3573 ^GSPC @ 2087.79"
       ]
      },
      {
       "output_type": "stream",
       "stream": "stdout",
       "text": [
        "\n",
        "2018-01-29 00:00:00 SELL 3573 ^GSPC @ 2853.53"
       ]
      },
      {
       "output_type": "stream",
       "stream": "stdout",
       "text": [
        "\n",
        "14.1681749821\n"
       ]
      }
     ],
     "prompt_number": 13
    },
    {
     "cell_type": "markdown",
     "metadata": {},
     "source": [
      "Retrieve log DataFrames"
     ]
    },
    {
     "cell_type": "code",
     "collapsed": false,
     "input": [
      "tlog = tlog.get_log()"
     ],
     "language": "python",
     "metadata": {},
     "outputs": [],
     "prompt_number": 14
    },
    {
     "cell_type": "code",
     "collapsed": false,
     "input": [
      "tlog.tail(100)"
     ],
     "language": "python",
     "metadata": {},
     "outputs": [
      {
       "html": [
        "<div style=\"max-width:1500px;overflow:auto;\">\n",
        "<style scoped>\n",
        "    .dataframe tbody tr th:only-of-type {\n",
        "        vertical-align: middle;\n",
        "    }\n",
        "\n",
        "    .dataframe tbody tr th {\n",
        "        vertical-align: top;\n",
        "    }\n",
        "\n",
        "    .dataframe thead th {\n",
        "        text-align: right;\n",
        "    }\n",
        "</style>\n",
        "<table border=\"1\" class=\"dataframe\">\n",
        "  <thead>\n",
        "    <tr style=\"text-align: right;\">\n",
        "      <th></th>\n",
        "      <th>entry_date</th>\n",
        "      <th>entry_price</th>\n",
        "      <th>long_short</th>\n",
        "      <th>qty</th>\n",
        "      <th>exit_date</th>\n",
        "      <th>exit_price</th>\n",
        "      <th>pl_points</th>\n",
        "      <th>pl_cash</th>\n",
        "      <th>cumul_total</th>\n",
        "    </tr>\n",
        "  </thead>\n",
        "  <tbody>\n",
        "    <tr>\n",
        "      <th>0</th>\n",
        "      <td>1953-12-21</td>\n",
        "      <td>24.95</td>\n",
        "      <td>long</td>\n",
        "      <td>4008</td>\n",
        "      <td>1956-10-26 00:00:00</td>\n",
        "      <td>46.27</td>\n",
        "      <td>21.32</td>\n",
        "      <td>85450.56</td>\n",
        "      <td>85450.56</td>\n",
        "    </tr>\n",
        "    <tr>\n",
        "      <th>1</th>\n",
        "      <td>1957-06-03</td>\n",
        "      <td>47.37</td>\n",
        "      <td>long</td>\n",
        "      <td>3914</td>\n",
        "      <td>1957-09-26 00:00:00</td>\n",
        "      <td>42.57</td>\n",
        "      <td>-4.80</td>\n",
        "      <td>-18787.20</td>\n",
        "      <td>66663.36</td>\n",
        "    </tr>\n",
        "    <tr>\n",
        "      <th>2</th>\n",
        "      <td>1958-05-08</td>\n",
        "      <td>43.99</td>\n",
        "      <td>long</td>\n",
        "      <td>3788</td>\n",
        "      <td>1959-10-30 00:00:00</td>\n",
        "      <td>57.52</td>\n",
        "      <td>13.53</td>\n",
        "      <td>51251.63</td>\n",
        "      <td>117914.99</td>\n",
        "    </tr>\n",
        "    <tr>\n",
        "      <th>3</th>\n",
        "      <td>1959-12-30</td>\n",
        "      <td>59.77</td>\n",
        "      <td>long</td>\n",
        "      <td>3645</td>\n",
        "      <td>1960-02-15 00:00:00</td>\n",
        "      <td>55.17</td>\n",
        "      <td>-4.60</td>\n",
        "      <td>-16767.01</td>\n",
        "      <td>101147.99</td>\n",
        "    </tr>\n",
        "    <tr>\n",
        "      <th>4</th>\n",
        "      <td>1961-01-04</td>\n",
        "      <td>58.36</td>\n",
        "      <td>long</td>\n",
        "      <td>3446</td>\n",
        "      <td>1962-05-07 00:00:00</td>\n",
        "      <td>66.02</td>\n",
        "      <td>7.66</td>\n",
        "      <td>26396.35</td>\n",
        "      <td>127544.33</td>\n",
        "    </tr>\n",
        "    <tr>\n",
        "      <th>5</th>\n",
        "      <td>1963-01-03</td>\n",
        "      <td>63.72</td>\n",
        "      <td>long</td>\n",
        "      <td>3571</td>\n",
        "      <td>1965-07-22 00:00:00</td>\n",
        "      <td>83.85</td>\n",
        "      <td>20.13</td>\n",
        "      <td>71884.22</td>\n",
        "      <td>199428.55</td>\n",
        "    </tr>\n",
        "    <tr>\n",
        "      <th>6</th>\n",
        "      <td>1965-09-17</td>\n",
        "      <td>90.05</td>\n",
        "      <td>long</td>\n",
        "      <td>3325</td>\n",
        "      <td>1966-04-28 00:00:00</td>\n",
        "      <td>91.13</td>\n",
        "      <td>1.08</td>\n",
        "      <td>3590.98</td>\n",
        "      <td>203019.53</td>\n",
        "    </tr>\n",
        "    <tr>\n",
        "      <th>7</th>\n",
        "      <td>1967-02-03</td>\n",
        "      <td>87.36</td>\n",
        "      <td>long</td>\n",
        "      <td>3468</td>\n",
        "      <td>1968-02-27 00:00:00</td>\n",
        "      <td>90.53</td>\n",
        "      <td>3.17</td>\n",
        "      <td>10993.55</td>\n",
        "      <td>214013.08</td>\n",
        "    </tr>\n",
        "    <tr>\n",
        "      <th>8</th>\n",
        "      <td>1968-05-17</td>\n",
        "      <td>96.90</td>\n",
        "      <td>long</td>\n",
        "      <td>3240</td>\n",
        "      <td>1969-03-13 00:00:00</td>\n",
        "      <td>98.39</td>\n",
        "      <td>1.49</td>\n",
        "      <td>4827.59</td>\n",
        "      <td>218840.67</td>\n",
        "    </tr>\n",
        "    <tr>\n",
        "      <th>9</th>\n",
        "      <td>1969-05-27</td>\n",
        "      <td>103.57</td>\n",
        "      <td>long</td>\n",
        "      <td>3078</td>\n",
        "      <td>1969-06-23 00:00:00</td>\n",
        "      <td>96.23</td>\n",
        "      <td>-7.34</td>\n",
        "      <td>-22592.51</td>\n",
        "      <td>196248.16</td>\n",
        "    </tr>\n",
        "    <tr>\n",
        "      <th>10</th>\n",
        "      <td>1970-10-22</td>\n",
        "      <td>83.38</td>\n",
        "      <td>long</td>\n",
        "      <td>3552</td>\n",
        "      <td>1971-09-24 00:00:00</td>\n",
        "      <td>98.15</td>\n",
        "      <td>14.77</td>\n",
        "      <td>52463.06</td>\n",
        "      <td>248711.22</td>\n",
        "    </tr>\n",
        "    <tr>\n",
        "      <th>11</th>\n",
        "      <td>1972-01-26</td>\n",
        "      <td>102.50</td>\n",
        "      <td>long</td>\n",
        "      <td>3402</td>\n",
        "      <td>1973-04-18 00:00:00</td>\n",
        "      <td>111.54</td>\n",
        "      <td>9.04</td>\n",
        "      <td>30754.08</td>\n",
        "      <td>279465.30</td>\n",
        "    </tr>\n",
        "    <tr>\n",
        "      <th>12</th>\n",
        "      <td>1975-03-06</td>\n",
        "      <td>83.69</td>\n",
        "      <td>long</td>\n",
        "      <td>4534</td>\n",
        "      <td>1976-12-01 00:00:00</td>\n",
        "      <td>102.49</td>\n",
        "      <td>18.80</td>\n",
        "      <td>85239.18</td>\n",
        "      <td>364704.49</td>\n",
        "    </tr>\n",
        "    <tr>\n",
        "      <th>13</th>\n",
        "      <td>1977-01-04</td>\n",
        "      <td>105.70</td>\n",
        "      <td>long</td>\n",
        "      <td>4396</td>\n",
        "      <td>1977-03-03 00:00:00</td>\n",
        "      <td>100.88</td>\n",
        "      <td>-4.82</td>\n",
        "      <td>-21188.72</td>\n",
        "      <td>343515.77</td>\n",
        "    </tr>\n",
        "    <tr>\n",
        "      <th>14</th>\n",
        "      <td>1978-05-22</td>\n",
        "      <td>99.09</td>\n",
        "      <td>long</td>\n",
        "      <td>4475</td>\n",
        "      <td>1978-12-13 00:00:00</td>\n",
        "      <td>96.06</td>\n",
        "      <td>-3.03</td>\n",
        "      <td>-13559.24</td>\n",
        "      <td>329956.53</td>\n",
        "    </tr>\n",
        "    <tr>\n",
        "      <th>15</th>\n",
        "      <td>1979-03-21</td>\n",
        "      <td>101.25</td>\n",
        "      <td>long</td>\n",
        "      <td>4246</td>\n",
        "      <td>1980-04-22 00:00:00</td>\n",
        "      <td>103.43</td>\n",
        "      <td>2.18</td>\n",
        "      <td>9256.28</td>\n",
        "      <td>339212.81</td>\n",
        "    </tr>\n",
        "    <tr>\n",
        "      <th>16</th>\n",
        "      <td>1980-06-17</td>\n",
        "      <td>116.03</td>\n",
        "      <td>long</td>\n",
        "      <td>3785</td>\n",
        "      <td>1981-07-02 00:00:00</td>\n",
        "      <td>128.64</td>\n",
        "      <td>12.61</td>\n",
        "      <td>47728.85</td>\n",
        "      <td>386941.66</td>\n",
        "    </tr>\n",
        "    <tr>\n",
        "      <th>17</th>\n",
        "      <td>1982-09-28</td>\n",
        "      <td>123.24</td>\n",
        "      <td>long</td>\n",
        "      <td>3951</td>\n",
        "      <td>1984-02-03 00:00:00</td>\n",
        "      <td>160.91</td>\n",
        "      <td>37.67</td>\n",
        "      <td>148834.19</td>\n",
        "      <td>535775.85</td>\n",
        "    </tr>\n",
        "    <tr>\n",
        "      <th>18</th>\n",
        "      <td>1984-09-12</td>\n",
        "      <td>164.68</td>\n",
        "      <td>long</td>\n",
        "      <td>3860</td>\n",
        "      <td>1986-11-18 00:00:00</td>\n",
        "      <td>236.78</td>\n",
        "      <td>72.10</td>\n",
        "      <td>278306.02</td>\n",
        "      <td>814081.87</td>\n",
        "    </tr>\n",
        "    <tr>\n",
        "      <th>19</th>\n",
        "      <td>1986-11-25</td>\n",
        "      <td>248.17</td>\n",
        "      <td>long</td>\n",
        "      <td>3683</td>\n",
        "      <td>1987-11-05 00:00:00</td>\n",
        "      <td>254.48</td>\n",
        "      <td>6.31</td>\n",
        "      <td>23239.72</td>\n",
        "      <td>837321.59</td>\n",
        "    </tr>\n",
        "    <tr>\n",
        "      <th>20</th>\n",
        "      <td>1988-06-28</td>\n",
        "      <td>272.31</td>\n",
        "      <td>long</td>\n",
        "      <td>3442</td>\n",
        "      <td>1990-02-26 00:00:00</td>\n",
        "      <td>328.67</td>\n",
        "      <td>56.36</td>\n",
        "      <td>193991.17</td>\n",
        "      <td>1031312.77</td>\n",
        "    </tr>\n",
        "    <tr>\n",
        "      <th>21</th>\n",
        "      <td>1990-05-25</td>\n",
        "      <td>354.58</td>\n",
        "      <td>long</td>\n",
        "      <td>3190</td>\n",
        "      <td>1990-09-07 00:00:00</td>\n",
        "      <td>323.40</td>\n",
        "      <td>-31.18</td>\n",
        "      <td>-99464.18</td>\n",
        "      <td>931848.59</td>\n",
        "    </tr>\n",
        "    <tr>\n",
        "      <th>22</th>\n",
        "      <td>1991-02-15</td>\n",
        "      <td>369.06</td>\n",
        "      <td>long</td>\n",
        "      <td>2795</td>\n",
        "      <td>1994-04-19 00:00:00</td>\n",
        "      <td>442.54</td>\n",
        "      <td>73.48</td>\n",
        "      <td>205376.63</td>\n",
        "      <td>1137225.22</td>\n",
        "    </tr>\n",
        "    <tr>\n",
        "      <th>23</th>\n",
        "      <td>1994-09-15</td>\n",
        "      <td>474.81</td>\n",
        "      <td>long</td>\n",
        "      <td>2605</td>\n",
        "      <td>1998-09-29 00:00:00</td>\n",
        "      <td>1049.02</td>\n",
        "      <td>574.21</td>\n",
        "      <td>1495817.11</td>\n",
        "      <td>2633042.33</td>\n",
        "    </tr>\n",
        "    <tr>\n",
        "      <th>24</th>\n",
        "      <td>1998-12-08</td>\n",
        "      <td>1181.38</td>\n",
        "      <td>long</td>\n",
        "      <td>2313</td>\n",
        "      <td>1999-11-04 00:00:00</td>\n",
        "      <td>1362.64</td>\n",
        "      <td>181.26</td>\n",
        "      <td>419254.40</td>\n",
        "      <td>3052296.73</td>\n",
        "    </tr>\n",
        "    <tr>\n",
        "      <th>25</th>\n",
        "      <td>1999-11-11</td>\n",
        "      <td>1381.46</td>\n",
        "      <td>long</td>\n",
        "      <td>2281</td>\n",
        "      <td>2000-10-30 00:00:00</td>\n",
        "      <td>1398.66</td>\n",
        "      <td>17.20</td>\n",
        "      <td>39233.37</td>\n",
        "      <td>3091530.10</td>\n",
        "    </tr>\n",
        "    <tr>\n",
        "      <th>26</th>\n",
        "      <td>2003-05-14</td>\n",
        "      <td>939.28</td>\n",
        "      <td>long</td>\n",
        "      <td>3397</td>\n",
        "      <td>2004-08-18 00:00:00</td>\n",
        "      <td>1095.17</td>\n",
        "      <td>155.89</td>\n",
        "      <td>529558.38</td>\n",
        "      <td>3621088.48</td>\n",
        "    </tr>\n",
        "    <tr>\n",
        "      <th>27</th>\n",
        "      <td>2004-11-05</td>\n",
        "      <td>1166.17</td>\n",
        "      <td>long</td>\n",
        "      <td>3190</td>\n",
        "      <td>2006-07-19 00:00:00</td>\n",
        "      <td>1259.81</td>\n",
        "      <td>93.64</td>\n",
        "      <td>298711.65</td>\n",
        "      <td>3919800.13</td>\n",
        "    </tr>\n",
        "    <tr>\n",
        "      <th>28</th>\n",
        "      <td>2006-09-12</td>\n",
        "      <td>1313.00</td>\n",
        "      <td>long</td>\n",
        "      <td>3061</td>\n",
        "      <td>2007-12-21 00:00:00</td>\n",
        "      <td>1484.46</td>\n",
        "      <td>171.46</td>\n",
        "      <td>524838.94</td>\n",
        "      <td>4444639.07</td>\n",
        "    </tr>\n",
        "    <tr>\n",
        "      <th>29</th>\n",
        "      <td>2009-06-23</td>\n",
        "      <td>895.10</td>\n",
        "      <td>long</td>\n",
        "      <td>5077</td>\n",
        "      <td>2010-07-02 00:00:00</td>\n",
        "      <td>1022.58</td>\n",
        "      <td>127.48</td>\n",
        "      <td>647216.17</td>\n",
        "      <td>5091855.23</td>\n",
        "    </tr>\n",
        "    <tr>\n",
        "      <th>30</th>\n",
        "      <td>2010-10-22</td>\n",
        "      <td>1183.08</td>\n",
        "      <td>long</td>\n",
        "      <td>4388</td>\n",
        "      <td>2011-08-12 00:00:00</td>\n",
        "      <td>1178.81</td>\n",
        "      <td>-4.27</td>\n",
        "      <td>-18736.31</td>\n",
        "      <td>5073118.93</td>\n",
        "    </tr>\n",
        "    <tr>\n",
        "      <th>31</th>\n",
        "      <td>2012-01-31</td>\n",
        "      <td>1312.41</td>\n",
        "      <td>long</td>\n",
        "      <td>3941</td>\n",
        "      <td>2015-08-28 00:00:00</td>\n",
        "      <td>1988.87</td>\n",
        "      <td>676.46</td>\n",
        "      <td>2665928.71</td>\n",
        "      <td>7739047.63</td>\n",
        "    </tr>\n",
        "    <tr>\n",
        "      <th>32</th>\n",
        "      <td>2015-12-21</td>\n",
        "      <td>2021.15</td>\n",
        "      <td>long</td>\n",
        "      <td>3878</td>\n",
        "      <td>2016-01-11 00:00:00</td>\n",
        "      <td>1923.67</td>\n",
        "      <td>-97.48</td>\n",
        "      <td>-378027.36</td>\n",
        "      <td>7361020.27</td>\n",
        "    </tr>\n",
        "    <tr>\n",
        "      <th>33</th>\n",
        "      <td>2016-04-25</td>\n",
        "      <td>2087.79</td>\n",
        "      <td>long</td>\n",
        "      <td>3573</td>\n",
        "      <td>2018-01-29 00:00:00</td>\n",
        "      <td>2853.53</td>\n",
        "      <td>765.74</td>\n",
        "      <td>2735988.98</td>\n",
        "      <td>10097009.25</td>\n",
        "    </tr>\n",
        "  </tbody>\n",
        "</table>\n",
        "</div>"
       ],
       "metadata": {},
       "output_type": "pyout",
       "prompt_number": 15,
       "text": [
        "   entry_date  entry_price long_short   qty            exit_date  exit_price  \\\n",
        "0  1953-12-21        24.95       long  4008  1956-10-26 00:00:00       46.27   \n",
        "1  1957-06-03        47.37       long  3914  1957-09-26 00:00:00       42.57   \n",
        "2  1958-05-08        43.99       long  3788  1959-10-30 00:00:00       57.52   \n",
        "3  1959-12-30        59.77       long  3645  1960-02-15 00:00:00       55.17   \n",
        "4  1961-01-04        58.36       long  3446  1962-05-07 00:00:00       66.02   \n",
        "5  1963-01-03        63.72       long  3571  1965-07-22 00:00:00       83.85   \n",
        "6  1965-09-17        90.05       long  3325  1966-04-28 00:00:00       91.13   \n",
        "7  1967-02-03        87.36       long  3468  1968-02-27 00:00:00       90.53   \n",
        "8  1968-05-17        96.90       long  3240  1969-03-13 00:00:00       98.39   \n",
        "9  1969-05-27       103.57       long  3078  1969-06-23 00:00:00       96.23   \n",
        "10 1970-10-22        83.38       long  3552  1971-09-24 00:00:00       98.15   \n",
        "11 1972-01-26       102.50       long  3402  1973-04-18 00:00:00      111.54   \n",
        "12 1975-03-06        83.69       long  4534  1976-12-01 00:00:00      102.49   \n",
        "13 1977-01-04       105.70       long  4396  1977-03-03 00:00:00      100.88   \n",
        "14 1978-05-22        99.09       long  4475  1978-12-13 00:00:00       96.06   \n",
        "15 1979-03-21       101.25       long  4246  1980-04-22 00:00:00      103.43   \n",
        "16 1980-06-17       116.03       long  3785  1981-07-02 00:00:00      128.64   \n",
        "17 1982-09-28       123.24       long  3951  1984-02-03 00:00:00      160.91   \n",
        "18 1984-09-12       164.68       long  3860  1986-11-18 00:00:00      236.78   \n",
        "19 1986-11-25       248.17       long  3683  1987-11-05 00:00:00      254.48   \n",
        "20 1988-06-28       272.31       long  3442  1990-02-26 00:00:00      328.67   \n",
        "21 1990-05-25       354.58       long  3190  1990-09-07 00:00:00      323.40   \n",
        "22 1991-02-15       369.06       long  2795  1994-04-19 00:00:00      442.54   \n",
        "23 1994-09-15       474.81       long  2605  1998-09-29 00:00:00     1049.02   \n",
        "24 1998-12-08      1181.38       long  2313  1999-11-04 00:00:00     1362.64   \n",
        "25 1999-11-11      1381.46       long  2281  2000-10-30 00:00:00     1398.66   \n",
        "26 2003-05-14       939.28       long  3397  2004-08-18 00:00:00     1095.17   \n",
        "27 2004-11-05      1166.17       long  3190  2006-07-19 00:00:00     1259.81   \n",
        "28 2006-09-12      1313.00       long  3061  2007-12-21 00:00:00     1484.46   \n",
        "29 2009-06-23       895.10       long  5077  2010-07-02 00:00:00     1022.58   \n",
        "30 2010-10-22      1183.08       long  4388  2011-08-12 00:00:00     1178.81   \n",
        "31 2012-01-31      1312.41       long  3941  2015-08-28 00:00:00     1988.87   \n",
        "32 2015-12-21      2021.15       long  3878  2016-01-11 00:00:00     1923.67   \n",
        "33 2016-04-25      2087.79       long  3573  2018-01-29 00:00:00     2853.53   \n",
        "\n",
        "    pl_points    pl_cash  cumul_total  \n",
        "0       21.32   85450.56     85450.56  \n",
        "1       -4.80  -18787.20     66663.36  \n",
        "2       13.53   51251.63    117914.99  \n",
        "3       -4.60  -16767.01    101147.99  \n",
        "4        7.66   26396.35    127544.33  \n",
        "5       20.13   71884.22    199428.55  \n",
        "6        1.08    3590.98    203019.53  \n",
        "7        3.17   10993.55    214013.08  \n",
        "8        1.49    4827.59    218840.67  \n",
        "9       -7.34  -22592.51    196248.16  \n",
        "10      14.77   52463.06    248711.22  \n",
        "11       9.04   30754.08    279465.30  \n",
        "12      18.80   85239.18    364704.49  \n",
        "13      -4.82  -21188.72    343515.77  \n",
        "14      -3.03  -13559.24    329956.53  \n",
        "15       2.18    9256.28    339212.81  \n",
        "16      12.61   47728.85    386941.66  \n",
        "17      37.67  148834.19    535775.85  \n",
        "18      72.10  278306.02    814081.87  \n",
        "19       6.31   23239.72    837321.59  \n",
        "20      56.36  193991.17   1031312.77  \n",
        "21     -31.18  -99464.18    931848.59  \n",
        "22      73.48  205376.63   1137225.22  \n",
        "23     574.21 1495817.11   2633042.33  \n",
        "24     181.26  419254.40   3052296.73  \n",
        "25      17.20   39233.37   3091530.10  \n",
        "26     155.89  529558.38   3621088.48  \n",
        "27      93.64  298711.65   3919800.13  \n",
        "28     171.46  524838.94   4444639.07  \n",
        "29     127.48  647216.17   5091855.23  \n",
        "30      -4.27  -18736.31   5073118.93  \n",
        "31     676.46 2665928.71   7739047.63  \n",
        "32     -97.48 -378027.36   7361020.27  \n",
        "33     765.74 2735988.98  10097009.25  "
       ]
      }
     ],
     "prompt_number": 15
    },
    {
     "cell_type": "code",
     "collapsed": false,
     "input": [
      "dbal = dbal.get_log()"
     ],
     "language": "python",
     "metadata": {},
     "outputs": [],
     "prompt_number": 16
    },
    {
     "cell_type": "code",
     "collapsed": false,
     "input": [
      "dbal.tail()"
     ],
     "language": "python",
     "metadata": {},
     "outputs": [
      {
       "html": [
        "<div style=\"max-width:1500px;overflow:auto;\">\n",
        "<style scoped>\n",
        "    .dataframe tbody tr th:only-of-type {\n",
        "        vertical-align: middle;\n",
        "    }\n",
        "\n",
        "    .dataframe tbody tr th {\n",
        "        vertical-align: top;\n",
        "    }\n",
        "\n",
        "    .dataframe thead th {\n",
        "        text-align: right;\n",
        "    }\n",
        "</style>\n",
        "<table border=\"1\" class=\"dataframe\">\n",
        "  <thead>\n",
        "    <tr style=\"text-align: right;\">\n",
        "      <th></th>\n",
        "      <th>high</th>\n",
        "      <th>low</th>\n",
        "      <th>close</th>\n",
        "      <th>shares</th>\n",
        "      <th>cash</th>\n",
        "      <th>state</th>\n",
        "    </tr>\n",
        "    <tr>\n",
        "      <th>date</th>\n",
        "      <th></th>\n",
        "      <th></th>\n",
        "      <th></th>\n",
        "      <th></th>\n",
        "      <th></th>\n",
        "      <th></th>\n",
        "    </tr>\n",
        "  </thead>\n",
        "  <tbody>\n",
        "    <tr>\n",
        "      <th>2018-01-23</th>\n",
        "      <td>10156669.94</td>\n",
        "      <td>10115044.84</td>\n",
        "      <td>10145557.53</td>\n",
        "      <td>3573</td>\n",
        "      <td>1346.46</td>\n",
        "      <td>1</td>\n",
        "    </tr>\n",
        "    <tr>\n",
        "      <th>2018-01-24</th>\n",
        "      <td>10195008.17</td>\n",
        "      <td>10094392.80</td>\n",
        "      <td>10139877.02</td>\n",
        "      <td>3573</td>\n",
        "      <td>1346.46</td>\n",
        "      <td>1</td>\n",
        "    </tr>\n",
        "    <tr>\n",
        "      <th>2018-01-25</th>\n",
        "      <td>10179251.55</td>\n",
        "      <td>10116294.87</td>\n",
        "      <td>10145986.71</td>\n",
        "      <td>3573</td>\n",
        "      <td>1346.46</td>\n",
        "      <td>1</td>\n",
        "    </tr>\n",
        "    <tr>\n",
        "      <th>2018-01-26</th>\n",
        "      <td>10266111.39</td>\n",
        "      <td>10170747.36</td>\n",
        "      <td>10266111.39</td>\n",
        "      <td>3573</td>\n",
        "      <td>1346.46</td>\n",
        "      <td>1</td>\n",
        "    </tr>\n",
        "    <tr>\n",
        "      <th>2018-01-29</th>\n",
        "      <td>10258072.14</td>\n",
        "      <td>10189684.43</td>\n",
        "      <td>10197009.25</td>\n",
        "      <td>3573</td>\n",
        "      <td>1346.46</td>\n",
        "      <td>2</td>\n",
        "    </tr>\n",
        "  </tbody>\n",
        "</table>\n",
        "</div>"
       ],
       "metadata": {},
       "output_type": "pyout",
       "prompt_number": 17,
       "text": [
        "                  high         low       close  shares    cash  state\n",
        "date                                                                 \n",
        "2018-01-23 10156669.94 10115044.84 10145557.53    3573 1346.46      1\n",
        "2018-01-24 10195008.17 10094392.80 10139877.02    3573 1346.46      1\n",
        "2018-01-25 10179251.55 10116294.87 10145986.71    3573 1346.46      1\n",
        "2018-01-26 10266111.39 10170747.36 10266111.39    3573 1346.46      1\n",
        "2018-01-29 10258072.14 10189684.43 10197009.25    3573 1346.46      2"
       ]
      }
     ],
     "prompt_number": 17
    },
    {
     "cell_type": "markdown",
     "metadata": {},
     "source": [
      "Generate strategy stats - display all available stats"
     ]
    },
    {
     "cell_type": "code",
     "collapsed": false,
     "input": [
      "stats = pf.stats(ts, tlog, dbal, start, end, capital)\n",
      "pf.print_full(stats)"
     ],
     "language": "python",
     "metadata": {},
     "outputs": [
      {
       "output_type": "stream",
       "stream": "stdout",
       "text": [
        "start                                                   1950-10-18\n",
        "end                                                     2018-01-29\n",
        "beginning_balance                                           100000\n",
        "ending_balance                                         10197009.25\n",
        "total_net_profit                                       10097009.25\n",
        "gross_profit                                           10686131.78\n",
        "gross_loss                                              -589122.52\n",
        "profit_factor                                                18.14\n",
        "return_on_initial_capital                                 10097.01\n",
        "annual_return_rate                                            7.12\n",
        "trading_period                           67 years 3 months 11 days\n",
        "pct_time_in_market                                           67.02\n",
        "total_num_trades                                                34\n",
        "num_winning_trades                                              26\n",
        "num_losing_trades                                                8\n",
        "num_even_trades                                                  0\n",
        "pct_profitable_trades                                        76.47\n",
        "avg_profit_per_trade                                     296970.86\n",
        "avg_profit_per_winning_trade                             411005.07\n",
        "avg_loss_per_losing_trade                                -73640.32\n",
        "ratio_avg_profit_win_loss                                     5.58\n",
        "largest_profit_winning_trade                            2735988.98\n",
        "largest_loss_losing_trade                               -378027.36\n",
        "num_winning_points                                         3135.04\n",
        "num_losing_points                                          -157.52\n",
        "total_net_points                                           2977.52\n",
        "avg_points                                                   87.57\n",
        "largest_points_winning_trade                                765.74\n",
        "largest_points_losing_trade                                 -97.48\n",
        "avg_pct_gain_per_trade                                       17.00\n",
        "largest_pct_winning_trade                                   120.93\n",
        "largest_pct_losing_trade                                    -10.13\n",
        "max_consecutive_winning_trades                                   8\n",
        "max_consecutive_losing_trades                                    2\n",
        "avg_bars_winning_trades                                     412.92\n",
        "avg_bars_losing_trades                                       76.38\n",
        "max_closed_out_drawdown                                     -33.23\n",
        "max_closed_out_drawdown_start_date                      1987-08-25\n",
        "max_closed_out_drawdown_end_date                        1987-10-19\n",
        "max_closed_out_drawdown_recovery_date                   1993-02-03\n",
        "drawdown_recovery                                            -0.15\n",
        "drawdown_annualized_return                                   -4.67\n",
        "max_intra_day_drawdown                                      -35.94\n",
        "avg_yearly_closed_out_drawdown                               -8.23\n",
        "max_yearly_closed_out_drawdown                              -33.23\n",
        "avg_monthly_closed_out_drawdown                              -2.10\n",
        "max_monthly_closed_out_drawdown                             -31.47\n",
        "avg_weekly_closed_out_drawdown                               -0.80\n",
        "max_weekly_closed_out_drawdown                              -28.51\n",
        "avg_yearly_closed_out_runup                                  15.51\n",
        "max_yearly_closed_out_runup                                  52.19\n",
        "avg_monthly_closed_out_runup                                  2.64\n",
        "max_monthly_closed_out_runup                                 15.62\n",
        "avg_weekly_closed_out_runup                                   0.95\n",
        "max_weekly_closed_out_runup                                  14.92\n",
        "pct_profitable_years                                         65.69\n",
        "best_year                                                    50.43\n",
        "worst_year                                                  -28.66\n",
        "avg_year                                                      7.65\n",
        "annual_std                                                   11.87\n",
        "pct_profitable_months                                        44.20\n",
        "best_month                                                   14.94\n",
        "worst_month                                                 -29.56\n",
        "avg_month                                                     0.59\n",
        "monthly_std                                                   2.94\n",
        "pct_profitable_weeks                                         39.04\n",
        "best_week                                                    12.33\n",
        "worst_week                                                  -27.33\n",
        "avg_week                                                      0.15\n",
        "weekly_std                                                    1.53\n",
        "sharpe_ratio                                                  0.69\n",
        "sortino_ratio                                                 0.71\n",
        "dtype: object\n"
       ]
      }
     ],
     "prompt_number": 18
    },
    {
     "cell_type": "markdown",
     "metadata": {},
     "source": [
      "Run Benchmark"
     ]
    },
    {
     "cell_type": "code",
     "collapsed": false,
     "input": [
      "benchmark = pf.Benchmark(symbol, capital, start, end)\n",
      "benchmark.run()"
     ],
     "language": "python",
     "metadata": {},
     "outputs": [
      {
       "output_type": "stream",
       "stream": "stdout",
       "text": [
        "1950-10-18 00:00:00 BUY  4997 ^GSPC @ 20.01\n",
        "2018-01-29 00:00:00 SELL 4997 ^GSPC @ 2853.53"
       ]
      },
      {
       "output_type": "stream",
       "stream": "stdout",
       "text": [
        "\n"
       ]
      }
     ],
     "prompt_number": 19
    },
    {
     "cell_type": "markdown",
     "metadata": {},
     "source": [
      "Retrieve benchmark logs"
     ]
    },
    {
     "cell_type": "code",
     "collapsed": false,
     "input": [
      "benchmark.tlog, benchmark.dbal = benchmark.get_logs()"
     ],
     "language": "python",
     "metadata": {},
     "outputs": [],
     "prompt_number": 20
    },
    {
     "cell_type": "markdown",
     "metadata": {},
     "source": [
      "Generate benchmark stats"
     ]
    },
    {
     "cell_type": "code",
     "collapsed": false,
     "input": [
      "benchmark.stats = benchmark.stats()\n",
      "pf.print_full(benchmark.stats)"
     ],
     "language": "python",
     "metadata": {},
     "outputs": [
      {
       "output_type": "stream",
       "stream": "stdout",
       "text": [
        "start                                                   1950-10-18\n",
        "end                                                     2018-01-29\n",
        "beginning_balance                                           100000\n",
        "ending_balance                                         14259099.58\n",
        "total_net_profit                                       14159099.58\n",
        "gross_profit                                           14159099.58\n",
        "gross_loss                                                    0.00\n",
        "profit_factor                                                 1000\n",
        "return_on_initial_capital                                 14159.10\n",
        "annual_return_rate                                            7.65\n",
        "trading_period                           67 years 3 months 11 days\n",
        "pct_time_in_market                                          100.00\n",
        "total_num_trades                                                 1\n",
        "num_winning_trades                                               1\n",
        "num_losing_trades                                                0\n",
        "num_even_trades                                                  0\n",
        "pct_profitable_trades                                       100.00\n",
        "avg_profit_per_trade                                   14159099.58\n",
        "avg_profit_per_winning_trade                           14159099.58\n",
        "avg_loss_per_losing_trade                                        0\n",
        "ratio_avg_profit_win_loss                                     1000\n",
        "largest_profit_winning_trade                           14159099.58\n",
        "largest_loss_losing_trade                                        0\n",
        "num_winning_points                                         2833.52\n",
        "num_losing_points                                                0\n",
        "total_net_points                                           2833.52\n",
        "avg_points                                                 2833.52\n",
        "largest_points_winning_trade                               2833.52\n",
        "largest_points_losing_trade                                      0\n",
        "avg_pct_gain_per_trade                                    14160.52\n",
        "largest_pct_winning_trade                                 14160.52\n",
        "largest_pct_losing_trade                                         0\n",
        "max_consecutive_winning_trades                                   1\n",
        "max_consecutive_losing_trades                                    0\n",
        "avg_bars_winning_trades                                   16930.00\n",
        "avg_bars_losing_trades                                           0\n",
        "max_closed_out_drawdown                                     -56.78\n",
        "max_closed_out_drawdown_start_date                      2007-10-09\n",
        "max_closed_out_drawdown_end_date                        2009-03-09\n",
        "max_closed_out_drawdown_recovery_date                   2013-03-28\n",
        "drawdown_recovery                                            -1.42\n",
        "drawdown_annualized_return                                   -7.42\n",
        "max_intra_day_drawdown                                      -57.69\n",
        "avg_yearly_closed_out_drawdown                              -13.20\n",
        "max_yearly_closed_out_drawdown                              -52.58\n",
        "avg_monthly_closed_out_drawdown                              -3.56\n",
        "max_monthly_closed_out_drawdown                             -31.47\n",
        "avg_weekly_closed_out_drawdown                               -1.38\n",
        "max_weekly_closed_out_drawdown                              -28.51\n",
        "avg_yearly_closed_out_runup                                  22.86\n",
        "max_yearly_closed_out_runup                                  70.02\n",
        "avg_monthly_closed_out_runup                                  4.26\n",
        "max_monthly_closed_out_runup                                 24.53\n",
        "avg_weekly_closed_out_runup                                   1.56\n",
        "max_weekly_closed_out_runup                                  19.11\n",
        "pct_profitable_years                                         73.09\n",
        "best_year                                                    68.57\n",
        "worst_year                                                  -48.82\n",
        "avg_year                                                      8.68\n",
        "annual_std                                                   15.96\n",
        "pct_profitable_months                                        60.80\n",
        "best_month                                                   23.49\n",
        "worst_month                                                 -29.56\n",
        "avg_month                                                     0.67\n",
        "monthly_std                                                   4.14\n",
        "pct_profitable_weeks                                         56.31\n",
        "best_week                                                    19.11\n",
        "worst_week                                                  -27.33\n",
        "avg_week                                                      0.17\n",
        "weekly_std                                                    2.13\n",
        "sharpe_ratio                                                  0.56\n",
        "sortino_ratio                                                 0.72\n",
        "dtype: object\n"
       ]
      }
     ],
     "prompt_number": 21
    },
    {
     "cell_type": "markdown",
     "metadata": {},
     "source": [
      "Plot Equity Curves: Strategy vs Benchmark"
     ]
    },
    {
     "cell_type": "code",
     "collapsed": false,
     "input": [
      "pf.plot_equity_curve(dbal, benchmark=benchmark.dbal)"
     ],
     "language": "python",
     "metadata": {},
     "outputs": [
      {
       "metadata": {},
       "output_type": "display_data",
       "png": "[encoded data removed]",
       "text": [
        "<matplotlib.figure.Figure at 0x7f3fac613210>"
       ]
      }
     ],
     "prompt_number": 22
    },
    {
     "cell_type": "markdown",
     "metadata": {},
     "source": [
      "Plot Trades"
     ]
    },
    {
     "cell_type": "code",
     "collapsed": false,
     "input": [
      "pf.plot_trades(dbal, benchmark=benchmark.dbal)"
     ],
     "language": "python",
     "metadata": {},
     "outputs": [
      {
       "metadata": {},
       "output_type": "display_data",
       "png": "[encoded data removed]",
       "text": [
        "<matplotlib.figure.Figure at 0x7f3fa9b144d0>"
       ]
      }
     ],
     "prompt_number": 23
    },
    {
     "cell_type": "markdown",
     "metadata": {},
     "source": [
      "Bar Graph: Strategy vs Benchmark"
     ]
    },
    {
     "cell_type": "code",
     "collapsed": false,
     "input": [
      "metrics = ('annual_return_rate',\n",
      "           'max_closed_out_drawdown',\n",
      "           'drawdown_annualized_return',\n",
      "           'drawdown_recovery',\n",
      "           'best_month',\n",
      "           'worst_month',\n",
      "           'sharpe_ratio',\n",
      "           'sortino_ratio',\n",
      "           'monthly_std')\n",
      "df = pf.plot_bar_graph(stats, benchmark.stats, *metrics)\n",
      "df"
     ],
     "language": "python",
     "metadata": {},
     "outputs": [
      {
       "html": [
        "<div style=\"max-width:1500px;overflow:auto;\">\n",
        "<style scoped>\n",
        "    .dataframe tbody tr th:only-of-type {\n",
        "        vertical-align: middle;\n",
        "    }\n",
        "\n",
        "    .dataframe tbody tr th {\n",
        "        vertical-align: top;\n",
        "    }\n",
        "\n",
        "    .dataframe thead th {\n",
        "        text-align: right;\n",
        "    }\n",
        "</style>\n",
        "<table border=\"1\" class=\"dataframe\">\n",
        "  <thead>\n",
        "    <tr style=\"text-align: right;\">\n",
        "      <th></th>\n",
        "      <th>strategy</th>\n",
        "      <th>benchmark</th>\n",
        "    </tr>\n",
        "  </thead>\n",
        "  <tbody>\n",
        "    <tr>\n",
        "      <th>annual_return_rate</th>\n",
        "      <td>7.12</td>\n",
        "      <td>7.65</td>\n",
        "    </tr>\n",
        "    <tr>\n",
        "      <th>max_closed_out_drawdown</th>\n",
        "      <td>-33.23</td>\n",
        "      <td>-56.78</td>\n",
        "    </tr>\n",
        "    <tr>\n",
        "      <th>drawdown_annualized_return</th>\n",
        "      <td>-4.67</td>\n",
        "      <td>-7.42</td>\n",
        "    </tr>\n",
        "    <tr>\n",
        "      <th>drawdown_recovery</th>\n",
        "      <td>-0.15</td>\n",
        "      <td>-1.42</td>\n",
        "    </tr>\n",
        "    <tr>\n",
        "      <th>best_month</th>\n",
        "      <td>14.94</td>\n",
        "      <td>23.49</td>\n",
        "    </tr>\n",
        "    <tr>\n",
        "      <th>worst_month</th>\n",
        "      <td>-29.56</td>\n",
        "      <td>-29.56</td>\n",
        "    </tr>\n",
        "    <tr>\n",
        "      <th>sharpe_ratio</th>\n",
        "      <td>0.69</td>\n",
        "      <td>0.56</td>\n",
        "    </tr>\n",
        "    <tr>\n",
        "      <th>sortino_ratio</th>\n",
        "      <td>0.71</td>\n",
        "      <td>0.72</td>\n",
        "    </tr>\n",
        "    <tr>\n",
        "      <th>monthly_std</th>\n",
        "      <td>2.94</td>\n",
        "      <td>4.14</td>\n",
        "    </tr>\n",
        "  </tbody>\n",
        "</table>\n",
        "</div>"
       ],
       "metadata": {},
       "output_type": "pyout",
       "prompt_number": 24,
       "text": [
        "                            strategy  benchmark\n",
        "annual_return_rate              7.12       7.65\n",
        "max_closed_out_drawdown       -33.23     -56.78\n",
        "drawdown_annualized_return     -4.67      -7.42\n",
        "drawdown_recovery              -0.15      -1.42\n",
        "best_month                     14.94      23.49\n",
        "worst_month                   -29.56     -29.56\n",
        "sharpe_ratio                    0.69       0.56\n",
        "sortino_ratio                   0.71       0.72\n",
        "monthly_std                     2.94       4.14"
       ]
      },
      {
       "metadata": {},
       "output_type": "display_data",
       "png": "[encoded data removed]",
       "text": [
        "<matplotlib.figure.Figure at 0x7f3fa9b892d0>"
       ]
      }
     ],
     "prompt_number": 24
    }
   ],
   "metadata": {}
  }
 ]
}