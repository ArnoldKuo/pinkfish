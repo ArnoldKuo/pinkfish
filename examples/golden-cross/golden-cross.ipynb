{
 "cells": [
  {
   "cell_type": "markdown",
   "metadata": {},
   "source": [
    "# Golden Cross / Death Cross S&P 500 index (^GSPC)\n",
    "\n",
    "    1. sma50>sma200, buy\n",
    "    2. sma50<sma200, sell your long position."
   ]
  },
  {
   "cell_type": "code",
   "execution_count": 1,
   "metadata": {
    "ExecuteTime": {
     "end_time": "2019-12-24T18:09:08.454534Z",
     "start_time": "2019-12-24T18:09:07.400356Z"
    }
   },
   "outputs": [],
   "source": [
    "# use future imports for python 3.x forward compatibility\n",
    "from __future__ import print_function\n",
    "from __future__ import unicode_literals\n",
    "from __future__ import division\n",
    "from __future__ import absolute_import\n",
    "\n",
    "# other imports\n",
    "import pandas as pd\n",
    "import matplotlib.pyplot as plt\n",
    "import datetime\n",
    "from talib.abstract import *\n",
    "\n",
    "# project imports\n",
    "import pinkfish as pf\n",
    "\n",
    "# format price data\n",
    "pd.options.display.float_format = '{:0.2f}'.format\n",
    "\n",
    "%matplotlib inline"
   ]
  },
  {
   "cell_type": "code",
   "execution_count": 2,
   "metadata": {
    "ExecuteTime": {
     "end_time": "2019-12-24T18:09:08.474564Z",
     "start_time": "2019-12-24T18:09:08.464608Z"
    }
   },
   "outputs": [],
   "source": [
    "# set size of inline plots\n",
    "'''note: rcParams can't be in same cell as import matplotlib\n",
    "   or %matplotlib inline\n",
    "   \n",
    "   %matplotlib notebook: will lead to interactive plots embedded within\n",
    "   the notebook, you can zoom and resize the figure\n",
    "   \n",
    "   %matplotlib inline: only draw static images in the notebook\n",
    "'''\n",
    "plt.rcParams[\"figure.figsize\"] = (10, 7)"
   ]
  },
  {
   "cell_type": "markdown",
   "metadata": {},
   "source": [
    "Some global data"
   ]
  },
  {
   "cell_type": "code",
   "execution_count": 3,
   "metadata": {
    "ExecuteTime": {
     "end_time": "2019-12-24T18:09:08.489019Z",
     "start_time": "2019-12-24T18:09:08.477248Z"
    }
   },
   "outputs": [],
   "source": [
    "symbol = '^GSPC'\n",
    "#symbol = 'SPY'\n",
    "#symbol = 'DIA'\n",
    "#symbol = 'QQQ'\n",
    "#symbol = 'IWM'\n",
    "#symbol = 'TLT'\n",
    "#symbol = 'GLD'\n",
    "#symbol = 'AAPL'\n",
    "#symbol = 'BBRY'\n",
    "capital = 10000\n",
    "start = datetime.datetime(1900, 1, 1)\n",
    "#start = datetime.datetime.strptime(pf.SP500_BEGIN, '%Y-%m-%d')\n",
    "end = datetime.datetime.now()"
   ]
  },
  {
   "cell_type": "markdown",
   "metadata": {},
   "source": [
    "Include dividends? (If yes, set to True)"
   ]
  },
  {
   "cell_type": "code",
   "execution_count": 4,
   "metadata": {
    "ExecuteTime": {
     "end_time": "2019-12-24T18:09:08.502538Z",
     "start_time": "2019-12-24T18:09:08.490808Z"
    }
   },
   "outputs": [],
   "source": [
    "use_adj = True"
   ]
  },
  {
   "cell_type": "markdown",
   "metadata": {},
   "source": [
    "Fetch symbol data from internet; use cache if available."
   ]
  },
  {
   "cell_type": "code",
   "execution_count": 5,
   "metadata": {
    "ExecuteTime": {
     "end_time": "2019-12-24T18:09:08.635301Z",
     "start_time": "2019-12-24T18:09:08.508767Z"
    }
   },
   "outputs": [
    {
     "data": {
      "text/html": [
       "<div>\n",
       "<style scoped>\n",
       "    .dataframe tbody tr th:only-of-type {\n",
       "        vertical-align: middle;\n",
       "    }\n",
       "\n",
       "    .dataframe tbody tr th {\n",
       "        vertical-align: top;\n",
       "    }\n",
       "\n",
       "    .dataframe thead th {\n",
       "        text-align: right;\n",
       "    }\n",
       "</style>\n",
       "<table border=\"1\" class=\"dataframe\">\n",
       "  <thead>\n",
       "    <tr style=\"text-align: right;\">\n",
       "      <th></th>\n",
       "      <th>high</th>\n",
       "      <th>low</th>\n",
       "      <th>open</th>\n",
       "      <th>close</th>\n",
       "      <th>volume</th>\n",
       "      <th>adj_close</th>\n",
       "    </tr>\n",
       "    <tr>\n",
       "      <th>date</th>\n",
       "      <th></th>\n",
       "      <th></th>\n",
       "      <th></th>\n",
       "      <th></th>\n",
       "      <th></th>\n",
       "      <th></th>\n",
       "    </tr>\n",
       "  </thead>\n",
       "  <tbody>\n",
       "    <tr>\n",
       "      <th>1927-12-30</th>\n",
       "      <td>17.66</td>\n",
       "      <td>17.66</td>\n",
       "      <td>17.66</td>\n",
       "      <td>17.66</td>\n",
       "      <td>0</td>\n",
       "      <td>17.66</td>\n",
       "    </tr>\n",
       "    <tr>\n",
       "      <th>1928-01-03</th>\n",
       "      <td>17.76</td>\n",
       "      <td>17.76</td>\n",
       "      <td>17.76</td>\n",
       "      <td>17.76</td>\n",
       "      <td>0</td>\n",
       "      <td>17.76</td>\n",
       "    </tr>\n",
       "    <tr>\n",
       "      <th>1928-01-04</th>\n",
       "      <td>17.72</td>\n",
       "      <td>17.72</td>\n",
       "      <td>17.72</td>\n",
       "      <td>17.72</td>\n",
       "      <td>0</td>\n",
       "      <td>17.72</td>\n",
       "    </tr>\n",
       "    <tr>\n",
       "      <th>1928-01-05</th>\n",
       "      <td>17.55</td>\n",
       "      <td>17.55</td>\n",
       "      <td>17.55</td>\n",
       "      <td>17.55</td>\n",
       "      <td>0</td>\n",
       "      <td>17.55</td>\n",
       "    </tr>\n",
       "    <tr>\n",
       "      <th>1928-01-06</th>\n",
       "      <td>17.66</td>\n",
       "      <td>17.66</td>\n",
       "      <td>17.66</td>\n",
       "      <td>17.66</td>\n",
       "      <td>0</td>\n",
       "      <td>17.66</td>\n",
       "    </tr>\n",
       "  </tbody>\n",
       "</table>\n",
       "</div>"
      ],
      "text/plain": [
       "            high   low  open  close  volume  adj_close\n",
       "date                                                  \n",
       "1927-12-30 17.66 17.66 17.66  17.66       0      17.66\n",
       "1928-01-03 17.76 17.76 17.76  17.76       0      17.76\n",
       "1928-01-04 17.72 17.72 17.72  17.72       0      17.72\n",
       "1928-01-05 17.55 17.55 17.55  17.55       0      17.55\n",
       "1928-01-06 17.66 17.66 17.66  17.66       0      17.66"
      ]
     },
     "execution_count": 5,
     "metadata": {},
     "output_type": "execute_result"
    }
   ],
   "source": [
    "ts = pf.fetch_timeseries(symbol)\n",
    "ts.head()"
   ]
  },
  {
   "cell_type": "markdown",
   "metadata": {},
   "source": [
    "Select timeseries between start and end. Back adjust prices relative to adj_close for dividends and splits."
   ]
  },
  {
   "cell_type": "code",
   "execution_count": 6,
   "metadata": {
    "ExecuteTime": {
     "end_time": "2019-12-24T18:09:08.680582Z",
     "start_time": "2019-12-24T18:09:08.640239Z"
    }
   },
   "outputs": [
    {
     "data": {
      "text/html": [
       "<div>\n",
       "<style scoped>\n",
       "    .dataframe tbody tr th:only-of-type {\n",
       "        vertical-align: middle;\n",
       "    }\n",
       "\n",
       "    .dataframe tbody tr th {\n",
       "        vertical-align: top;\n",
       "    }\n",
       "\n",
       "    .dataframe thead th {\n",
       "        text-align: right;\n",
       "    }\n",
       "</style>\n",
       "<table border=\"1\" class=\"dataframe\">\n",
       "  <thead>\n",
       "    <tr style=\"text-align: right;\">\n",
       "      <th></th>\n",
       "      <th>high</th>\n",
       "      <th>low</th>\n",
       "      <th>open</th>\n",
       "      <th>close</th>\n",
       "      <th>volume</th>\n",
       "      <th>adj_close</th>\n",
       "    </tr>\n",
       "    <tr>\n",
       "      <th>date</th>\n",
       "      <th></th>\n",
       "      <th></th>\n",
       "      <th></th>\n",
       "      <th></th>\n",
       "      <th></th>\n",
       "      <th></th>\n",
       "    </tr>\n",
       "  </thead>\n",
       "  <tbody>\n",
       "    <tr>\n",
       "      <th>1927-12-30</th>\n",
       "      <td>17.66</td>\n",
       "      <td>17.66</td>\n",
       "      <td>17.66</td>\n",
       "      <td>17.66</td>\n",
       "      <td>0</td>\n",
       "      <td>17.66</td>\n",
       "    </tr>\n",
       "    <tr>\n",
       "      <th>1928-01-03</th>\n",
       "      <td>17.76</td>\n",
       "      <td>17.76</td>\n",
       "      <td>17.76</td>\n",
       "      <td>17.76</td>\n",
       "      <td>0</td>\n",
       "      <td>17.76</td>\n",
       "    </tr>\n",
       "    <tr>\n",
       "      <th>1928-01-04</th>\n",
       "      <td>17.72</td>\n",
       "      <td>17.72</td>\n",
       "      <td>17.72</td>\n",
       "      <td>17.72</td>\n",
       "      <td>0</td>\n",
       "      <td>17.72</td>\n",
       "    </tr>\n",
       "    <tr>\n",
       "      <th>1928-01-05</th>\n",
       "      <td>17.55</td>\n",
       "      <td>17.55</td>\n",
       "      <td>17.55</td>\n",
       "      <td>17.55</td>\n",
       "      <td>0</td>\n",
       "      <td>17.55</td>\n",
       "    </tr>\n",
       "    <tr>\n",
       "      <th>1928-01-06</th>\n",
       "      <td>17.66</td>\n",
       "      <td>17.66</td>\n",
       "      <td>17.66</td>\n",
       "      <td>17.66</td>\n",
       "      <td>0</td>\n",
       "      <td>17.66</td>\n",
       "    </tr>\n",
       "  </tbody>\n",
       "</table>\n",
       "</div>"
      ],
      "text/plain": [
       "            high   low  open  close  volume  adj_close\n",
       "date                                                  \n",
       "1927-12-30 17.66 17.66 17.66  17.66       0      17.66\n",
       "1928-01-03 17.76 17.76 17.76  17.76       0      17.76\n",
       "1928-01-04 17.72 17.72 17.72  17.72       0      17.72\n",
       "1928-01-05 17.55 17.55 17.55  17.55       0      17.55\n",
       "1928-01-06 17.66 17.66 17.66  17.66       0      17.66"
      ]
     },
     "execution_count": 6,
     "metadata": {},
     "output_type": "execute_result"
    }
   ],
   "source": [
    "ts = pf.select_tradeperiod(ts, start, end, use_adj)\n",
    "ts.head()"
   ]
  },
  {
   "cell_type": "markdown",
   "metadata": {},
   "source": [
    "Add technical indicator: 50 day ma and 200 day ma"
   ]
  },
  {
   "cell_type": "code",
   "execution_count": 7,
   "metadata": {
    "ExecuteTime": {
     "end_time": "2019-12-24T18:09:08.840576Z",
     "start_time": "2019-12-24T18:09:08.686036Z"
    }
   },
   "outputs": [
    {
     "data": {
      "text/html": [
       "<div>\n",
       "<style scoped>\n",
       "    .dataframe tbody tr th:only-of-type {\n",
       "        vertical-align: middle;\n",
       "    }\n",
       "\n",
       "    .dataframe tbody tr th {\n",
       "        vertical-align: top;\n",
       "    }\n",
       "\n",
       "    .dataframe thead th {\n",
       "        text-align: right;\n",
       "    }\n",
       "</style>\n",
       "<table border=\"1\" class=\"dataframe\">\n",
       "  <thead>\n",
       "    <tr style=\"text-align: right;\">\n",
       "      <th></th>\n",
       "      <th>high</th>\n",
       "      <th>low</th>\n",
       "      <th>open</th>\n",
       "      <th>close</th>\n",
       "      <th>volume</th>\n",
       "      <th>adj_close</th>\n",
       "      <th>sma50</th>\n",
       "      <th>sma200</th>\n",
       "    </tr>\n",
       "    <tr>\n",
       "      <th>date</th>\n",
       "      <th></th>\n",
       "      <th></th>\n",
       "      <th></th>\n",
       "      <th></th>\n",
       "      <th></th>\n",
       "      <th></th>\n",
       "      <th></th>\n",
       "      <th></th>\n",
       "    </tr>\n",
       "  </thead>\n",
       "  <tbody>\n",
       "    <tr>\n",
       "      <th>2019-12-17</th>\n",
       "      <td>3198.22</td>\n",
       "      <td>3191.03</td>\n",
       "      <td>3195.40</td>\n",
       "      <td>3192.52</td>\n",
       "      <td>3837540000</td>\n",
       "      <td>3192.52</td>\n",
       "      <td>3073.40</td>\n",
       "      <td>2948.42</td>\n",
       "    </tr>\n",
       "    <tr>\n",
       "      <th>2019-12-18</th>\n",
       "      <td>3198.48</td>\n",
       "      <td>3191.14</td>\n",
       "      <td>3195.21</td>\n",
       "      <td>3191.14</td>\n",
       "      <td>4014080000</td>\n",
       "      <td>3191.14</td>\n",
       "      <td>3079.36</td>\n",
       "      <td>2950.52</td>\n",
       "    </tr>\n",
       "    <tr>\n",
       "      <th>2019-12-19</th>\n",
       "      <td>3205.48</td>\n",
       "      <td>3192.32</td>\n",
       "      <td>3192.32</td>\n",
       "      <td>3205.37</td>\n",
       "      <td>3720450000</td>\n",
       "      <td>3205.37</td>\n",
       "      <td>3085.08</td>\n",
       "      <td>2952.81</td>\n",
       "    </tr>\n",
       "    <tr>\n",
       "      <th>2019-12-20</th>\n",
       "      <td>3225.65</td>\n",
       "      <td>3216.03</td>\n",
       "      <td>3223.33</td>\n",
       "      <td>3221.22</td>\n",
       "      <td>6454270000</td>\n",
       "      <td>3221.22</td>\n",
       "      <td>3090.74</td>\n",
       "      <td>2955.20</td>\n",
       "    </tr>\n",
       "    <tr>\n",
       "      <th>2019-12-23</th>\n",
       "      <td>3227.78</td>\n",
       "      <td>3222.30</td>\n",
       "      <td>3226.05</td>\n",
       "      <td>3224.01</td>\n",
       "      <td>1526831748</td>\n",
       "      <td>3224.01</td>\n",
       "      <td>3095.82</td>\n",
       "      <td>2957.40</td>\n",
       "    </tr>\n",
       "  </tbody>\n",
       "</table>\n",
       "</div>"
      ],
      "text/plain": [
       "              high     low    open   close      volume  adj_close   sma50  \\\n",
       "date                                                                        \n",
       "2019-12-17 3198.22 3191.03 3195.40 3192.52  3837540000    3192.52 3073.40   \n",
       "2019-12-18 3198.48 3191.14 3195.21 3191.14  4014080000    3191.14 3079.36   \n",
       "2019-12-19 3205.48 3192.32 3192.32 3205.37  3720450000    3205.37 3085.08   \n",
       "2019-12-20 3225.65 3216.03 3223.33 3221.22  6454270000    3221.22 3090.74   \n",
       "2019-12-23 3227.78 3222.30 3226.05 3224.01  1526831748    3224.01 3095.82   \n",
       "\n",
       "            sma200  \n",
       "date                \n",
       "2019-12-17 2948.42  \n",
       "2019-12-18 2950.52  \n",
       "2019-12-19 2952.81  \n",
       "2019-12-20 2955.20  \n",
       "2019-12-23 2957.40  "
      ]
     },
     "execution_count": 7,
     "metadata": {},
     "output_type": "execute_result"
    }
   ],
   "source": [
    "sma50 = SMA(ts, timeperiod=50)\n",
    "ts['sma50'] = sma50\n",
    "\n",
    "sma200 = SMA(ts, timeperiod=200)\n",
    "ts['sma200'] = sma200\n",
    "\n",
    "ts.tail()"
   ]
  },
  {
   "cell_type": "markdown",
   "metadata": {},
   "source": [
    "Plot closing price along with moving averages"
   ]
  },
  {
   "cell_type": "code",
   "execution_count": 8,
   "metadata": {
    "ExecuteTime": {
     "end_time": "2019-12-24T18:09:09.370538Z",
     "start_time": "2019-12-24T18:09:08.844898Z"
    }
   },
   "outputs": [
    {
     "data": {
      "text/plain": [
       "<matplotlib.legend.Legend at 0x7fc17f31bf90>"
      ]
     },
     "execution_count": 8,
     "metadata": {},
     "output_type": "execute_result"
    },
    {
     "data": {
      "image/png": "[encoded data removed]",
      "text/plain": [
       "<Figure size 720x504 with 1 Axes>"
      ]
     },
     "metadata": {
      "needs_background": "light"
     },
     "output_type": "display_data"
    }
   ],
   "source": [
    "fig = plt.figure()\n",
    "axes = fig.add_subplot(111,  ylabel='Price in $')\n",
    "\n",
    "ts['close'].plot(ax=axes, label='close', color='k')\n",
    "ts['sma50'].plot(ax=axes, label='sma50', color='r')\n",
    "ts['sma200'].plot(ax=axes, label='sma200', color='b')\n",
    "plt.legend(loc='best')"
   ]
  },
  {
   "cell_type": "markdown",
   "metadata": {},
   "source": [
    "Create Trade Log (tlog); Create Daily Balance (dbal)"
   ]
  },
  {
   "cell_type": "code",
   "execution_count": 9,
   "metadata": {
    "ExecuteTime": {
     "end_time": "2019-12-24T18:09:09.384545Z",
     "start_time": "2019-12-24T18:09:09.374704Z"
    }
   },
   "outputs": [],
   "source": [
    "tlog = pf.TradeLog()\n",
    "dbal = pf.DailyBal()"
   ]
  },
  {
   "cell_type": "markdown",
   "metadata": {},
   "source": [
    "Algo: Buy when 50 day ma crosses above 200 day ma.  Sell when 50 day ma crosses below 200 day ma. "
   ]
  },
  {
   "cell_type": "code",
   "execution_count": 10,
   "metadata": {
    "ExecuteTime": {
     "end_time": "2019-12-24T18:09:09.781932Z",
     "start_time": "2019-12-24T18:09:09.386331Z"
    },
    "scrolled": false
   },
   "outputs": [
    {
     "name": "stdout",
     "output_type": "stream",
     "text": [
      "1932-09-19 00:00:00 BUY  1362 ^GSPC @ 7.34\n",
      "1933-03-27 00:00:00 SELL 1362 ^GSPC @ 6.09\n",
      "1933-05-18 00:00:00 BUY  933 ^GSPC @ 8.89\n",
      "1934-05-31 00:00:00 SELL 933 ^GSPC @ 9.61\n",
      "1935-05-23 00:00:00 BUY  890 ^GSPC @ 10.07\n",
      "1937-05-21 00:00:00 SELL 890 ^GSPC @ 16.27\n",
      "1938-07-27 00:00:00 BUY  1182 ^GSPC @ 12.25\n",
      "1939-03-31 00:00:00 SELL 1182 ^GSPC @ 10.98\n",
      "1939-09-18 00:00:00 BUY  1041 ^GSPC @ 12.47\n",
      "1940-03-20 00:00:00 SELL 1041 ^GSPC @ 12.14\n",
      "1940-12-13 00:00:00 BUY  1182 ^GSPC @ 10.69\n",
      "1941-02-21 00:00:00 SELL 1182 ^GSPC @ 9.76\n",
      "1941-08-18 00:00:00 BUY  1139 ^GSPC @ 10.13\n",
      "1941-11-18 00:00:00 SELL 1139 ^GSPC @ 9.26\n",
      "1942-08-14 00:00:00 BUY  1229 ^GSPC @ 8.58\n",
      "1943-12-01 00:00:00 SELL 1229 ^GSPC @ 11.13\n",
      "1944-03-13 00:00:00 BUY  1118 ^GSPC @ 12.24\n",
      "1946-08-28 00:00:00 SELL 1118 ^GSPC @ 16.73\n",
      "1947-07-25 00:00:00 BUY  1163 ^GSPC @ 16.08\n",
      "1948-01-22 00:00:00 SELL 1163 ^GSPC @ 14.42\n",
      "1948-05-14 00:00:00 BUY  1023 ^GSPC @ 16.39\n",
      "1948-12-01 00:00:00 SELL 1023 ^GSPC @ 15.01\n",
      "1949-08-30 00:00:00 BUY  1010 ^GSPC @ 15.21\n",
      "1953-05-11 00:00:00 SELL 1010 ^GSPC @ 24.91\n",
      "1953-12-21 00:00:00 BUY  1008 ^GSPC @ 24.95\n",
      "1956-10-26 00:00:00 SELL 1008 ^GSPC @ 46.27\n",
      "1957-06-03 00:00:00 BUY  984 ^GSPC @ 47.37\n",
      "1957-09-26 00:00:00 SELL 984 ^GSPC @ 42.57\n",
      "1958-05-08 00:00:00 BUY  953 ^GSPC @ 43.99\n",
      "1959-10-30 00:00:00 SELL 953 ^GSPC @ 57.52\n",
      "1959-12-30 00:00:00 BUY  917 ^GSPC @ 59.77\n",
      "1960-02-15 00:00:00 SELL 917 ^GSPC @ 55.17\n",
      "1961-01-04 00:00:00 BUY  867 ^GSPC @ 58.36\n",
      "1962-05-07 00:00:00 SELL 867 ^GSPC @ 66.02\n",
      "1963-01-03 00:00:00 BUY  898 ^GSPC @ 63.72\n",
      "1965-07-22 00:00:00 SELL 898 ^GSPC @ 83.85\n",
      "1965-09-17 00:00:00 BUY  836 ^GSPC @ 90.05\n",
      "1966-04-28 00:00:00 SELL 836 ^GSPC @ 91.13\n",
      "1967-02-03 00:00:00 BUY  872 ^GSPC @ 87.36\n",
      "1968-02-27 00:00:00 SELL 872 ^GSPC @ 90.53\n",
      "1968-05-17 00:00:00 BUY  815 ^GSPC @ 96.90\n",
      "1969-03-13 00:00:00 SELL 815 ^GSPC @ 98.39\n",
      "1969-05-27 00:00:00 BUY  774 ^GSPC @ 103.57\n",
      "1969-06-23 00:00:00 SELL 774 ^GSPC @ 96.23\n",
      "1970-10-22 00:00:00 BUY  893 ^GSPC @ 83.38\n",
      "1971-09-24 00:00:00 SELL 893 ^GSPC @ 98.15\n",
      "1972-01-26 00:00:00 BUY  855 ^GSPC @ 102.50\n",
      "1973-04-18 00:00:00 SELL 855 ^GSPC @ 111.54\n",
      "1975-03-06 00:00:00 BUY  1140 ^GSPC @ 83.69\n",
      "1976-12-01 00:00:00 SELL 1140 ^GSPC @ 102.49\n",
      "1977-01-04 00:00:00 BUY  1105 ^GSPC @ 105.70\n",
      "1977-03-03 00:00:00 SELL 1105 ^GSPC @ 100.88\n",
      "1978-05-22 00:00:00 BUY  1125 ^GSPC @ 99.09\n",
      "1978-12-13 00:00:00 SELL 1125 ^GSPC @ 96.06\n",
      "1979-03-21 00:00:00 BUY  1068 ^GSPC @ 101.25\n",
      "1980-04-22 00:00:00 SELL 1068 ^GSPC @ 103.43\n",
      "1980-06-17 00:00:00 BUY  952 ^GSPC @ 116.03\n",
      "1981-07-02 00:00:00 SELL 952 ^GSPC @ 128.64\n",
      "1982-09-28 00:00:00 BUY  993 ^GSPC @ 123.24\n",
      "1984-02-03 00:00:00 SELL 993 ^GSPC @ 160.91\n",
      "1984-09-12 00:00:00 BUY  970 ^GSPC @ 164.68\n",
      "1986-11-18 00:00:00 SELL 970 ^GSPC @ 236.78\n",
      "1986-11-25 00:00:00 BUY  926 ^GSPC @ 248.17\n",
      "1987-11-05 00:00:00 SELL 926 ^GSPC @ 254.48\n",
      "1988-06-28 00:00:00 BUY  865 ^GSPC @ 272.31\n",
      "1990-02-26 00:00:00 SELL 865 ^GSPC @ 328.67\n",
      "1990-05-25 00:00:00 BUY  802 ^GSPC @ 354.58\n",
      "1990-09-07 00:00:00 SELL 802 ^GSPC @ 323.40\n",
      "1991-02-15 00:00:00 BUY  702 ^GSPC @ 369.06\n",
      "1994-04-19 00:00:00 SELL 702 ^GSPC @ 442.54\n",
      "1994-09-15 00:00:00 BUY  654 ^GSPC @ 474.81\n",
      "1998-09-29 00:00:00 SELL 654 ^GSPC @ 1049.02\n",
      "1998-12-08 00:00:00 BUY  581 ^GSPC @ 1181.38\n",
      "1999-11-04 00:00:00 SELL 581 ^GSPC @ 1362.64\n",
      "1999-11-11 00:00:00 BUY  573 ^GSPC @ 1381.46\n",
      "2000-10-30 00:00:00 SELL 573 ^GSPC @ 1398.66\n",
      "2003-05-14 00:00:00 BUY  853 ^GSPC @ 939.28\n",
      "2004-08-18 00:00:00 SELL 853 ^GSPC @ 1095.17\n",
      "2004-11-05 00:00:00 BUY  801 ^GSPC @ 1166.17\n",
      "2006-07-19 00:00:00 SELL 801 ^GSPC @ 1259.81\n",
      "2006-09-12 00:00:00 BUY  768 ^GSPC @ 1313.00\n",
      "2007-12-21 00:00:00 SELL 768 ^GSPC @ 1484.46\n",
      "2009-06-23 00:00:00 BUY  1275 ^GSPC @ 895.10\n",
      "2010-07-02 00:00:00 SELL 1275 ^GSPC @ 1022.58\n",
      "2010-10-22 00:00:00 BUY  1102 ^GSPC @ 1183.08\n",
      "2011-08-12 00:00:00 SELL 1102 ^GSPC @ 1178.81\n",
      "2012-01-31 00:00:00 BUY  989 ^GSPC @ 1312.41\n",
      "2015-08-28 00:00:00 SELL 989 ^GSPC @ 1988.87\n",
      "2015-12-21 00:00:00 BUY  973 ^GSPC @ 2021.15\n",
      "2016-01-11 00:00:00 SELL 973 ^GSPC @ 1923.67\n",
      "2016-04-25 00:00:00 BUY  897 ^GSPC @ 2087.79\n",
      "2018-12-07 00:00:00 SELL 897 ^GSPC @ 2633.08\n",
      "2019-04-01 00:00:00 BUY  823 ^GSPC @ 2867.19\n",
      "2019-12-23 00:00:00 SELL 823 ^GSPC @ 3224.01\n",
      "0.314534187317\n"
     ]
    }
   ],
   "source": [
    "tlog.cash = capital\n",
    "start_flag = True\n",
    "end_flag = False\n",
    "\n",
    "import time\n",
    "t0 = time.time()\n",
    "\n",
    "\"\"\"\n",
    "# This is the slowest (2.42 s)\n",
    "for i in range(len(ts.index)):\n",
    "\n",
    "    date = ts.index[i]\n",
    "    high = ts['high'][i]\n",
    "    low = ts['low'][i]\n",
    "    close = ts['close'][i]\n",
    "    sma50 = ts['sma50'][i]\n",
    "    sma200 = ts['sma200'][i]\n",
    "\n",
    "# This is still slow (2.53 s)\n",
    "for i, (index, row) in enumerate(ts.iterrows()):\n",
    "\n",
    "    date = index\n",
    "    high = row['high']\n",
    "    low = row['low']\n",
    "    close = row['close']\n",
    "    sma50 = row['sma50']\n",
    "    sma200 = row['sma200']\n",
    "\n",
    "\n",
    "# using .at[] is fast (832 ms)\n",
    "for i, index in enumerate(ts.index):\n",
    "\n",
    "    date = index\n",
    "    high = ts.at[index, 'high']\n",
    "    low = ts.at[index, 'low']\n",
    "    close = ts.at[index, 'close']\n",
    "    sma50 = ts.at[index, 'sma50']\n",
    "    sma200 = ts.at[index, 'sma200']\n",
    "\n",
    "# using itertuples is fastest for looping (378 ms)\n",
    "for i, row in enumerate(ts.itertuples()):\n",
    "\n",
    "    date = row.Index.to_pydatetime()\n",
    "    high = row.high\n",
    "    low = row.low\n",
    "    close = row.close\n",
    "    sma50 = row.sma50\n",
    "    sma200 = row.sma200\n",
    "\"\"\"\n",
    "\n",
    "for i, row in enumerate(ts.itertuples()):\n",
    "\n",
    "    date = row.Index.to_pydatetime()\n",
    "    high = row.high\n",
    "    low = row.low\n",
    "    close = row.close\n",
    "    sma50 = row.sma50\n",
    "    sma200 = row.sma200\n",
    "    end_flag = True if (i == len(ts) - 1) else False\n",
    "    trade_state = None\n",
    "    shares = 0\n",
    "        \n",
    "    if pd.isnull(sma200) or date < start:\n",
    "        continue\n",
    "    elif start_flag:\n",
    "        start_flag = False\n",
    "        # set start and end\n",
    "        start = date\n",
    "        end = ts.index[-1]\n",
    "\n",
    "    # buy\n",
    "    if (tlog.num_open_trades() == 0\n",
    "        and sma50 > sma200 and ts['sma50'][i-1] <= ts['sma200'][i-1] \n",
    "        and not end_flag):\n",
    "\n",
    "        # enter buy in trade log\n",
    "        shares = tlog.enter_trade(date, close)  \n",
    "    # sell\n",
    "    elif ((tlog.num_open_trades() > 0\n",
    "           and sma50 < sma200 and ts['sma50'][i-1] >= ts['sma200'][i-1])\n",
    "           or end_flag):\n",
    "\n",
    "        # enter sell in trade log\n",
    "        shares = tlog.exit_trade(date, close)\n",
    "\n",
    "    if shares > 0:\n",
    "        print(\"{0} BUY  {1} {2} @ {3:.2f}\".format(\n",
    "              date, shares, symbol, close))\n",
    "    elif shares < 0:\n",
    "        print(\"{0} SELL {1} {2} @ {3:.2f}\".format(\n",
    "              date, -shares, symbol, close))\n",
    "\n",
    "    # record daily balance\n",
    "    dbal.append(date, high, low, close, tlog.shares, tlog.cash)    \n",
    "\n",
    "t1 = time.time()\n",
    "total = t1-t0\n",
    "print(total)\n",
    "        "
   ]
  },
  {
   "cell_type": "markdown",
   "metadata": {},
   "source": [
    "Retrieve raw log and trade log DataFrames"
   ]
  },
  {
   "cell_type": "code",
   "execution_count": 11,
   "metadata": {
    "ExecuteTime": {
     "end_time": "2019-12-24T18:09:09.808558Z",
     "start_time": "2019-12-24T18:09:09.792667Z"
    }
   },
   "outputs": [],
   "source": [
    "rlog = tlog.get_log_raw()\n",
    "tlog = tlog.get_log()"
   ]
  },
  {
   "cell_type": "code",
   "execution_count": 12,
   "metadata": {
    "ExecuteTime": {
     "end_time": "2019-12-24T18:09:09.844562Z",
     "start_time": "2019-12-24T18:09:09.812721Z"
    }
   },
   "outputs": [
    {
     "data": {
      "text/html": [
       "<div>\n",
       "<style scoped>\n",
       "    .dataframe tbody tr th:only-of-type {\n",
       "        vertical-align: middle;\n",
       "    }\n",
       "\n",
       "    .dataframe tbody tr th {\n",
       "        vertical-align: top;\n",
       "    }\n",
       "\n",
       "    .dataframe thead th {\n",
       "        text-align: right;\n",
       "    }\n",
       "</style>\n",
       "<table border=\"1\" class=\"dataframe\">\n",
       "  <thead>\n",
       "    <tr style=\"text-align: right;\">\n",
       "      <th></th>\n",
       "      <th>date</th>\n",
       "      <th>price</th>\n",
       "      <th>shares</th>\n",
       "      <th>entry_exit</th>\n",
       "    </tr>\n",
       "  </thead>\n",
       "  <tbody>\n",
       "    <tr>\n",
       "      <th>89</th>\n",
       "      <td>2016-01-11</td>\n",
       "      <td>1923.67</td>\n",
       "      <td>973</td>\n",
       "      <td>exit</td>\n",
       "    </tr>\n",
       "    <tr>\n",
       "      <th>90</th>\n",
       "      <td>2016-04-25</td>\n",
       "      <td>2087.79</td>\n",
       "      <td>897</td>\n",
       "      <td>entry</td>\n",
       "    </tr>\n",
       "    <tr>\n",
       "      <th>91</th>\n",
       "      <td>2018-12-07</td>\n",
       "      <td>2633.08</td>\n",
       "      <td>897</td>\n",
       "      <td>exit</td>\n",
       "    </tr>\n",
       "    <tr>\n",
       "      <th>92</th>\n",
       "      <td>2019-04-01</td>\n",
       "      <td>2867.19</td>\n",
       "      <td>823</td>\n",
       "      <td>entry</td>\n",
       "    </tr>\n",
       "    <tr>\n",
       "      <th>93</th>\n",
       "      <td>2019-12-23</td>\n",
       "      <td>3224.01</td>\n",
       "      <td>823</td>\n",
       "      <td>exit</td>\n",
       "    </tr>\n",
       "  </tbody>\n",
       "</table>\n",
       "</div>"
      ],
      "text/plain": [
       "         date   price  shares entry_exit\n",
       "89 2016-01-11 1923.67     973       exit\n",
       "90 2016-04-25 2087.79     897      entry\n",
       "91 2018-12-07 2633.08     897       exit\n",
       "92 2019-04-01 2867.19     823      entry\n",
       "93 2019-12-23 3224.01     823       exit"
      ]
     },
     "execution_count": 12,
     "metadata": {},
     "output_type": "execute_result"
    }
   ],
   "source": [
    "rlog.tail()"
   ]
  },
  {
   "cell_type": "code",
   "execution_count": 13,
   "metadata": {
    "ExecuteTime": {
     "end_time": "2019-12-24T18:09:09.901555Z",
     "start_time": "2019-12-24T18:09:09.852730Z"
    }
   },
   "outputs": [
    {
     "data": {
      "text/html": [
       "<div>\n",
       "<style scoped>\n",
       "    .dataframe tbody tr th:only-of-type {\n",
       "        vertical-align: middle;\n",
       "    }\n",
       "\n",
       "    .dataframe tbody tr th {\n",
       "        vertical-align: top;\n",
       "    }\n",
       "\n",
       "    .dataframe thead th {\n",
       "        text-align: right;\n",
       "    }\n",
       "</style>\n",
       "<table border=\"1\" class=\"dataframe\">\n",
       "  <thead>\n",
       "    <tr style=\"text-align: right;\">\n",
       "      <th></th>\n",
       "      <th>entry_date</th>\n",
       "      <th>entry_price</th>\n",
       "      <th>exit_date</th>\n",
       "      <th>exit_price</th>\n",
       "      <th>pl_points</th>\n",
       "      <th>pl_cash</th>\n",
       "      <th>qty</th>\n",
       "      <th>cumul_total</th>\n",
       "    </tr>\n",
       "  </thead>\n",
       "  <tbody>\n",
       "    <tr>\n",
       "      <th>37</th>\n",
       "      <td>1999-11-11</td>\n",
       "      <td>1381.46</td>\n",
       "      <td>2000-10-30</td>\n",
       "      <td>1398.66</td>\n",
       "      <td>17.20</td>\n",
       "      <td>9855.64</td>\n",
       "      <td>573</td>\n",
       "      <td>791686.75</td>\n",
       "    </tr>\n",
       "    <tr>\n",
       "      <th>38</th>\n",
       "      <td>2003-05-14</td>\n",
       "      <td>939.28</td>\n",
       "      <td>2004-08-18</td>\n",
       "      <td>1095.17</td>\n",
       "      <td>155.89</td>\n",
       "      <td>132974.18</td>\n",
       "      <td>853</td>\n",
       "      <td>924660.93</td>\n",
       "    </tr>\n",
       "    <tr>\n",
       "      <th>39</th>\n",
       "      <td>2004-11-05</td>\n",
       "      <td>1166.17</td>\n",
       "      <td>2006-07-19</td>\n",
       "      <td>1259.81</td>\n",
       "      <td>93.64</td>\n",
       "      <td>75005.65</td>\n",
       "      <td>801</td>\n",
       "      <td>999666.58</td>\n",
       "    </tr>\n",
       "    <tr>\n",
       "      <th>40</th>\n",
       "      <td>2006-09-12</td>\n",
       "      <td>1313.00</td>\n",
       "      <td>2007-12-21</td>\n",
       "      <td>1484.46</td>\n",
       "      <td>171.46</td>\n",
       "      <td>131681.25</td>\n",
       "      <td>768</td>\n",
       "      <td>1131347.83</td>\n",
       "    </tr>\n",
       "    <tr>\n",
       "      <th>41</th>\n",
       "      <td>2009-06-23</td>\n",
       "      <td>895.10</td>\n",
       "      <td>2010-07-02</td>\n",
       "      <td>1022.58</td>\n",
       "      <td>127.48</td>\n",
       "      <td>162537.05</td>\n",
       "      <td>1275</td>\n",
       "      <td>1293884.89</td>\n",
       "    </tr>\n",
       "    <tr>\n",
       "      <th>42</th>\n",
       "      <td>2010-10-22</td>\n",
       "      <td>1183.08</td>\n",
       "      <td>2011-08-12</td>\n",
       "      <td>1178.81</td>\n",
       "      <td>-4.27</td>\n",
       "      <td>-4705.43</td>\n",
       "      <td>1102</td>\n",
       "      <td>1289179.46</td>\n",
       "    </tr>\n",
       "    <tr>\n",
       "      <th>43</th>\n",
       "      <td>2012-01-31</td>\n",
       "      <td>1312.41</td>\n",
       "      <td>2015-08-28</td>\n",
       "      <td>1988.87</td>\n",
       "      <td>676.46</td>\n",
       "      <td>669018.90</td>\n",
       "      <td>989</td>\n",
       "      <td>1958198.36</td>\n",
       "    </tr>\n",
       "    <tr>\n",
       "      <th>44</th>\n",
       "      <td>2015-12-21</td>\n",
       "      <td>2021.15</td>\n",
       "      <td>2016-01-11</td>\n",
       "      <td>1923.67</td>\n",
       "      <td>-97.48</td>\n",
       "      <td>-94848.02</td>\n",
       "      <td>973</td>\n",
       "      <td>1863350.34</td>\n",
       "    </tr>\n",
       "    <tr>\n",
       "      <th>45</th>\n",
       "      <td>2016-04-25</td>\n",
       "      <td>2087.79</td>\n",
       "      <td>2018-12-07</td>\n",
       "      <td>2633.08</td>\n",
       "      <td>545.29</td>\n",
       "      <td>489125.17</td>\n",
       "      <td>897</td>\n",
       "      <td>2352475.50</td>\n",
       "    </tr>\n",
       "    <tr>\n",
       "      <th>46</th>\n",
       "      <td>2019-04-01</td>\n",
       "      <td>2867.19</td>\n",
       "      <td>2019-12-23</td>\n",
       "      <td>3224.01</td>\n",
       "      <td>356.82</td>\n",
       "      <td>293662.92</td>\n",
       "      <td>823</td>\n",
       "      <td>2646138.42</td>\n",
       "    </tr>\n",
       "  </tbody>\n",
       "</table>\n",
       "</div>"
      ],
      "text/plain": [
       "   entry_date  entry_price  exit_date  exit_price  pl_points   pl_cash   qty  \\\n",
       "37 1999-11-11      1381.46 2000-10-30     1398.66      17.20   9855.64   573   \n",
       "38 2003-05-14       939.28 2004-08-18     1095.17     155.89 132974.18   853   \n",
       "39 2004-11-05      1166.17 2006-07-19     1259.81      93.64  75005.65   801   \n",
       "40 2006-09-12      1313.00 2007-12-21     1484.46     171.46 131681.25   768   \n",
       "41 2009-06-23       895.10 2010-07-02     1022.58     127.48 162537.05  1275   \n",
       "42 2010-10-22      1183.08 2011-08-12     1178.81      -4.27  -4705.43  1102   \n",
       "43 2012-01-31      1312.41 2015-08-28     1988.87     676.46 669018.90   989   \n",
       "44 2015-12-21      2021.15 2016-01-11     1923.67     -97.48 -94848.02   973   \n",
       "45 2016-04-25      2087.79 2018-12-07     2633.08     545.29 489125.17   897   \n",
       "46 2019-04-01      2867.19 2019-12-23     3224.01     356.82 293662.92   823   \n",
       "\n",
       "    cumul_total  \n",
       "37    791686.75  \n",
       "38    924660.93  \n",
       "39    999666.58  \n",
       "40   1131347.83  \n",
       "41   1293884.89  \n",
       "42   1289179.46  \n",
       "43   1958198.36  \n",
       "44   1863350.34  \n",
       "45   2352475.50  \n",
       "46   2646138.42  "
      ]
     },
     "execution_count": 13,
     "metadata": {},
     "output_type": "execute_result"
    }
   ],
   "source": [
    "tlog.tail(10)"
   ]
  },
  {
   "cell_type": "code",
   "execution_count": 14,
   "metadata": {
    "ExecuteTime": {
     "end_time": "2019-12-24T18:09:11.316539Z",
     "start_time": "2019-12-24T18:09:09.907890Z"
    }
   },
   "outputs": [
    {
     "data": {
      "text/html": [
       "<div>\n",
       "<style scoped>\n",
       "    .dataframe tbody tr th:only-of-type {\n",
       "        vertical-align: middle;\n",
       "    }\n",
       "\n",
       "    .dataframe tbody tr th {\n",
       "        vertical-align: top;\n",
       "    }\n",
       "\n",
       "    .dataframe thead th {\n",
       "        text-align: right;\n",
       "    }\n",
       "</style>\n",
       "<table border=\"1\" class=\"dataframe\">\n",
       "  <thead>\n",
       "    <tr style=\"text-align: right;\">\n",
       "      <th></th>\n",
       "      <th>high</th>\n",
       "      <th>low</th>\n",
       "      <th>close</th>\n",
       "      <th>shares</th>\n",
       "      <th>cash</th>\n",
       "      <th>state</th>\n",
       "    </tr>\n",
       "    <tr>\n",
       "      <th>date</th>\n",
       "      <th></th>\n",
       "      <th></th>\n",
       "      <th></th>\n",
       "      <th></th>\n",
       "      <th></th>\n",
       "      <th></th>\n",
       "    </tr>\n",
       "  </thead>\n",
       "  <tbody>\n",
       "    <tr>\n",
       "      <th>2019-12-17</th>\n",
       "      <td>2634913.22</td>\n",
       "      <td>2628995.90</td>\n",
       "      <td>2630222.16</td>\n",
       "      <td>823</td>\n",
       "      <td>2778.18</td>\n",
       "      <td>-</td>\n",
       "    </tr>\n",
       "    <tr>\n",
       "      <th>2019-12-18</th>\n",
       "      <td>2635127.21</td>\n",
       "      <td>2629086.31</td>\n",
       "      <td>2629086.31</td>\n",
       "      <td>823</td>\n",
       "      <td>2778.18</td>\n",
       "      <td>-</td>\n",
       "    </tr>\n",
       "    <tr>\n",
       "      <th>2019-12-19</th>\n",
       "      <td>2640888.21</td>\n",
       "      <td>2630057.60</td>\n",
       "      <td>2640797.79</td>\n",
       "      <td>823</td>\n",
       "      <td>2778.18</td>\n",
       "      <td>-</td>\n",
       "    </tr>\n",
       "    <tr>\n",
       "      <th>2019-12-20</th>\n",
       "      <td>2657488.05</td>\n",
       "      <td>2649570.90</td>\n",
       "      <td>2653842.22</td>\n",
       "      <td>823</td>\n",
       "      <td>2778.18</td>\n",
       "      <td>-</td>\n",
       "    </tr>\n",
       "    <tr>\n",
       "      <th>2019-12-23</th>\n",
       "      <td>2656138.42</td>\n",
       "      <td>2656138.42</td>\n",
       "      <td>2656138.42</td>\n",
       "      <td>0</td>\n",
       "      <td>2656138.42</td>\n",
       "      <td>X</td>\n",
       "    </tr>\n",
       "  </tbody>\n",
       "</table>\n",
       "</div>"
      ],
      "text/plain": [
       "                 high        low      close  shares       cash state\n",
       "date                                                                \n",
       "2019-12-17 2634913.22 2628995.90 2630222.16     823    2778.18     -\n",
       "2019-12-18 2635127.21 2629086.31 2629086.31     823    2778.18     -\n",
       "2019-12-19 2640888.21 2630057.60 2640797.79     823    2778.18     -\n",
       "2019-12-20 2657488.05 2649570.90 2653842.22     823    2778.18     -\n",
       "2019-12-23 2656138.42 2656138.42 2656138.42       0 2656138.42     X"
      ]
     },
     "execution_count": 14,
     "metadata": {},
     "output_type": "execute_result"
    }
   ],
   "source": [
    "dbal = dbal.get_log(tlog)\n",
    "dbal.tail()"
   ]
  },
  {
   "cell_type": "markdown",
   "metadata": {},
   "source": [
    "Generate strategy stats - display all available stats"
   ]
  },
  {
   "cell_type": "code",
   "execution_count": 15,
   "metadata": {
    "ExecuteTime": {
     "end_time": "2019-12-24T18:09:11.874558Z",
     "start_time": "2019-12-24T18:09:11.320625Z"
    }
   },
   "outputs": [
    {
     "name": "stdout",
     "output_type": "stream",
     "text": [
      "start                                                  1928-10-16\n",
      "end                                                    2019-12-23\n",
      "beginning_balance                                           10000\n",
      "ending_balance                                         2656138.42\n",
      "total_net_profit                                       2646138.42\n",
      "gross_profit                                           2803035.31\n",
      "gross_loss                                             -156896.89\n",
      "profit_factor                                               17.87\n",
      "return_on_initial_capital                                26461.38\n",
      "annual_return_rate                                           6.31\n",
      "trading_period                           91 years 2 months 7 days\n",
      "pct_time_in_market                                          65.96\n",
      "total_num_trades                                               47\n",
      "trades_per_year                                              0.52\n",
      "num_winning_trades                                             32\n",
      "num_losing_trades                                              15\n",
      "num_even_trades                                                 0\n",
      "pct_profitable_trades                                       68.09\n",
      "avg_profit_per_trade                                     56300.82\n",
      "avg_profit_per_winning_trade                             87594.85\n",
      "avg_loss_per_losing_trade                               -10459.79\n",
      "ratio_avg_profit_win_loss                                    8.37\n",
      "largest_profit_winning_trade                            669018.90\n",
      "largest_loss_losing_trade                               -94848.02\n",
      "num_winning_points                                        3295.07\n",
      "num_losing_points                                         -165.21\n",
      "total_net_points                                          3129.86\n",
      "avg_points                                                  66.59\n",
      "largest_points_winning_trade                               676.46\n",
      "largest_points_losing_trade                                -97.48\n",
      "avg_pct_gain_per_trade                                      15.18\n",
      "largest_pct_winning_trade                                  120.93\n",
      "largest_pct_losing_trade                                   -17.03\n",
      "max_consecutive_winning_trades                                  8\n",
      "max_consecutive_losing_trades                                   4\n",
      "avg_bars_winning_trades                                    429.88\n",
      "avg_bars_losing_trades                                      93.27\n",
      "max_closed_out_drawdown                                    -36.86\n",
      "max_closed_out_drawdown_start_date                     1937-03-10\n",
      "max_closed_out_drawdown_end_date                       1941-11-13\n",
      "max_closed_out_drawdown_recovery_date                  1945-05-03\n",
      "drawdown_recovery                                           -4.68\n",
      "drawdown_annualized_return                                  -5.84\n",
      "max_intra_day_drawdown                                     -36.86\n",
      "avg_yearly_closed_out_drawdown                              -9.28\n",
      "max_yearly_closed_out_drawdown                             -35.09\n",
      "avg_monthly_closed_out_drawdown                             -2.30\n",
      "max_monthly_closed_out_drawdown                            -31.47\n",
      "avg_weekly_closed_out_drawdown                              -0.87\n",
      "max_weekly_closed_out_drawdown                             -28.51\n",
      "avg_yearly_closed_out_runup                                 16.51\n",
      "max_yearly_closed_out_runup                                 61.85\n",
      "avg_monthly_closed_out_runup                                 2.80\n",
      "max_monthly_closed_out_runup                                26.55\n",
      "avg_weekly_closed_out_runup                                  1.02\n",
      "max_weekly_closed_out_runup                                 23.14\n",
      "pct_profitable_years                                        61.66\n",
      "best_year                                                   53.98\n",
      "worst_year                                                 -28.66\n",
      "avg_year                                                     7.05\n",
      "annual_std                                                  12.94\n",
      "pct_profitable_months                                       43.03\n",
      "best_month                                                  22.49\n",
      "worst_month                                                -29.56\n",
      "avg_month                                                    0.54\n",
      "monthly_std                                                  3.22\n",
      "pct_profitable_weeks                                        38.50\n",
      "best_week                                                   23.14\n",
      "worst_week                                                 -27.33\n",
      "avg_week                                                     0.14\n",
      "weekly_std                                                   1.72\n",
      "sharpe_ratio                                                 0.55\n",
      "sortino_ratio                                                0.55\n",
      "dtype: object\n"
     ]
    }
   ],
   "source": [
    "stats = pf.stats(ts, tlog, dbal, start, end, capital)\n",
    "pf.print_full(stats)"
   ]
  },
  {
   "cell_type": "markdown",
   "metadata": {},
   "source": [
    "Run Benchmark"
   ]
  },
  {
   "cell_type": "code",
   "execution_count": 16,
   "metadata": {
    "ExecuteTime": {
     "end_time": "2019-12-24T18:09:12.214526Z",
     "start_time": "2019-12-24T18:09:11.878886Z"
    }
   },
   "outputs": [
    {
     "name": "stdout",
     "output_type": "stream",
     "text": [
      "1928-10-16 00:00:00 BUY  460 ^GSPC @ 21.72\n",
      "2019-12-23 00:00:00 SELL 460 ^GSPC @ 3224.01\n"
     ]
    }
   ],
   "source": [
    "benchmark = pf.Benchmark(symbol, capital, start, end, use_adj)\n",
    "benchmark.run()"
   ]
  },
  {
   "cell_type": "markdown",
   "metadata": {},
   "source": [
    "Retrieve benchmark logs"
   ]
  },
  {
   "cell_type": "code",
   "execution_count": 17,
   "metadata": {
    "ExecuteTime": {
     "end_time": "2019-12-24T18:09:13.613298Z",
     "start_time": "2019-12-24T18:09:12.219151Z"
    }
   },
   "outputs": [],
   "source": [
    "benchmark.tlog, benchmark.dbal = benchmark.get_logs()"
   ]
  },
  {
   "cell_type": "markdown",
   "metadata": {},
   "source": [
    "Generate benchmark stats"
   ]
  },
  {
   "cell_type": "code",
   "execution_count": 18,
   "metadata": {
    "ExecuteTime": {
     "end_time": "2019-12-24T18:09:14.040521Z",
     "start_time": "2019-12-24T18:09:13.622957Z"
    },
    "scrolled": false
   },
   "outputs": [
    {
     "name": "stdout",
     "output_type": "stream",
     "text": [
      "start                                                  1928-10-16\n",
      "end                                                    2019-12-23\n",
      "beginning_balance                                           10000\n",
      "ending_balance                                         1483053.40\n",
      "total_net_profit                                       1473053.40\n",
      "gross_profit                                           1473053.40\n",
      "gross_loss                                                   0.00\n",
      "profit_factor                                                1000\n",
      "return_on_initial_capital                                14730.53\n",
      "annual_return_rate                                           5.64\n",
      "trading_period                           91 years 2 months 7 days\n",
      "pct_time_in_market                                         100.00\n",
      "total_num_trades                                                1\n",
      "trades_per_year                                              0.01\n",
      "num_winning_trades                                              1\n",
      "num_losing_trades                                               0\n",
      "num_even_trades                                                 0\n",
      "pct_profitable_trades                                      100.00\n",
      "avg_profit_per_trade                                   1473053.40\n",
      "avg_profit_per_winning_trade                           1473053.40\n",
      "avg_loss_per_losing_trade                                       0\n",
      "ratio_avg_profit_win_loss                                    1000\n",
      "largest_profit_winning_trade                           1473053.40\n",
      "largest_loss_losing_trade                                       0\n",
      "num_winning_points                                        3202.29\n",
      "num_losing_points                                               0\n",
      "total_net_points                                          3202.29\n",
      "avg_points                                                3202.29\n",
      "largest_points_winning_trade                              3202.29\n",
      "largest_points_losing_trade                                     0\n",
      "avg_pct_gain_per_trade                                   14743.51\n",
      "largest_pct_winning_trade                                14743.51\n",
      "largest_pct_losing_trade                                        0\n",
      "max_consecutive_winning_trades                                  1\n",
      "max_consecutive_losing_trades                                   0\n",
      "avg_bars_winning_trades                                  22905.00\n",
      "avg_bars_losing_trades                                          0\n",
      "max_closed_out_drawdown                                    -86.14\n",
      "max_closed_out_drawdown_start_date                     1929-09-16\n",
      "max_closed_out_drawdown_end_date                       1932-06-01\n",
      "max_closed_out_drawdown_recovery_date                  1954-09-22\n",
      "drawdown_recovery                                           -2.71\n",
      "drawdown_annualized_return                                 -15.28\n",
      "max_intra_day_drawdown                                     -86.14\n",
      "avg_yearly_closed_out_drawdown                             -15.98\n",
      "max_yearly_closed_out_drawdown                             -71.25\n",
      "avg_monthly_closed_out_drawdown                             -4.19\n",
      "max_monthly_closed_out_drawdown                            -42.17\n",
      "avg_weekly_closed_out_drawdown                              -1.62\n",
      "max_weekly_closed_out_drawdown                             -28.51\n",
      "avg_yearly_closed_out_runup                                 26.20\n",
      "max_yearly_closed_out_runup                                175.88\n",
      "avg_monthly_closed_out_runup                                 4.87\n",
      "max_monthly_closed_out_runup                                61.27\n",
      "avg_weekly_closed_out_runup                                  1.78\n",
      "max_weekly_closed_out_runup                                 26.49\n",
      "pct_profitable_years                                        68.66\n",
      "best_year                                                  170.39\n",
      "worst_year                                                 -70.99\n",
      "avg_year                                                     7.38\n",
      "annual_std                                                  19.98\n",
      "pct_profitable_months                                       59.54\n",
      "best_month                                                  61.27\n",
      "worst_month                                                -42.17\n",
      "avg_month                                                    0.58\n",
      "monthly_std                                                  5.30\n",
      "pct_profitable_weeks                                        55.93\n",
      "best_week                                                   25.81\n",
      "worst_week                                                 -27.71\n",
      "avg_week                                                     0.14\n",
      "weekly_std                                                   2.60\n",
      "sharpe_ratio                                                 0.39\n",
      "sortino_ratio                                                0.49\n",
      "dtype: object\n"
     ]
    }
   ],
   "source": [
    "benchmark.stats = benchmark.get_stats()\n",
    "pf.print_full(benchmark.stats)"
   ]
  },
  {
   "cell_type": "markdown",
   "metadata": {},
   "source": [
    "Plot Equity Curves: Strategy vs Benchmark"
   ]
  },
  {
   "cell_type": "code",
   "execution_count": 19,
   "metadata": {
    "ExecuteTime": {
     "end_time": "2019-12-24T18:09:14.400802Z",
     "start_time": "2019-12-24T18:09:14.047804Z"
    }
   },
   "outputs": [
    {
     "data": {
      "image/png": "[encoded data removed]",
      "text/plain": [
       "<Figure size 720x504 with 1 Axes>"
      ]
     },
     "metadata": {
      "needs_background": "light"
     },
     "output_type": "display_data"
    }
   ],
   "source": [
    "pf.plot_equity_curve(dbal, benchmark=benchmark.dbal)"
   ]
  },
  {
   "cell_type": "markdown",
   "metadata": {},
   "source": [
    "Plot Trades"
   ]
  },
  {
   "cell_type": "code",
   "execution_count": 20,
   "metadata": {
    "ExecuteTime": {
     "end_time": "2019-12-24T18:09:14.748547Z",
     "start_time": "2019-12-24T18:09:14.408694Z"
    }
   },
   "outputs": [
    {
     "data": {
      "image/png": "[encoded data removed]",
      "text/plain": [
       "<Figure size 720x504 with 1 Axes>"
      ]
     },
     "metadata": {
      "needs_background": "light"
     },
     "output_type": "display_data"
    }
   ],
   "source": [
    "pf.plot_trades(dbal, benchmark=benchmark.dbal)"
   ]
  },
  {
   "cell_type": "markdown",
   "metadata": {},
   "source": [
    "Bar Graph: Strategy vs Benchmark"
   ]
  },
  {
   "cell_type": "code",
   "execution_count": 21,
   "metadata": {
    "ExecuteTime": {
     "end_time": "2019-12-24T18:09:14.788570Z",
     "start_time": "2019-12-24T18:09:14.754910Z"
    },
    "scrolled": false
   },
   "outputs": [
    {
     "data": {
      "text/html": [
       "<div>\n",
       "<style scoped>\n",
       "    .dataframe tbody tr th:only-of-type {\n",
       "        vertical-align: middle;\n",
       "    }\n",
       "\n",
       "    .dataframe tbody tr th {\n",
       "        vertical-align: top;\n",
       "    }\n",
       "\n",
       "    .dataframe thead th {\n",
       "        text-align: right;\n",
       "    }\n",
       "</style>\n",
       "<table border=\"1\" class=\"dataframe\">\n",
       "  <thead>\n",
       "    <tr style=\"text-align: right;\">\n",
       "      <th></th>\n",
       "      <th>strategy</th>\n",
       "      <th>benchmark</th>\n",
       "    </tr>\n",
       "  </thead>\n",
       "  <tbody>\n",
       "    <tr>\n",
       "      <th>annual_return_rate</th>\n",
       "      <td>6.31</td>\n",
       "      <td>5.64</td>\n",
       "    </tr>\n",
       "    <tr>\n",
       "      <th>ending_balance</th>\n",
       "      <td>2656138.42</td>\n",
       "      <td>1483053.40</td>\n",
       "    </tr>\n",
       "    <tr>\n",
       "      <th>max_closed_out_drawdown</th>\n",
       "      <td>-36.86</td>\n",
       "      <td>-86.14</td>\n",
       "    </tr>\n",
       "    <tr>\n",
       "      <th>drawdown_annualized_return</th>\n",
       "      <td>-5.84</td>\n",
       "      <td>-15.28</td>\n",
       "    </tr>\n",
       "    <tr>\n",
       "      <th>drawdown_recovery</th>\n",
       "      <td>-4.68</td>\n",
       "      <td>-2.71</td>\n",
       "    </tr>\n",
       "    <tr>\n",
       "      <th>best_month</th>\n",
       "      <td>22.49</td>\n",
       "      <td>61.27</td>\n",
       "    </tr>\n",
       "    <tr>\n",
       "      <th>worst_month</th>\n",
       "      <td>-29.56</td>\n",
       "      <td>-42.17</td>\n",
       "    </tr>\n",
       "    <tr>\n",
       "      <th>sharpe_ratio</th>\n",
       "      <td>0.55</td>\n",
       "      <td>0.39</td>\n",
       "    </tr>\n",
       "    <tr>\n",
       "      <th>sortino_ratio</th>\n",
       "      <td>0.55</td>\n",
       "      <td>0.49</td>\n",
       "    </tr>\n",
       "    <tr>\n",
       "      <th>monthly_std</th>\n",
       "      <td>3.22</td>\n",
       "      <td>5.30</td>\n",
       "    </tr>\n",
       "    <tr>\n",
       "      <th>pct_time_in_market</th>\n",
       "      <td>65.96</td>\n",
       "      <td>100.00</td>\n",
       "    </tr>\n",
       "    <tr>\n",
       "      <th>total_num_trades</th>\n",
       "      <td>47.00</td>\n",
       "      <td>1.00</td>\n",
       "    </tr>\n",
       "    <tr>\n",
       "      <th>pct_profitable_trades</th>\n",
       "      <td>68.09</td>\n",
       "      <td>100.00</td>\n",
       "    </tr>\n",
       "    <tr>\n",
       "      <th>trades_per_year</th>\n",
       "      <td>0.52</td>\n",
       "      <td>0.01</td>\n",
       "    </tr>\n",
       "    <tr>\n",
       "      <th>avg_points</th>\n",
       "      <td>66.59</td>\n",
       "      <td>3202.29</td>\n",
       "    </tr>\n",
       "  </tbody>\n",
       "</table>\n",
       "</div>"
      ],
      "text/plain": [
       "                             strategy  benchmark\n",
       "annual_return_rate               6.31       5.64\n",
       "ending_balance             2656138.42 1483053.40\n",
       "max_closed_out_drawdown        -36.86     -86.14\n",
       "drawdown_annualized_return      -5.84     -15.28\n",
       "drawdown_recovery               -4.68      -2.71\n",
       "best_month                      22.49      61.27\n",
       "worst_month                    -29.56     -42.17\n",
       "sharpe_ratio                     0.55       0.39\n",
       "sortino_ratio                    0.55       0.49\n",
       "monthly_std                      3.22       5.30\n",
       "pct_time_in_market              65.96     100.00\n",
       "total_num_trades                47.00       1.00\n",
       "pct_profitable_trades           68.09     100.00\n",
       "trades_per_year                  0.52       0.01\n",
       "avg_points                      66.59    3202.29"
      ]
     },
     "execution_count": 21,
     "metadata": {},
     "output_type": "execute_result"
    }
   ],
   "source": [
    "metrics = ('annual_return_rate',\n",
    "           'ending_balance',\n",
    "           'max_closed_out_drawdown',\n",
    "           'drawdown_annualized_return',\n",
    "           'drawdown_recovery',\n",
    "           'best_month',\n",
    "           'worst_month',\n",
    "           'sharpe_ratio',\n",
    "           'sortino_ratio',\n",
    "           'monthly_std',\n",
    "           'pct_time_in_market',\n",
    "           'total_num_trades',\n",
    "           'pct_profitable_trades',\n",
    "           'trades_per_year',\n",
    "           'avg_points')\n",
    "\n",
    "df = pf.summary2(stats, benchmark.stats, *metrics)\n",
    "df"
   ]
  }
 ],
 "metadata": {
  "kernelspec": {
   "display_name": "Python 2",
   "language": "python",
   "name": "python2"
  },
  "language_info": {
   "codemirror_mode": {
    "name": "ipython",
    "version": 2
   },
   "file_extension": ".py",
   "mimetype": "text/x-python",
   "name": "python",
   "nbconvert_exporter": "python",
   "pygments_lexer": "ipython2",
   "version": "2.7.15+"
  },
  "latex_envs": {
   "LaTeX_envs_menu_present": true,
   "autoclose": false,
   "autocomplete": true,
   "bibliofile": "biblio.bib",
   "cite_by": "apalike",
   "current_citInitial": 1,
   "eqLabelWithNumbers": true,
   "eqNumInitial": 1,
   "hotkeys": {
    "equation": "Ctrl-E",
    "itemize": "Ctrl-I"
   },
   "labels_anchors": false,
   "latex_user_defs": false,
   "report_style_numbering": false,
   "user_envs_cfg": false
  }
 },
 "nbformat": 4,
 "nbformat_minor": 1
}
