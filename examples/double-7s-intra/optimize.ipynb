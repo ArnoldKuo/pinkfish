{
 "cells": [
  {
   "cell_type": "markdown",
   "metadata": {},
   "source": [
    "#Double 7's Intra (Short Term Trading Strategies that Work)\n",
    "\n",
    "    1. The SPY is above its 200-day moving average\n",
    "    2. The SPY makes an intraday X-day low, buy.\n",
    "    3. If the SPY makes an intraday X-day high, sell your long position.\n",
    "    \n",
    "    (optimize the number of days)"
   ]
  },
  {
   "cell_type": "code",
   "execution_count": 1,
   "metadata": {},
   "outputs": [],
   "source": [
    "%matplotlib inline"
   ]
  },
  {
   "cell_type": "markdown",
   "metadata": {},
   "source": [
    "Use future imports for python 3.0 forward compatibility"
   ]
  },
  {
   "cell_type": "code",
   "execution_count": 2,
   "metadata": {},
   "outputs": [],
   "source": [
    "from __future__ import print_function\n",
    "from __future__ import unicode_literals\n",
    "from __future__ import division\n",
    "from __future__ import absolute_import"
   ]
  },
  {
   "cell_type": "markdown",
   "metadata": {},
   "source": [
    "Other imports"
   ]
  },
  {
   "cell_type": "code",
   "execution_count": 3,
   "metadata": {},
   "outputs": [],
   "source": [
    "import pandas as pd\n",
    "import numpy as np\n",
    "import matplotlib\n",
    "import matplotlib.pyplot as plt\n",
    "import datetime\n",
    "from talib.abstract import *\n",
    "import pinkfish as pf\n",
    "import strategy\n",
    "\n",
    "# format price data\n",
    "pd.options.display.float_format = '{:0.2f}'.format\n",
    "\n",
    "# set size of inline plots\n",
    "matplotlib.rcParams['figure.figsize'] = [14, 10]"
   ]
  },
  {
   "cell_type": "markdown",
   "metadata": {},
   "source": [
    "Some global data"
   ]
  },
  {
   "cell_type": "code",
   "execution_count": 4,
   "metadata": {},
   "outputs": [],
   "source": [
    "#symbol = '^GSPC'\n",
    "symbol = 'SPY'\n",
    "#symbol = 'DIA'\n",
    "#symbol = 'QQQ'\n",
    "#symbol = 'IWM'\n",
    "#symbol = 'TLT'\n",
    "#symbol = 'GLD'\n",
    "#symbol = 'AAPL'\n",
    "#symbol = 'BBRY'\n",
    "#symbol = 'GDX'\n",
    "capital = 100000\n",
    "start = datetime.datetime(1900, 1, 1)\n",
    "#end = datetime.datetime(1970, 12, 1)\n",
    "#start = datetime.datetime(2015, 1, 1)\n",
    "end = datetime.datetime.now()"
   ]
  },
  {
   "cell_type": "markdown",
   "metadata": {},
   "source": [
    "Define high low trade periods"
   ]
  },
  {
   "cell_type": "code",
   "execution_count": 5,
   "metadata": {},
   "outputs": [],
   "source": [
    "periods = range(3, 16)\n",
    "periods = [str(period) for period in periods]"
   ]
  },
  {
   "cell_type": "markdown",
   "metadata": {},
   "source": [
    "Run Strategy"
   ]
  },
  {
   "cell_type": "code",
   "execution_count": 6,
   "metadata": {},
   "outputs": [
    {
     "name": "stdout",
     "output_type": "stream",
     "text": [
      "3 4 5 6 7 8 9 10 11 12 13 14 15 "
     ]
    }
   ],
   "source": [
    "strategies = pd.Series()\n",
    "for period in periods:\n",
    "    print(\"{0}\".format(period), end=\" \")\n",
    "    strategies[period] = strategy.Strategy(symbol, capital, start, end, int(period))\n",
    "    strategies[period].run()\n",
    "    strategies[period].tlog, strategies[period].dbal = strategies[period].get_logs()\n",
    "    strategies[period].stats = strategies[period].stats()"
   ]
  },
  {
   "cell_type": "markdown",
   "metadata": {},
   "source": [
    "Summarize results"
   ]
  },
  {
   "cell_type": "code",
   "execution_count": 7,
   "metadata": {
    "scrolled": false
   },
   "outputs": [
    {
     "data": {
      "text/html": [
       "<div>\n",
       "<style scoped>\n",
       "    .dataframe tbody tr th:only-of-type {\n",
       "        vertical-align: middle;\n",
       "    }\n",
       "\n",
       "    .dataframe tbody tr th {\n",
       "        vertical-align: top;\n",
       "    }\n",
       "\n",
       "    .dataframe thead th {\n",
       "        text-align: right;\n",
       "    }\n",
       "</style>\n",
       "<table border=\"1\" class=\"dataframe\">\n",
       "  <thead>\n",
       "    <tr style=\"text-align: right;\">\n",
       "      <th></th>\n",
       "      <th>3</th>\n",
       "      <th>4</th>\n",
       "      <th>5</th>\n",
       "      <th>6</th>\n",
       "      <th>7</th>\n",
       "      <th>8</th>\n",
       "      <th>9</th>\n",
       "      <th>10</th>\n",
       "      <th>11</th>\n",
       "      <th>12</th>\n",
       "      <th>13</th>\n",
       "      <th>14</th>\n",
       "      <th>15</th>\n",
       "    </tr>\n",
       "  </thead>\n",
       "  <tbody>\n",
       "    <tr>\n",
       "      <th>annual_return_rate</th>\n",
       "      <td>5.82</td>\n",
       "      <td>5.44</td>\n",
       "      <td>7.92</td>\n",
       "      <td>7.41</td>\n",
       "      <td>8.39</td>\n",
       "      <td>8.02</td>\n",
       "      <td>7.15</td>\n",
       "      <td>7.07</td>\n",
       "      <td>7.14</td>\n",
       "      <td>6.90</td>\n",
       "      <td>6.99</td>\n",
       "      <td>6.47</td>\n",
       "      <td>6.46</td>\n",
       "    </tr>\n",
       "    <tr>\n",
       "      <th>max_closed_out_drawdown</th>\n",
       "      <td>-24.60</td>\n",
       "      <td>-22.09</td>\n",
       "      <td>-17.80</td>\n",
       "      <td>-19.50</td>\n",
       "      <td>-16.02</td>\n",
       "      <td>-15.67</td>\n",
       "      <td>-18.60</td>\n",
       "      <td>-17.83</td>\n",
       "      <td>-19.21</td>\n",
       "      <td>-17.35</td>\n",
       "      <td>-17.36</td>\n",
       "      <td>-18.45</td>\n",
       "      <td>-17.99</td>\n",
       "    </tr>\n",
       "    <tr>\n",
       "      <th>drawdown_annualized_return</th>\n",
       "      <td>-4.23</td>\n",
       "      <td>-4.06</td>\n",
       "      <td>-2.25</td>\n",
       "      <td>-2.63</td>\n",
       "      <td>-1.91</td>\n",
       "      <td>-1.95</td>\n",
       "      <td>-2.60</td>\n",
       "      <td>-2.52</td>\n",
       "      <td>-2.69</td>\n",
       "      <td>-2.51</td>\n",
       "      <td>-2.48</td>\n",
       "      <td>-2.85</td>\n",
       "      <td>-2.78</td>\n",
       "    </tr>\n",
       "    <tr>\n",
       "      <th>drawdown_recovery</th>\n",
       "      <td>-0.91</td>\n",
       "      <td>-0.97</td>\n",
       "      <td>-0.80</td>\n",
       "      <td>-1.28</td>\n",
       "      <td>-0.59</td>\n",
       "      <td>-0.43</td>\n",
       "      <td>-0.25</td>\n",
       "      <td>-0.25</td>\n",
       "      <td>-1.55</td>\n",
       "      <td>-0.24</td>\n",
       "      <td>-1.62</td>\n",
       "      <td>-1.62</td>\n",
       "      <td>-1.62</td>\n",
       "    </tr>\n",
       "    <tr>\n",
       "      <th>best_month</th>\n",
       "      <td>11.48</td>\n",
       "      <td>11.01</td>\n",
       "      <td>10.57</td>\n",
       "      <td>11.18</td>\n",
       "      <td>12.19</td>\n",
       "      <td>12.29</td>\n",
       "      <td>13.45</td>\n",
       "      <td>13.73</td>\n",
       "      <td>14.14</td>\n",
       "      <td>14.37</td>\n",
       "      <td>14.36</td>\n",
       "      <td>10.70</td>\n",
       "      <td>10.75</td>\n",
       "    </tr>\n",
       "    <tr>\n",
       "      <th>worst_month</th>\n",
       "      <td>-15.54</td>\n",
       "      <td>-14.98</td>\n",
       "      <td>-14.41</td>\n",
       "      <td>-14.41</td>\n",
       "      <td>-13.45</td>\n",
       "      <td>-14.20</td>\n",
       "      <td>-16.30</td>\n",
       "      <td>-16.30</td>\n",
       "      <td>-16.30</td>\n",
       "      <td>-16.30</td>\n",
       "      <td>-16.30</td>\n",
       "      <td>-14.49</td>\n",
       "      <td>-14.48</td>\n",
       "    </tr>\n",
       "    <tr>\n",
       "      <th>sharpe_ratio</th>\n",
       "      <td>0.52</td>\n",
       "      <td>0.50</td>\n",
       "      <td>0.70</td>\n",
       "      <td>0.66</td>\n",
       "      <td>0.74</td>\n",
       "      <td>0.71</td>\n",
       "      <td>0.65</td>\n",
       "      <td>0.64</td>\n",
       "      <td>0.65</td>\n",
       "      <td>0.63</td>\n",
       "      <td>0.64</td>\n",
       "      <td>0.61</td>\n",
       "      <td>0.61</td>\n",
       "    </tr>\n",
       "    <tr>\n",
       "      <th>sortino_ratio</th>\n",
       "      <td>0.57</td>\n",
       "      <td>0.53</td>\n",
       "      <td>0.73</td>\n",
       "      <td>0.67</td>\n",
       "      <td>0.73</td>\n",
       "      <td>0.69</td>\n",
       "      <td>0.62</td>\n",
       "      <td>0.61</td>\n",
       "      <td>0.61</td>\n",
       "      <td>0.58</td>\n",
       "      <td>0.58</td>\n",
       "      <td>0.54</td>\n",
       "      <td>0.53</td>\n",
       "    </tr>\n",
       "    <tr>\n",
       "      <th>monthly_std</th>\n",
       "      <td>2.65</td>\n",
       "      <td>2.50</td>\n",
       "      <td>2.47</td>\n",
       "      <td>2.42</td>\n",
       "      <td>2.43</td>\n",
       "      <td>2.43</td>\n",
       "      <td>2.52</td>\n",
       "      <td>2.56</td>\n",
       "      <td>2.57</td>\n",
       "      <td>2.59</td>\n",
       "      <td>2.52</td>\n",
       "      <td>2.43</td>\n",
       "      <td>2.45</td>\n",
       "    </tr>\n",
       "    <tr>\n",
       "      <th>pct_time_in_market</th>\n",
       "      <td>60.36</td>\n",
       "      <td>55.49</td>\n",
       "      <td>52.89</td>\n",
       "      <td>50.35</td>\n",
       "      <td>48.67</td>\n",
       "      <td>47.27</td>\n",
       "      <td>46.11</td>\n",
       "      <td>45.24</td>\n",
       "      <td>44.46</td>\n",
       "      <td>43.61</td>\n",
       "      <td>41.50</td>\n",
       "      <td>40.09</td>\n",
       "      <td>38.76</td>\n",
       "    </tr>\n",
       "    <tr>\n",
       "      <th>total_num_trades</th>\n",
       "      <td>817.00</td>\n",
       "      <td>618.00</td>\n",
       "      <td>529.00</td>\n",
       "      <td>431.00</td>\n",
       "      <td>372.00</td>\n",
       "      <td>314.00</td>\n",
       "      <td>269.00</td>\n",
       "      <td>242.00</td>\n",
       "      <td>221.00</td>\n",
       "      <td>203.00</td>\n",
       "      <td>183.00</td>\n",
       "      <td>166.00</td>\n",
       "      <td>154.00</td>\n",
       "    </tr>\n",
       "    <tr>\n",
       "      <th>pct_profitable_trades</th>\n",
       "      <td>73.44</td>\n",
       "      <td>74.43</td>\n",
       "      <td>77.69</td>\n",
       "      <td>76.80</td>\n",
       "      <td>78.76</td>\n",
       "      <td>79.30</td>\n",
       "      <td>79.55</td>\n",
       "      <td>78.10</td>\n",
       "      <td>76.92</td>\n",
       "      <td>76.35</td>\n",
       "      <td>77.60</td>\n",
       "      <td>75.90</td>\n",
       "      <td>75.32</td>\n",
       "    </tr>\n",
       "    <tr>\n",
       "      <th>avg_points</th>\n",
       "      <td>0.19</td>\n",
       "      <td>0.25</td>\n",
       "      <td>0.47</td>\n",
       "      <td>0.52</td>\n",
       "      <td>0.69</td>\n",
       "      <td>0.79</td>\n",
       "      <td>0.85</td>\n",
       "      <td>0.92</td>\n",
       "      <td>1.04</td>\n",
       "      <td>1.11</td>\n",
       "      <td>1.28</td>\n",
       "      <td>1.32</td>\n",
       "      <td>1.42</td>\n",
       "    </tr>\n",
       "  </tbody>\n",
       "</table>\n",
       "</div>"
      ],
      "text/plain": [
       "                                3      4      5      6      7      8      9  \\\n",
       "annual_return_rate           5.82   5.44   7.92   7.41   8.39   8.02   7.15   \n",
       "max_closed_out_drawdown    -24.60 -22.09 -17.80 -19.50 -16.02 -15.67 -18.60   \n",
       "drawdown_annualized_return  -4.23  -4.06  -2.25  -2.63  -1.91  -1.95  -2.60   \n",
       "drawdown_recovery           -0.91  -0.97  -0.80  -1.28  -0.59  -0.43  -0.25   \n",
       "best_month                  11.48  11.01  10.57  11.18  12.19  12.29  13.45   \n",
       "worst_month                -15.54 -14.98 -14.41 -14.41 -13.45 -14.20 -16.30   \n",
       "sharpe_ratio                 0.52   0.50   0.70   0.66   0.74   0.71   0.65   \n",
       "sortino_ratio                0.57   0.53   0.73   0.67   0.73   0.69   0.62   \n",
       "monthly_std                  2.65   2.50   2.47   2.42   2.43   2.43   2.52   \n",
       "pct_time_in_market          60.36  55.49  52.89  50.35  48.67  47.27  46.11   \n",
       "total_num_trades           817.00 618.00 529.00 431.00 372.00 314.00 269.00   \n",
       "pct_profitable_trades       73.44  74.43  77.69  76.80  78.76  79.30  79.55   \n",
       "avg_points                   0.19   0.25   0.47   0.52   0.69   0.79   0.85   \n",
       "\n",
       "                               10     11     12     13     14     15  \n",
       "annual_return_rate           7.07   7.14   6.90   6.99   6.47   6.46  \n",
       "max_closed_out_drawdown    -17.83 -19.21 -17.35 -17.36 -18.45 -17.99  \n",
       "drawdown_annualized_return  -2.52  -2.69  -2.51  -2.48  -2.85  -2.78  \n",
       "drawdown_recovery           -0.25  -1.55  -0.24  -1.62  -1.62  -1.62  \n",
       "best_month                  13.73  14.14  14.37  14.36  10.70  10.75  \n",
       "worst_month                -16.30 -16.30 -16.30 -16.30 -14.49 -14.48  \n",
       "sharpe_ratio                 0.64   0.65   0.63   0.64   0.61   0.61  \n",
       "sortino_ratio                0.61   0.61   0.58   0.58   0.54   0.53  \n",
       "monthly_std                  2.56   2.57   2.59   2.52   2.43   2.45  \n",
       "pct_time_in_market          45.24  44.46  43.61  41.50  40.09  38.76  \n",
       "total_num_trades           242.00 221.00 203.00 183.00 166.00 154.00  \n",
       "pct_profitable_trades       78.10  76.92  76.35  77.60  75.90  75.32  \n",
       "avg_points                   0.92   1.04   1.11   1.28   1.32   1.42  "
      ]
     },
     "execution_count": 7,
     "metadata": {},
     "output_type": "execute_result"
    }
   ],
   "source": [
    "metrics = ('annual_return_rate',\n",
    "           'max_closed_out_drawdown',\n",
    "           'drawdown_annualized_return',\n",
    "           'drawdown_recovery',\n",
    "           'best_month',\n",
    "           'worst_month',\n",
    "           'sharpe_ratio',\n",
    "           'sortino_ratio',\n",
    "           'monthly_std',\n",
    "           'pct_time_in_market',\n",
    "           'total_num_trades',\n",
    "           'pct_profitable_trades',\n",
    "           'avg_points')\n",
    "\n",
    "df = strategy.summary(strategies, *metrics)\n",
    "df"
   ]
  },
  {
   "cell_type": "markdown",
   "metadata": {},
   "source": [
    "Bar graphs"
   ]
  },
  {
   "cell_type": "code",
   "execution_count": 8,
   "metadata": {},
   "outputs": [
    {
     "data": {
      "image/png": "[encoded data removed]",
      "text/plain": [
       "<Figure size 1008x720 with 1 Axes>"
      ]
     },
     "metadata": {
      "needs_background": "light"
     },
     "output_type": "display_data"
    },
    {
     "data": {
      "image/png": "[encoded data removed]",
      "text/plain": [
       "<Figure size 1008x720 with 1 Axes>"
      ]
     },
     "metadata": {
      "needs_background": "light"
     },
     "output_type": "display_data"
    },
    {
     "data": {
      "image/png": "[encoded data removed]",
      "text/plain": [
       "<Figure size 1008x720 with 1 Axes>"
      ]
     },
     "metadata": {
      "needs_background": "light"
     },
     "output_type": "display_data"
    }
   ],
   "source": [
    "strategy.plot_bar_graph(df, 'annual_return_rate')\n",
    "strategy.plot_bar_graph(df, 'sharpe_ratio')\n",
    "strategy.plot_bar_graph(df, 'max_closed_out_drawdown')"
   ]
  },
  {
   "cell_type": "markdown",
   "metadata": {},
   "source": [
    "Run Benchmark"
   ]
  },
  {
   "cell_type": "code",
   "execution_count": 9,
   "metadata": {},
   "outputs": [
    {
     "name": "stdout",
     "output_type": "stream",
     "text": [
      "1993-11-12 00:00:00 BUY  3451 SPY @ 28.98\n",
      "2019-05-15 00:00:00 SELL 3451 SPY @ 285.06\n"
     ]
    }
   ],
   "source": [
    "s = strategies[periods[0]]\n",
    "benchmark = pf.Benchmark(symbol, capital, s._start, s._end)\n",
    "benchmark.run()\n",
    "benchmark.tlog, benchmark.dbal = benchmark.get_logs()\n",
    "benchmark.stats = benchmark.stats()"
   ]
  },
  {
   "cell_type": "markdown",
   "metadata": {},
   "source": [
    "Equity curve"
   ]
  },
  {
   "cell_type": "code",
   "execution_count": 10,
   "metadata": {},
   "outputs": [
    {
     "data": {
      "image/png": "[encoded data removed]",
      "text/plain": [
       "<Figure size 1008x720 with 1 Axes>"
      ]
     },
     "metadata": {
      "needs_background": "light"
     },
     "output_type": "display_data"
    }
   ],
   "source": [
    "pf.plot_equity_curve(strategies['7'].dbal, benchmark=benchmark.dbal)"
   ]
  }
 ],
 "metadata": {
  "kernelspec": {
   "display_name": "Python 2",
   "language": "python",
   "name": "python2"
  },
  "language_info": {
   "codemirror_mode": {
    "name": "ipython",
    "version": 2
   },
   "file_extension": ".py",
   "mimetype": "text/x-python",
   "name": "python",
   "nbconvert_exporter": "python",
   "pygments_lexer": "ipython2",
   "version": "2.7.15rc1"
  }
 },
 "nbformat": 4,
 "nbformat_minor": 1
}
