{
 "cells": [
  {
   "cell_type": "markdown",
   "metadata": {},
   "source": [
    "# Double 7's Intra (Short Term Trading Strategies that Work)\n",
    "\n",
    "    1. The SPY is above its 200-day moving average\n",
    "    2. The SPY makes an intraday X-day low, buy.\n",
    "    3. If the SPY makes an intraday X-day high, sell your long position.\n",
    "    \n",
    "    (optimize the number of days)"
   ]
  },
  {
   "cell_type": "code",
   "execution_count": 1,
   "metadata": {
    "ExecuteTime": {
     "end_time": "2019-12-24T08:07:45.921682Z",
     "start_time": "2019-12-24T08:07:44.844056Z"
    }
   },
   "outputs": [],
   "source": [
    "# use future imports for python 3.x forward compatibility\n",
    "from __future__ import print_function\n",
    "from __future__ import unicode_literals\n",
    "from __future__ import division\n",
    "from __future__ import absolute_import\n",
    "\n",
    "# other imports\n",
    "import pandas as pd\n",
    "import matplotlib.pyplot as plt\n",
    "import datetime\n",
    "from talib.abstract import *\n",
    "\n",
    "# project imports\n",
    "import pinkfish as pf\n",
    "import strategy\n",
    "\n",
    "# format price data\n",
    "pd.options.display.float_format = '{:0.2f}'.format\n",
    "\n",
    "%matplotlib inline"
   ]
  },
  {
   "cell_type": "code",
   "execution_count": 2,
   "metadata": {
    "ExecuteTime": {
     "end_time": "2019-12-24T08:07:45.937947Z",
     "start_time": "2019-12-24T08:07:45.931585Z"
    }
   },
   "outputs": [],
   "source": [
    "# set size of inline plots\n",
    "'''note: rcParams can't be in same cell as import matplotlib\n",
    "   or %matplotlib inline\n",
    "   \n",
    "   %matplotlib notebook: will lead to interactive plots embedded within\n",
    "   the notebook, you can zoom and resize the figure\n",
    "   \n",
    "   %matplotlib inline: only draw static images in the notebook\n",
    "'''\n",
    "plt.rcParams[\"figure.figsize\"] = (10, 7)"
   ]
  },
  {
   "cell_type": "markdown",
   "metadata": {},
   "source": [
    "Some global data"
   ]
  },
  {
   "cell_type": "code",
   "execution_count": 3,
   "metadata": {
    "ExecuteTime": {
     "end_time": "2019-12-24T08:07:45.950764Z",
     "start_time": "2019-12-24T08:07:45.942079Z"
    }
   },
   "outputs": [],
   "source": [
    "#symbol = '^GSPC'\n",
    "symbol = 'SPY'\n",
    "#symbol = 'DIA'\n",
    "#symbol = 'QQQ'\n",
    "#symbol = 'IWM'\n",
    "#symbol = 'TLT'\n",
    "#symbol = 'GLD'\n",
    "#symbol = 'AAPL'\n",
    "#symbol = 'BBRY'\n",
    "#symbol = 'GDX'\n",
    "capital = 10000\n",
    "start = datetime.datetime(1900, 1, 1)\n",
    "end = datetime.datetime.now()\n",
    "use_adj = False"
   ]
  },
  {
   "cell_type": "markdown",
   "metadata": {},
   "source": [
    "Define high low trade periods"
   ]
  },
  {
   "cell_type": "code",
   "execution_count": 4,
   "metadata": {
    "ExecuteTime": {
     "end_time": "2019-12-24T08:07:45.962089Z",
     "start_time": "2019-12-24T08:07:45.955974Z"
    }
   },
   "outputs": [],
   "source": [
    "periods = range(3, 16)\n",
    "periods = [str(period) for period in periods]"
   ]
  },
  {
   "cell_type": "markdown",
   "metadata": {},
   "source": [
    "Run Strategy"
   ]
  },
  {
   "cell_type": "code",
   "execution_count": 5,
   "metadata": {
    "ExecuteTime": {
     "end_time": "2019-12-24T08:08:04.031777Z",
     "start_time": "2019-12-24T08:07:45.966209Z"
    },
    "scrolled": true
   },
   "outputs": [
    {
     "name": "stdout",
     "output_type": "stream",
     "text": [
      "3 4 5 6 7 8 9 10 11 12 13 14 15 "
     ]
    }
   ],
   "source": [
    "strategies = pd.Series()\n",
    "for period in periods:\n",
    "    print(\"{0}\".format(period), end=\" \")\n",
    "    strategies[period] = strategy.Strategy(symbol, capital, start, end, use_adj, int(period))\n",
    "    strategies[period].run()\n",
    "    strategies[period].tlog, strategies[period].dbal = strategies[period].get_logs()\n",
    "    strategies[period].stats = strategies[period].get_stats()"
   ]
  },
  {
   "cell_type": "markdown",
   "metadata": {},
   "source": [
    "Summarize results"
   ]
  },
  {
   "cell_type": "code",
   "execution_count": 6,
   "metadata": {
    "ExecuteTime": {
     "end_time": "2019-12-24T08:08:04.094655Z",
     "start_time": "2019-12-24T08:08:04.041599Z"
    },
    "scrolled": false
   },
   "outputs": [
    {
     "data": {
      "text/html": [
       "<div>\n",
       "<style scoped>\n",
       "    .dataframe tbody tr th:only-of-type {\n",
       "        vertical-align: middle;\n",
       "    }\n",
       "\n",
       "    .dataframe tbody tr th {\n",
       "        vertical-align: top;\n",
       "    }\n",
       "\n",
       "    .dataframe thead th {\n",
       "        text-align: right;\n",
       "    }\n",
       "</style>\n",
       "<table border=\"1\" class=\"dataframe\">\n",
       "  <thead>\n",
       "    <tr style=\"text-align: right;\">\n",
       "      <th></th>\n",
       "      <th>3</th>\n",
       "      <th>4</th>\n",
       "      <th>5</th>\n",
       "      <th>6</th>\n",
       "      <th>7</th>\n",
       "      <th>8</th>\n",
       "      <th>9</th>\n",
       "      <th>10</th>\n",
       "      <th>11</th>\n",
       "      <th>12</th>\n",
       "      <th>13</th>\n",
       "      <th>14</th>\n",
       "      <th>15</th>\n",
       "    </tr>\n",
       "  </thead>\n",
       "  <tbody>\n",
       "    <tr>\n",
       "      <th>annual_return_rate</th>\n",
       "      <td>6.08</td>\n",
       "      <td>5.82</td>\n",
       "      <td>8.10</td>\n",
       "      <td>7.52</td>\n",
       "      <td>8.39</td>\n",
       "      <td>7.95</td>\n",
       "      <td>7.04</td>\n",
       "      <td>6.99</td>\n",
       "      <td>7.08</td>\n",
       "      <td>6.85</td>\n",
       "      <td>6.89</td>\n",
       "      <td>6.43</td>\n",
       "      <td>6.41</td>\n",
       "    </tr>\n",
       "    <tr>\n",
       "      <th>max_closed_out_drawdown</th>\n",
       "      <td>-24.02</td>\n",
       "      <td>-21.59</td>\n",
       "      <td>-17.75</td>\n",
       "      <td>-19.47</td>\n",
       "      <td>-15.99</td>\n",
       "      <td>-15.65</td>\n",
       "      <td>-18.59</td>\n",
       "      <td>-17.82</td>\n",
       "      <td>-19.19</td>\n",
       "      <td>-17.35</td>\n",
       "      <td>-17.13</td>\n",
       "      <td>-18.31</td>\n",
       "      <td>-17.88</td>\n",
       "    </tr>\n",
       "    <tr>\n",
       "      <th>drawdown_annualized_return</th>\n",
       "      <td>-3.95</td>\n",
       "      <td>-3.71</td>\n",
       "      <td>-2.19</td>\n",
       "      <td>-2.59</td>\n",
       "      <td>-1.91</td>\n",
       "      <td>-1.97</td>\n",
       "      <td>-2.64</td>\n",
       "      <td>-2.55</td>\n",
       "      <td>-2.71</td>\n",
       "      <td>-2.53</td>\n",
       "      <td>-2.49</td>\n",
       "      <td>-2.85</td>\n",
       "      <td>-2.79</td>\n",
       "    </tr>\n",
       "    <tr>\n",
       "      <th>drawdown_recovery</th>\n",
       "      <td>-0.91</td>\n",
       "      <td>-0.97</td>\n",
       "      <td>-0.80</td>\n",
       "      <td>-1.28</td>\n",
       "      <td>-0.65</td>\n",
       "      <td>-0.43</td>\n",
       "      <td>-0.25</td>\n",
       "      <td>-0.25</td>\n",
       "      <td>-1.55</td>\n",
       "      <td>-0.24</td>\n",
       "      <td>-1.62</td>\n",
       "      <td>-1.62</td>\n",
       "      <td>-1.62</td>\n",
       "    </tr>\n",
       "    <tr>\n",
       "      <th>best_month</th>\n",
       "      <td>11.44</td>\n",
       "      <td>10.40</td>\n",
       "      <td>10.55</td>\n",
       "      <td>11.12</td>\n",
       "      <td>12.15</td>\n",
       "      <td>12.26</td>\n",
       "      <td>13.40</td>\n",
       "      <td>13.70</td>\n",
       "      <td>14.09</td>\n",
       "      <td>14.32</td>\n",
       "      <td>14.31</td>\n",
       "      <td>10.69</td>\n",
       "      <td>10.69</td>\n",
       "    </tr>\n",
       "    <tr>\n",
       "      <th>worst_month</th>\n",
       "      <td>-15.52</td>\n",
       "      <td>-14.96</td>\n",
       "      <td>-14.37</td>\n",
       "      <td>-14.39</td>\n",
       "      <td>-13.43</td>\n",
       "      <td>-14.18</td>\n",
       "      <td>-16.29</td>\n",
       "      <td>-16.29</td>\n",
       "      <td>-16.28</td>\n",
       "      <td>-16.30</td>\n",
       "      <td>-16.29</td>\n",
       "      <td>-14.43</td>\n",
       "      <td>-14.45</td>\n",
       "    </tr>\n",
       "    <tr>\n",
       "      <th>sharpe_ratio</th>\n",
       "      <td>0.58</td>\n",
       "      <td>0.57</td>\n",
       "      <td>0.76</td>\n",
       "      <td>0.70</td>\n",
       "      <td>0.78</td>\n",
       "      <td>0.73</td>\n",
       "      <td>0.66</td>\n",
       "      <td>0.65</td>\n",
       "      <td>0.66</td>\n",
       "      <td>0.64</td>\n",
       "      <td>0.65</td>\n",
       "      <td>0.62</td>\n",
       "      <td>0.62</td>\n",
       "    </tr>\n",
       "    <tr>\n",
       "      <th>sortino_ratio</th>\n",
       "      <td>0.54</td>\n",
       "      <td>0.53</td>\n",
       "      <td>0.70</td>\n",
       "      <td>0.64</td>\n",
       "      <td>0.69</td>\n",
       "      <td>0.65</td>\n",
       "      <td>0.59</td>\n",
       "      <td>0.58</td>\n",
       "      <td>0.58</td>\n",
       "      <td>0.56</td>\n",
       "      <td>0.56</td>\n",
       "      <td>0.52</td>\n",
       "      <td>0.51</td>\n",
       "    </tr>\n",
       "    <tr>\n",
       "      <th>monthly_std</th>\n",
       "      <td>2.62</td>\n",
       "      <td>2.48</td>\n",
       "      <td>2.45</td>\n",
       "      <td>2.41</td>\n",
       "      <td>2.40</td>\n",
       "      <td>2.41</td>\n",
       "      <td>2.50</td>\n",
       "      <td>2.54</td>\n",
       "      <td>2.54</td>\n",
       "      <td>2.56</td>\n",
       "      <td>2.50</td>\n",
       "      <td>2.41</td>\n",
       "      <td>2.43</td>\n",
       "    </tr>\n",
       "    <tr>\n",
       "      <th>pct_time_in_market</th>\n",
       "      <td>47.77</td>\n",
       "      <td>46.02</td>\n",
       "      <td>44.71</td>\n",
       "      <td>43.66</td>\n",
       "      <td>42.89</td>\n",
       "      <td>42.37</td>\n",
       "      <td>41.91</td>\n",
       "      <td>41.49</td>\n",
       "      <td>41.03</td>\n",
       "      <td>40.44</td>\n",
       "      <td>38.67</td>\n",
       "      <td>37.53</td>\n",
       "      <td>36.45</td>\n",
       "    </tr>\n",
       "    <tr>\n",
       "      <th>total_num_trades</th>\n",
       "      <td>841.00</td>\n",
       "      <td>639.00</td>\n",
       "      <td>544.00</td>\n",
       "      <td>440.00</td>\n",
       "      <td>379.00</td>\n",
       "      <td>319.00</td>\n",
       "      <td>273.00</td>\n",
       "      <td>246.00</td>\n",
       "      <td>225.00</td>\n",
       "      <td>207.00</td>\n",
       "      <td>186.00</td>\n",
       "      <td>169.00</td>\n",
       "      <td>157.00</td>\n",
       "    </tr>\n",
       "    <tr>\n",
       "      <th>pct_profitable_trades</th>\n",
       "      <td>73.60</td>\n",
       "      <td>74.80</td>\n",
       "      <td>77.76</td>\n",
       "      <td>76.82</td>\n",
       "      <td>78.36</td>\n",
       "      <td>78.68</td>\n",
       "      <td>79.12</td>\n",
       "      <td>77.64</td>\n",
       "      <td>76.44</td>\n",
       "      <td>75.85</td>\n",
       "      <td>76.88</td>\n",
       "      <td>75.15</td>\n",
       "      <td>75.16</td>\n",
       "    </tr>\n",
       "    <tr>\n",
       "      <th>avg_points</th>\n",
       "      <td>0.22</td>\n",
       "      <td>0.29</td>\n",
       "      <td>0.50</td>\n",
       "      <td>0.54</td>\n",
       "      <td>0.69</td>\n",
       "      <td>0.78</td>\n",
       "      <td>0.83</td>\n",
       "      <td>0.90</td>\n",
       "      <td>1.01</td>\n",
       "      <td>1.08</td>\n",
       "      <td>1.24</td>\n",
       "      <td>1.29</td>\n",
       "      <td>1.39</td>\n",
       "    </tr>\n",
       "  </tbody>\n",
       "</table>\n",
       "</div>"
      ],
      "text/plain": [
       "                                3      4      5      6      7      8      9  \\\n",
       "annual_return_rate           6.08   5.82   8.10   7.52   8.39   7.95   7.04   \n",
       "max_closed_out_drawdown    -24.02 -21.59 -17.75 -19.47 -15.99 -15.65 -18.59   \n",
       "drawdown_annualized_return  -3.95  -3.71  -2.19  -2.59  -1.91  -1.97  -2.64   \n",
       "drawdown_recovery           -0.91  -0.97  -0.80  -1.28  -0.65  -0.43  -0.25   \n",
       "best_month                  11.44  10.40  10.55  11.12  12.15  12.26  13.40   \n",
       "worst_month                -15.52 -14.96 -14.37 -14.39 -13.43 -14.18 -16.29   \n",
       "sharpe_ratio                 0.58   0.57   0.76   0.70   0.78   0.73   0.66   \n",
       "sortino_ratio                0.54   0.53   0.70   0.64   0.69   0.65   0.59   \n",
       "monthly_std                  2.62   2.48   2.45   2.41   2.40   2.41   2.50   \n",
       "pct_time_in_market          47.77  46.02  44.71  43.66  42.89  42.37  41.91   \n",
       "total_num_trades           841.00 639.00 544.00 440.00 379.00 319.00 273.00   \n",
       "pct_profitable_trades       73.60  74.80  77.76  76.82  78.36  78.68  79.12   \n",
       "avg_points                   0.22   0.29   0.50   0.54   0.69   0.78   0.83   \n",
       "\n",
       "                               10     11     12     13     14     15  \n",
       "annual_return_rate           6.99   7.08   6.85   6.89   6.43   6.41  \n",
       "max_closed_out_drawdown    -17.82 -19.19 -17.35 -17.13 -18.31 -17.88  \n",
       "drawdown_annualized_return  -2.55  -2.71  -2.53  -2.49  -2.85  -2.79  \n",
       "drawdown_recovery           -0.25  -1.55  -0.24  -1.62  -1.62  -1.62  \n",
       "best_month                  13.70  14.09  14.32  14.31  10.69  10.69  \n",
       "worst_month                -16.29 -16.28 -16.30 -16.29 -14.43 -14.45  \n",
       "sharpe_ratio                 0.65   0.66   0.64   0.65   0.62   0.62  \n",
       "sortino_ratio                0.58   0.58   0.56   0.56   0.52   0.51  \n",
       "monthly_std                  2.54   2.54   2.56   2.50   2.41   2.43  \n",
       "pct_time_in_market          41.49  41.03  40.44  38.67  37.53  36.45  \n",
       "total_num_trades           246.00 225.00 207.00 186.00 169.00 157.00  \n",
       "pct_profitable_trades       77.64  76.44  75.85  76.88  75.15  75.16  \n",
       "avg_points                   0.90   1.01   1.08   1.24   1.29   1.39  "
      ]
     },
     "execution_count": 6,
     "metadata": {},
     "output_type": "execute_result"
    }
   ],
   "source": [
    "metrics = ('annual_return_rate',\n",
    "           'max_closed_out_drawdown',\n",
    "           'drawdown_annualized_return',\n",
    "           'drawdown_recovery',\n",
    "           'best_month',\n",
    "           'worst_month',\n",
    "           'sharpe_ratio',\n",
    "           'sortino_ratio',\n",
    "           'monthly_std',\n",
    "           'pct_time_in_market',\n",
    "           'total_num_trades',\n",
    "           'pct_profitable_trades',\n",
    "           'avg_points')\n",
    "\n",
    "df = strategy.summary(strategies, *metrics)\n",
    "df"
   ]
  },
  {
   "cell_type": "markdown",
   "metadata": {},
   "source": [
    "Bar graphs"
   ]
  },
  {
   "cell_type": "code",
   "execution_count": 7,
   "metadata": {
    "ExecuteTime": {
     "end_time": "2019-12-24T08:08:04.882713Z",
     "start_time": "2019-12-24T08:08:04.098753Z"
    }
   },
   "outputs": [
    {
     "data": {
      "image/png": "[encoded data removed]",
      "text/plain": [
       "<Figure size 720x504 with 1 Axes>"
      ]
     },
     "metadata": {
      "needs_background": "light"
     },
     "output_type": "display_data"
    },
    {
     "data": {
      "image/png": "[encoded data removed]",
      "text/plain": [
       "<Figure size 720x504 with 1 Axes>"
      ]
     },
     "metadata": {
      "needs_background": "light"
     },
     "output_type": "display_data"
    },
    {
     "data": {
      "image/png": "[encoded data removed]",
      "text/plain": [
       "<Figure size 720x504 with 1 Axes>"
      ]
     },
     "metadata": {
      "needs_background": "light"
     },
     "output_type": "display_data"
    }
   ],
   "source": [
    "strategy.plot_bar_graph(df, 'annual_return_rate')\n",
    "strategy.plot_bar_graph(df, 'sharpe_ratio')\n",
    "strategy.plot_bar_graph(df, 'max_closed_out_drawdown')"
   ]
  },
  {
   "cell_type": "markdown",
   "metadata": {},
   "source": [
    "Run Benchmark"
   ]
  },
  {
   "cell_type": "code",
   "execution_count": 9,
   "metadata": {
    "ExecuteTime": {
     "end_time": "2019-12-24T08:09:16.157079Z",
     "start_time": "2019-12-24T08:09:15.423118Z"
    }
   },
   "outputs": [
    {
     "name": "stdout",
     "output_type": "stream",
     "text": [
      "1993-11-12 00:00:00 BUY  214 SPY @ 46.59\n",
      "2019-12-19 00:00:00 SELL 214 SPY @ 320.90\n"
     ]
    }
   ],
   "source": [
    "s = strategies[periods[0]]\n",
    "benchmark = pf.Benchmark(symbol, capital, s._start, s._end, s._use_adj)\n",
    "benchmark.run()\n",
    "benchmark.tlog, benchmark.dbal = benchmark.get_logs()\n",
    "benchmark.stats = benchmark.get_stats()"
   ]
  },
  {
   "cell_type": "markdown",
   "metadata": {},
   "source": [
    "Equity curve"
   ]
  },
  {
   "cell_type": "code",
   "execution_count": 10,
   "metadata": {
    "ExecuteTime": {
     "end_time": "2019-12-24T08:09:19.181964Z",
     "start_time": "2019-12-24T08:09:18.830735Z"
    }
   },
   "outputs": [
    {
     "data": {
      "image/png": "[encoded data removed]",
      "text/plain": [
       "<Figure size 720x504 with 1 Axes>"
      ]
     },
     "metadata": {
      "needs_background": "light"
     },
     "output_type": "display_data"
    }
   ],
   "source": [
    "pf.plot_equity_curve(strategies['7'].dbal, benchmark=benchmark.dbal)"
   ]
  }
 ],
 "metadata": {
  "kernelspec": {
   "display_name": "Python 2",
   "language": "python",
   "name": "python2"
  },
  "language_info": {
   "codemirror_mode": {
    "name": "ipython",
    "version": 2
   },
   "file_extension": ".py",
   "mimetype": "text/x-python",
   "name": "python",
   "nbconvert_exporter": "python",
   "pygments_lexer": "ipython2",
   "version": "2.7.15+"
  },
  "latex_envs": {
   "LaTeX_envs_menu_present": true,
   "autoclose": false,
   "autocomplete": true,
   "bibliofile": "biblio.bib",
   "cite_by": "apalike",
   "current_citInitial": 1,
   "eqLabelWithNumbers": true,
   "eqNumInitial": 1,
   "hotkeys": {
    "equation": "Ctrl-E",
    "itemize": "Ctrl-I"
   },
   "labels_anchors": false,
   "latex_user_defs": false,
   "report_style_numbering": false,
   "user_envs_cfg": false
  }
 },
 "nbformat": 4,
 "nbformat_minor": 1
}
