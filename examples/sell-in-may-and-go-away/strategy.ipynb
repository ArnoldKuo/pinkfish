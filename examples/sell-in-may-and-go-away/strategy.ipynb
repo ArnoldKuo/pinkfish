{
 "cells": [
  {
   "cell_type": "markdown",
   "metadata": {},
   "source": [
    "# sell-in-may-and-go-away\n",
    "\n",
    "see: https://en.wikipedia.org/wiki/Sell_in_May\n",
    "\n",
    "\"Sell in May and go away\" (aka the Halloween indicator) is an investment adage warning investors to divest their stock holdings in May and wait to reinvest in November."
   ]
  },
  {
   "cell_type": "code",
   "execution_count": 1,
   "metadata": {
    "ExecuteTime": {
     "end_time": "2019-12-24T17:02:05.329027Z",
     "start_time": "2019-12-24T17:02:04.365876Z"
    }
   },
   "outputs": [],
   "source": [
    "# use future imports for python 3.x forward compatibility\n",
    "from __future__ import print_function\n",
    "from __future__ import unicode_literals\n",
    "from __future__ import division\n",
    "from __future__ import absolute_import\n",
    "\n",
    "# other imports\n",
    "import pandas as pd\n",
    "import matplotlib.pyplot as plt\n",
    "import datetime\n",
    "from talib.abstract import *\n",
    "\n",
    "# project imports\n",
    "import pinkfish as pf\n",
    "\n",
    "# format price data\n",
    "pd.options.display.float_format = '{:0.2f}'.format\n",
    "\n",
    "%matplotlib inline"
   ]
  },
  {
   "cell_type": "code",
   "execution_count": 2,
   "metadata": {
    "ExecuteTime": {
     "end_time": "2019-12-24T17:02:05.345658Z",
     "start_time": "2019-12-24T17:02:05.338603Z"
    }
   },
   "outputs": [],
   "source": [
    "# set size of inline plots\n",
    "'''note: rcParams can't be in same cell as import matplotlib\n",
    "   or %matplotlib inline\n",
    "   \n",
    "   %matplotlib notebook: will lead to interactive plots embedded within\n",
    "   the notebook, you can zoom and resize the figure\n",
    "   \n",
    "   %matplotlib inline: only draw static images in the notebook\n",
    "'''\n",
    "plt.rcParams[\"figure.figsize\"] = (10, 7)"
   ]
  },
  {
   "cell_type": "code",
   "execution_count": 3,
   "metadata": {
    "ExecuteTime": {
     "end_time": "2019-12-24T17:02:05.368647Z",
     "start_time": "2019-12-24T17:02:05.360363Z"
    }
   },
   "outputs": [],
   "source": [
    "pf.DEBUG = False"
   ]
  },
  {
   "cell_type": "markdown",
   "metadata": {},
   "source": [
    "Some global data"
   ]
  },
  {
   "cell_type": "code",
   "execution_count": 4,
   "metadata": {
    "ExecuteTime": {
     "end_time": "2019-12-24T17:02:05.385367Z",
     "start_time": "2019-12-24T17:02:05.370739Z"
    }
   },
   "outputs": [],
   "source": [
    "symbol = '^GSPC'\n",
    "#symbol = 'SPY'\n",
    "capital = 10000\n",
    "start = datetime.datetime(1900, 1, 1)\n",
    "#start = datetime.datetime.strptime(pf.SP500_BEGIN, '%Y-%m-%d')\n",
    "end = datetime.datetime.now()"
   ]
  },
  {
   "cell_type": "markdown",
   "metadata": {},
   "source": [
    "Define Strategy Class"
   ]
  },
  {
   "cell_type": "code",
   "execution_count": 5,
   "metadata": {
    "ExecuteTime": {
     "end_time": "2019-12-24T17:02:05.479925Z",
     "start_time": "2019-12-24T17:02:05.392701Z"
    }
   },
   "outputs": [],
   "source": [
    "class Strategy(object):\n",
    "\n",
    "    def __init__(self, symbol, capital, start, end):\n",
    "        self._symbol = symbol\n",
    "        self._capital = capital\n",
    "        self._start = start\n",
    "        self._end = end\n",
    "\n",
    "    def _algo(self):\n",
    "        self._tlog.cash = self._capital\n",
    "        start_flag = True\n",
    "        end_flag = False\n",
    "\n",
    "        for i, row in enumerate(self._ts.itertuples()):\n",
    "\n",
    "            date = row.Index.to_pydatetime()\n",
    "            high = row.high\n",
    "            low = row.low\n",
    "            open_ = row.open\n",
    "            close = row.close\n",
    "            end_flag = True if (i == len(self._ts) - 1) else False\n",
    "            shares = 0\n",
    "\n",
    "            if date < self._start:\n",
    "                continue\n",
    "            elif start_flag:\n",
    "                start_flag = False\n",
    "                # set start and end\n",
    "                self._start = date\n",
    "                self._end = self._ts.index[-1]\n",
    "\n",
    "            # buy (at the open on first trading day in Nov)\n",
    "            if (self._tlog.num_open_trades() == 0\n",
    "                and row.month == 11 and row.first_dotm):\n",
    "                # enter buy in trade log\n",
    "                shares = self._tlog.enter_trade(date, open_)\n",
    "            # sell\n",
    "            elif (self._tlog.num_open_trades() > 0\n",
    "                  and row.month == 5 and row.first_dotm\n",
    "                  or end_flag):\n",
    "                # enter sell in trade log\n",
    "                shares = self._tlog.exit_trade(date, open_)\n",
    "\n",
    "            if shares > 0:\n",
    "                pf.DBG(\"{0} BUY  {1} {2} @ {3:.2f}\".format(\n",
    "                       date, shares, self._symbol, open_))\n",
    "            elif shares < 0:\n",
    "                pf.DBG(\"{0} SELL {1} {2} @ {3:.2f}\".format(\n",
    "                       date, -shares, self._symbol, open_))\n",
    "\n",
    "            # record daily balance\n",
    "            self._dbal.append(date, high, low, close,\n",
    "                              self._tlog.shares, self._tlog.cash)\n",
    "\n",
    "    def run(self):\n",
    "        self._ts = pf.fetch_timeseries(self._symbol)\n",
    "        self._ts = pf.select_tradeperiod(self._ts, self._start, self._end,\n",
    "                                         use_adj=True, pad=False)\n",
    "        # add calendar columns\n",
    "        self._ts = pf.calendar(self._ts)\n",
    "        \n",
    "        self._tlog = pf.TradeLog()\n",
    "        self._dbal = pf.DailyBal()\n",
    "\n",
    "        self._algo()\n",
    "\n",
    "    def get_logs(self):\n",
    "        \"\"\" return DataFrames \"\"\"\n",
    "        self.rlog = self._tlog.get_log_raw()\n",
    "        self.tlog = self._tlog.get_log()\n",
    "        self.dbal = self._dbal.get_log(self.tlog)\n",
    "        return self.rlog, self.tlog, self.dbal\n",
    "\n",
    "    def get_stats(self):\n",
    "        stats = pf.stats(self._ts, self.tlog, self.dbal,\n",
    "                         self._start, self._end, self._capital)\n",
    "        return stats"
   ]
  },
  {
   "cell_type": "markdown",
   "metadata": {},
   "source": [
    "Run Strategy"
   ]
  },
  {
   "cell_type": "code",
   "execution_count": 6,
   "metadata": {
    "ExecuteTime": {
     "end_time": "2019-12-24T17:02:06.862433Z",
     "start_time": "2019-12-24T17:02:05.490802Z"
    },
    "scrolled": false
   },
   "outputs": [],
   "source": [
    "s = Strategy(symbol, capital, start, end)\n",
    "s.run()"
   ]
  },
  {
   "cell_type": "markdown",
   "metadata": {},
   "source": [
    "Retrieve log DataFrames"
   ]
  },
  {
   "cell_type": "code",
   "execution_count": 7,
   "metadata": {
    "ExecuteTime": {
     "end_time": "2019-12-24T17:02:08.821894Z",
     "start_time": "2019-12-24T17:02:06.872496Z"
    }
   },
   "outputs": [],
   "source": [
    "rlog, tlog, dbal = s.get_logs()\n",
    "stats = s.get_stats()"
   ]
  },
  {
   "cell_type": "code",
   "execution_count": 8,
   "metadata": {
    "ExecuteTime": {
     "end_time": "2019-12-24T17:02:08.859523Z",
     "start_time": "2019-12-24T17:02:08.832425Z"
    }
   },
   "outputs": [
    {
     "data": {
      "text/html": [
       "<div>\n",
       "<style scoped>\n",
       "    .dataframe tbody tr th:only-of-type {\n",
       "        vertical-align: middle;\n",
       "    }\n",
       "\n",
       "    .dataframe tbody tr th {\n",
       "        vertical-align: top;\n",
       "    }\n",
       "\n",
       "    .dataframe thead th {\n",
       "        text-align: right;\n",
       "    }\n",
       "</style>\n",
       "<table border=\"1\" class=\"dataframe\">\n",
       "  <thead>\n",
       "    <tr style=\"text-align: right;\">\n",
       "      <th></th>\n",
       "      <th>date</th>\n",
       "      <th>price</th>\n",
       "      <th>shares</th>\n",
       "      <th>entry_exit</th>\n",
       "    </tr>\n",
       "  </thead>\n",
       "  <tbody>\n",
       "    <tr>\n",
       "      <th>179</th>\n",
       "      <td>2018-05-01</td>\n",
       "      <td>2642.96</td>\n",
       "      <td>158</td>\n",
       "      <td>exit</td>\n",
       "    </tr>\n",
       "    <tr>\n",
       "      <th>180</th>\n",
       "      <td>2018-11-01</td>\n",
       "      <td>2717.58</td>\n",
       "      <td>153</td>\n",
       "      <td>entry</td>\n",
       "    </tr>\n",
       "    <tr>\n",
       "      <th>181</th>\n",
       "      <td>2019-05-01</td>\n",
       "      <td>2952.33</td>\n",
       "      <td>153</td>\n",
       "      <td>exit</td>\n",
       "    </tr>\n",
       "    <tr>\n",
       "      <th>182</th>\n",
       "      <td>2019-11-01</td>\n",
       "      <td>3050.72</td>\n",
       "      <td>148</td>\n",
       "      <td>entry</td>\n",
       "    </tr>\n",
       "    <tr>\n",
       "      <th>183</th>\n",
       "      <td>2019-12-23</td>\n",
       "      <td>3226.05</td>\n",
       "      <td>148</td>\n",
       "      <td>exit</td>\n",
       "    </tr>\n",
       "  </tbody>\n",
       "</table>\n",
       "</div>"
      ],
      "text/plain": [
       "          date   price  shares entry_exit\n",
       "179 2018-05-01 2642.96     158       exit\n",
       "180 2018-11-01 2717.58     153      entry\n",
       "181 2019-05-01 2952.33     153       exit\n",
       "182 2019-11-01 3050.72     148      entry\n",
       "183 2019-12-23 3226.05     148       exit"
      ]
     },
     "execution_count": 8,
     "metadata": {},
     "output_type": "execute_result"
    }
   ],
   "source": [
    "rlog.tail()"
   ]
  },
  {
   "cell_type": "code",
   "execution_count": 9,
   "metadata": {
    "ExecuteTime": {
     "end_time": "2019-12-24T17:02:08.900420Z",
     "start_time": "2019-12-24T17:02:08.868465Z"
    },
    "scrolled": true
   },
   "outputs": [
    {
     "data": {
      "text/html": [
       "<div>\n",
       "<style scoped>\n",
       "    .dataframe tbody tr th:only-of-type {\n",
       "        vertical-align: middle;\n",
       "    }\n",
       "\n",
       "    .dataframe tbody tr th {\n",
       "        vertical-align: top;\n",
       "    }\n",
       "\n",
       "    .dataframe thead th {\n",
       "        text-align: right;\n",
       "    }\n",
       "</style>\n",
       "<table border=\"1\" class=\"dataframe\">\n",
       "  <thead>\n",
       "    <tr style=\"text-align: right;\">\n",
       "      <th></th>\n",
       "      <th>entry_date</th>\n",
       "      <th>entry_price</th>\n",
       "      <th>exit_date</th>\n",
       "      <th>exit_price</th>\n",
       "      <th>pl_points</th>\n",
       "      <th>pl_cash</th>\n",
       "      <th>qty</th>\n",
       "      <th>cumul_total</th>\n",
       "    </tr>\n",
       "  </thead>\n",
       "  <tbody>\n",
       "    <tr>\n",
       "      <th>87</th>\n",
       "      <td>2015-11-02</td>\n",
       "      <td>2080.76</td>\n",
       "      <td>2016-05-02</td>\n",
       "      <td>2067.17</td>\n",
       "      <td>-13.59</td>\n",
       "      <td>-2391.86</td>\n",
       "      <td>176</td>\n",
       "      <td>354635.54</td>\n",
       "    </tr>\n",
       "    <tr>\n",
       "      <th>88</th>\n",
       "      <td>2016-11-01</td>\n",
       "      <td>2128.68</td>\n",
       "      <td>2017-05-01</td>\n",
       "      <td>2388.50</td>\n",
       "      <td>259.82</td>\n",
       "      <td>44429.23</td>\n",
       "      <td>171</td>\n",
       "      <td>399064.77</td>\n",
       "    </tr>\n",
       "    <tr>\n",
       "      <th>89</th>\n",
       "      <td>2017-11-01</td>\n",
       "      <td>2583.21</td>\n",
       "      <td>2018-05-01</td>\n",
       "      <td>2642.96</td>\n",
       "      <td>59.75</td>\n",
       "      <td>9440.50</td>\n",
       "      <td>158</td>\n",
       "      <td>408505.27</td>\n",
       "    </tr>\n",
       "    <tr>\n",
       "      <th>90</th>\n",
       "      <td>2018-11-01</td>\n",
       "      <td>2717.58</td>\n",
       "      <td>2019-05-01</td>\n",
       "      <td>2952.33</td>\n",
       "      <td>234.75</td>\n",
       "      <td>35916.75</td>\n",
       "      <td>153</td>\n",
       "      <td>444422.02</td>\n",
       "    </tr>\n",
       "    <tr>\n",
       "      <th>91</th>\n",
       "      <td>2019-11-01</td>\n",
       "      <td>3050.72</td>\n",
       "      <td>2019-12-23</td>\n",
       "      <td>3226.05</td>\n",
       "      <td>175.33</td>\n",
       "      <td>25948.85</td>\n",
       "      <td>148</td>\n",
       "      <td>470370.87</td>\n",
       "    </tr>\n",
       "  </tbody>\n",
       "</table>\n",
       "</div>"
      ],
      "text/plain": [
       "   entry_date  entry_price  exit_date  exit_price  pl_points  pl_cash  qty  \\\n",
       "87 2015-11-02      2080.76 2016-05-02     2067.17     -13.59 -2391.86  176   \n",
       "88 2016-11-01      2128.68 2017-05-01     2388.50     259.82 44429.23  171   \n",
       "89 2017-11-01      2583.21 2018-05-01     2642.96      59.75  9440.50  158   \n",
       "90 2018-11-01      2717.58 2019-05-01     2952.33     234.75 35916.75  153   \n",
       "91 2019-11-01      3050.72 2019-12-23     3226.05     175.33 25948.85  148   \n",
       "\n",
       "    cumul_total  \n",
       "87    354635.54  \n",
       "88    399064.77  \n",
       "89    408505.27  \n",
       "90    444422.02  \n",
       "91    470370.87  "
      ]
     },
     "execution_count": 9,
     "metadata": {},
     "output_type": "execute_result"
    }
   ],
   "source": [
    "tlog.tail()"
   ]
  },
  {
   "cell_type": "code",
   "execution_count": 10,
   "metadata": {
    "ExecuteTime": {
     "end_time": "2019-12-24T17:02:08.938403Z",
     "start_time": "2019-12-24T17:02:08.908822Z"
    }
   },
   "outputs": [
    {
     "data": {
      "text/html": [
       "<div>\n",
       "<style scoped>\n",
       "    .dataframe tbody tr th:only-of-type {\n",
       "        vertical-align: middle;\n",
       "    }\n",
       "\n",
       "    .dataframe tbody tr th {\n",
       "        vertical-align: top;\n",
       "    }\n",
       "\n",
       "    .dataframe thead th {\n",
       "        text-align: right;\n",
       "    }\n",
       "</style>\n",
       "<table border=\"1\" class=\"dataframe\">\n",
       "  <thead>\n",
       "    <tr style=\"text-align: right;\">\n",
       "      <th></th>\n",
       "      <th>high</th>\n",
       "      <th>low</th>\n",
       "      <th>close</th>\n",
       "      <th>shares</th>\n",
       "      <th>cash</th>\n",
       "      <th>state</th>\n",
       "    </tr>\n",
       "    <tr>\n",
       "      <th>date</th>\n",
       "      <th></th>\n",
       "      <th></th>\n",
       "      <th></th>\n",
       "      <th></th>\n",
       "      <th></th>\n",
       "      <th></th>\n",
       "    </tr>\n",
       "  </thead>\n",
       "  <tbody>\n",
       "    <tr>\n",
       "      <th>2019-12-17</th>\n",
       "      <td>476252.02</td>\n",
       "      <td>475187.91</td>\n",
       "      <td>475408.43</td>\n",
       "      <td>148</td>\n",
       "      <td>2915.47</td>\n",
       "      <td>-</td>\n",
       "    </tr>\n",
       "    <tr>\n",
       "      <th>2019-12-18</th>\n",
       "      <td>476290.50</td>\n",
       "      <td>475204.17</td>\n",
       "      <td>475204.17</td>\n",
       "      <td>148</td>\n",
       "      <td>2915.47</td>\n",
       "      <td>-</td>\n",
       "    </tr>\n",
       "    <tr>\n",
       "      <th>2019-12-19</th>\n",
       "      <td>477326.50</td>\n",
       "      <td>475378.84</td>\n",
       "      <td>477310.24</td>\n",
       "      <td>148</td>\n",
       "      <td>2915.47</td>\n",
       "      <td>-</td>\n",
       "    </tr>\n",
       "    <tr>\n",
       "      <th>2019-12-20</th>\n",
       "      <td>480311.65</td>\n",
       "      <td>478887.91</td>\n",
       "      <td>479656.02</td>\n",
       "      <td>148</td>\n",
       "      <td>2915.47</td>\n",
       "      <td>-</td>\n",
       "    </tr>\n",
       "    <tr>\n",
       "      <th>2019-12-23</th>\n",
       "      <td>480370.87</td>\n",
       "      <td>480370.87</td>\n",
       "      <td>480370.87</td>\n",
       "      <td>0</td>\n",
       "      <td>480370.87</td>\n",
       "      <td>X</td>\n",
       "    </tr>\n",
       "  </tbody>\n",
       "</table>\n",
       "</div>"
      ],
      "text/plain": [
       "                high       low     close  shares      cash state\n",
       "date                                                            \n",
       "2019-12-17 476252.02 475187.91 475408.43     148   2915.47     -\n",
       "2019-12-18 476290.50 475204.17 475204.17     148   2915.47     -\n",
       "2019-12-19 477326.50 475378.84 477310.24     148   2915.47     -\n",
       "2019-12-20 480311.65 478887.91 479656.02     148   2915.47     -\n",
       "2019-12-23 480370.87 480370.87 480370.87       0 480370.87     X"
      ]
     },
     "execution_count": 10,
     "metadata": {},
     "output_type": "execute_result"
    }
   ],
   "source": [
    "dbal.tail()"
   ]
  },
  {
   "cell_type": "code",
   "execution_count": 11,
   "metadata": {
    "ExecuteTime": {
     "end_time": "2019-12-24T17:02:08.980472Z",
     "start_time": "2019-12-24T17:02:08.942414Z"
    }
   },
   "outputs": [
    {
     "name": "stdout",
     "output_type": "stream",
     "text": [
      "start                                                    1927-12-30\n",
      "end                                                      2019-12-23\n",
      "beginning_balance                                             10000\n",
      "ending_balance                                            480370.87\n",
      "total_net_profit                                          470370.87\n",
      "gross_profit                                              581278.12\n",
      "gross_loss                                               -110907.24\n",
      "profit_factor                                                  5.24\n",
      "return_on_initial_capital                                   4703.71\n",
      "annual_return_rate                                             4.30\n",
      "trading_period                           91 years 11 months 23 days\n",
      "pct_time_in_market                                            48.68\n",
      "total_num_trades                                                 92\n",
      "trades_per_year                                                1.00\n",
      "num_winning_trades                                               66\n",
      "num_losing_trades                                                26\n",
      "num_even_trades                                                   0\n",
      "pct_profitable_trades                                         71.74\n",
      "avg_profit_per_trade                                        5112.73\n",
      "avg_profit_per_winning_trade                                8807.24\n",
      "avg_loss_per_losing_trade                                  -4265.66\n",
      "ratio_avg_profit_win_loss                                      2.06\n",
      "largest_profit_winning_trade                               44429.23\n",
      "largest_loss_losing_trade                                 -26631.13\n",
      "num_winning_points                                          3132.79\n",
      "num_losing_points                                           -556.35\n",
      "total_net_points                                            2576.44\n",
      "avg_points                                                    28.00\n",
      "largest_points_winning_trade                                 259.82\n",
      "largest_points_losing_trade                                 -179.94\n",
      "avg_pct_gain_per_trade                                         5.11\n",
      "largest_pct_winning_trade                                     24.86\n",
      "largest_pct_losing_trade                                     -45.33\n",
      "max_consecutive_winning_trades                                    7\n",
      "max_consecutive_losing_trades                                     6\n",
      "avg_bars_winning_trades                                      122.82\n",
      "avg_bars_losing_trades                                       124.35\n",
      "max_closed_out_drawdown                                      -71.86\n",
      "max_closed_out_drawdown_start_date                       1930-04-10\n",
      "max_closed_out_drawdown_end_date                         1942-04-28\n",
      "max_closed_out_drawdown_recovery_date                    1959-12-01\n",
      "drawdown_recovery                                            -12.05\n",
      "drawdown_annualized_return                                   -16.71\n",
      "max_intra_day_drawdown                                       -71.86\n",
      "avg_yearly_closed_out_drawdown                               -10.45\n",
      "max_yearly_closed_out_drawdown                               -52.23\n",
      "avg_monthly_closed_out_drawdown                               -2.00\n",
      "max_monthly_closed_out_drawdown                              -28.75\n",
      "avg_weekly_closed_out_drawdown                                -0.75\n",
      "max_weekly_closed_out_drawdown                               -18.12\n",
      "avg_yearly_closed_out_runup                                   15.96\n",
      "max_yearly_closed_out_runup                                   97.53\n",
      "avg_monthly_closed_out_runup                                   2.41\n",
      "max_monthly_closed_out_runup                                  44.09\n",
      "avg_weekly_closed_out_runup                                    0.86\n",
      "max_weekly_closed_out_runup                                   23.14\n",
      "pct_profitable_years                                          70.78\n",
      "best_year                                                     83.17\n",
      "worst_year                                                   -49.45\n",
      "avg_year                                                       5.08\n",
      "annual_std                                                    12.59\n",
      "pct_profitable_months                                         34.14\n",
      "best_month                                                    44.09\n",
      "worst_month                                                  -28.75\n",
      "avg_month                                                      0.39\n",
      "monthly_std                                                    3.37\n",
      "pct_profitable_weeks                                          29.00\n",
      "best_week                                                     23.14\n",
      "worst_week                                                   -18.12\n",
      "avg_week                                                       0.10\n",
      "weekly_std                                                     1.72\n",
      "sharpe_ratio                                                   0.40\n",
      "sortino_ratio                                                  0.37\n",
      "dtype: object\n"
     ]
    }
   ],
   "source": [
    "pf.print_full(stats)"
   ]
  },
  {
   "cell_type": "markdown",
   "metadata": {},
   "source": [
    "Run Benchmark, Retrieve benchmark logs, and Generate benchmark stats"
   ]
  },
  {
   "cell_type": "code",
   "execution_count": 12,
   "metadata": {
    "ExecuteTime": {
     "end_time": "2019-12-24T17:02:10.965887Z",
     "start_time": "2019-12-24T17:02:08.989942Z"
    },
    "scrolled": true
   },
   "outputs": [
    {
     "name": "stdout",
     "output_type": "stream",
     "text": [
      "1927-12-30 00:00:00 BUY  566 ^GSPC @ 17.66\n",
      "2019-12-23 00:00:00 SELL 566 ^GSPC @ 3224.01\n"
     ]
    }
   ],
   "source": [
    "benchmark = pf.Benchmark(symbol, capital, s._start, s._end)\n",
    "benchmark.run()\n",
    "benchmark.tlog, benchmark.dbal = benchmark.get_logs()\n",
    "benchmark.stats = benchmark.get_stats()"
   ]
  },
  {
   "cell_type": "markdown",
   "metadata": {},
   "source": [
    "Plot Equity Curves: Strategy vs Benchmark"
   ]
  },
  {
   "cell_type": "code",
   "execution_count": 13,
   "metadata": {
    "ExecuteTime": {
     "end_time": "2019-12-24T17:02:11.340329Z",
     "start_time": "2019-12-24T17:02:10.976081Z"
    }
   },
   "outputs": [
    {
     "data": {
      "image/png": "[encoded data removed]",
      "text/plain": [
       "<Figure size 720x504 with 1 Axes>"
      ]
     },
     "metadata": {
      "needs_background": "light"
     },
     "output_type": "display_data"
    }
   ],
   "source": [
    "pf.plot_equity_curve(dbal, benchmark=benchmark.dbal)"
   ]
  },
  {
   "cell_type": "markdown",
   "metadata": {},
   "source": [
    "Plot Trades"
   ]
  },
  {
   "cell_type": "code",
   "execution_count": 14,
   "metadata": {
    "ExecuteTime": {
     "end_time": "2019-12-24T17:02:11.714642Z",
     "start_time": "2019-12-24T17:02:11.346430Z"
    }
   },
   "outputs": [
    {
     "data": {
      "image/png": "[encoded data removed]",
      "text/plain": [
       "<Figure size 720x504 with 1 Axes>"
      ]
     },
     "metadata": {
      "needs_background": "light"
     },
     "output_type": "display_data"
    }
   ],
   "source": [
    "pf.plot_trades(dbal, benchmark=benchmark.dbal)"
   ]
  },
  {
   "cell_type": "markdown",
   "metadata": {},
   "source": [
    "Bar Graph: Strategy vs Benchmark"
   ]
  },
  {
   "cell_type": "code",
   "execution_count": 15,
   "metadata": {
    "ExecuteTime": {
     "end_time": "2019-12-24T17:02:12.264303Z",
     "start_time": "2019-12-24T17:02:11.722988Z"
    }
   },
   "outputs": [
    {
     "data": {
      "text/html": [
       "<div>\n",
       "<style scoped>\n",
       "    .dataframe tbody tr th:only-of-type {\n",
       "        vertical-align: middle;\n",
       "    }\n",
       "\n",
       "    .dataframe tbody tr th {\n",
       "        vertical-align: top;\n",
       "    }\n",
       "\n",
       "    .dataframe thead th {\n",
       "        text-align: right;\n",
       "    }\n",
       "</style>\n",
       "<table border=\"1\" class=\"dataframe\">\n",
       "  <thead>\n",
       "    <tr style=\"text-align: right;\">\n",
       "      <th></th>\n",
       "      <th>strategy</th>\n",
       "      <th>benchmark</th>\n",
       "    </tr>\n",
       "  </thead>\n",
       "  <tbody>\n",
       "    <tr>\n",
       "      <th>annual_return_rate</th>\n",
       "      <td>4.30</td>\n",
       "      <td>5.82</td>\n",
       "    </tr>\n",
       "    <tr>\n",
       "      <th>max_closed_out_drawdown</th>\n",
       "      <td>-71.86</td>\n",
       "      <td>-86.17</td>\n",
       "    </tr>\n",
       "    <tr>\n",
       "      <th>drawdown_annualized_return</th>\n",
       "      <td>-16.71</td>\n",
       "      <td>-14.80</td>\n",
       "    </tr>\n",
       "    <tr>\n",
       "      <th>drawdown_recovery</th>\n",
       "      <td>-12.05</td>\n",
       "      <td>-2.71</td>\n",
       "    </tr>\n",
       "    <tr>\n",
       "      <th>best_month</th>\n",
       "      <td>44.09</td>\n",
       "      <td>61.42</td>\n",
       "    </tr>\n",
       "    <tr>\n",
       "      <th>worst_month</th>\n",
       "      <td>-28.75</td>\n",
       "      <td>-42.18</td>\n",
       "    </tr>\n",
       "    <tr>\n",
       "      <th>sharpe_ratio</th>\n",
       "      <td>0.40</td>\n",
       "      <td>0.40</td>\n",
       "    </tr>\n",
       "    <tr>\n",
       "      <th>sortino_ratio</th>\n",
       "      <td>0.37</td>\n",
       "      <td>0.50</td>\n",
       "    </tr>\n",
       "    <tr>\n",
       "      <th>monthly_std</th>\n",
       "      <td>3.37</td>\n",
       "      <td>5.30</td>\n",
       "    </tr>\n",
       "  </tbody>\n",
       "</table>\n",
       "</div>"
      ],
      "text/plain": [
       "                            strategy  benchmark\n",
       "annual_return_rate              4.30       5.82\n",
       "max_closed_out_drawdown       -71.86     -86.17\n",
       "drawdown_annualized_return    -16.71     -14.80\n",
       "drawdown_recovery             -12.05      -2.71\n",
       "best_month                     44.09      61.42\n",
       "worst_month                   -28.75     -42.18\n",
       "sharpe_ratio                    0.40       0.40\n",
       "sortino_ratio                   0.37       0.50\n",
       "monthly_std                     3.37       5.30"
      ]
     },
     "execution_count": 15,
     "metadata": {},
     "output_type": "execute_result"
    },
    {
     "data": {
      "image/png": "[encoded data removed]",
      "text/plain": [
       "<Figure size 720x504 with 1 Axes>"
      ]
     },
     "metadata": {
      "needs_background": "light"
     },
     "output_type": "display_data"
    }
   ],
   "source": [
    "metrics = ('annual_return_rate',\n",
    "           'max_closed_out_drawdown',\n",
    "           'drawdown_annualized_return',\n",
    "           'drawdown_recovery',\n",
    "           'best_month',\n",
    "           'worst_month',\n",
    "           'sharpe_ratio',\n",
    "           'sortino_ratio',\n",
    "           'monthly_std')\n",
    "\n",
    "df = pf.plot_bar_graph(stats, benchmark.stats, *metrics)\n",
    "df"
   ]
  }
 ],
 "metadata": {
  "kernelspec": {
   "display_name": "Python 2",
   "language": "python",
   "name": "python2"
  },
  "language_info": {
   "codemirror_mode": {
    "name": "ipython",
    "version": 2
   },
   "file_extension": ".py",
   "mimetype": "text/x-python",
   "name": "python",
   "nbconvert_exporter": "python",
   "pygments_lexer": "ipython2",
   "version": "2.7.15+"
  },
  "latex_envs": {
   "LaTeX_envs_menu_present": true,
   "autoclose": false,
   "autocomplete": true,
   "bibliofile": "biblio.bib",
   "cite_by": "apalike",
   "current_citInitial": 1,
   "eqLabelWithNumbers": true,
   "eqNumInitial": 1,
   "hotkeys": {
    "equation": "Ctrl-E",
    "itemize": "Ctrl-I"
   },
   "labels_anchors": false,
   "latex_user_defs": false,
   "report_style_numbering": false,
   "user_envs_cfg": false
  }
 },
 "nbformat": 4,
 "nbformat_minor": 1
}
