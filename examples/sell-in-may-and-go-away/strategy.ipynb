{
 "cells": [
  {
   "cell_type": "markdown",
   "metadata": {},
   "source": [
    "# sell-in-may-and-go-away\n",
    "\n",
    "see: https://en.wikipedia.org/wiki/Sell_in_May\n",
    "\n",
    "\"Sell in May and go away\" (aka the Halloween indicator) is an investment adage warning investors to divest their stock holdings in May and wait to reinvest in November."
   ]
  },
  {
   "cell_type": "code",
   "execution_count": 1,
   "metadata": {
    "ExecuteTime": {
     "end_time": "2019-12-12T09:58:33.678097Z",
     "start_time": "2019-12-12T09:58:32.027749Z"
    }
   },
   "outputs": [],
   "source": [
    "# use future imports for python 3.x forward compatibility\n",
    "from __future__ import print_function\n",
    "from __future__ import unicode_literals\n",
    "from __future__ import division\n",
    "from __future__ import absolute_import\n",
    "\n",
    "# other imports\n",
    "import pandas as pd\n",
    "import matplotlib.pyplot as plt\n",
    "import datetime\n",
    "from talib.abstract import *\n",
    "\n",
    "# project imports\n",
    "import pinkfish as pf\n",
    "\n",
    "# format price data\n",
    "pd.options.display.float_format = '{:0.2f}'.format\n",
    "\n",
    "%matplotlib inline"
   ]
  },
  {
   "cell_type": "code",
   "execution_count": 2,
   "metadata": {
    "ExecuteTime": {
     "end_time": "2019-12-12T09:58:33.697312Z",
     "start_time": "2019-12-12T09:58:33.687997Z"
    }
   },
   "outputs": [],
   "source": [
    "# set size of inline plots\n",
    "'''note: rcParams can't be in same cell as import matplotlib\n",
    "   or %matplotlib inline\n",
    "   \n",
    "   %matplotlib notebook: will lead to interactive plots embedded within\n",
    "   the notebook, you can zoom and resize the figure\n",
    "   \n",
    "   %matplotlib inline: only draw static images in the notebook\n",
    "'''\n",
    "plt.rcParams[\"figure.figsize\"] = (10, 7)"
   ]
  },
  {
   "cell_type": "markdown",
   "metadata": {},
   "source": [
    "Some global data"
   ]
  },
  {
   "cell_type": "code",
   "execution_count": 3,
   "metadata": {
    "ExecuteTime": {
     "end_time": "2019-12-12T09:58:33.714351Z",
     "start_time": "2019-12-12T09:58:33.703351Z"
    }
   },
   "outputs": [],
   "source": [
    "symbol = '^GSPC'\n",
    "#symbol = 'SPY'\n",
    "capital = 10000\n",
    "start = datetime.datetime(1900, 1, 1)\n",
    "end = datetime.datetime.now()"
   ]
  },
  {
   "cell_type": "markdown",
   "metadata": {},
   "source": [
    "Define Strategy Class"
   ]
  },
  {
   "cell_type": "code",
   "execution_count": 4,
   "metadata": {
    "ExecuteTime": {
     "end_time": "2019-12-12T09:58:33.808023Z",
     "start_time": "2019-12-12T09:58:33.718739Z"
    }
   },
   "outputs": [],
   "source": [
    "class Strategy(object):\n",
    "\n",
    "    def __init__(self, symbol, capital, start, end):\n",
    "        self._symbol = symbol\n",
    "        self._capital = capital\n",
    "        self._start = start\n",
    "        self._end = end\n",
    "\n",
    "    def _algo(self):\n",
    "        self._tlog.cash = self._capital\n",
    "        start_flag = True\n",
    "        end_flag = False\n",
    "\n",
    "        for i, row in enumerate(self._ts.itertuples()):\n",
    "\n",
    "            date = row.Index.to_pydatetime()\n",
    "            high = row.high\n",
    "            low = row.low\n",
    "            open_ = row.open\n",
    "            close = row.close\n",
    "            end_flag = True if (i == len(self._ts) - 1) else False\n",
    "            trade_state = None\n",
    "            shares = 0\n",
    "\n",
    "            if date < self._start:\n",
    "                continue\n",
    "            elif start_flag:\n",
    "                start_flag = False\n",
    "                # set start and end\n",
    "                self._start = date\n",
    "                self._end = self._ts.index[-1]\n",
    "\n",
    "            # buy (at the open on first trading day in Nov)\n",
    "            if (self._tlog.num_open_trades() == 0\n",
    "                and row.month == 11 and row.first_dotm):\n",
    "                # enter buy in trade log\n",
    "                shares = self._tlog.enter_trade(date, open_)\n",
    "            # sell\n",
    "            elif (self._tlog.num_open_trades() > 0\n",
    "                  and row.month == 5 and row.first_dotm\n",
    "                  or end_flag):\n",
    "                # enter sell in trade log\n",
    "                shares = self._tlog.exit_trade(date, open_)\n",
    "\n",
    "            if shares > 0:\n",
    "                trade_state = pf.TradeState.OPEN\n",
    "                print(\"{0} BUY  {1} {2} @ {3:.2f}\".format(\n",
    "                      date, shares, self._symbol, open_))\n",
    "            elif shares < 0:\n",
    "                trade_state = pf.TradeState.CLOSE\n",
    "                print(\"{0} SELL {1} {2} @ {3:.2f}\".format(\n",
    "                      date, -shares, self._symbol, open_))\n",
    "            else:\n",
    "                trade_state = pf.TradeState.HOLD\n",
    "\n",
    "            # record daily balance\n",
    "            self._dbal.append(date, high, low, close,\n",
    "                              self._tlog.shares, self._tlog.cash,\n",
    "                              trade_state)\n",
    "\n",
    "    def run(self):\n",
    "        self._ts = pf.fetch_timeseries(self._symbol)\n",
    "        self._ts = pf.select_tradeperiod(self._ts, self._start, self._end,\n",
    "                                         use_adj=True, pad=False)\n",
    "        # add calendar columns\n",
    "        self._ts = pf.calendar(self._ts)\n",
    "        \n",
    "        self._tlog = pf.TradeLog()\n",
    "        self._dbal = pf.DailyBal()\n",
    "\n",
    "        self._algo()\n",
    "\n",
    "    def get_logs(self):\n",
    "        \"\"\" return DataFrames \"\"\"\n",
    "        tlog = self._tlog.get_log()\n",
    "        dbal = self._dbal.get_log()\n",
    "        return tlog, dbal\n",
    "\n",
    "    def stats(self):\n",
    "        tlog, dbal = self.get_logs()\n",
    "\n",
    "        stats = pf.stats(self._ts, tlog, dbal,\n",
    "                         self._start, self._end, self._capital)\n",
    "        return stats"
   ]
  },
  {
   "cell_type": "markdown",
   "metadata": {},
   "source": [
    "Run Strategy"
   ]
  },
  {
   "cell_type": "code",
   "execution_count": 5,
   "metadata": {
    "ExecuteTime": {
     "end_time": "2019-12-12T09:58:34.985028Z",
     "start_time": "2019-12-12T09:58:33.818831Z"
    },
    "scrolled": true
   },
   "outputs": [
    {
     "name": "stdout",
     "output_type": "stream",
     "text": [
      "1950-11-01 00:00:00 BUY  511 ^GSPC @ 19.56\n",
      "1951-05-01 00:00:00 SELL 511 ^GSPC @ 22.53\n",
      "1951-11-01 00:00:00 BUY  498 ^GSPC @ 23.10\n",
      "1952-05-01 00:00:00 SELL 498 ^GSPC @ 23.17\n",
      "1952-11-03 00:00:00 BUY  469 ^GSPC @ 24.60\n",
      "1953-05-01 00:00:00 SELL 469 ^GSPC @ 24.73\n",
      "1953-11-02 00:00:00 BUY  470 ^GSPC @ 24.66\n",
      "1954-05-03 00:00:00 SELL 470 ^GSPC @ 28.21\n",
      "1954-11-01 00:00:00 BUY  417 ^GSPC @ 31.79\n",
      "1955-05-02 00:00:00 SELL 417 ^GSPC @ 38.04\n",
      "1955-11-01 00:00:00 BUY  375 ^GSPC @ 42.28\n",
      "1956-05-01 00:00:00 SELL 375 ^GSPC @ 48.16\n",
      "1956-11-01 00:00:00 BUY  388 ^GSPC @ 46.52\n",
      "1957-05-01 00:00:00 SELL 388 ^GSPC @ 46.02\n",
      "1957-11-01 00:00:00 BUY  442 ^GSPC @ 40.44\n",
      "1958-05-01 00:00:00 SELL 442 ^GSPC @ 43.54\n",
      "1958-11-03 00:00:00 BUY  373 ^GSPC @ 51.56\n",
      "1959-05-01 00:00:00 SELL 373 ^GSPC @ 57.65\n",
      "1959-11-02 00:00:00 BUY  375 ^GSPC @ 57.41\n",
      "1960-05-02 00:00:00 SELL 375 ^GSPC @ 54.13\n",
      "1960-11-01 00:00:00 BUY  376 ^GSPC @ 53.94\n",
      "1961-05-01 00:00:00 SELL 376 ^GSPC @ 65.17\n",
      "1961-11-01 00:00:00 BUY  356 ^GSPC @ 68.73\n",
      "1962-05-01 00:00:00 SELL 356 ^GSPC @ 65.24\n",
      "1962-11-01 00:00:00 BUY  412 ^GSPC @ 56.52\n",
      "1963-05-01 00:00:00 SELL 412 ^GSPC @ 69.80\n",
      "1963-11-01 00:00:00 BUY  388 ^GSPC @ 74.01\n",
      "1964-05-01 00:00:00 SELL 388 ^GSPC @ 79.46\n",
      "1964-11-02 00:00:00 BUY  363 ^GSPC @ 84.86\n",
      "1965-05-03 00:00:00 SELL 363 ^GSPC @ 89.11\n",
      "1965-11-01 00:00:00 BUY  350 ^GSPC @ 92.42\n",
      "1966-05-02 00:00:00 SELL 350 ^GSPC @ 91.06\n",
      "1966-11-01 00:00:00 BUY  398 ^GSPC @ 80.20\n",
      "1967-05-01 00:00:00 SELL 398 ^GSPC @ 94.01\n",
      "1967-11-01 00:00:00 BUY  401 ^GSPC @ 93.30\n",
      "1968-05-01 00:00:00 SELL 401 ^GSPC @ 97.46\n",
      "1968-11-01 00:00:00 BUY  378 ^GSPC @ 103.41\n",
      "1969-05-01 00:00:00 SELL 378 ^GSPC @ 103.69\n",
      "1969-11-03 00:00:00 BUY  403 ^GSPC @ 97.12\n",
      "1970-05-01 00:00:00 SELL 403 ^GSPC @ 81.52\n",
      "1970-11-02 00:00:00 BUY  395 ^GSPC @ 83.25\n",
      "1971-05-03 00:00:00 SELL 395 ^GSPC @ 103.95\n",
      "1971-11-01 00:00:00 BUY  436 ^GSPC @ 94.23\n",
      "1972-05-01 00:00:00 SELL 436 ^GSPC @ 107.67\n",
      "1972-11-01 00:00:00 BUY  420 ^GSPC @ 111.58\n",
      "1973-05-01 00:00:00 SELL 420 ^GSPC @ 106.97\n",
      "1973-11-01 00:00:00 BUY  415 ^GSPC @ 108.29\n",
      "1974-05-01 00:00:00 SELL 415 ^GSPC @ 90.31\n",
      "1974-11-01 00:00:00 BUY  508 ^GSPC @ 73.90\n",
      "1975-05-01 00:00:00 SELL 508 ^GSPC @ 87.30\n",
      "1975-11-03 00:00:00 BUY  498 ^GSPC @ 89.04\n",
      "1976-05-03 00:00:00 SELL 498 ^GSPC @ 101.64\n",
      "1976-11-01 00:00:00 BUY  492 ^GSPC @ 102.90\n",
      "1977-05-02 00:00:00 SELL 492 ^GSPC @ 98.44\n",
      "1977-11-01 00:00:00 BUY  525 ^GSPC @ 92.19\n",
      "1978-05-01 00:00:00 SELL 525 ^GSPC @ 96.83\n",
      "1978-11-01 00:00:00 BUY  540 ^GSPC @ 94.13\n",
      "1979-05-01 00:00:00 SELL 540 ^GSPC @ 101.76\n",
      "1979-11-01 00:00:00 BUY  540 ^GSPC @ 101.82\n",
      "1980-05-01 00:00:00 SELL 540 ^GSPC @ 106.29\n",
      "1980-11-03 00:00:00 BUY  450 ^GSPC @ 127.47\n",
      "1981-05-01 00:00:00 SELL 450 ^GSPC @ 132.81\n",
      "1981-11-02 00:00:00 BUY  488 ^GSPC @ 122.35\n",
      "1982-05-03 00:00:00 SELL 488 ^GSPC @ 115.96\n",
      "1982-11-01 00:00:00 BUY  424 ^GSPC @ 133.72\n",
      "1983-05-02 00:00:00 SELL 424 ^GSPC @ 164.41\n",
      "1983-11-01 00:00:00 BUY  426 ^GSPC @ 163.55\n",
      "1984-05-01 00:00:00 SELL 426 ^GSPC @ 160.05\n",
      "1984-11-01 00:00:00 BUY  410 ^GSPC @ 166.09\n",
      "1985-05-01 00:00:00 SELL 410 ^GSPC @ 179.83\n",
      "1985-11-01 00:00:00 BUY  389 ^GSPC @ 189.82\n",
      "1986-05-01 00:00:00 SELL 389 ^GSPC @ 235.52\n",
      "1986-11-03 00:00:00 BUY  375 ^GSPC @ 243.97\n",
      "1987-05-01 00:00:00 SELL 375 ^GSPC @ 286.99\n",
      "1987-11-02 00:00:00 BUY  428 ^GSPC @ 251.73\n",
      "1988-05-02 00:00:00 SELL 428 ^GSPC @ 261.36\n",
      "1988-11-01 00:00:00 BUY  401 ^GSPC @ 278.97\n",
      "1989-05-01 00:00:00 SELL 401 ^GSPC @ 309.64\n",
      "1989-11-01 00:00:00 BUY  364 ^GSPC @ 340.36\n",
      "1990-05-01 00:00:00 SELL 364 ^GSPC @ 330.80\n",
      "1990-11-01 00:00:00 BUY  397 ^GSPC @ 303.99\n",
      "1991-05-01 00:00:00 SELL 397 ^GSPC @ 375.35\n",
      "1991-11-01 00:00:00 BUY  379 ^GSPC @ 392.46\n",
      "1992-05-01 00:00:00 SELL 379 ^GSPC @ 414.95\n",
      "1992-11-02 00:00:00 BUY  376 ^GSPC @ 418.66\n",
      "1993-05-03 00:00:00 SELL 376 ^GSPC @ 440.19\n",
      "1993-11-01 00:00:00 BUY  354 ^GSPC @ 467.83\n",
      "1994-05-02 00:00:00 SELL 354 ^GSPC @ 450.91\n",
      "1994-11-01 00:00:00 BUY  338 ^GSPC @ 472.26\n",
      "1995-05-01 00:00:00 SELL 338 ^GSPC @ 514.76\n",
      "1995-11-01 00:00:00 BUY  299 ^GSPC @ 581.50\n",
      "1996-05-01 00:00:00 SELL 299 ^GSPC @ 654.17\n",
      "1996-11-01 00:00:00 BUY  277 ^GSPC @ 705.27\n",
      "1997-05-01 00:00:00 SELL 277 ^GSPC @ 801.34\n",
      "1997-11-03 00:00:00 BUY  243 ^GSPC @ 914.62\n",
      "1998-05-01 00:00:00 SELL 243 ^GSPC @ 1111.75\n",
      "1998-11-02 00:00:00 BUY  246 ^GSPC @ 1098.67\n",
      "1999-05-03 00:00:00 SELL 246 ^GSPC @ 1335.18\n",
      "1999-11-01 00:00:00 BUY  240 ^GSPC @ 1362.93\n",
      "2000-05-01 00:00:00 SELL 240 ^GSPC @ 1452.43\n",
      "2000-11-01 00:00:00 BUY  244 ^GSPC @ 1429.40\n",
      "2001-05-01 00:00:00 SELL 244 ^GSPC @ 1249.46\n",
      "2001-11-01 00:00:00 BUY  288 ^GSPC @ 1059.78\n",
      "2002-05-01 00:00:00 SELL 288 ^GSPC @ 1076.92\n",
      "2002-11-01 00:00:00 BUY  351 ^GSPC @ 885.76\n",
      "2003-05-01 00:00:00 SELL 351 ^GSPC @ 916.92\n",
      "2003-11-03 00:00:00 BUY  306 ^GSPC @ 1050.71\n",
      "2004-05-03 00:00:00 SELL 306 ^GSPC @ 1107.30\n",
      "2004-11-01 00:00:00 BUY  300 ^GSPC @ 1130.20\n",
      "2005-05-02 00:00:00 SELL 300 ^GSPC @ 1156.85\n",
      "2005-11-01 00:00:00 BUY  287 ^GSPC @ 1207.01\n",
      "2006-05-01 00:00:00 SELL 287 ^GSPC @ 1310.61\n",
      "2006-11-01 00:00:00 BUY  273 ^GSPC @ 1377.76\n",
      "2007-05-01 00:00:00 SELL 273 ^GSPC @ 1482.37\n",
      "2007-11-01 00:00:00 BUY  262 ^GSPC @ 1545.79\n",
      "2008-05-01 00:00:00 SELL 262 ^GSPC @ 1385.97\n",
      "2008-11-03 00:00:00 BUY  375 ^GSPC @ 968.67\n",
      "2009-05-01 00:00:00 SELL 375 ^GSPC @ 872.74\n",
      "2009-11-02 00:00:00 BUY  316 ^GSPC @ 1036.18\n",
      "2010-05-03 00:00:00 SELL 316 ^GSPC @ 1188.58\n",
      "2010-11-01 00:00:00 BUY  316 ^GSPC @ 1185.71\n",
      "2011-05-02 00:00:00 SELL 316 ^GSPC @ 1365.21\n",
      "2011-11-01 00:00:00 BUY  345 ^GSPC @ 1251.00\n",
      "2012-05-01 00:00:00 SELL 345 ^GSPC @ 1397.86\n",
      "2012-11-01 00:00:00 BUY  342 ^GSPC @ 1412.20\n",
      "2013-05-01 00:00:00 SELL 342 ^GSPC @ 1597.55\n",
      "2013-11-01 00:00:00 BUY  310 ^GSPC @ 1758.70\n",
      "2014-05-01 00:00:00 SELL 310 ^GSPC @ 1884.39\n",
      "2014-11-03 00:00:00 BUY  290 ^GSPC @ 2018.21\n",
      "2015-05-01 00:00:00 SELL 290 ^GSPC @ 2087.38\n",
      "2015-11-02 00:00:00 BUY  291 ^GSPC @ 2080.76\n",
      "2016-05-02 00:00:00 SELL 291 ^GSPC @ 2067.17\n",
      "2016-11-01 00:00:00 BUY  282 ^GSPC @ 2128.68\n",
      "2017-05-01 00:00:00 SELL 282 ^GSPC @ 2388.50\n",
      "2017-11-01 00:00:00 BUY  261 ^GSPC @ 2583.21\n",
      "2018-05-01 00:00:00 SELL 261 ^GSPC @ 2642.96\n",
      "2018-11-01 00:00:00 BUY  254 ^GSPC @ 2717.58\n",
      "2019-05-01 00:00:00 SELL 254 ^GSPC @ 2952.33\n"
     ]
    }
   ],
   "source": [
    "s = Strategy(symbol, capital, start, end)\n",
    "s.run()"
   ]
  },
  {
   "cell_type": "markdown",
   "metadata": {},
   "source": [
    "Retrieve log DataFrames"
   ]
  },
  {
   "cell_type": "code",
   "execution_count": 6,
   "metadata": {
    "ExecuteTime": {
     "end_time": "2019-12-12T09:58:35.465965Z",
     "start_time": "2019-12-12T09:58:34.988997Z"
    }
   },
   "outputs": [],
   "source": [
    "s.tlog, s.dbal = s.get_logs()\n",
    "s.stats = s.stats()"
   ]
  },
  {
   "cell_type": "code",
   "execution_count": 7,
   "metadata": {
    "ExecuteTime": {
     "end_time": "2019-12-12T09:58:35.512113Z",
     "start_time": "2019-12-12T09:58:35.476966Z"
    }
   },
   "outputs": [
    {
     "data": {
      "text/html": [
       "<div>\n",
       "<style scoped>\n",
       "    .dataframe tbody tr th:only-of-type {\n",
       "        vertical-align: middle;\n",
       "    }\n",
       "\n",
       "    .dataframe tbody tr th {\n",
       "        vertical-align: top;\n",
       "    }\n",
       "\n",
       "    .dataframe thead th {\n",
       "        text-align: right;\n",
       "    }\n",
       "</style>\n",
       "<table border=\"1\" class=\"dataframe\">\n",
       "  <thead>\n",
       "    <tr style=\"text-align: right;\">\n",
       "      <th></th>\n",
       "      <th>entry_date</th>\n",
       "      <th>entry_price</th>\n",
       "      <th>exit_date</th>\n",
       "      <th>exit_price</th>\n",
       "      <th>pl_points</th>\n",
       "      <th>pl_cash</th>\n",
       "      <th>qty</th>\n",
       "      <th>cumul_total</th>\n",
       "    </tr>\n",
       "  </thead>\n",
       "  <tbody>\n",
       "    <tr>\n",
       "      <th>64</th>\n",
       "      <td>2014-11-03</td>\n",
       "      <td>2018.21</td>\n",
       "      <td>2015-05-01</td>\n",
       "      <td>2087.38</td>\n",
       "      <td>69.17</td>\n",
       "      <td>20059.28</td>\n",
       "      <td>290</td>\n",
       "      <td>595626.18</td>\n",
       "    </tr>\n",
       "    <tr>\n",
       "      <th>65</th>\n",
       "      <td>2015-11-02</td>\n",
       "      <td>2080.76</td>\n",
       "      <td>2016-05-02</td>\n",
       "      <td>2067.17</td>\n",
       "      <td>-13.59</td>\n",
       "      <td>-3954.72</td>\n",
       "      <td>291</td>\n",
       "      <td>591671.46</td>\n",
       "    </tr>\n",
       "    <tr>\n",
       "      <th>66</th>\n",
       "      <td>2016-11-01</td>\n",
       "      <td>2128.68</td>\n",
       "      <td>2017-05-01</td>\n",
       "      <td>2388.50</td>\n",
       "      <td>259.82</td>\n",
       "      <td>73269.26</td>\n",
       "      <td>282</td>\n",
       "      <td>664940.72</td>\n",
       "    </tr>\n",
       "    <tr>\n",
       "      <th>67</th>\n",
       "      <td>2017-11-01</td>\n",
       "      <td>2583.21</td>\n",
       "      <td>2018-05-01</td>\n",
       "      <td>2642.96</td>\n",
       "      <td>59.75</td>\n",
       "      <td>15594.75</td>\n",
       "      <td>261</td>\n",
       "      <td>680535.47</td>\n",
       "    </tr>\n",
       "    <tr>\n",
       "      <th>68</th>\n",
       "      <td>2018-11-01</td>\n",
       "      <td>2717.58</td>\n",
       "      <td>2019-05-01</td>\n",
       "      <td>2952.33</td>\n",
       "      <td>234.75</td>\n",
       "      <td>59626.50</td>\n",
       "      <td>254</td>\n",
       "      <td>740161.97</td>\n",
       "    </tr>\n",
       "  </tbody>\n",
       "</table>\n",
       "</div>"
      ],
      "text/plain": [
       "   entry_date  entry_price  exit_date  exit_price  pl_points  pl_cash  qty  \\\n",
       "64 2014-11-03      2018.21 2015-05-01     2087.38      69.17 20059.28  290   \n",
       "65 2015-11-02      2080.76 2016-05-02     2067.17     -13.59 -3954.72  291   \n",
       "66 2016-11-01      2128.68 2017-05-01     2388.50     259.82 73269.26  282   \n",
       "67 2017-11-01      2583.21 2018-05-01     2642.96      59.75 15594.75  261   \n",
       "68 2018-11-01      2717.58 2019-05-01     2952.33     234.75 59626.50  254   \n",
       "\n",
       "    cumul_total  \n",
       "64    595626.18  \n",
       "65    591671.46  \n",
       "66    664940.72  \n",
       "67    680535.47  \n",
       "68    740161.97  "
      ]
     },
     "execution_count": 7,
     "metadata": {},
     "output_type": "execute_result"
    }
   ],
   "source": [
    "s.tlog.tail()"
   ]
  },
  {
   "cell_type": "code",
   "execution_count": 8,
   "metadata": {
    "ExecuteTime": {
     "end_time": "2019-12-12T09:58:35.541006Z",
     "start_time": "2019-12-12T09:58:35.516950Z"
    }
   },
   "outputs": [
    {
     "data": {
      "text/html": [
       "<div>\n",
       "<style scoped>\n",
       "    .dataframe tbody tr th:only-of-type {\n",
       "        vertical-align: middle;\n",
       "    }\n",
       "\n",
       "    .dataframe tbody tr th {\n",
       "        vertical-align: top;\n",
       "    }\n",
       "\n",
       "    .dataframe thead th {\n",
       "        text-align: right;\n",
       "    }\n",
       "</style>\n",
       "<table border=\"1\" class=\"dataframe\">\n",
       "  <thead>\n",
       "    <tr style=\"text-align: right;\">\n",
       "      <th></th>\n",
       "      <th>high</th>\n",
       "      <th>low</th>\n",
       "      <th>close</th>\n",
       "      <th>shares</th>\n",
       "      <th>cash</th>\n",
       "      <th>state</th>\n",
       "    </tr>\n",
       "    <tr>\n",
       "      <th>date</th>\n",
       "      <th></th>\n",
       "      <th></th>\n",
       "      <th></th>\n",
       "      <th></th>\n",
       "      <th></th>\n",
       "      <th></th>\n",
       "    </tr>\n",
       "  </thead>\n",
       "  <tbody>\n",
       "    <tr>\n",
       "      <th>2019-07-18</th>\n",
       "      <td>750161.97</td>\n",
       "      <td>750161.97</td>\n",
       "      <td>750161.97</td>\n",
       "      <td>0</td>\n",
       "      <td>750161.97</td>\n",
       "      <td>1</td>\n",
       "    </tr>\n",
       "    <tr>\n",
       "      <th>2019-07-19</th>\n",
       "      <td>750161.97</td>\n",
       "      <td>750161.97</td>\n",
       "      <td>750161.97</td>\n",
       "      <td>0</td>\n",
       "      <td>750161.97</td>\n",
       "      <td>1</td>\n",
       "    </tr>\n",
       "    <tr>\n",
       "      <th>2019-07-22</th>\n",
       "      <td>750161.97</td>\n",
       "      <td>750161.97</td>\n",
       "      <td>750161.97</td>\n",
       "      <td>0</td>\n",
       "      <td>750161.97</td>\n",
       "      <td>1</td>\n",
       "    </tr>\n",
       "    <tr>\n",
       "      <th>2019-07-23</th>\n",
       "      <td>750161.97</td>\n",
       "      <td>750161.97</td>\n",
       "      <td>750161.97</td>\n",
       "      <td>0</td>\n",
       "      <td>750161.97</td>\n",
       "      <td>1</td>\n",
       "    </tr>\n",
       "    <tr>\n",
       "      <th>2019-07-24</th>\n",
       "      <td>750161.97</td>\n",
       "      <td>750161.97</td>\n",
       "      <td>750161.97</td>\n",
       "      <td>0</td>\n",
       "      <td>750161.97</td>\n",
       "      <td>1</td>\n",
       "    </tr>\n",
       "  </tbody>\n",
       "</table>\n",
       "</div>"
      ],
      "text/plain": [
       "                high       low     close  shares      cash  state\n",
       "date                                                             \n",
       "2019-07-18 750161.97 750161.97 750161.97       0 750161.97      1\n",
       "2019-07-19 750161.97 750161.97 750161.97       0 750161.97      1\n",
       "2019-07-22 750161.97 750161.97 750161.97       0 750161.97      1\n",
       "2019-07-23 750161.97 750161.97 750161.97       0 750161.97      1\n",
       "2019-07-24 750161.97 750161.97 750161.97       0 750161.97      1"
      ]
     },
     "execution_count": 8,
     "metadata": {},
     "output_type": "execute_result"
    }
   ],
   "source": [
    "s.dbal.tail()"
   ]
  },
  {
   "cell_type": "code",
   "execution_count": 9,
   "metadata": {
    "ExecuteTime": {
     "end_time": "2019-12-12T09:58:35.584958Z",
     "start_time": "2019-12-12T09:58:35.550597Z"
    }
   },
   "outputs": [
    {
     "name": "stdout",
     "output_type": "stream",
     "text": [
      "start                                                   1950-01-03\n",
      "end                                                     2019-07-24\n",
      "beginning_balance                                            10000\n",
      "ending_balance                                           750161.97\n",
      "total_net_profit                                         740161.97\n",
      "gross_profit                                             900968.96\n",
      "gross_loss                                              -160806.99\n",
      "profit_factor                                                 5.60\n",
      "return_on_initial_capital                                  7401.62\n",
      "annual_return_rate                                            6.40\n",
      "trading_period                           69 years 6 months 21 days\n",
      "pct_time_in_market                                           48.74\n",
      "total_num_trades                                                69\n",
      "num_winning_trades                                              53\n",
      "num_losing_trades                                               16\n",
      "num_even_trades                                                  0\n",
      "pct_profitable_trades                                        76.81\n",
      "avg_profit_per_trade                                      10726.99\n",
      "avg_profit_per_winning_trade                              16999.41\n",
      "avg_loss_per_losing_trade                                -10050.44\n",
      "ratio_avg_profit_win_loss                                     1.69\n",
      "largest_profit_winning_trade                              73269.26\n",
      "largest_loss_losing_trade                                -43905.38\n",
      "num_winning_points                                         2938.97\n",
      "num_losing_points                                          -536.93\n",
      "total_net_points                                           2402.04\n",
      "avg_points                                                   34.81\n",
      "largest_points_winning_trade                                259.82\n",
      "largest_points_losing_trade                                -179.94\n",
      "avg_pct_gain_per_trade                                        6.93\n",
      "largest_pct_winning_trade                                    24.86\n",
      "largest_pct_losing_trade                                    -16.60\n",
      "max_consecutive_winning_trades                                   6\n",
      "max_consecutive_losing_trades                                    2\n",
      "avg_bars_winning_trades                                     124.57\n",
      "avg_bars_losing_trades                                      124.81\n",
      "max_closed_out_drawdown                                     -37.89\n",
      "max_closed_out_drawdown_start_date                      2007-04-25\n",
      "max_closed_out_drawdown_end_date                        2009-03-09\n",
      "max_closed_out_drawdown_recovery_date                   2011-01-14\n",
      "drawdown_recovery                                            -1.87\n",
      "drawdown_annualized_return                                   -5.92\n",
      "max_intra_day_drawdown                                      -38.89\n",
      "avg_yearly_closed_out_drawdown                               -8.49\n",
      "max_yearly_closed_out_drawdown                              -32.70\n",
      "avg_monthly_closed_out_drawdown                              -1.68\n",
      "max_monthly_closed_out_drawdown                             -25.16\n",
      "avg_weekly_closed_out_drawdown                               -0.64\n",
      "max_weekly_closed_out_drawdown                              -17.41\n",
      "avg_yearly_closed_out_runup                                  14.84\n",
      "max_yearly_closed_out_runup                                  43.14\n",
      "avg_monthly_closed_out_runup                                  2.17\n",
      "max_monthly_closed_out_runup                                 24.50\n",
      "avg_weekly_closed_out_runup                                   0.77\n",
      "max_weekly_closed_out_runup                                  19.08\n",
      "pct_profitable_years                                         76.46\n",
      "best_year                                                    41.93\n",
      "worst_year                                                  -26.75\n",
      "avg_year                                                      6.88\n",
      "annual_std                                                    9.86\n",
      "pct_profitable_months                                        35.79\n",
      "best_month                                                   23.46\n",
      "worst_month                                                 -22.30\n",
      "avg_month                                                     0.53\n",
      "monthly_std                                                   2.78\n",
      "pct_profitable_weeks                                         29.70\n",
      "best_week                                                    19.08\n",
      "worst_week                                                  -17.41\n",
      "avg_week                                                      0.13\n",
      "weekly_std                                                    1.41\n",
      "sharpe_ratio                                                  0.66\n",
      "sortino_ratio                                                 0.62\n",
      "dtype: object\n"
     ]
    }
   ],
   "source": [
    "pf.print_full(s.stats)"
   ]
  },
  {
   "cell_type": "markdown",
   "metadata": {},
   "source": [
    "Run Benchmark, Retrieve benchmark logs, and Generate benchmark stats"
   ]
  },
  {
   "cell_type": "code",
   "execution_count": 10,
   "metadata": {
    "ExecuteTime": {
     "end_time": "2019-12-12T09:58:36.208920Z",
     "start_time": "2019-12-12T09:58:35.592099Z"
    },
    "scrolled": true
   },
   "outputs": [
    {
     "name": "stdout",
     "output_type": "stream",
     "text": [
      "1950-01-03 00:00:00 BUY  600 ^GSPC @ 16.66\n",
      "2019-07-24 00:00:00 SELL 600 ^GSPC @ 3019.56\n"
     ]
    }
   ],
   "source": [
    "benchmark = pf.Benchmark(symbol, capital, s._start, s._end)\n",
    "benchmark.run()\n",
    "benchmark.tlog, benchmark.dbal = benchmark.get_logs()\n",
    "benchmark.stats = benchmark.stats()"
   ]
  },
  {
   "cell_type": "markdown",
   "metadata": {},
   "source": [
    "Plot Equity Curves: Strategy vs Benchmark"
   ]
  },
  {
   "cell_type": "code",
   "execution_count": 11,
   "metadata": {
    "ExecuteTime": {
     "end_time": "2019-12-12T09:58:36.548616Z",
     "start_time": "2019-12-12T09:58:36.220916Z"
    }
   },
   "outputs": [
    {
     "data": {
      "image/png": "[encoded data removed]",
      "text/plain": [
       "<Figure size 720x504 with 1 Axes>"
      ]
     },
     "metadata": {
      "needs_background": "light"
     },
     "output_type": "display_data"
    }
   ],
   "source": [
    "pf.plot_equity_curve(s.dbal, benchmark=benchmark.dbal)"
   ]
  },
  {
   "cell_type": "markdown",
   "metadata": {},
   "source": [
    "Plot Trades"
   ]
  },
  {
   "cell_type": "code",
   "execution_count": 12,
   "metadata": {
    "ExecuteTime": {
     "end_time": "2019-12-12T09:58:36.906727Z",
     "start_time": "2019-12-12T09:58:36.556748Z"
    }
   },
   "outputs": [
    {
     "data": {
      "image/png": "[encoded data removed]",
      "text/plain": [
       "<Figure size 720x504 with 1 Axes>"
      ]
     },
     "metadata": {
      "needs_background": "light"
     },
     "output_type": "display_data"
    }
   ],
   "source": [
    "pf.plot_trades(s.dbal, benchmark=benchmark.dbal)"
   ]
  },
  {
   "cell_type": "markdown",
   "metadata": {},
   "source": [
    "Bar Graph: Strategy vs Benchmark"
   ]
  },
  {
   "cell_type": "code",
   "execution_count": 13,
   "metadata": {
    "ExecuteTime": {
     "end_time": "2019-12-12T09:58:37.360769Z",
     "start_time": "2019-12-12T09:58:36.918842Z"
    }
   },
   "outputs": [
    {
     "data": {
      "text/html": [
       "<div>\n",
       "<style scoped>\n",
       "    .dataframe tbody tr th:only-of-type {\n",
       "        vertical-align: middle;\n",
       "    }\n",
       "\n",
       "    .dataframe tbody tr th {\n",
       "        vertical-align: top;\n",
       "    }\n",
       "\n",
       "    .dataframe thead th {\n",
       "        text-align: right;\n",
       "    }\n",
       "</style>\n",
       "<table border=\"1\" class=\"dataframe\">\n",
       "  <thead>\n",
       "    <tr style=\"text-align: right;\">\n",
       "      <th></th>\n",
       "      <th>strategy</th>\n",
       "      <th>benchmark</th>\n",
       "    </tr>\n",
       "  </thead>\n",
       "  <tbody>\n",
       "    <tr>\n",
       "      <th>annual_return_rate</th>\n",
       "      <td>6.40</td>\n",
       "      <td>7.76</td>\n",
       "    </tr>\n",
       "    <tr>\n",
       "      <th>max_closed_out_drawdown</th>\n",
       "      <td>-37.89</td>\n",
       "      <td>-56.78</td>\n",
       "    </tr>\n",
       "    <tr>\n",
       "      <th>drawdown_annualized_return</th>\n",
       "      <td>-5.92</td>\n",
       "      <td>-7.31</td>\n",
       "    </tr>\n",
       "    <tr>\n",
       "      <th>drawdown_recovery</th>\n",
       "      <td>-1.87</td>\n",
       "      <td>-1.42</td>\n",
       "    </tr>\n",
       "    <tr>\n",
       "      <th>best_month</th>\n",
       "      <td>23.46</td>\n",
       "      <td>23.49</td>\n",
       "    </tr>\n",
       "    <tr>\n",
       "      <th>worst_month</th>\n",
       "      <td>-22.30</td>\n",
       "      <td>-29.56</td>\n",
       "    </tr>\n",
       "    <tr>\n",
       "      <th>sharpe_ratio</th>\n",
       "      <td>0.66</td>\n",
       "      <td>0.57</td>\n",
       "    </tr>\n",
       "    <tr>\n",
       "      <th>sortino_ratio</th>\n",
       "      <td>0.62</td>\n",
       "      <td>0.73</td>\n",
       "    </tr>\n",
       "    <tr>\n",
       "      <th>monthly_std</th>\n",
       "      <td>2.78</td>\n",
       "      <td>4.14</td>\n",
       "    </tr>\n",
       "  </tbody>\n",
       "</table>\n",
       "</div>"
      ],
      "text/plain": [
       "                            strategy  benchmark\n",
       "annual_return_rate              6.40       7.76\n",
       "max_closed_out_drawdown       -37.89     -56.78\n",
       "drawdown_annualized_return     -5.92      -7.31\n",
       "drawdown_recovery              -1.87      -1.42\n",
       "best_month                     23.46      23.49\n",
       "worst_month                   -22.30     -29.56\n",
       "sharpe_ratio                    0.66       0.57\n",
       "sortino_ratio                   0.62       0.73\n",
       "monthly_std                     2.78       4.14"
      ]
     },
     "execution_count": 13,
     "metadata": {},
     "output_type": "execute_result"
    },
    {
     "data": {
      "image/png": "[encoded data removed]",
      "text/plain": [
       "<Figure size 720x504 with 1 Axes>"
      ]
     },
     "metadata": {
      "needs_background": "light"
     },
     "output_type": "display_data"
    }
   ],
   "source": [
    "metrics = ('annual_return_rate',\n",
    "           'max_closed_out_drawdown',\n",
    "           'drawdown_annualized_return',\n",
    "           'drawdown_recovery',\n",
    "           'best_month',\n",
    "           'worst_month',\n",
    "           'sharpe_ratio',\n",
    "           'sortino_ratio',\n",
    "           'monthly_std')\n",
    "\n",
    "df = pf.plot_bar_graph(s.stats, benchmark.stats, *metrics)\n",
    "df"
   ]
  }
 ],
 "metadata": {
  "kernelspec": {
   "display_name": "Python 2",
   "language": "python",
   "name": "python2"
  },
  "language_info": {
   "codemirror_mode": {
    "name": "ipython",
    "version": 2
   },
   "file_extension": ".py",
   "mimetype": "text/x-python",
   "name": "python",
   "nbconvert_exporter": "python",
   "pygments_lexer": "ipython2",
   "version": "2.7.15+"
  },
  "latex_envs": {
   "LaTeX_envs_menu_present": true,
   "autoclose": false,
   "autocomplete": true,
   "bibliofile": "biblio.bib",
   "cite_by": "apalike",
   "current_citInitial": 1,
   "eqLabelWithNumbers": true,
   "eqNumInitial": 1,
   "hotkeys": {
    "equation": "Ctrl-E",
    "itemize": "Ctrl-I"
   },
   "labels_anchors": false,
   "latex_user_defs": false,
   "report_style_numbering": false,
   "user_envs_cfg": false
  }
 },
 "nbformat": 4,
 "nbformat_minor": 1
}
