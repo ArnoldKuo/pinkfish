{
 "cells": [
  {
   "cell_type": "markdown",
   "metadata": {},
   "source": [
    "#Double 7's (Short Term Trading Strategies that Work)\n",
    "\n",
    "    1. The SPY is above its 200-day moving average\n",
    "    2. The SPY closes at a X-day low, buy.\n",
    "    3. If the SPY closes at a X-day high, sell your long position.\n",
    "    \n",
    "    (optimize for number of days)"
   ]
  },
  {
   "cell_type": "code",
   "execution_count": 1,
   "metadata": {},
   "outputs": [],
   "source": [
    "%matplotlib inline"
   ]
  },
  {
   "cell_type": "markdown",
   "metadata": {},
   "source": [
    "Use future imports for python 3.0 forward compatibility"
   ]
  },
  {
   "cell_type": "code",
   "execution_count": 2,
   "metadata": {},
   "outputs": [],
   "source": [
    "from __future__ import print_function\n",
    "from __future__ import unicode_literals\n",
    "from __future__ import division\n",
    "from __future__ import absolute_import"
   ]
  },
  {
   "cell_type": "markdown",
   "metadata": {},
   "source": [
    "Other imports"
   ]
  },
  {
   "cell_type": "code",
   "execution_count": 3,
   "metadata": {},
   "outputs": [],
   "source": [
    "import pandas as pd\n",
    "import numpy as np\n",
    "import matplotlib\n",
    "import matplotlib.pyplot as plt\n",
    "import datetime\n",
    "from talib.abstract import *\n",
    "import pinkfish as pf\n",
    "import strategy\n",
    "\n",
    "# format price data\n",
    "pd.options.display.float_format = '{:0.2f}'.format\n",
    "\n",
    "# set size of inline plots\n",
    "matplotlib.rcParams['figure.figsize'] = [14, 10]"
   ]
  },
  {
   "cell_type": "markdown",
   "metadata": {},
   "source": [
    "Some global data"
   ]
  },
  {
   "cell_type": "code",
   "execution_count": 4,
   "metadata": {},
   "outputs": [],
   "source": [
    "#symbol = '^GSPC'\n",
    "#symbol = 'SPY'\n",
    "#symbol = 'DIA'\n",
    "#symbol = 'QQQ'\n",
    "#symbol = 'IWM'\n",
    "#symbol = 'TLT'\n",
    "#symbol = 'GLD'\n",
    "#symbol = 'AAPL'\n",
    "#symbol = 'BBRY'\n",
    "symbol = 'GDX'\n",
    "capital = 10000\n",
    "start = datetime.datetime(1900, 1, 1)\n",
    "#end = datetime.datetime(2005, 12, 1)\n",
    "end = datetime.datetime.now()"
   ]
  },
  {
   "cell_type": "markdown",
   "metadata": {},
   "source": [
    "Define high low trade periods"
   ]
  },
  {
   "cell_type": "code",
   "execution_count": 5,
   "metadata": {},
   "outputs": [],
   "source": [
    "periods = range(2, 16)\n",
    "periods = [str(period) for period in periods]"
   ]
  },
  {
   "cell_type": "markdown",
   "metadata": {},
   "source": [
    "Run Strategy"
   ]
  },
  {
   "cell_type": "code",
   "execution_count": 6,
   "metadata": {},
   "outputs": [
    {
     "name": "stdout",
     "output_type": "stream",
     "text": [
      "2 3 4 5 6 7 8 9 10 11 12 13 14 15 "
     ]
    }
   ],
   "source": [
    "strategies = pd.Series()\n",
    "for period in periods:\n",
    "    print(\"{0}\".format(period), end=\" \")\n",
    "    strategies[period] = strategy.Strategy(symbol, capital, start, end, int(period))\n",
    "    strategies[period].run()\n",
    "    strategies[period].tlog, strategies[period].dbal = strategies[period].get_logs()\n",
    "    strategies[period].stats = strategies[period].stats()"
   ]
  },
  {
   "cell_type": "markdown",
   "metadata": {},
   "source": [
    "Summarize results"
   ]
  },
  {
   "cell_type": "code",
   "execution_count": 7,
   "metadata": {
    "scrolled": true
   },
   "outputs": [
    {
     "data": {
      "text/html": [
       "<div>\n",
       "<style scoped>\n",
       "    .dataframe tbody tr th:only-of-type {\n",
       "        vertical-align: middle;\n",
       "    }\n",
       "\n",
       "    .dataframe tbody tr th {\n",
       "        vertical-align: top;\n",
       "    }\n",
       "\n",
       "    .dataframe thead th {\n",
       "        text-align: right;\n",
       "    }\n",
       "</style>\n",
       "<table border=\"1\" class=\"dataframe\">\n",
       "  <thead>\n",
       "    <tr style=\"text-align: right;\">\n",
       "      <th></th>\n",
       "      <th>2</th>\n",
       "      <th>3</th>\n",
       "      <th>4</th>\n",
       "      <th>5</th>\n",
       "      <th>6</th>\n",
       "      <th>7</th>\n",
       "      <th>8</th>\n",
       "      <th>9</th>\n",
       "      <th>10</th>\n",
       "      <th>11</th>\n",
       "      <th>12</th>\n",
       "      <th>13</th>\n",
       "      <th>14</th>\n",
       "      <th>15</th>\n",
       "    </tr>\n",
       "  </thead>\n",
       "  <tbody>\n",
       "    <tr>\n",
       "      <th>annual_return_rate</th>\n",
       "      <td>2.10</td>\n",
       "      <td>4.63</td>\n",
       "      <td>4.45</td>\n",
       "      <td>4.04</td>\n",
       "      <td>3.10</td>\n",
       "      <td>6.92</td>\n",
       "      <td>7.75</td>\n",
       "      <td>5.36</td>\n",
       "      <td>1.27</td>\n",
       "      <td>-0.35</td>\n",
       "      <td>0.24</td>\n",
       "      <td>0.10</td>\n",
       "      <td>-1.38</td>\n",
       "      <td>0.65</td>\n",
       "    </tr>\n",
       "    <tr>\n",
       "      <th>max_closed_out_drawdown</th>\n",
       "      <td>-35.27</td>\n",
       "      <td>-34.84</td>\n",
       "      <td>-26.82</td>\n",
       "      <td>-24.61</td>\n",
       "      <td>-24.68</td>\n",
       "      <td>-20.59</td>\n",
       "      <td>-28.35</td>\n",
       "      <td>-45.01</td>\n",
       "      <td>-50.21</td>\n",
       "      <td>-48.06</td>\n",
       "      <td>-48.23</td>\n",
       "      <td>-46.35</td>\n",
       "      <td>-60.35</td>\n",
       "      <td>-58.86</td>\n",
       "    </tr>\n",
       "    <tr>\n",
       "      <th>drawdown_annualized_return</th>\n",
       "      <td>-16.82</td>\n",
       "      <td>-7.53</td>\n",
       "      <td>-6.03</td>\n",
       "      <td>-6.09</td>\n",
       "      <td>-7.96</td>\n",
       "      <td>-2.98</td>\n",
       "      <td>-3.66</td>\n",
       "      <td>-8.40</td>\n",
       "      <td>-39.39</td>\n",
       "      <td>138.83</td>\n",
       "      <td>-201.88</td>\n",
       "      <td>-459.17</td>\n",
       "      <td>43.69</td>\n",
       "      <td>-90.36</td>\n",
       "    </tr>\n",
       "    <tr>\n",
       "      <th>drawdown_recovery</th>\n",
       "      <td>-2.69</td>\n",
       "      <td>-2.80</td>\n",
       "      <td>-2.72</td>\n",
       "      <td>-0.90</td>\n",
       "      <td>-1.48</td>\n",
       "      <td>-1.48</td>\n",
       "      <td>-3.78</td>\n",
       "      <td>-3.85</td>\n",
       "      <td>-3.54</td>\n",
       "      <td>-3.52</td>\n",
       "      <td>-3.52</td>\n",
       "      <td>-3.52</td>\n",
       "      <td>-3.52</td>\n",
       "      <td>-3.52</td>\n",
       "    </tr>\n",
       "    <tr>\n",
       "      <th>best_month</th>\n",
       "      <td>22.44</td>\n",
       "      <td>31.87</td>\n",
       "      <td>23.72</td>\n",
       "      <td>25.66</td>\n",
       "      <td>25.65</td>\n",
       "      <td>21.97</td>\n",
       "      <td>21.98</td>\n",
       "      <td>21.98</td>\n",
       "      <td>21.97</td>\n",
       "      <td>21.98</td>\n",
       "      <td>21.97</td>\n",
       "      <td>22.56</td>\n",
       "      <td>22.36</td>\n",
       "      <td>22.30</td>\n",
       "    </tr>\n",
       "    <tr>\n",
       "      <th>worst_month</th>\n",
       "      <td>-14.28</td>\n",
       "      <td>-20.05</td>\n",
       "      <td>-17.68</td>\n",
       "      <td>-17.71</td>\n",
       "      <td>-17.68</td>\n",
       "      <td>-17.70</td>\n",
       "      <td>-17.71</td>\n",
       "      <td>-24.36</td>\n",
       "      <td>-24.37</td>\n",
       "      <td>-24.36</td>\n",
       "      <td>-24.36</td>\n",
       "      <td>-24.37</td>\n",
       "      <td>-24.38</td>\n",
       "      <td>-24.34</td>\n",
       "    </tr>\n",
       "    <tr>\n",
       "      <th>sharpe_ratio</th>\n",
       "      <td>0.21</td>\n",
       "      <td>0.34</td>\n",
       "      <td>0.33</td>\n",
       "      <td>0.31</td>\n",
       "      <td>0.26</td>\n",
       "      <td>0.48</td>\n",
       "      <td>0.52</td>\n",
       "      <td>0.38</td>\n",
       "      <td>0.16</td>\n",
       "      <td>0.07</td>\n",
       "      <td>0.11</td>\n",
       "      <td>0.10</td>\n",
       "      <td>0.02</td>\n",
       "      <td>0.13</td>\n",
       "    </tr>\n",
       "    <tr>\n",
       "      <th>sortino_ratio</th>\n",
       "      <td>0.15</td>\n",
       "      <td>0.26</td>\n",
       "      <td>0.25</td>\n",
       "      <td>0.23</td>\n",
       "      <td>0.18</td>\n",
       "      <td>0.34</td>\n",
       "      <td>0.37</td>\n",
       "      <td>0.27</td>\n",
       "      <td>0.12</td>\n",
       "      <td>0.05</td>\n",
       "      <td>0.08</td>\n",
       "      <td>0.07</td>\n",
       "      <td>0.01</td>\n",
       "      <td>0.10</td>\n",
       "    </tr>\n",
       "    <tr>\n",
       "      <th>monthly_std</th>\n",
       "      <td>4.72</td>\n",
       "      <td>5.11</td>\n",
       "      <td>4.54</td>\n",
       "      <td>4.27</td>\n",
       "      <td>4.00</td>\n",
       "      <td>3.78</td>\n",
       "      <td>3.97</td>\n",
       "      <td>4.13</td>\n",
       "      <td>4.39</td>\n",
       "      <td>4.29</td>\n",
       "      <td>4.23</td>\n",
       "      <td>4.13</td>\n",
       "      <td>4.36</td>\n",
       "      <td>4.45</td>\n",
       "    </tr>\n",
       "    <tr>\n",
       "      <th>pct_time_in_market</th>\n",
       "      <td>33.95</td>\n",
       "      <td>28.80</td>\n",
       "      <td>27.70</td>\n",
       "      <td>25.77</td>\n",
       "      <td>23.49</td>\n",
       "      <td>22.94</td>\n",
       "      <td>22.25</td>\n",
       "      <td>23.40</td>\n",
       "      <td>25.61</td>\n",
       "      <td>24.93</td>\n",
       "      <td>25.15</td>\n",
       "      <td>24.05</td>\n",
       "      <td>26.62</td>\n",
       "      <td>26.82</td>\n",
       "    </tr>\n",
       "    <tr>\n",
       "      <th>total_num_trades</th>\n",
       "      <td>356.00</td>\n",
       "      <td>196.00</td>\n",
       "      <td>144.00</td>\n",
       "      <td>106.00</td>\n",
       "      <td>87.00</td>\n",
       "      <td>74.00</td>\n",
       "      <td>67.00</td>\n",
       "      <td>59.00</td>\n",
       "      <td>49.00</td>\n",
       "      <td>41.00</td>\n",
       "      <td>39.00</td>\n",
       "      <td>34.00</td>\n",
       "      <td>31.00</td>\n",
       "      <td>31.00</td>\n",
       "    </tr>\n",
       "    <tr>\n",
       "      <th>pct_profitable_trades</th>\n",
       "      <td>63.76</td>\n",
       "      <td>65.31</td>\n",
       "      <td>63.19</td>\n",
       "      <td>64.15</td>\n",
       "      <td>62.07</td>\n",
       "      <td>66.22</td>\n",
       "      <td>64.18</td>\n",
       "      <td>57.63</td>\n",
       "      <td>55.10</td>\n",
       "      <td>51.22</td>\n",
       "      <td>51.28</td>\n",
       "      <td>44.12</td>\n",
       "      <td>41.94</td>\n",
       "      <td>51.61</td>\n",
       "    </tr>\n",
       "    <tr>\n",
       "      <th>avg_points</th>\n",
       "      <td>0.02</td>\n",
       "      <td>0.09</td>\n",
       "      <td>0.16</td>\n",
       "      <td>0.17</td>\n",
       "      <td>0.18</td>\n",
       "      <td>0.46</td>\n",
       "      <td>0.51</td>\n",
       "      <td>0.43</td>\n",
       "      <td>0.15</td>\n",
       "      <td>0.01</td>\n",
       "      <td>0.11</td>\n",
       "      <td>0.10</td>\n",
       "      <td>-0.05</td>\n",
       "      <td>0.28</td>\n",
       "    </tr>\n",
       "  </tbody>\n",
       "</table>\n",
       "</div>"
      ],
      "text/plain": [
       "                                2      3      4      5      6      7      8  \\\n",
       "annual_return_rate           2.10   4.63   4.45   4.04   3.10   6.92   7.75   \n",
       "max_closed_out_drawdown    -35.27 -34.84 -26.82 -24.61 -24.68 -20.59 -28.35   \n",
       "drawdown_annualized_return -16.82  -7.53  -6.03  -6.09  -7.96  -2.98  -3.66   \n",
       "drawdown_recovery           -2.69  -2.80  -2.72  -0.90  -1.48  -1.48  -3.78   \n",
       "best_month                  22.44  31.87  23.72  25.66  25.65  21.97  21.98   \n",
       "worst_month                -14.28 -20.05 -17.68 -17.71 -17.68 -17.70 -17.71   \n",
       "sharpe_ratio                 0.21   0.34   0.33   0.31   0.26   0.48   0.52   \n",
       "sortino_ratio                0.15   0.26   0.25   0.23   0.18   0.34   0.37   \n",
       "monthly_std                  4.72   5.11   4.54   4.27   4.00   3.78   3.97   \n",
       "pct_time_in_market          33.95  28.80  27.70  25.77  23.49  22.94  22.25   \n",
       "total_num_trades           356.00 196.00 144.00 106.00  87.00  74.00  67.00   \n",
       "pct_profitable_trades       63.76  65.31  63.19  64.15  62.07  66.22  64.18   \n",
       "avg_points                   0.02   0.09   0.16   0.17   0.18   0.46   0.51   \n",
       "\n",
       "                                9     10     11      12      13     14     15  \n",
       "annual_return_rate           5.36   1.27  -0.35    0.24    0.10  -1.38   0.65  \n",
       "max_closed_out_drawdown    -45.01 -50.21 -48.06  -48.23  -46.35 -60.35 -58.86  \n",
       "drawdown_annualized_return  -8.40 -39.39 138.83 -201.88 -459.17  43.69 -90.36  \n",
       "drawdown_recovery           -3.85  -3.54  -3.52   -3.52   -3.52  -3.52  -3.52  \n",
       "best_month                  21.98  21.97  21.98   21.97   22.56  22.36  22.30  \n",
       "worst_month                -24.36 -24.37 -24.36  -24.36  -24.37 -24.38 -24.34  \n",
       "sharpe_ratio                 0.38   0.16   0.07    0.11    0.10   0.02   0.13  \n",
       "sortino_ratio                0.27   0.12   0.05    0.08    0.07   0.01   0.10  \n",
       "monthly_std                  4.13   4.39   4.29    4.23    4.13   4.36   4.45  \n",
       "pct_time_in_market          23.40  25.61  24.93   25.15   24.05  26.62  26.82  \n",
       "total_num_trades            59.00  49.00  41.00   39.00   34.00  31.00  31.00  \n",
       "pct_profitable_trades       57.63  55.10  51.22   51.28   44.12  41.94  51.61  \n",
       "avg_points                   0.43   0.15   0.01    0.11    0.10  -0.05   0.28  "
      ]
     },
     "execution_count": 7,
     "metadata": {},
     "output_type": "execute_result"
    }
   ],
   "source": [
    "metrics = ('annual_return_rate',\n",
    "           'max_closed_out_drawdown',\n",
    "           'drawdown_annualized_return',\n",
    "           'drawdown_recovery',\n",
    "           'best_month',\n",
    "           'worst_month',\n",
    "           'sharpe_ratio',\n",
    "           'sortino_ratio',\n",
    "           'monthly_std',\n",
    "           'pct_time_in_market',\n",
    "           'total_num_trades',\n",
    "           'pct_profitable_trades',\n",
    "           'avg_points')\n",
    "\n",
    "df = strategy.summary(strategies, *metrics)\n",
    "df"
   ]
  },
  {
   "cell_type": "markdown",
   "metadata": {},
   "source": [
    "Bar graphs"
   ]
  },
  {
   "cell_type": "code",
   "execution_count": 8,
   "metadata": {},
   "outputs": [
    {
     "data": {
      "image/png": "[encoded data removed]",
      "text/plain": [
       "<Figure size 1008x720 with 1 Axes>"
      ]
     },
     "metadata": {
      "needs_background": "light"
     },
     "output_type": "display_data"
    },
    {
     "data": {
      "image/png": "[encoded data removed]",
      "text/plain": [
       "<Figure size 1008x720 with 1 Axes>"
      ]
     },
     "metadata": {
      "needs_background": "light"
     },
     "output_type": "display_data"
    },
    {
     "data": {
      "image/png": "[encoded data removed]",
      "text/plain": [
       "<Figure size 1008x720 with 1 Axes>"
      ]
     },
     "metadata": {
      "needs_background": "light"
     },
     "output_type": "display_data"
    }
   ],
   "source": [
    "strategy.plot_bar_graph(df, 'annual_return_rate')\n",
    "strategy.plot_bar_graph(df, 'sharpe_ratio')\n",
    "strategy.plot_bar_graph(df, 'max_closed_out_drawdown')"
   ]
  },
  {
   "cell_type": "markdown",
   "metadata": {},
   "source": [
    "Run Benchmark"
   ]
  },
  {
   "cell_type": "code",
   "execution_count": 9,
   "metadata": {},
   "outputs": [
    {
     "name": "stdout",
     "output_type": "stream",
     "text": [
      "2007-03-08 00:00:00 BUY  282 GDX @ 35.41\n",
      "2019-05-15 00:00:00 SELL 282 GDX @ 20.79\n"
     ]
    }
   ],
   "source": [
    "s = strategies[periods[0]]\n",
    "benchmark = pf.Benchmark(symbol, capital, s._start, s._end)\n",
    "benchmark.run()\n",
    "benchmark.tlog, benchmark.dbal = benchmark.get_logs()\n",
    "benchmark.stats = benchmark.stats()"
   ]
  },
  {
   "cell_type": "markdown",
   "metadata": {},
   "source": [
    "Equity curve"
   ]
  },
  {
   "cell_type": "code",
   "execution_count": 10,
   "metadata": {},
   "outputs": [
    {
     "data": {
      "image/png": "[encoded data removed]",
      "text/plain": [
       "<Figure size 1008x720 with 1 Axes>"
      ]
     },
     "metadata": {
      "needs_background": "light"
     },
     "output_type": "display_data"
    }
   ],
   "source": [
    "pf.plot_equity_curve(strategies['8'].dbal, benchmark=benchmark.dbal)"
   ]
  }
 ],
 "metadata": {
  "kernelspec": {
   "display_name": "Python 2",
   "language": "python",
   "name": "python2"
  },
  "language_info": {
   "codemirror_mode": {
    "name": "ipython",
    "version": 2
   },
   "file_extension": ".py",
   "mimetype": "text/x-python",
   "name": "python",
   "nbconvert_exporter": "python",
   "pygments_lexer": "ipython2",
   "version": "2.7.15rc1"
  }
 },
 "nbformat": 4,
 "nbformat_minor": 1
}
