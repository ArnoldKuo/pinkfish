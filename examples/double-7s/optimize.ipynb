{
 "metadata": {
  "kernelspec": {
   "display_name": "Python 2",
   "language": "python",
   "name": "python2"
  },
  "language_info": {
   "codemirror_mode": {
    "name": "ipython",
    "version": 2
   },
   "file_extension": ".py",
   "mimetype": "text/x-python",
   "name": "python",
   "nbconvert_exporter": "python",
   "pygments_lexer": "ipython2",
   "version": "2.7.6"
  },
  "name": "",
  "signature": "sha256:13b784ca394a04dd517ad7d6422e487bd3e919565dfd95abb42abfd876f41b0e"
 },
 "nbformat": 3,
 "nbformat_minor": 0,
 "worksheets": [
  {
   "cells": [
    {
     "cell_type": "markdown",
     "metadata": {},
     "source": [
      "#Double 7's (Short Term Trading Strategies that Work)\n",
      "\n",
      "    1. The SPY is above its 200-day moving average\n",
      "    2. The SPY closes at a X-day low, buy.\n",
      "    3. If the SPY closes at a X-day high, sell your long position.\n",
      "    \n",
      "    (optimize for number of days)"
     ]
    },
    {
     "cell_type": "code",
     "collapsed": false,
     "input": [
      "%matplotlib inline"
     ],
     "language": "python",
     "metadata": {},
     "outputs": [],
     "prompt_number": 1
    },
    {
     "cell_type": "markdown",
     "metadata": {},
     "source": [
      "Use future imports for python 3.0 forward compatibility"
     ]
    },
    {
     "cell_type": "code",
     "collapsed": false,
     "input": [
      "from __future__ import print_function\n",
      "from __future__ import unicode_literals\n",
      "from __future__ import division\n",
      "from __future__ import absolute_import"
     ],
     "language": "python",
     "metadata": {},
     "outputs": [],
     "prompt_number": 2
    },
    {
     "cell_type": "markdown",
     "metadata": {},
     "source": [
      "Other imports"
     ]
    },
    {
     "cell_type": "code",
     "collapsed": false,
     "input": [
      "import pandas as pd\n",
      "import numpy as np\n",
      "import matplotlib\n",
      "import matplotlib.pyplot as plt\n",
      "import datetime\n",
      "from talib.abstract import *\n",
      "import pinkfish as pf\n",
      "import strategy\n",
      "\n",
      "# format price data\n",
      "pd.options.display.float_format = '{:0.2f}'.format\n",
      "\n",
      "# Double the DPI, so we are making 2x plots:\n",
      "matplotlib.rcParams['savefig.dpi'] = 2 * matplotlib.rcParams['savefig.dpi']"
     ],
     "language": "python",
     "metadata": {},
     "outputs": [],
     "prompt_number": 3
    },
    {
     "cell_type": "markdown",
     "metadata": {},
     "source": [
      "Some global data"
     ]
    },
    {
     "cell_type": "code",
     "collapsed": false,
     "input": [
      "#symbol = '^GSPC'\n",
      "#symbol = 'SPY'\n",
      "#symbol = 'DIA'\n",
      "#symbol = 'QQQ'\n",
      "#symbol = 'IWM'\n",
      "#symbol = 'TLT'\n",
      "#symbol = 'GLD'\n",
      "#symbol = 'AAPL'\n",
      "#symbol = 'BBRY'\n",
      "symbol = 'GDX'\n",
      "capital = 10000\n",
      "start = datetime.datetime(1900, 1, 1)\n",
      "#end = datetime.datetime(2005, 12, 1)\n",
      "end = datetime.datetime.now()"
     ],
     "language": "python",
     "metadata": {},
     "outputs": [],
     "prompt_number": 4
    },
    {
     "cell_type": "markdown",
     "metadata": {},
     "source": [
      "Define high low trade periods"
     ]
    },
    {
     "cell_type": "code",
     "collapsed": false,
     "input": [
      "periods = range(2, 16)\n",
      "periods = [str(period) for period in periods]"
     ],
     "language": "python",
     "metadata": {},
     "outputs": [],
     "prompt_number": 5
    },
    {
     "cell_type": "markdown",
     "metadata": {},
     "source": [
      "Run Strategy"
     ]
    },
    {
     "cell_type": "code",
     "collapsed": false,
     "input": [
      "strategies = pd.Series()\n",
      "for period in periods:\n",
      "    print(\"{0}\".format(period), end=\" \")\n",
      "    strategies[period] = strategy.Strategy(symbol, capital, start, end, int(period))\n",
      "    strategies[period].run()\n",
      "    strategies[period].tlog, strategies[period].dbal = strategies[period].get_logs()\n",
      "    strategies[period].stats = strategies[period].stats()"
     ],
     "language": "python",
     "metadata": {},
     "outputs": [
      {
       "output_type": "stream",
       "stream": "stdout",
       "text": [
        "2 3"
       ]
      },
      {
       "output_type": "stream",
       "stream": "stdout",
       "text": [
        " 4"
       ]
      },
      {
       "output_type": "stream",
       "stream": "stdout",
       "text": [
        " 5"
       ]
      },
      {
       "output_type": "stream",
       "stream": "stdout",
       "text": [
        " 6"
       ]
      },
      {
       "output_type": "stream",
       "stream": "stdout",
       "text": [
        " 7"
       ]
      },
      {
       "output_type": "stream",
       "stream": "stdout",
       "text": [
        " 8"
       ]
      },
      {
       "output_type": "stream",
       "stream": "stdout",
       "text": [
        " 9"
       ]
      },
      {
       "output_type": "stream",
       "stream": "stdout",
       "text": [
        " 10"
       ]
      },
      {
       "output_type": "stream",
       "stream": "stdout",
       "text": [
        " 11"
       ]
      },
      {
       "output_type": "stream",
       "stream": "stdout",
       "text": [
        " 12"
       ]
      },
      {
       "output_type": "stream",
       "stream": "stdout",
       "text": [
        " 13"
       ]
      },
      {
       "output_type": "stream",
       "stream": "stdout",
       "text": [
        " 14"
       ]
      },
      {
       "output_type": "stream",
       "stream": "stdout",
       "text": [
        " 15"
       ]
      },
      {
       "output_type": "stream",
       "stream": "stdout",
       "text": [
        " "
       ]
      }
     ],
     "prompt_number": 6
    },
    {
     "cell_type": "markdown",
     "metadata": {},
     "source": [
      "Summarize results"
     ]
    },
    {
     "cell_type": "code",
     "collapsed": false,
     "input": [
      "metrics = ('annual_return_rate',\n",
      "           'max_closed_out_drawdown',\n",
      "           'drawdown_annualized_return',\n",
      "           'drawdown_recovery',\n",
      "           'best_month',\n",
      "           'worst_month',\n",
      "           'sharpe_ratio',\n",
      "           'sortino_ratio',\n",
      "           'monthly_std',\n",
      "           'pct_time_in_market',\n",
      "           'total_num_trades',\n",
      "           'pct_profitable_trades',\n",
      "           'avg_points')\n",
      "\n",
      "df = strategy.summary(strategies, *metrics)\n",
      "df"
     ],
     "language": "python",
     "metadata": {
      "scrolled": true
     },
     "outputs": [
      {
       "html": [
        "<div style=\"max-width:1500px;overflow:auto;\">\n",
        "<style scoped>\n",
        "    .dataframe tbody tr th:only-of-type {\n",
        "        vertical-align: middle;\n",
        "    }\n",
        "\n",
        "    .dataframe tbody tr th {\n",
        "        vertical-align: top;\n",
        "    }\n",
        "\n",
        "    .dataframe thead th {\n",
        "        text-align: right;\n",
        "    }\n",
        "</style>\n",
        "<table border=\"1\" class=\"dataframe\">\n",
        "  <thead>\n",
        "    <tr style=\"text-align: right;\">\n",
        "      <th></th>\n",
        "      <th>2</th>\n",
        "      <th>3</th>\n",
        "      <th>4</th>\n",
        "      <th>5</th>\n",
        "      <th>6</th>\n",
        "      <th>7</th>\n",
        "      <th>8</th>\n",
        "      <th>9</th>\n",
        "      <th>10</th>\n",
        "      <th>11</th>\n",
        "      <th>12</th>\n",
        "      <th>13</th>\n",
        "      <th>14</th>\n",
        "      <th>15</th>\n",
        "    </tr>\n",
        "  </thead>\n",
        "  <tbody>\n",
        "    <tr>\n",
        "      <th>annual_return_rate</th>\n",
        "      <td>3.94</td>\n",
        "      <td>6.54</td>\n",
        "      <td>6.31</td>\n",
        "      <td>5.47</td>\n",
        "      <td>3.89</td>\n",
        "      <td>7.83</td>\n",
        "      <td>8.66</td>\n",
        "      <td>5.39</td>\n",
        "      <td>1.50</td>\n",
        "      <td>-0.28</td>\n",
        "      <td>0.33</td>\n",
        "      <td>0.46</td>\n",
        "      <td>-1.36</td>\n",
        "      <td>0.92</td>\n",
        "    </tr>\n",
        "    <tr>\n",
        "      <th>max_closed_out_drawdown</th>\n",
        "      <td>-34.40</td>\n",
        "      <td>-33.80</td>\n",
        "      <td>-25.28</td>\n",
        "      <td>-24.61</td>\n",
        "      <td>-22.80</td>\n",
        "      <td>-20.10</td>\n",
        "      <td>-28.35</td>\n",
        "      <td>-45.01</td>\n",
        "      <td>-50.21</td>\n",
        "      <td>-48.06</td>\n",
        "      <td>-48.23</td>\n",
        "      <td>-46.36</td>\n",
        "      <td>-60.35</td>\n",
        "      <td>-58.86</td>\n",
        "    </tr>\n",
        "    <tr>\n",
        "      <th>drawdown_annualized_return</th>\n",
        "      <td>-8.73</td>\n",
        "      <td>-5.17</td>\n",
        "      <td>-4.01</td>\n",
        "      <td>-4.50</td>\n",
        "      <td>-5.86</td>\n",
        "      <td>-2.57</td>\n",
        "      <td>-3.27</td>\n",
        "      <td>-8.35</td>\n",
        "      <td>-33.45</td>\n",
        "      <td>173.17</td>\n",
        "      <td>-145.59</td>\n",
        "      <td>-100.85</td>\n",
        "      <td>44.39</td>\n",
        "      <td>-64.14</td>\n",
        "    </tr>\n",
        "    <tr>\n",
        "      <th>drawdown_recovery</th>\n",
        "      <td>-1.13</td>\n",
        "      <td>-0.65</td>\n",
        "      <td>-1.33</td>\n",
        "      <td>-0.90</td>\n",
        "      <td>-3.44</td>\n",
        "      <td>-0.18</td>\n",
        "      <td>-3.78</td>\n",
        "      <td>-3.85</td>\n",
        "      <td>-3.54</td>\n",
        "      <td>-3.52</td>\n",
        "      <td>-3.52</td>\n",
        "      <td>-3.52</td>\n",
        "      <td>-3.52</td>\n",
        "      <td>-3.52</td>\n",
        "    </tr>\n",
        "    <tr>\n",
        "      <th>best_month</th>\n",
        "      <td>22.44</td>\n",
        "      <td>31.87</td>\n",
        "      <td>23.72</td>\n",
        "      <td>25.66</td>\n",
        "      <td>25.65</td>\n",
        "      <td>21.97</td>\n",
        "      <td>21.98</td>\n",
        "      <td>21.98</td>\n",
        "      <td>21.97</td>\n",
        "      <td>21.98</td>\n",
        "      <td>21.97</td>\n",
        "      <td>22.56</td>\n",
        "      <td>22.36</td>\n",
        "      <td>22.30</td>\n",
        "    </tr>\n",
        "    <tr>\n",
        "      <th>worst_month</th>\n",
        "      <td>-14.28</td>\n",
        "      <td>-20.05</td>\n",
        "      <td>-17.68</td>\n",
        "      <td>-17.71</td>\n",
        "      <td>-17.68</td>\n",
        "      <td>-17.70</td>\n",
        "      <td>-17.71</td>\n",
        "      <td>-24.36</td>\n",
        "      <td>-24.37</td>\n",
        "      <td>-24.36</td>\n",
        "      <td>-24.36</td>\n",
        "      <td>-24.37</td>\n",
        "      <td>-24.38</td>\n",
        "      <td>-24.34</td>\n",
        "    </tr>\n",
        "    <tr>\n",
        "      <th>sharpe_ratio</th>\n",
        "      <td>0.30</td>\n",
        "      <td>0.43</td>\n",
        "      <td>0.42</td>\n",
        "      <td>0.37</td>\n",
        "      <td>0.30</td>\n",
        "      <td>0.52</td>\n",
        "      <td>0.55</td>\n",
        "      <td>0.38</td>\n",
        "      <td>0.17</td>\n",
        "      <td>0.08</td>\n",
        "      <td>0.11</td>\n",
        "      <td>0.12</td>\n",
        "      <td>0.02</td>\n",
        "      <td>0.14</td>\n",
        "    </tr>\n",
        "    <tr>\n",
        "      <th>sortino_ratio</th>\n",
        "      <td>0.22</td>\n",
        "      <td>0.33</td>\n",
        "      <td>0.32</td>\n",
        "      <td>0.28</td>\n",
        "      <td>0.21</td>\n",
        "      <td>0.37</td>\n",
        "      <td>0.39</td>\n",
        "      <td>0.27</td>\n",
        "      <td>0.13</td>\n",
        "      <td>0.06</td>\n",
        "      <td>0.09</td>\n",
        "      <td>0.09</td>\n",
        "      <td>0.02</td>\n",
        "      <td>0.12</td>\n",
        "    </tr>\n",
        "    <tr>\n",
        "      <th>monthly_std</th>\n",
        "      <td>4.88</td>\n",
        "      <td>5.33</td>\n",
        "      <td>4.73</td>\n",
        "      <td>4.45</td>\n",
        "      <td>4.15</td>\n",
        "      <td>3.92</td>\n",
        "      <td>4.14</td>\n",
        "      <td>4.29</td>\n",
        "      <td>4.50</td>\n",
        "      <td>4.39</td>\n",
        "      <td>4.32</td>\n",
        "      <td>4.27</td>\n",
        "      <td>4.51</td>\n",
        "      <td>4.60</td>\n",
        "    </tr>\n",
        "    <tr>\n",
        "      <th>pct_time_in_market</th>\n",
        "      <td>34.80</td>\n",
        "      <td>29.77</td>\n",
        "      <td>28.43</td>\n",
        "      <td>26.42</td>\n",
        "      <td>23.65</td>\n",
        "      <td>23.03</td>\n",
        "      <td>22.74</td>\n",
        "      <td>23.98</td>\n",
        "      <td>25.47</td>\n",
        "      <td>25.00</td>\n",
        "      <td>25.11</td>\n",
        "      <td>24.13</td>\n",
        "      <td>26.71</td>\n",
        "      <td>26.93</td>\n",
        "    </tr>\n",
        "    <tr>\n",
        "      <th>total_num_trades</th>\n",
        "      <td>328.00</td>\n",
        "      <td>183.00</td>\n",
        "      <td>135.00</td>\n",
        "      <td>99.00</td>\n",
        "      <td>80.00</td>\n",
        "      <td>67.00</td>\n",
        "      <td>61.00</td>\n",
        "      <td>53.00</td>\n",
        "      <td>44.00</td>\n",
        "      <td>37.00</td>\n",
        "      <td>35.00</td>\n",
        "      <td>31.00</td>\n",
        "      <td>28.00</td>\n",
        "      <td>28.00</td>\n",
        "    </tr>\n",
        "    <tr>\n",
        "      <th>pct_profitable_trades</th>\n",
        "      <td>64.02</td>\n",
        "      <td>66.12</td>\n",
        "      <td>65.19</td>\n",
        "      <td>64.65</td>\n",
        "      <td>62.50</td>\n",
        "      <td>65.67</td>\n",
        "      <td>63.93</td>\n",
        "      <td>56.60</td>\n",
        "      <td>54.55</td>\n",
        "      <td>51.35</td>\n",
        "      <td>51.43</td>\n",
        "      <td>45.16</td>\n",
        "      <td>42.86</td>\n",
        "      <td>53.57</td>\n",
        "    </tr>\n",
        "    <tr>\n",
        "      <th>avg_points</th>\n",
        "      <td>0.04</td>\n",
        "      <td>0.11</td>\n",
        "      <td>0.19</td>\n",
        "      <td>0.20</td>\n",
        "      <td>0.20</td>\n",
        "      <td>0.51</td>\n",
        "      <td>0.56</td>\n",
        "      <td>0.46</td>\n",
        "      <td>0.17</td>\n",
        "      <td>0.02</td>\n",
        "      <td>0.12</td>\n",
        "      <td>0.13</td>\n",
        "      <td>-0.05</td>\n",
        "      <td>0.32</td>\n",
        "    </tr>\n",
        "  </tbody>\n",
        "</table>\n",
        "</div>"
       ],
       "metadata": {},
       "output_type": "pyout",
       "prompt_number": 7,
       "text": [
        "                                2      3      4      5      6      7      8  \\\n",
        "annual_return_rate           3.94   6.54   6.31   5.47   3.89   7.83   8.66   \n",
        "max_closed_out_drawdown    -34.40 -33.80 -25.28 -24.61 -22.80 -20.10 -28.35   \n",
        "drawdown_annualized_return  -8.73  -5.17  -4.01  -4.50  -5.86  -2.57  -3.27   \n",
        "drawdown_recovery           -1.13  -0.65  -1.33  -0.90  -3.44  -0.18  -3.78   \n",
        "best_month                  22.44  31.87  23.72  25.66  25.65  21.97  21.98   \n",
        "worst_month                -14.28 -20.05 -17.68 -17.71 -17.68 -17.70 -17.71   \n",
        "sharpe_ratio                 0.30   0.43   0.42   0.37   0.30   0.52   0.55   \n",
        "sortino_ratio                0.22   0.33   0.32   0.28   0.21   0.37   0.39   \n",
        "monthly_std                  4.88   5.33   4.73   4.45   4.15   3.92   4.14   \n",
        "pct_time_in_market          34.80  29.77  28.43  26.42  23.65  23.03  22.74   \n",
        "total_num_trades           328.00 183.00 135.00  99.00  80.00  67.00  61.00   \n",
        "pct_profitable_trades       64.02  66.12  65.19  64.65  62.50  65.67  63.93   \n",
        "avg_points                   0.04   0.11   0.19   0.20   0.20   0.51   0.56   \n",
        "\n",
        "                                9     10     11      12      13     14     15  \n",
        "annual_return_rate           5.39   1.50  -0.28    0.33    0.46  -1.36   0.92  \n",
        "max_closed_out_drawdown    -45.01 -50.21 -48.06  -48.23  -46.36 -60.35 -58.86  \n",
        "drawdown_annualized_return  -8.35 -33.45 173.17 -145.59 -100.85  44.39 -64.14  \n",
        "drawdown_recovery           -3.85  -3.54  -3.52   -3.52   -3.52  -3.52  -3.52  \n",
        "best_month                  21.98  21.97  21.98   21.97   22.56  22.36  22.30  \n",
        "worst_month                -24.36 -24.37 -24.36  -24.36  -24.37 -24.38 -24.34  \n",
        "sharpe_ratio                 0.38   0.17   0.08    0.11    0.12   0.02   0.14  \n",
        "sortino_ratio                0.27   0.13   0.06    0.09    0.09   0.02   0.12  \n",
        "monthly_std                  4.29   4.50   4.39    4.32    4.27   4.51   4.60  \n",
        "pct_time_in_market          23.98  25.47  25.00   25.11   24.13  26.71  26.93  \n",
        "total_num_trades            53.00  44.00  37.00   35.00   31.00  28.00  28.00  \n",
        "pct_profitable_trades       56.60  54.55  51.35   51.43   45.16  42.86  53.57  \n",
        "avg_points                   0.46   0.17   0.02    0.12    0.13  -0.05   0.32  "
       ]
      }
     ],
     "prompt_number": 7
    },
    {
     "cell_type": "markdown",
     "metadata": {},
     "source": [
      "Bar graphs"
     ]
    },
    {
     "cell_type": "code",
     "collapsed": false,
     "input": [
      "strategy.plot_bar_graph(df, 'annual_return_rate')\n",
      "strategy.plot_bar_graph(df, 'sharpe_ratio')\n",
      "strategy.plot_bar_graph(df, 'max_closed_out_drawdown')"
     ],
     "language": "python",
     "metadata": {},
     "outputs": [
      {
       "metadata": {},
       "output_type": "display_data",
       "png": "[encoded data removed]",
       "text": [
        "<matplotlib.figure.Figure at 0x7f794dab6e10>"
       ]
      },
      {
       "metadata": {},
       "output_type": "display_data",
       "png": "[encoded data removed]",
       "text": [
        "<matplotlib.figure.Figure at 0x7f79530ba990>"
       ]
      },
      {
       "metadata": {},
       "output_type": "display_data",
       "png": "[encoded data removed]",
       "text": [
        "<matplotlib.figure.Figure at 0x7f794d953450>"
       ]
      }
     ],
     "prompt_number": 8
    },
    {
     "cell_type": "markdown",
     "metadata": {},
     "source": [
      "Run Benchmark"
     ]
    },
    {
     "cell_type": "code",
     "collapsed": false,
     "input": [
      "s = strategies[periods[0]]\n",
      "benchmark = pf.Benchmark(symbol, capital, s._start, s._end)\n",
      "benchmark.run()\n",
      "benchmark.tlog, benchmark.dbal = benchmark.get_logs()\n",
      "benchmark.stats = benchmark.stats()"
     ],
     "language": "python",
     "metadata": {},
     "outputs": [
      {
       "output_type": "stream",
       "stream": "stdout",
       "text": [
        "2007-03-08 00:00:00 BUY  280 GDX @ 35.60\n",
        "2018-01-29 00:00:00 SELL 280 GDX @ 23.68"
       ]
      },
      {
       "output_type": "stream",
       "stream": "stdout",
       "text": [
        "\n"
       ]
      }
     ],
     "prompt_number": 9
    },
    {
     "cell_type": "markdown",
     "metadata": {},
     "source": [
      "Equity curve"
     ]
    },
    {
     "cell_type": "code",
     "collapsed": false,
     "input": [
      "pf.plot_equity_curve(strategies['8'].dbal, benchmark=benchmark.dbal)"
     ],
     "language": "python",
     "metadata": {},
     "outputs": [
      {
       "metadata": {},
       "output_type": "display_data",
       "png": "[encoded data removed]",
       "text": [
        "<matplotlib.figure.Figure at 0x7f79530ba5d0>"
       ]
      }
     ],
     "prompt_number": 10
    }
   ],
   "metadata": {}
  }
 ]
}