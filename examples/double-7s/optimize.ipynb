{
 "cells": [
  {
   "cell_type": "markdown",
   "metadata": {},
   "source": [
    "# Double 7's (Short Term Trading Strategies that Work)\n",
    "\n",
    "    1. The SPY is above its 200-day moving average\n",
    "    2. The SPY closes at a X-day low, buy.\n",
    "    3. If the SPY closes at a X-day high, sell your long position.\n",
    "    \n",
    "    (optimize for number of days)"
   ]
  },
  {
   "cell_type": "code",
   "execution_count": 10,
   "metadata": {
    "ExecuteTime": {
     "end_time": "2019-09-10T17:37:43.606981Z",
     "start_time": "2019-09-10T17:37:43.581050Z"
    }
   },
   "outputs": [],
   "source": [
    "# use future imports for python 3.x forward compatibility\n",
    "from __future__ import print_function\n",
    "from __future__ import unicode_literals\n",
    "from __future__ import division\n",
    "from __future__ import absolute_import\n",
    "\n",
    "# other imports\n",
    "import pandas as pd\n",
    "import matplotlib.pyplot as plt\n",
    "import datetime\n",
    "from talib.abstract import *\n",
    "\n",
    "# project imports\n",
    "import pinkfish as pf\n",
    "import strategy\n",
    "\n",
    "# format price data\n",
    "pd.options.display.float_format = '{:0.2f}'.format\n",
    "\n",
    "%matplotlib inline"
   ]
  },
  {
   "cell_type": "code",
   "execution_count": 11,
   "metadata": {
    "ExecuteTime": {
     "end_time": "2019-09-10T17:37:43.625925Z",
     "start_time": "2019-09-10T17:37:43.615827Z"
    }
   },
   "outputs": [],
   "source": [
    "# set size of inline plots\n",
    "'''note: rcParams can't be in same cell as import matplotlib\n",
    "   or %matplotlib inline\n",
    "   \n",
    "   %matplotlib notebook: will lead to interactive plots embedded within\n",
    "   the notebook, you can zoom and resize the figure\n",
    "   \n",
    "   %matplotlib inline: only draw static images in the notebook\n",
    "'''\n",
    "plt.rcParams[\"figure.figsize\"] = (10, 7)"
   ]
  },
  {
   "cell_type": "markdown",
   "metadata": {},
   "source": [
    "Some global data"
   ]
  },
  {
   "cell_type": "code",
   "execution_count": 12,
   "metadata": {
    "ExecuteTime": {
     "end_time": "2019-09-10T17:37:43.644693Z",
     "start_time": "2019-09-10T17:37:43.632129Z"
    }
   },
   "outputs": [],
   "source": [
    "#symbol = '^GSPC'\n",
    "symbol = 'SPY'\n",
    "#symbol = 'DIA'\n",
    "#symbol = 'QQQ'\n",
    "#symbol = 'IWM'\n",
    "#symbol = 'TLT'\n",
    "#symbol = 'GLD'\n",
    "#symbol = 'AAPL'\n",
    "#symbol = 'BBRY'\n",
    "#symbol = 'GDX'\n",
    "capital = 10000\n",
    "start = datetime.datetime(1900, 1, 1)\n",
    "#end = datetime.datetime(2010, 12, 1)\n",
    "end = datetime.datetime.now()"
   ]
  },
  {
   "cell_type": "markdown",
   "metadata": {},
   "source": [
    "Define high low trade periods"
   ]
  },
  {
   "cell_type": "code",
   "execution_count": 13,
   "metadata": {
    "ExecuteTime": {
     "end_time": "2019-09-10T17:37:43.659074Z",
     "start_time": "2019-09-10T17:37:43.653246Z"
    }
   },
   "outputs": [],
   "source": [
    "periods = range(2, 16)\n",
    "periods = [str(period) for period in periods]"
   ]
  },
  {
   "cell_type": "markdown",
   "metadata": {},
   "source": [
    "Run Strategy"
   ]
  },
  {
   "cell_type": "code",
   "execution_count": 14,
   "metadata": {
    "ExecuteTime": {
     "end_time": "2019-09-10T17:37:50.872864Z",
     "start_time": "2019-09-10T17:37:43.660825Z"
    }
   },
   "outputs": [
    {
     "name": "stdout",
     "output_type": "stream",
     "text": [
      "2 3 4 5 6 7 8 9 10 11 12 13 14 15 "
     ]
    }
   ],
   "source": [
    "strategies = pd.Series()\n",
    "for period in periods:\n",
    "    print(\"{0}\".format(period), end=\" \")\n",
    "    strategies[period] = strategy.Strategy(symbol, capital, start, end, int(period))\n",
    "    strategies[period].run()\n",
    "    strategies[period].tlog, strategies[period].dbal = strategies[period].get_logs()\n",
    "    strategies[period].stats = strategies[period].stats()"
   ]
  },
  {
   "cell_type": "markdown",
   "metadata": {},
   "source": [
    "Summarize results"
   ]
  },
  {
   "cell_type": "code",
   "execution_count": 15,
   "metadata": {
    "ExecuteTime": {
     "end_time": "2019-09-10T17:37:50.935005Z",
     "start_time": "2019-09-10T17:37:50.883590Z"
    },
    "scrolled": true
   },
   "outputs": [
    {
     "data": {
      "text/html": [
       "<div>\n",
       "<style scoped>\n",
       "    .dataframe tbody tr th:only-of-type {\n",
       "        vertical-align: middle;\n",
       "    }\n",
       "\n",
       "    .dataframe tbody tr th {\n",
       "        vertical-align: top;\n",
       "    }\n",
       "\n",
       "    .dataframe thead th {\n",
       "        text-align: right;\n",
       "    }\n",
       "</style>\n",
       "<table border=\"1\" class=\"dataframe\">\n",
       "  <thead>\n",
       "    <tr style=\"text-align: right;\">\n",
       "      <th></th>\n",
       "      <th>2</th>\n",
       "      <th>3</th>\n",
       "      <th>4</th>\n",
       "      <th>5</th>\n",
       "      <th>6</th>\n",
       "      <th>7</th>\n",
       "      <th>8</th>\n",
       "      <th>9</th>\n",
       "      <th>10</th>\n",
       "      <th>11</th>\n",
       "      <th>12</th>\n",
       "      <th>13</th>\n",
       "      <th>14</th>\n",
       "      <th>15</th>\n",
       "    </tr>\n",
       "  </thead>\n",
       "  <tbody>\n",
       "    <tr>\n",
       "      <th>annual_return_rate</th>\n",
       "      <td>3.51</td>\n",
       "      <td>5.35</td>\n",
       "      <td>6.36</td>\n",
       "      <td>6.15</td>\n",
       "      <td>7.03</td>\n",
       "      <td>7.46</td>\n",
       "      <td>7.63</td>\n",
       "      <td>7.02</td>\n",
       "      <td>6.64</td>\n",
       "      <td>7.06</td>\n",
       "      <td>6.65</td>\n",
       "      <td>6.13</td>\n",
       "      <td>5.46</td>\n",
       "      <td>5.55</td>\n",
       "    </tr>\n",
       "    <tr>\n",
       "      <th>max_closed_out_drawdown</th>\n",
       "      <td>-18.25</td>\n",
       "      <td>-16.99</td>\n",
       "      <td>-15.78</td>\n",
       "      <td>-14.04</td>\n",
       "      <td>-14.02</td>\n",
       "      <td>-14.63</td>\n",
       "      <td>-15.79</td>\n",
       "      <td>-15.38</td>\n",
       "      <td>-15.00</td>\n",
       "      <td>-14.97</td>\n",
       "      <td>-16.57</td>\n",
       "      <td>-18.13</td>\n",
       "      <td>-17.34</td>\n",
       "      <td>-17.39</td>\n",
       "    </tr>\n",
       "    <tr>\n",
       "      <th>drawdown_annualized_return</th>\n",
       "      <td>-5.19</td>\n",
       "      <td>-3.18</td>\n",
       "      <td>-2.48</td>\n",
       "      <td>-2.28</td>\n",
       "      <td>-2.00</td>\n",
       "      <td>-1.96</td>\n",
       "      <td>-2.07</td>\n",
       "      <td>-2.19</td>\n",
       "      <td>-2.26</td>\n",
       "      <td>-2.12</td>\n",
       "      <td>-2.49</td>\n",
       "      <td>-2.95</td>\n",
       "      <td>-3.17</td>\n",
       "      <td>-3.13</td>\n",
       "    </tr>\n",
       "    <tr>\n",
       "      <th>drawdown_recovery</th>\n",
       "      <td>-0.91</td>\n",
       "      <td>-0.91</td>\n",
       "      <td>-0.05</td>\n",
       "      <td>-0.05</td>\n",
       "      <td>-0.05</td>\n",
       "      <td>-1.84</td>\n",
       "      <td>-1.84</td>\n",
       "      <td>-1.66</td>\n",
       "      <td>-1.66</td>\n",
       "      <td>-1.66</td>\n",
       "      <td>-0.05</td>\n",
       "      <td>-1.28</td>\n",
       "      <td>-0.19</td>\n",
       "      <td>-0.19</td>\n",
       "    </tr>\n",
       "    <tr>\n",
       "      <th>best_month</th>\n",
       "      <td>8.75</td>\n",
       "      <td>12.09</td>\n",
       "      <td>11.04</td>\n",
       "      <td>10.05</td>\n",
       "      <td>10.05</td>\n",
       "      <td>12.88</td>\n",
       "      <td>12.85</td>\n",
       "      <td>13.27</td>\n",
       "      <td>10.71</td>\n",
       "      <td>11.05</td>\n",
       "      <td>10.72</td>\n",
       "      <td>10.72</td>\n",
       "      <td>10.71</td>\n",
       "      <td>11.35</td>\n",
       "    </tr>\n",
       "    <tr>\n",
       "      <th>worst_month</th>\n",
       "      <td>-13.74</td>\n",
       "      <td>-15.62</td>\n",
       "      <td>-15.29</td>\n",
       "      <td>-13.55</td>\n",
       "      <td>-13.53</td>\n",
       "      <td>-13.54</td>\n",
       "      <td>-12.29</td>\n",
       "      <td>-13.73</td>\n",
       "      <td>-13.72</td>\n",
       "      <td>-13.70</td>\n",
       "      <td>-16.28</td>\n",
       "      <td>-16.28</td>\n",
       "      <td>-13.97</td>\n",
       "      <td>-14.03</td>\n",
       "    </tr>\n",
       "    <tr>\n",
       "      <th>sharpe_ratio</th>\n",
       "      <td>0.43</td>\n",
       "      <td>0.60</td>\n",
       "      <td>0.70</td>\n",
       "      <td>0.68</td>\n",
       "      <td>0.76</td>\n",
       "      <td>0.78</td>\n",
       "      <td>0.80</td>\n",
       "      <td>0.76</td>\n",
       "      <td>0.72</td>\n",
       "      <td>0.76</td>\n",
       "      <td>0.71</td>\n",
       "      <td>0.65</td>\n",
       "      <td>0.59</td>\n",
       "      <td>0.61</td>\n",
       "    </tr>\n",
       "    <tr>\n",
       "      <th>sortino_ratio</th>\n",
       "      <td>0.31</td>\n",
       "      <td>0.42</td>\n",
       "      <td>0.51</td>\n",
       "      <td>0.49</td>\n",
       "      <td>0.55</td>\n",
       "      <td>0.58</td>\n",
       "      <td>0.59</td>\n",
       "      <td>0.55</td>\n",
       "      <td>0.52</td>\n",
       "      <td>0.54</td>\n",
       "      <td>0.49</td>\n",
       "      <td>0.46</td>\n",
       "      <td>0.41</td>\n",
       "      <td>0.42</td>\n",
       "    </tr>\n",
       "    <tr>\n",
       "      <th>monthly_std</th>\n",
       "      <td>2.09</td>\n",
       "      <td>2.11</td>\n",
       "      <td>1.96</td>\n",
       "      <td>1.93</td>\n",
       "      <td>1.95</td>\n",
       "      <td>2.08</td>\n",
       "      <td>2.13</td>\n",
       "      <td>2.04</td>\n",
       "      <td>2.02</td>\n",
       "      <td>2.02</td>\n",
       "      <td>2.06</td>\n",
       "      <td>2.11</td>\n",
       "      <td>2.02</td>\n",
       "      <td>1.97</td>\n",
       "    </tr>\n",
       "    <tr>\n",
       "      <th>pct_time_in_market</th>\n",
       "      <td>33.72</td>\n",
       "      <td>31.65</td>\n",
       "      <td>30.92</td>\n",
       "      <td>30.17</td>\n",
       "      <td>29.54</td>\n",
       "      <td>30.03</td>\n",
       "      <td>29.43</td>\n",
       "      <td>28.08</td>\n",
       "      <td>28.31</td>\n",
       "      <td>28.03</td>\n",
       "      <td>27.88</td>\n",
       "      <td>27.97</td>\n",
       "      <td>27.17</td>\n",
       "      <td>26.17</td>\n",
       "    </tr>\n",
       "    <tr>\n",
       "      <th>total_num_trades</th>\n",
       "      <td>1234.00</td>\n",
       "      <td>705.00</td>\n",
       "      <td>480.00</td>\n",
       "      <td>375.00</td>\n",
       "      <td>314.00</td>\n",
       "      <td>260.00</td>\n",
       "      <td>228.00</td>\n",
       "      <td>190.00</td>\n",
       "      <td>172.00</td>\n",
       "      <td>155.00</td>\n",
       "      <td>142.00</td>\n",
       "      <td>128.00</td>\n",
       "      <td>116.00</td>\n",
       "      <td>105.00</td>\n",
       "    </tr>\n",
       "    <tr>\n",
       "      <th>pct_profitable_trades</th>\n",
       "      <td>70.34</td>\n",
       "      <td>70.92</td>\n",
       "      <td>73.12</td>\n",
       "      <td>73.87</td>\n",
       "      <td>78.03</td>\n",
       "      <td>78.46</td>\n",
       "      <td>78.95</td>\n",
       "      <td>78.42</td>\n",
       "      <td>77.33</td>\n",
       "      <td>80.00</td>\n",
       "      <td>80.28</td>\n",
       "      <td>81.25</td>\n",
       "      <td>81.90</td>\n",
       "      <td>82.86</td>\n",
       "    </tr>\n",
       "    <tr>\n",
       "      <th>avg_points</th>\n",
       "      <td>0.09</td>\n",
       "      <td>0.27</td>\n",
       "      <td>0.42</td>\n",
       "      <td>0.52</td>\n",
       "      <td>0.70</td>\n",
       "      <td>0.91</td>\n",
       "      <td>1.10</td>\n",
       "      <td>1.24</td>\n",
       "      <td>1.33</td>\n",
       "      <td>1.56</td>\n",
       "      <td>1.55</td>\n",
       "      <td>1.63</td>\n",
       "      <td>1.70</td>\n",
       "      <td>1.88</td>\n",
       "    </tr>\n",
       "  </tbody>\n",
       "</table>\n",
       "</div>"
      ],
      "text/plain": [
       "                                 2      3      4      5      6      7      8  \\\n",
       "annual_return_rate            3.51   5.35   6.36   6.15   7.03   7.46   7.63   \n",
       "max_closed_out_drawdown     -18.25 -16.99 -15.78 -14.04 -14.02 -14.63 -15.79   \n",
       "drawdown_annualized_return   -5.19  -3.18  -2.48  -2.28  -2.00  -1.96  -2.07   \n",
       "drawdown_recovery            -0.91  -0.91  -0.05  -0.05  -0.05  -1.84  -1.84   \n",
       "best_month                    8.75  12.09  11.04  10.05  10.05  12.88  12.85   \n",
       "worst_month                 -13.74 -15.62 -15.29 -13.55 -13.53 -13.54 -12.29   \n",
       "sharpe_ratio                  0.43   0.60   0.70   0.68   0.76   0.78   0.80   \n",
       "sortino_ratio                 0.31   0.42   0.51   0.49   0.55   0.58   0.59   \n",
       "monthly_std                   2.09   2.11   1.96   1.93   1.95   2.08   2.13   \n",
       "pct_time_in_market           33.72  31.65  30.92  30.17  29.54  30.03  29.43   \n",
       "total_num_trades           1234.00 705.00 480.00 375.00 314.00 260.00 228.00   \n",
       "pct_profitable_trades        70.34  70.92  73.12  73.87  78.03  78.46  78.95   \n",
       "avg_points                    0.09   0.27   0.42   0.52   0.70   0.91   1.10   \n",
       "\n",
       "                                9     10     11     12     13     14     15  \n",
       "annual_return_rate           7.02   6.64   7.06   6.65   6.13   5.46   5.55  \n",
       "max_closed_out_drawdown    -15.38 -15.00 -14.97 -16.57 -18.13 -17.34 -17.39  \n",
       "drawdown_annualized_return  -2.19  -2.26  -2.12  -2.49  -2.95  -3.17  -3.13  \n",
       "drawdown_recovery           -1.66  -1.66  -1.66  -0.05  -1.28  -0.19  -0.19  \n",
       "best_month                  13.27  10.71  11.05  10.72  10.72  10.71  11.35  \n",
       "worst_month                -13.73 -13.72 -13.70 -16.28 -16.28 -13.97 -14.03  \n",
       "sharpe_ratio                 0.76   0.72   0.76   0.71   0.65   0.59   0.61  \n",
       "sortino_ratio                0.55   0.52   0.54   0.49   0.46   0.41   0.42  \n",
       "monthly_std                  2.04   2.02   2.02   2.06   2.11   2.02   1.97  \n",
       "pct_time_in_market          28.08  28.31  28.03  27.88  27.97  27.17  26.17  \n",
       "total_num_trades           190.00 172.00 155.00 142.00 128.00 116.00 105.00  \n",
       "pct_profitable_trades       78.42  77.33  80.00  80.28  81.25  81.90  82.86  \n",
       "avg_points                   1.24   1.33   1.56   1.55   1.63   1.70   1.88  "
      ]
     },
     "execution_count": 15,
     "metadata": {},
     "output_type": "execute_result"
    }
   ],
   "source": [
    "metrics = ('annual_return_rate',\n",
    "           'max_closed_out_drawdown',\n",
    "           'drawdown_annualized_return',\n",
    "           'drawdown_recovery',\n",
    "           'best_month',\n",
    "           'worst_month',\n",
    "           'sharpe_ratio',\n",
    "           'sortino_ratio',\n",
    "           'monthly_std',\n",
    "           'pct_time_in_market',\n",
    "           'total_num_trades',\n",
    "           'pct_profitable_trades',\n",
    "           'avg_points')\n",
    "\n",
    "df = strategy.summary(strategies, *metrics)\n",
    "df"
   ]
  },
  {
   "cell_type": "markdown",
   "metadata": {},
   "source": [
    "Bar graphs"
   ]
  },
  {
   "cell_type": "code",
   "execution_count": 16,
   "metadata": {
    "ExecuteTime": {
     "end_time": "2019-09-10T17:37:51.695969Z",
     "start_time": "2019-09-10T17:37:50.938828Z"
    }
   },
   "outputs": [
    {
     "data": {
      "image/png": "[encoded data removed]",
      "text/plain": [
       "<Figure size 720x504 with 1 Axes>"
      ]
     },
     "metadata": {
      "needs_background": "light"
     },
     "output_type": "display_data"
    },
    {
     "data": {
      "image/png": "[encoded data removed]",
      "text/plain": [
       "<Figure size 720x504 with 1 Axes>"
      ]
     },
     "metadata": {
      "needs_background": "light"
     },
     "output_type": "display_data"
    },
    {
     "data": {
      "image/png": "[encoded data removed]",
      "text/plain": [
       "<Figure size 720x504 with 1 Axes>"
      ]
     },
     "metadata": {
      "needs_background": "light"
     },
     "output_type": "display_data"
    }
   ],
   "source": [
    "strategy.plot_bar_graph(df, 'annual_return_rate')\n",
    "strategy.plot_bar_graph(df, 'sharpe_ratio')\n",
    "strategy.plot_bar_graph(df, 'max_closed_out_drawdown')"
   ]
  },
  {
   "cell_type": "markdown",
   "metadata": {},
   "source": [
    "Run Benchmark"
   ]
  },
  {
   "cell_type": "code",
   "execution_count": 17,
   "metadata": {
    "ExecuteTime": {
     "end_time": "2019-09-10T17:37:52.076708Z",
     "start_time": "2019-09-10T17:37:51.700636Z"
    }
   },
   "outputs": [
    {
     "name": "stdout",
     "output_type": "stream",
     "text": [
      "1993-11-11 00:00:00 BUY  215 SPY @ 46.38\n",
      "2019-09-10 00:00:00 SELL 215 SPY @ 296.45\n"
     ]
    }
   ],
   "source": [
    "s = strategies[periods[0]]\n",
    "benchmark = pf.Benchmark(symbol, capital, s._start, s._end)\n",
    "benchmark.run()\n",
    "benchmark.tlog, benchmark.dbal = benchmark.get_logs()\n",
    "benchmark.stats = benchmark.stats()"
   ]
  },
  {
   "cell_type": "markdown",
   "metadata": {},
   "source": [
    "Equity curve"
   ]
  },
  {
   "cell_type": "code",
   "execution_count": 18,
   "metadata": {
    "ExecuteTime": {
     "end_time": "2019-09-10T17:37:52.370030Z",
     "start_time": "2019-09-10T17:37:52.086410Z"
    }
   },
   "outputs": [
    {
     "data": {
      "image/png": "[encoded data removed]",
      "text/plain": [
       "<Figure size 720x504 with 1 Axes>"
      ]
     },
     "metadata": {
      "needs_background": "light"
     },
     "output_type": "display_data"
    }
   ],
   "source": [
    "pf.plot_equity_curve(strategies['8'].dbal, benchmark=benchmark.dbal)"
   ]
  }
 ],
 "metadata": {
  "kernelspec": {
   "display_name": "Python 2",
   "language": "python",
   "name": "python2"
  },
  "language_info": {
   "codemirror_mode": {
    "name": "ipython",
    "version": 2
   },
   "file_extension": ".py",
   "mimetype": "text/x-python",
   "name": "python",
   "nbconvert_exporter": "python",
   "pygments_lexer": "ipython2",
   "version": "2.7.15+"
  },
  "latex_envs": {
   "LaTeX_envs_menu_present": true,
   "autoclose": false,
   "autocomplete": true,
   "bibliofile": "biblio.bib",
   "cite_by": "apalike",
   "current_citInitial": 1,
   "eqLabelWithNumbers": true,
   "eqNumInitial": 1,
   "hotkeys": {
    "equation": "Ctrl-E",
    "itemize": "Ctrl-I"
   },
   "labels_anchors": false,
   "latex_user_defs": false,
   "report_style_numbering": false,
   "user_envs_cfg": false
  }
 },
 "nbformat": 4,
 "nbformat_minor": 1
}
