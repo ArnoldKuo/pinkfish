{
 "cells": [
  {
   "cell_type": "markdown",
   "metadata": {},
   "source": [
    "#buy-and-hold\n",
    "\n",
    "    buy, then never ever sell, until the end date :)"
   ]
  },
  {
   "cell_type": "code",
   "execution_count": 1,
   "metadata": {},
   "outputs": [],
   "source": [
    "%matplotlib inline"
   ]
  },
  {
   "cell_type": "markdown",
   "metadata": {},
   "source": [
    "Use future imports for python 3.0 forward compatibility"
   ]
  },
  {
   "cell_type": "code",
   "execution_count": 2,
   "metadata": {},
   "outputs": [],
   "source": [
    "from __future__ import print_function\n",
    "from __future__ import unicode_literals\n",
    "from __future__ import division\n",
    "from __future__ import absolute_import"
   ]
  },
  {
   "cell_type": "markdown",
   "metadata": {},
   "source": [
    "Other imports"
   ]
  },
  {
   "cell_type": "code",
   "execution_count": 3,
   "metadata": {},
   "outputs": [],
   "source": [
    "import pandas as pd\n",
    "import numpy as np\n",
    "import datetime\n",
    "from talib.abstract import *\n",
    "import pinkfish as pf\n",
    "\n",
    "# format price data\n",
    "pd.options.display.float_format = '{:0.2f}'.format"
   ]
  },
  {
   "cell_type": "markdown",
   "metadata": {},
   "source": [
    "Some global data"
   ]
  },
  {
   "cell_type": "code",
   "execution_count": 4,
   "metadata": {},
   "outputs": [],
   "source": [
    "symbol = '^GSPC'\n",
    "#symbol = 'SPY'\n",
    "capital = 100000\n",
    "start = datetime.datetime(1900, 1, 1)\n",
    "end = datetime.datetime.now()"
   ]
  },
  {
   "cell_type": "markdown",
   "metadata": {},
   "source": [
    "Define Strategy Class"
   ]
  },
  {
   "cell_type": "code",
   "execution_count": 5,
   "metadata": {},
   "outputs": [],
   "source": [
    "class Strategy():\n",
    "    \"\"\" strategy \"\"\"\n",
    "\n",
    "    def __init__(self, symbol, capital, start, end):\n",
    "        self._symbol = symbol\n",
    "        self._capital = capital\n",
    "        self._start = start\n",
    "        self._end = end\n",
    "\n",
    "    def _algo(self):\n",
    "        cash = self._capital\n",
    "        shares = 0\n",
    "        start_flag = True\n",
    "        end_flag = False\n",
    "\n",
    "        for i in range(len(self._ts.index)):\n",
    "\n",
    "            date = self._ts.index[i]\n",
    "            high = self._ts['high'][i]\n",
    "            low = self._ts['low'][i]\n",
    "            close = self._ts['close'][i]\n",
    "            end_flag = True if (i == len(self._ts.index) - 1) else False\n",
    "\n",
    "            if self._ts.index[i] < self._start:\n",
    "                continue\n",
    "            elif start_flag:\n",
    "                start_flag = False\n",
    "                # set start and end\n",
    "                self._start = self._ts.index[i]\n",
    "                self._end = self._ts.index[-1]\n",
    "\n",
    "            # buy\n",
    "            if self._tlog.num_open_trades() == 0:\n",
    "\n",
    "                # calculate shares\n",
    "                shares, cash = self._tlog.calc_shares(cash, close)\n",
    "\n",
    "                # enter buy in trade log\n",
    "                self._tlog.enter_trade(date, close, shares)\n",
    "                print(\"{0} BUY  {1} {2} @ {3:.2f}\".format(date, shares, \n",
    "                      self._symbol, close))\n",
    "\n",
    "                # record daily balance\n",
    "                self._dbal.append(date, high, low, close, shares, cash,\n",
    "                                  pf.TradeState.OPEN)\n",
    "            \n",
    "            # sell \n",
    "            elif end_flag:\n",
    "\n",
    "                # enter sell in trade log\n",
    "                idx = self._tlog.exit_trade(date, close)\n",
    "                shares = self._tlog.get_log()['qty'][idx]\n",
    "                print(\"{0} SELL {1} {2} @ {3:.2f}\".format(date, shares,\n",
    "                      self._symbol, close))\n",
    "\n",
    "                # record daily balance\n",
    "                self._dbal.append(date, high, low, close, shares,\n",
    "                                  cash, pf.TradeState.CLOSE)   \n",
    "\n",
    "                # update cash\n",
    "                cash = self._tlog.calc_cash(cash, close, shares)\n",
    "                \n",
    "                # update shares\n",
    "                shares = 0\n",
    "\n",
    "            # hold            \n",
    "            else:\n",
    "                self._dbal.append(date, high, low, close, shares,\n",
    "                                  cash, pf.TradeState.HOLD)\n",
    "\n",
    "    def run(self):\n",
    "        self._ts = pf.fetch_timeseries(self._symbol)\n",
    "        self._ts = pf.select_tradeperiod(self._ts,\n",
    "                                        self._start, self._end,\n",
    "                                        use_adj=True, pad=False)\n",
    "        self._tlog = pf.TradeLog()\n",
    "        self._dbal = pf.DailyBal()\n",
    "\n",
    "        self._algo()\n",
    "\n",
    "    def get_logs(self):\n",
    "        \"\"\" return DataFrames \"\"\"\n",
    "        tlog = self._tlog.get_log()\n",
    "        dbal = self._dbal.get_log()\n",
    "        return tlog, dbal\n",
    "\n",
    "    def stats(self):\n",
    "        tlog, dbal = self.get_logs()\n",
    "        \n",
    "        stats = pf.stats(self._ts, tlog, dbal,\n",
    "                         self._start, self._end, self._capital)\n",
    "        return stats"
   ]
  },
  {
   "cell_type": "markdown",
   "metadata": {},
   "source": [
    "Run Strategy"
   ]
  },
  {
   "cell_type": "code",
   "execution_count": 6,
   "metadata": {
    "scrolled": true
   },
   "outputs": [
    {
     "name": "stdout",
     "output_type": "stream",
     "text": [
      "1950-01-03 00:00:00 BUY  6002 ^GSPC @ 16.66\n",
      "2019-05-14 00:00:00 SELL 6002 ^GSPC @ 2834.41\n"
     ]
    }
   ],
   "source": [
    "s = Strategy(symbol, capital, start, end)\n",
    "s.run()"
   ]
  },
  {
   "cell_type": "markdown",
   "metadata": {},
   "source": [
    "Retrieve log DataFrames"
   ]
  },
  {
   "cell_type": "code",
   "execution_count": 7,
   "metadata": {},
   "outputs": [],
   "source": [
    "s.tlog, s.dbal = s.get_logs()\n",
    "s.stats = s.stats()"
   ]
  },
  {
   "cell_type": "code",
   "execution_count": 8,
   "metadata": {},
   "outputs": [
    {
     "data": {
      "text/html": [
       "<div>\n",
       "<style scoped>\n",
       "    .dataframe tbody tr th:only-of-type {\n",
       "        vertical-align: middle;\n",
       "    }\n",
       "\n",
       "    .dataframe tbody tr th {\n",
       "        vertical-align: top;\n",
       "    }\n",
       "\n",
       "    .dataframe thead th {\n",
       "        text-align: right;\n",
       "    }\n",
       "</style>\n",
       "<table border=\"1\" class=\"dataframe\">\n",
       "  <thead>\n",
       "    <tr style=\"text-align: right;\">\n",
       "      <th></th>\n",
       "      <th>entry_date</th>\n",
       "      <th>entry_price</th>\n",
       "      <th>long_short</th>\n",
       "      <th>qty</th>\n",
       "      <th>exit_date</th>\n",
       "      <th>exit_price</th>\n",
       "      <th>pl_points</th>\n",
       "      <th>pl_cash</th>\n",
       "      <th>cumul_total</th>\n",
       "    </tr>\n",
       "  </thead>\n",
       "  <tbody>\n",
       "    <tr>\n",
       "      <th>0</th>\n",
       "      <td>1950-01-03</td>\n",
       "      <td>16.66</td>\n",
       "      <td>long</td>\n",
       "      <td>6002</td>\n",
       "      <td>2019-05-14 00:00:00</td>\n",
       "      <td>2834.41</td>\n",
       "      <td>2817.75</td>\n",
       "      <td>16912134.97</td>\n",
       "      <td>16912134.97</td>\n",
       "    </tr>\n",
       "  </tbody>\n",
       "</table>\n",
       "</div>"
      ],
      "text/plain": [
       "  entry_date  entry_price long_short   qty            exit_date  exit_price  \\\n",
       "0 1950-01-03        16.66       long  6002  2019-05-14 00:00:00     2834.41   \n",
       "\n",
       "   pl_points     pl_cash  cumul_total  \n",
       "0    2817.75 16912134.97  16912134.97  "
      ]
     },
     "execution_count": 8,
     "metadata": {},
     "output_type": "execute_result"
    }
   ],
   "source": [
    "s.tlog.tail()"
   ]
  },
  {
   "cell_type": "code",
   "execution_count": 9,
   "metadata": {},
   "outputs": [
    {
     "data": {
      "text/html": [
       "<div>\n",
       "<style scoped>\n",
       "    .dataframe tbody tr th:only-of-type {\n",
       "        vertical-align: middle;\n",
       "    }\n",
       "\n",
       "    .dataframe tbody tr th {\n",
       "        vertical-align: top;\n",
       "    }\n",
       "\n",
       "    .dataframe thead th {\n",
       "        text-align: right;\n",
       "    }\n",
       "</style>\n",
       "<table border=\"1\" class=\"dataframe\">\n",
       "  <thead>\n",
       "    <tr style=\"text-align: right;\">\n",
       "      <th></th>\n",
       "      <th>high</th>\n",
       "      <th>low</th>\n",
       "      <th>close</th>\n",
       "      <th>shares</th>\n",
       "      <th>cash</th>\n",
       "      <th>state</th>\n",
       "    </tr>\n",
       "    <tr>\n",
       "      <th>date</th>\n",
       "      <th></th>\n",
       "      <th></th>\n",
       "      <th></th>\n",
       "      <th></th>\n",
       "      <th></th>\n",
       "      <th></th>\n",
       "    </tr>\n",
       "  </thead>\n",
       "  <tbody>\n",
       "    <tr>\n",
       "      <th>2019-05-08</th>\n",
       "      <td>17393562.37</td>\n",
       "      <td>17245433.42</td>\n",
       "      <td>17282285.05</td>\n",
       "      <td>6002</td>\n",
       "      <td>6.68</td>\n",
       "      <td>1</td>\n",
       "    </tr>\n",
       "    <tr>\n",
       "      <th>2019-05-09</th>\n",
       "      <td>17261578.45</td>\n",
       "      <td>17024078.89</td>\n",
       "      <td>17230067.95</td>\n",
       "      <td>6002</td>\n",
       "      <td>6.68</td>\n",
       "      <td>1</td>\n",
       "    </tr>\n",
       "    <tr>\n",
       "      <th>2019-05-10</th>\n",
       "      <td>17353649.65</td>\n",
       "      <td>16957996.82</td>\n",
       "      <td>17294168.89</td>\n",
       "      <td>6002</td>\n",
       "      <td>6.68</td>\n",
       "      <td>1</td>\n",
       "    </tr>\n",
       "    <tr>\n",
       "      <th>2019-05-13</th>\n",
       "      <td>17046826.71</td>\n",
       "      <td>16814189.13</td>\n",
       "      <td>16876851.12</td>\n",
       "      <td>6002</td>\n",
       "      <td>6.68</td>\n",
       "      <td>1</td>\n",
       "    </tr>\n",
       "    <tr>\n",
       "      <th>2019-05-14</th>\n",
       "      <td>17120952.00</td>\n",
       "      <td>16926367.62</td>\n",
       "      <td>17012134.97</td>\n",
       "      <td>6002</td>\n",
       "      <td>6.68</td>\n",
       "      <td>2</td>\n",
       "    </tr>\n",
       "  </tbody>\n",
       "</table>\n",
       "</div>"
      ],
      "text/plain": [
       "                  high         low       close  shares  cash  state\n",
       "date                                                               \n",
       "2019-05-08 17393562.37 17245433.42 17282285.05    6002  6.68      1\n",
       "2019-05-09 17261578.45 17024078.89 17230067.95    6002  6.68      1\n",
       "2019-05-10 17353649.65 16957996.82 17294168.89    6002  6.68      1\n",
       "2019-05-13 17046826.71 16814189.13 16876851.12    6002  6.68      1\n",
       "2019-05-14 17120952.00 16926367.62 17012134.97    6002  6.68      2"
      ]
     },
     "execution_count": 9,
     "metadata": {},
     "output_type": "execute_result"
    }
   ],
   "source": [
    "s.dbal.tail()"
   ]
  },
  {
   "cell_type": "code",
   "execution_count": 10,
   "metadata": {},
   "outputs": [
    {
     "name": "stdout",
     "output_type": "stream",
     "text": [
      "start                                                   1950-01-03\n",
      "end                                                     2019-05-14\n",
      "beginning_balance                                           100000\n",
      "ending_balance                                         17012134.97\n",
      "total_net_profit                                       16912134.97\n",
      "gross_profit                                           16912134.97\n",
      "gross_loss                                                    0.00\n",
      "profit_factor                                                 1000\n",
      "return_on_initial_capital                                 16912.13\n",
      "annual_return_rate                                            7.69\n",
      "trading_period                           69 years 4 months 11 days\n",
      "pct_time_in_market                                          100.00\n",
      "total_num_trades                                                 1\n",
      "num_winning_trades                                               1\n",
      "num_losing_trades                                                0\n",
      "num_even_trades                                                  0\n",
      "pct_profitable_trades                                       100.00\n",
      "avg_profit_per_trade                                   16912134.97\n",
      "avg_profit_per_winning_trade                           16912134.97\n",
      "avg_loss_per_losing_trade                                        0\n",
      "ratio_avg_profit_win_loss                                     1000\n",
      "largest_profit_winning_trade                           16912134.97\n",
      "largest_loss_losing_trade                                        0\n",
      "num_winning_points                                         2817.75\n",
      "num_losing_points                                                0\n",
      "total_net_points                                           2817.75\n",
      "avg_points                                                 2817.75\n",
      "largest_points_winning_trade                               2817.75\n",
      "largest_points_losing_trade                                      0\n",
      "avg_pct_gain_per_trade                                    16913.26\n",
      "largest_pct_winning_trade                                 16913.26\n",
      "largest_pct_losing_trade                                         0\n",
      "max_consecutive_winning_trades                                   1\n",
      "max_consecutive_losing_trades                                    0\n",
      "avg_bars_winning_trades                                   17453.00\n",
      "avg_bars_losing_trades                                           0\n",
      "max_closed_out_drawdown                                     -56.78\n",
      "max_closed_out_drawdown_start_date                      2007-10-09\n",
      "max_closed_out_drawdown_end_date                        2009-03-09\n",
      "max_closed_out_drawdown_recovery_date                   2013-03-28\n",
      "drawdown_recovery                                            -1.42\n",
      "drawdown_annualized_return                                   -7.39\n",
      "max_intra_day_drawdown                                      -57.69\n",
      "avg_yearly_closed_out_drawdown                              -13.20\n",
      "max_yearly_closed_out_drawdown                              -52.58\n",
      "avg_monthly_closed_out_drawdown                              -3.56\n",
      "max_monthly_closed_out_drawdown                             -31.47\n",
      "avg_weekly_closed_out_drawdown                               -1.38\n",
      "max_weekly_closed_out_drawdown                              -28.51\n",
      "avg_yearly_closed_out_runup                                  22.85\n",
      "max_yearly_closed_out_runup                                  70.02\n",
      "avg_monthly_closed_out_runup                                  4.27\n",
      "max_monthly_closed_out_runup                                 24.53\n",
      "avg_weekly_closed_out_runup                                   1.56\n",
      "max_weekly_closed_out_runup                                  19.11\n",
      "pct_profitable_years                                         73.69\n",
      "best_year                                                    68.57\n",
      "worst_year                                                  -48.82\n",
      "avg_year                                                      8.85\n",
      "annual_std                                                   15.83\n",
      "pct_profitable_months                                        61.10\n",
      "best_month                                                   23.49\n",
      "worst_month                                                 -29.56\n",
      "avg_month                                                     0.68\n",
      "monthly_std                                                   4.14\n",
      "pct_profitable_weeks                                         56.45\n",
      "best_week                                                    19.11\n",
      "worst_week                                                  -27.33\n",
      "avg_week                                                      0.17\n",
      "weekly_std                                                    2.14\n",
      "sharpe_ratio                                                  0.56\n",
      "sortino_ratio                                                 0.72\n",
      "dtype: object\n"
     ]
    }
   ],
   "source": [
    "pf.print_full(s.stats)"
   ]
  },
  {
   "cell_type": "markdown",
   "metadata": {},
   "source": [
    "Summary"
   ]
  },
  {
   "cell_type": "code",
   "execution_count": 11,
   "metadata": {},
   "outputs": [
    {
     "data": {
      "text/html": [
       "<div>\n",
       "<style scoped>\n",
       "    .dataframe tbody tr th:only-of-type {\n",
       "        vertical-align: middle;\n",
       "    }\n",
       "\n",
       "    .dataframe tbody tr th {\n",
       "        vertical-align: top;\n",
       "    }\n",
       "\n",
       "    .dataframe thead th {\n",
       "        text-align: right;\n",
       "    }\n",
       "</style>\n",
       "<table border=\"1\" class=\"dataframe\">\n",
       "  <thead>\n",
       "    <tr style=\"text-align: right;\">\n",
       "      <th></th>\n",
       "      <th>strategy</th>\n",
       "    </tr>\n",
       "  </thead>\n",
       "  <tbody>\n",
       "    <tr>\n",
       "      <th>annual_return_rate</th>\n",
       "      <td>7.69</td>\n",
       "    </tr>\n",
       "    <tr>\n",
       "      <th>max_closed_out_drawdown</th>\n",
       "      <td>-56.78</td>\n",
       "    </tr>\n",
       "    <tr>\n",
       "      <th>drawdown_annualized_return</th>\n",
       "      <td>-7.39</td>\n",
       "    </tr>\n",
       "    <tr>\n",
       "      <th>drawdown_recovery</th>\n",
       "      <td>-1.42</td>\n",
       "    </tr>\n",
       "    <tr>\n",
       "      <th>best_month</th>\n",
       "      <td>23.49</td>\n",
       "    </tr>\n",
       "    <tr>\n",
       "      <th>worst_month</th>\n",
       "      <td>-29.56</td>\n",
       "    </tr>\n",
       "    <tr>\n",
       "      <th>sharpe_ratio</th>\n",
       "      <td>0.56</td>\n",
       "    </tr>\n",
       "    <tr>\n",
       "      <th>sortino_ratio</th>\n",
       "      <td>0.72</td>\n",
       "    </tr>\n",
       "    <tr>\n",
       "      <th>monthly_std</th>\n",
       "      <td>4.14</td>\n",
       "    </tr>\n",
       "  </tbody>\n",
       "</table>\n",
       "</div>"
      ],
      "text/plain": [
       "                            strategy\n",
       "annual_return_rate              7.69\n",
       "max_closed_out_drawdown       -56.78\n",
       "drawdown_annualized_return     -7.39\n",
       "drawdown_recovery              -1.42\n",
       "best_month                     23.49\n",
       "worst_month                   -29.56\n",
       "sharpe_ratio                    0.56\n",
       "sortino_ratio                   0.72\n",
       "monthly_std                     4.14"
      ]
     },
     "execution_count": 11,
     "metadata": {},
     "output_type": "execute_result"
    }
   ],
   "source": [
    "metrics = ('annual_return_rate',\n",
    "           'max_closed_out_drawdown',\n",
    "           'drawdown_annualized_return',\n",
    "           'drawdown_recovery',\n",
    "           'best_month',\n",
    "           'worst_month',\n",
    "           'sharpe_ratio',\n",
    "           'sortino_ratio',\n",
    "           'monthly_std')\n",
    "\n",
    "pf.summary(s.stats, *metrics)"
   ]
  }
 ],
 "metadata": {
  "kernelspec": {
   "display_name": "Python 2",
   "language": "python",
   "name": "python2"
  },
  "language_info": {
   "codemirror_mode": {
    "name": "ipython",
    "version": 2
   },
   "file_extension": ".py",
   "mimetype": "text/x-python",
   "name": "python",
   "nbconvert_exporter": "python",
   "pygments_lexer": "ipython2",
   "version": "2.7.15rc1"
  }
 },
 "nbformat": 4,
 "nbformat_minor": 1
}
