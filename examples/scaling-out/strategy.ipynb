{
 "cells": [
  {
   "cell_type": "markdown",
   "metadata": {},
   "source": [
    "# Double 7's (Short Term Trading Strategies that Work)\n",
    "\n",
    "    1. The SPY is above its 200-day moving average\n",
    "    2. The SPY closes at a X-day low, buy some shares.\n",
    "       If it falls further, buy some more, etc...\n",
    "    3. If the SPY closes at a X-day high, sell your entire long position.\n",
    "    \n",
    "    (Scaling in)"
   ]
  },
  {
   "cell_type": "code",
   "execution_count": 1,
   "metadata": {
    "ExecuteTime": {
     "end_time": "2019-12-24T16:14:09.740812Z",
     "start_time": "2019-12-24T16:14:09.002047Z"
    }
   },
   "outputs": [],
   "source": [
    "# use future imports for python 3.x forward compatibility\n",
    "from __future__ import print_function\n",
    "from __future__ import unicode_literals\n",
    "from __future__ import division\n",
    "from __future__ import absolute_import\n",
    "\n",
    "# other imports\n",
    "import pandas as pd\n",
    "import matplotlib.pyplot as plt\n",
    "import datetime\n",
    "from talib.abstract import *\n",
    "\n",
    "# project imports\n",
    "import pinkfish as pf\n",
    "import strategy\n",
    "\n",
    "# format price data\n",
    "pd.options.display.float_format = '{:0.2f}'.format\n",
    "\n",
    "%matplotlib inline"
   ]
  },
  {
   "cell_type": "code",
   "execution_count": 2,
   "metadata": {
    "ExecuteTime": {
     "end_time": "2019-12-24T16:14:09.758993Z",
     "start_time": "2019-12-24T16:14:09.752084Z"
    }
   },
   "outputs": [],
   "source": [
    "# set size of inline plots\n",
    "'''note: rcParams can't be in same cell as import matplotlib\n",
    "   or %matplotlib inline\n",
    "   \n",
    "   %matplotlib notebook: will lead to interactive plots embedded within\n",
    "   the notebook, you can zoom and resize the figure\n",
    "   \n",
    "   %matplotlib inline: only draw static images in the notebook\n",
    "'''\n",
    "plt.rcParams[\"figure.figsize\"] = (10, 7)"
   ]
  },
  {
   "cell_type": "markdown",
   "metadata": {},
   "source": [
    "Some global data"
   ]
  },
  {
   "cell_type": "code",
   "execution_count": 3,
   "metadata": {
    "ExecuteTime": {
     "end_time": "2019-12-24T16:14:09.773193Z",
     "start_time": "2019-12-24T16:14:09.765805Z"
    }
   },
   "outputs": [],
   "source": [
    "#symbol = '^GSPC'\n",
    "#symbol = 'SPY'\n",
    "#symbol = 'DIA'\n",
    "#symbol = 'QQQ'\n",
    "#symbol = 'IWM'\n",
    "#symbol = 'TLT'\n",
    "#symbol = 'GLD'\n",
    "#symbol = 'AAPL'\n",
    "#symbol = 'BBRY'\n",
    "symbol = 'GDX'\n",
    "capital = 10000\n",
    "start = datetime.datetime(1900, 1, 1)\n",
    "end = datetime.datetime.now()"
   ]
  },
  {
   "cell_type": "markdown",
   "metadata": {},
   "source": [
    "Define high low trade periods"
   ]
  },
  {
   "cell_type": "code",
   "execution_count": 4,
   "metadata": {
    "ExecuteTime": {
     "end_time": "2019-12-24T16:14:09.788471Z",
     "start_time": "2019-12-24T16:14:09.778129Z"
    }
   },
   "outputs": [],
   "source": [
    "period = 7"
   ]
  },
  {
   "cell_type": "markdown",
   "metadata": {},
   "source": [
    "Define max number of positions to scale into"
   ]
  },
  {
   "cell_type": "code",
   "execution_count": 5,
   "metadata": {
    "ExecuteTime": {
     "end_time": "2019-12-24T16:14:09.804955Z",
     "start_time": "2019-12-24T16:14:09.795988Z"
    }
   },
   "outputs": [],
   "source": [
    "max_positions = 2"
   ]
  },
  {
   "cell_type": "markdown",
   "metadata": {},
   "source": [
    "Run Strategy"
   ]
  },
  {
   "cell_type": "code",
   "execution_count": 6,
   "metadata": {
    "ExecuteTime": {
     "end_time": "2019-12-24T16:14:09.982550Z",
     "start_time": "2019-12-24T16:14:09.812180Z"
    },
    "scrolled": false
   },
   "outputs": [],
   "source": [
    "s = strategy.Strategy(symbol, capital, start, end, period=period, max_positions=max_positions)\n",
    "s.run()"
   ]
  },
  {
   "cell_type": "markdown",
   "metadata": {},
   "source": [
    "Retrieve log DataFrames"
   ]
  },
  {
   "cell_type": "code",
   "execution_count": 7,
   "metadata": {
    "ExecuteTime": {
     "end_time": "2019-12-24T16:14:10.485883Z",
     "start_time": "2019-12-24T16:14:09.991632Z"
    }
   },
   "outputs": [],
   "source": [
    "tlog, dbal = s.get_logs()\n",
    "stats = s.get_stats()"
   ]
  },
  {
   "cell_type": "code",
   "execution_count": 8,
   "metadata": {
    "ExecuteTime": {
     "end_time": "2019-12-24T16:14:10.538142Z",
     "start_time": "2019-12-24T16:14:10.496150Z"
    }
   },
   "outputs": [
    {
     "data": {
      "text/html": [
       "<div>\n",
       "<style scoped>\n",
       "    .dataframe tbody tr th:only-of-type {\n",
       "        vertical-align: middle;\n",
       "    }\n",
       "\n",
       "    .dataframe tbody tr th {\n",
       "        vertical-align: top;\n",
       "    }\n",
       "\n",
       "    .dataframe thead th {\n",
       "        text-align: right;\n",
       "    }\n",
       "</style>\n",
       "<table border=\"1\" class=\"dataframe\">\n",
       "  <thead>\n",
       "    <tr style=\"text-align: right;\">\n",
       "      <th></th>\n",
       "      <th>entry_date</th>\n",
       "      <th>entry_price</th>\n",
       "      <th>exit_date</th>\n",
       "      <th>exit_price</th>\n",
       "      <th>pl_points</th>\n",
       "      <th>pl_cash</th>\n",
       "      <th>qty</th>\n",
       "      <th>cumul_total</th>\n",
       "    </tr>\n",
       "  </thead>\n",
       "  <tbody>\n",
       "    <tr>\n",
       "      <th>142</th>\n",
       "      <td>2019-02-07</td>\n",
       "      <td>22.03</td>\n",
       "      <td>2019-02-19</td>\n",
       "      <td>23.14</td>\n",
       "      <td>1.11</td>\n",
       "      <td>436.23</td>\n",
       "      <td>393</td>\n",
       "      <td>7909.76</td>\n",
       "    </tr>\n",
       "    <tr>\n",
       "      <th>143</th>\n",
       "      <td>2019-02-27</td>\n",
       "      <td>22.35</td>\n",
       "      <td>2019-03-08</td>\n",
       "      <td>22.37</td>\n",
       "      <td>0.02</td>\n",
       "      <td>8.00</td>\n",
       "      <td>400</td>\n",
       "      <td>7917.76</td>\n",
       "    </tr>\n",
       "    <tr>\n",
       "      <th>144</th>\n",
       "      <td>2019-02-27</td>\n",
       "      <td>22.35</td>\n",
       "      <td>2019-03-12</td>\n",
       "      <td>22.68</td>\n",
       "      <td>0.33</td>\n",
       "      <td>132.33</td>\n",
       "      <td>401</td>\n",
       "      <td>8050.09</td>\n",
       "    </tr>\n",
       "    <tr>\n",
       "      <th>145</th>\n",
       "      <td>2019-03-18</td>\n",
       "      <td>22.05</td>\n",
       "      <td>2019-03-22</td>\n",
       "      <td>22.78</td>\n",
       "      <td>0.73</td>\n",
       "      <td>298.57</td>\n",
       "      <td>409</td>\n",
       "      <td>8348.66</td>\n",
       "    </tr>\n",
       "    <tr>\n",
       "      <th>146</th>\n",
       "      <td>2019-03-18</td>\n",
       "      <td>22.05</td>\n",
       "      <td>2019-03-25</td>\n",
       "      <td>23.26</td>\n",
       "      <td>1.21</td>\n",
       "      <td>494.89</td>\n",
       "      <td>409</td>\n",
       "      <td>8843.55</td>\n",
       "    </tr>\n",
       "    <tr>\n",
       "      <th>147</th>\n",
       "      <td>2019-03-28</td>\n",
       "      <td>22.41</td>\n",
       "      <td>2019-04-08</td>\n",
       "      <td>22.69</td>\n",
       "      <td>0.28</td>\n",
       "      <td>117.60</td>\n",
       "      <td>420</td>\n",
       "      <td>8961.15</td>\n",
       "    </tr>\n",
       "    <tr>\n",
       "      <th>148</th>\n",
       "      <td>2019-03-28</td>\n",
       "      <td>22.41</td>\n",
       "      <td>2019-04-09</td>\n",
       "      <td>22.82</td>\n",
       "      <td>0.41</td>\n",
       "      <td>172.20</td>\n",
       "      <td>420</td>\n",
       "      <td>9133.35</td>\n",
       "    </tr>\n",
       "    <tr>\n",
       "      <th>149</th>\n",
       "      <td>2019-04-12</td>\n",
       "      <td>22.21</td>\n",
       "      <td>2019-05-13</td>\n",
       "      <td>20.93</td>\n",
       "      <td>-1.28</td>\n",
       "      <td>-550.40</td>\n",
       "      <td>430</td>\n",
       "      <td>8582.95</td>\n",
       "    </tr>\n",
       "    <tr>\n",
       "      <th>150</th>\n",
       "      <td>2019-04-12</td>\n",
       "      <td>22.21</td>\n",
       "      <td>2019-05-30</td>\n",
       "      <td>20.77</td>\n",
       "      <td>-1.44</td>\n",
       "      <td>-620.64</td>\n",
       "      <td>431</td>\n",
       "      <td>7962.31</td>\n",
       "    </tr>\n",
       "    <tr>\n",
       "      <th>151</th>\n",
       "      <td>2019-07-01</td>\n",
       "      <td>24.58</td>\n",
       "      <td>2019-07-03</td>\n",
       "      <td>25.65</td>\n",
       "      <td>1.07</td>\n",
       "      <td>781.10</td>\n",
       "      <td>730</td>\n",
       "      <td>8743.41</td>\n",
       "    </tr>\n",
       "  </tbody>\n",
       "</table>\n",
       "</div>"
      ],
      "text/plain": [
       "    entry_date  entry_price  exit_date  exit_price  pl_points  pl_cash  qty  \\\n",
       "142 2019-02-07        22.03 2019-02-19       23.14       1.11   436.23  393   \n",
       "143 2019-02-27        22.35 2019-03-08       22.37       0.02     8.00  400   \n",
       "144 2019-02-27        22.35 2019-03-12       22.68       0.33   132.33  401   \n",
       "145 2019-03-18        22.05 2019-03-22       22.78       0.73   298.57  409   \n",
       "146 2019-03-18        22.05 2019-03-25       23.26       1.21   494.89  409   \n",
       "147 2019-03-28        22.41 2019-04-08       22.69       0.28   117.60  420   \n",
       "148 2019-03-28        22.41 2019-04-09       22.82       0.41   172.20  420   \n",
       "149 2019-04-12        22.21 2019-05-13       20.93      -1.28  -550.40  430   \n",
       "150 2019-04-12        22.21 2019-05-30       20.77      -1.44  -620.64  431   \n",
       "151 2019-07-01        24.58 2019-07-03       25.65       1.07   781.10  730   \n",
       "\n",
       "     cumul_total  \n",
       "142      7909.76  \n",
       "143      7917.76  \n",
       "144      8050.09  \n",
       "145      8348.66  \n",
       "146      8843.55  \n",
       "147      8961.15  \n",
       "148      9133.35  \n",
       "149      8582.95  \n",
       "150      7962.31  \n",
       "151      8743.41  "
      ]
     },
     "execution_count": 8,
     "metadata": {},
     "output_type": "execute_result"
    }
   ],
   "source": [
    "tlog.tail(10)"
   ]
  },
  {
   "cell_type": "code",
   "execution_count": 9,
   "metadata": {
    "ExecuteTime": {
     "end_time": "2019-12-24T16:14:10.572131Z",
     "start_time": "2019-12-24T16:14:10.542788Z"
    }
   },
   "outputs": [
    {
     "data": {
      "text/html": [
       "<div>\n",
       "<style scoped>\n",
       "    .dataframe tbody tr th:only-of-type {\n",
       "        vertical-align: middle;\n",
       "    }\n",
       "\n",
       "    .dataframe tbody tr th {\n",
       "        vertical-align: top;\n",
       "    }\n",
       "\n",
       "    .dataframe thead th {\n",
       "        text-align: right;\n",
       "    }\n",
       "</style>\n",
       "<table border=\"1\" class=\"dataframe\">\n",
       "  <thead>\n",
       "    <tr style=\"text-align: right;\">\n",
       "      <th></th>\n",
       "      <th>high</th>\n",
       "      <th>low</th>\n",
       "      <th>close</th>\n",
       "      <th>shares</th>\n",
       "      <th>cash</th>\n",
       "      <th>state</th>\n",
       "    </tr>\n",
       "    <tr>\n",
       "      <th>date</th>\n",
       "      <th></th>\n",
       "      <th></th>\n",
       "      <th></th>\n",
       "      <th></th>\n",
       "      <th></th>\n",
       "      <th></th>\n",
       "    </tr>\n",
       "  </thead>\n",
       "  <tbody>\n",
       "    <tr>\n",
       "      <th>2019-06-27</th>\n",
       "      <td>17962.31</td>\n",
       "      <td>17962.31</td>\n",
       "      <td>17962.31</td>\n",
       "      <td>0</td>\n",
       "      <td>17962.31</td>\n",
       "      <td>-</td>\n",
       "    </tr>\n",
       "    <tr>\n",
       "      <th>2019-06-28</th>\n",
       "      <td>17962.31</td>\n",
       "      <td>17962.31</td>\n",
       "      <td>17962.31</td>\n",
       "      <td>0</td>\n",
       "      <td>17962.31</td>\n",
       "      <td>-</td>\n",
       "    </tr>\n",
       "    <tr>\n",
       "      <th>2019-07-01</th>\n",
       "      <td>18261.61</td>\n",
       "      <td>17925.81</td>\n",
       "      <td>17962.31</td>\n",
       "      <td>730</td>\n",
       "      <td>18.91</td>\n",
       "      <td>O</td>\n",
       "    </tr>\n",
       "    <tr>\n",
       "      <th>2019-07-02</th>\n",
       "      <td>18743.41</td>\n",
       "      <td>18130.21</td>\n",
       "      <td>18670.41</td>\n",
       "      <td>730</td>\n",
       "      <td>18.91</td>\n",
       "      <td>-</td>\n",
       "    </tr>\n",
       "    <tr>\n",
       "      <th>2019-07-03</th>\n",
       "      <td>18743.41</td>\n",
       "      <td>18743.41</td>\n",
       "      <td>18743.41</td>\n",
       "      <td>0</td>\n",
       "      <td>18743.41</td>\n",
       "      <td>X</td>\n",
       "    </tr>\n",
       "  </tbody>\n",
       "</table>\n",
       "</div>"
      ],
      "text/plain": [
       "               high      low    close  shares     cash state\n",
       "date                                                        \n",
       "2019-06-27 17962.31 17962.31 17962.31       0 17962.31     -\n",
       "2019-06-28 17962.31 17962.31 17962.31       0 17962.31     -\n",
       "2019-07-01 18261.61 17925.81 17962.31     730    18.91     O\n",
       "2019-07-02 18743.41 18130.21 18670.41     730    18.91     -\n",
       "2019-07-03 18743.41 18743.41 18743.41       0 18743.41     X"
      ]
     },
     "execution_count": 9,
     "metadata": {},
     "output_type": "execute_result"
    }
   ],
   "source": [
    "dbal.tail()"
   ]
  },
  {
   "cell_type": "markdown",
   "metadata": {},
   "source": [
    "Generate strategy stats - display all available stats"
   ]
  },
  {
   "cell_type": "code",
   "execution_count": 10,
   "metadata": {
    "ExecuteTime": {
     "end_time": "2019-12-24T16:14:10.623155Z",
     "start_time": "2019-12-24T16:14:10.580870Z"
    }
   },
   "outputs": [
    {
     "name": "stdout",
     "output_type": "stream",
     "text": [
      "start                                                   2007-03-08\n",
      "end                                                     2019-07-03\n",
      "beginning_balance                                            10000\n",
      "ending_balance                                            18743.41\n",
      "total_net_profit                                           8743.41\n",
      "gross_profit                                              28965.04\n",
      "gross_loss                                               -20221.63\n",
      "profit_factor                                                 1.43\n",
      "return_on_initial_capital                                    87.43\n",
      "annual_return_rate                                            5.23\n",
      "trading_period                           12 years 3 months 25 days\n",
      "pct_time_in_market                                           27.36\n",
      "total_num_trades                                               152\n",
      "trades_per_year                                              12.34\n",
      "num_winning_trades                                              96\n",
      "num_losing_trades                                               55\n",
      "num_even_trades                                                  1\n",
      "pct_profitable_trades                                        63.16\n",
      "avg_profit_per_trade                                         57.52\n",
      "avg_profit_per_winning_trade                                301.72\n",
      "avg_loss_per_losing_trade                                  -367.67\n",
      "ratio_avg_profit_win_loss                                     0.82\n",
      "largest_profit_winning_trade                               1060.66\n",
      "largest_loss_losing_trade                                 -2140.32\n",
      "num_winning_points                                          157.74\n",
      "num_losing_points                                          -103.63\n",
      "total_net_points                                             54.11\n",
      "avg_points                                                    0.36\n",
      "largest_points_winning_trade                                  5.86\n",
      "largest_points_losing_trade                                  -6.90\n",
      "avg_pct_gain_per_trade                                        0.99\n",
      "largest_pct_winning_trade                                    15.11\n",
      "largest_pct_losing_trade                                    -25.08\n",
      "max_consecutive_winning_trades                                  11\n",
      "max_consecutive_losing_trades                                    5\n",
      "avg_bars_winning_trades                                       8.04\n",
      "avg_bars_losing_trades                                       18.11\n",
      "max_closed_out_drawdown                                     -32.14\n",
      "max_closed_out_drawdown_start_date                      2011-04-29\n",
      "max_closed_out_drawdown_end_date                        2014-11-05\n",
      "max_closed_out_drawdown_recovery_date                   2016-07-27\n",
      "drawdown_recovery                                            -3.52\n",
      "drawdown_annualized_return                                   -6.14\n",
      "max_intra_day_drawdown                                      -32.81\n",
      "avg_yearly_closed_out_drawdown                              -12.72\n",
      "max_yearly_closed_out_drawdown                              -25.17\n",
      "avg_monthly_closed_out_drawdown                              -2.58\n",
      "max_monthly_closed_out_drawdown                             -17.70\n",
      "avg_weekly_closed_out_drawdown                               -0.86\n",
      "max_weekly_closed_out_drawdown                              -13.18\n",
      "avg_yearly_closed_out_runup                                  18.91\n",
      "max_yearly_closed_out_runup                                  57.35\n",
      "avg_monthly_closed_out_runup                                  2.96\n",
      "max_monthly_closed_out_runup                                 22.97\n",
      "avg_weekly_closed_out_runup                                   1.01\n",
      "max_weekly_closed_out_runup                                  13.95\n",
      "pct_profitable_years                                         50.30\n",
      "best_year                                                    57.35\n",
      "worst_year                                                  -21.20\n",
      "avg_year                                                      5.65\n",
      "annual_std                                                   15.25\n",
      "pct_profitable_months                                        28.67\n",
      "best_month                                                   22.97\n",
      "worst_month                                                 -17.70\n",
      "avg_month                                                     0.46\n",
      "monthly_std                                                   3.96\n",
      "pct_profitable_weeks                                         19.72\n",
      "best_week                                                    13.95\n",
      "worst_week                                                  -13.18\n",
      "avg_week                                                      0.12\n",
      "weekly_std                                                    2.35\n",
      "sharpe_ratio                                                  0.38\n",
      "sortino_ratio                                                 0.30\n",
      "dtype: object\n"
     ]
    }
   ],
   "source": [
    "pf.print_full(stats)"
   ]
  },
  {
   "cell_type": "markdown",
   "metadata": {},
   "source": [
    "Equity curve"
   ]
  },
  {
   "cell_type": "markdown",
   "metadata": {},
   "source": [
    "Run Benchmark, Retrieve benchmark logs, and Generate benchmark stats"
   ]
  },
  {
   "cell_type": "code",
   "execution_count": 11,
   "metadata": {
    "ExecuteTime": {
     "end_time": "2019-12-24T16:14:11.095469Z",
     "start_time": "2019-12-24T16:14:10.631286Z"
    }
   },
   "outputs": [
    {
     "name": "stdout",
     "output_type": "stream",
     "text": [
      "2007-03-08 00:00:00 BUY  260 GDX @ 38.35\n",
      "2019-07-03 00:00:00 SELL 260 GDX @ 25.65\n"
     ]
    }
   ],
   "source": [
    "benchmark = pf.Benchmark(symbol, capital, s._start, s._end)\n",
    "benchmark.run()\n",
    "benchmark.tlog, benchmark.dbal = benchmark.get_logs()\n",
    "benchmark.stats = benchmark.get_stats()"
   ]
  },
  {
   "cell_type": "markdown",
   "metadata": {},
   "source": [
    "Plot Equity Curves: Strategy vs Benchmark"
   ]
  },
  {
   "cell_type": "code",
   "execution_count": 12,
   "metadata": {
    "ExecuteTime": {
     "end_time": "2019-12-24T16:14:11.400820Z",
     "start_time": "2019-12-24T16:14:11.105721Z"
    }
   },
   "outputs": [
    {
     "data": {
      "image/png": "[encoded data removed]",
      "text/plain": [
       "<Figure size 720x504 with 1 Axes>"
      ]
     },
     "metadata": {
      "needs_background": "light"
     },
     "output_type": "display_data"
    }
   ],
   "source": [
    "pf.plot_equity_curve(dbal, benchmark=benchmark.dbal)"
   ]
  },
  {
   "cell_type": "markdown",
   "metadata": {},
   "source": [
    "Plot Trades"
   ]
  },
  {
   "cell_type": "code",
   "execution_count": 13,
   "metadata": {
    "ExecuteTime": {
     "end_time": "2019-12-24T16:14:11.715718Z",
     "start_time": "2019-12-24T16:14:11.408806Z"
    }
   },
   "outputs": [
    {
     "data": {
      "image/png": "[encoded data removed]",
      "text/plain": [
       "<Figure size 720x504 with 1 Axes>"
      ]
     },
     "metadata": {
      "needs_background": "light"
     },
     "output_type": "display_data"
    }
   ],
   "source": [
    "pf.plot_trades(dbal, benchmark=benchmark.dbal)"
   ]
  },
  {
   "cell_type": "markdown",
   "metadata": {},
   "source": [
    "Bar Graph: Strategy vs Benchmark"
   ]
  },
  {
   "cell_type": "code",
   "execution_count": 14,
   "metadata": {
    "ExecuteTime": {
     "end_time": "2019-12-24T16:14:12.073370Z",
     "start_time": "2019-12-24T16:14:11.722474Z"
    }
   },
   "outputs": [
    {
     "data": {
      "text/html": [
       "<div>\n",
       "<style scoped>\n",
       "    .dataframe tbody tr th:only-of-type {\n",
       "        vertical-align: middle;\n",
       "    }\n",
       "\n",
       "    .dataframe tbody tr th {\n",
       "        vertical-align: top;\n",
       "    }\n",
       "\n",
       "    .dataframe thead th {\n",
       "        text-align: right;\n",
       "    }\n",
       "</style>\n",
       "<table border=\"1\" class=\"dataframe\">\n",
       "  <thead>\n",
       "    <tr style=\"text-align: right;\">\n",
       "      <th></th>\n",
       "      <th>strategy</th>\n",
       "      <th>benchmark</th>\n",
       "    </tr>\n",
       "  </thead>\n",
       "  <tbody>\n",
       "    <tr>\n",
       "      <th>annual_return_rate</th>\n",
       "      <td>5.23</td>\n",
       "      <td>-3.20</td>\n",
       "    </tr>\n",
       "    <tr>\n",
       "      <th>max_closed_out_drawdown</th>\n",
       "      <td>-32.14</td>\n",
       "      <td>-81.15</td>\n",
       "    </tr>\n",
       "    <tr>\n",
       "      <th>drawdown_annualized_return</th>\n",
       "      <td>-6.14</td>\n",
       "      <td>25.35</td>\n",
       "    </tr>\n",
       "    <tr>\n",
       "      <th>drawdown_recovery</th>\n",
       "      <td>-3.52</td>\n",
       "      <td>-4.36</td>\n",
       "    </tr>\n",
       "    <tr>\n",
       "      <th>best_month</th>\n",
       "      <td>22.97</td>\n",
       "      <td>67.61</td>\n",
       "    </tr>\n",
       "    <tr>\n",
       "      <th>worst_month</th>\n",
       "      <td>-17.70</td>\n",
       "      <td>-52.01</td>\n",
       "    </tr>\n",
       "    <tr>\n",
       "      <th>sharpe_ratio</th>\n",
       "      <td>0.38</td>\n",
       "      <td>0.13</td>\n",
       "    </tr>\n",
       "    <tr>\n",
       "      <th>sortino_ratio</th>\n",
       "      <td>0.30</td>\n",
       "      <td>0.20</td>\n",
       "    </tr>\n",
       "    <tr>\n",
       "      <th>monthly_std</th>\n",
       "      <td>3.96</td>\n",
       "      <td>10.77</td>\n",
       "    </tr>\n",
       "  </tbody>\n",
       "</table>\n",
       "</div>"
      ],
      "text/plain": [
       "                            strategy  benchmark\n",
       "annual_return_rate              5.23      -3.20\n",
       "max_closed_out_drawdown       -32.14     -81.15\n",
       "drawdown_annualized_return     -6.14      25.35\n",
       "drawdown_recovery              -3.52      -4.36\n",
       "best_month                     22.97      67.61\n",
       "worst_month                   -17.70     -52.01\n",
       "sharpe_ratio                    0.38       0.13\n",
       "sortino_ratio                   0.30       0.20\n",
       "monthly_std                     3.96      10.77"
      ]
     },
     "execution_count": 14,
     "metadata": {},
     "output_type": "execute_result"
    },
    {
     "data": {
      "image/png": "[encoded data removed]",
      "text/plain": [
       "<Figure size 720x504 with 1 Axes>"
      ]
     },
     "metadata": {
      "needs_background": "light"
     },
     "output_type": "display_data"
    }
   ],
   "source": [
    "metrics = ('annual_return_rate',\n",
    "           'max_closed_out_drawdown',\n",
    "           'drawdown_annualized_return',\n",
    "           'drawdown_recovery',\n",
    "           'best_month',\n",
    "           'worst_month',\n",
    "           'sharpe_ratio',\n",
    "           'sortino_ratio',\n",
    "           'monthly_std')\n",
    "\n",
    "df = pf.plot_bar_graph(stats, benchmark.stats, *metrics)\n",
    "df"
   ]
  },
  {
   "cell_type": "code",
   "execution_count": null,
   "metadata": {},
   "outputs": [],
   "source": []
  }
 ],
 "metadata": {
  "kernelspec": {
   "display_name": "Python 2",
   "language": "python",
   "name": "python2"
  },
  "language_info": {
   "codemirror_mode": {
    "name": "ipython",
    "version": 2
   },
   "file_extension": ".py",
   "mimetype": "text/x-python",
   "name": "python",
   "nbconvert_exporter": "python",
   "pygments_lexer": "ipython2",
   "version": "2.7.15+"
  },
  "latex_envs": {
   "LaTeX_envs_menu_present": true,
   "autoclose": false,
   "autocomplete": true,
   "bibliofile": "biblio.bib",
   "cite_by": "apalike",
   "current_citInitial": 1,
   "eqLabelWithNumbers": true,
   "eqNumInitial": 1,
   "hotkeys": {
    "equation": "Ctrl-E",
    "itemize": "Ctrl-I"
   },
   "labels_anchors": false,
   "latex_user_defs": false,
   "report_style_numbering": false,
   "user_envs_cfg": false
  }
 },
 "nbformat": 4,
 "nbformat_minor": 1
}
