{
 "cells": [
  {
   "cell_type": "markdown",
   "metadata": {},
   "source": [
    "# Double 7's (Short Term Trading Strategies that Work)\n",
    "\n",
    "    1. The SPY is above its 200-day moving average\n",
    "    2. The SPY closes at a X-day low, buy some shares.\n",
    "       If it falls further, buy some more, etc...\n",
    "    3. If the SPY closes at a X-day high, sell your entire long position.\n",
    "    \n",
    "    (optimize for number of positions)"
   ]
  },
  {
   "cell_type": "code",
   "execution_count": 1,
   "metadata": {
    "ExecuteTime": {
     "end_time": "2019-12-24T16:16:58.754585Z",
     "start_time": "2019-12-24T16:16:58.008701Z"
    }
   },
   "outputs": [],
   "source": [
    "# use future imports for python 3.x forward compatibility\n",
    "from __future__ import print_function\n",
    "from __future__ import unicode_literals\n",
    "from __future__ import division\n",
    "from __future__ import absolute_import\n",
    "\n",
    "# other imports\n",
    "import pandas as pd\n",
    "import matplotlib.pyplot as plt\n",
    "import datetime\n",
    "from talib.abstract import *\n",
    "\n",
    "# project imports\n",
    "import pinkfish as pf\n",
    "import strategy\n",
    "\n",
    "# format price data\n",
    "pd.options.display.float_format = '{:0.2f}'.format\n",
    "\n",
    "%matplotlib inline"
   ]
  },
  {
   "cell_type": "code",
   "execution_count": 2,
   "metadata": {
    "ExecuteTime": {
     "end_time": "2019-12-24T16:16:58.770770Z",
     "start_time": "2019-12-24T16:16:58.764676Z"
    }
   },
   "outputs": [],
   "source": [
    "# set size of inline plots\n",
    "'''note: rcParams can't be in same cell as import matplotlib\n",
    "   or %matplotlib inline\n",
    "   \n",
    "   %matplotlib notebook: will lead to interactive plots embedded within\n",
    "   the notebook, you can zoom and resize the figure\n",
    "   \n",
    "   %matplotlib inline: only draw static images in the notebook\n",
    "'''\n",
    "plt.rcParams[\"figure.figsize\"] = (10, 7)"
   ]
  },
  {
   "cell_type": "markdown",
   "metadata": {},
   "source": [
    "Some global data"
   ]
  },
  {
   "cell_type": "code",
   "execution_count": 3,
   "metadata": {
    "ExecuteTime": {
     "end_time": "2019-12-24T16:16:58.784059Z",
     "start_time": "2019-12-24T16:16:58.776865Z"
    }
   },
   "outputs": [],
   "source": [
    "#symbol = '^GSPC'\n",
    "#symbol = 'SPY'\n",
    "#symbol = 'DIA'\n",
    "#symbol = 'QQQ'\n",
    "#symbol = 'IWM'\n",
    "#symbol = 'TLT'\n",
    "#symbol = 'GLD'\n",
    "#symbol = 'AAPL'\n",
    "#symbol = 'BBRY'\n",
    "symbol = 'GDX'\n",
    "capital = 10000\n",
    "start = datetime.datetime(2000, 1, 1)\n",
    "#end = datetime.datetime(2010, 12, 1)\n",
    "end = datetime.datetime.now()"
   ]
  },
  {
   "cell_type": "markdown",
   "metadata": {},
   "source": [
    "Define high low trade periods"
   ]
  },
  {
   "cell_type": "code",
   "execution_count": 4,
   "metadata": {
    "ExecuteTime": {
     "end_time": "2019-12-24T16:16:58.794299Z",
     "start_time": "2019-12-24T16:16:58.788138Z"
    }
   },
   "outputs": [],
   "source": [
    "period = 7"
   ]
  },
  {
   "cell_type": "markdown",
   "metadata": {},
   "source": [
    "Define max number of positions to scale into"
   ]
  },
  {
   "cell_type": "code",
   "execution_count": 5,
   "metadata": {
    "ExecuteTime": {
     "end_time": "2019-12-24T16:16:58.810259Z",
     "start_time": "2019-12-24T16:16:58.798218Z"
    }
   },
   "outputs": [],
   "source": [
    "pos = range(1, 10)\n",
    "pos = [str(p) for p in pos]"
   ]
  },
  {
   "cell_type": "markdown",
   "metadata": {},
   "source": [
    "Run Strategy"
   ]
  },
  {
   "cell_type": "code",
   "execution_count": 6,
   "metadata": {
    "ExecuteTime": {
     "end_time": "2019-12-24T16:17:04.320850Z",
     "start_time": "2019-12-24T16:16:58.814313Z"
    }
   },
   "outputs": [
    {
     "name": "stdout",
     "output_type": "stream",
     "text": [
      "1 2 3 4 5 6 7 8 9 "
     ]
    }
   ],
   "source": [
    "strategies = pd.Series()\n",
    "for p in pos:\n",
    "    print(\"{0}\".format(p), end=\" \")\n",
    "    strategies[p] = strategy.Strategy(symbol, capital, start, end, period=period, max_positions=int(p))\n",
    "    strategies[p].run()\n",
    "    strategies[p].tlog, strategies[p].dbal = strategies[p].get_logs()\n",
    "    strategies[p].stats = strategies[p].get_stats()"
   ]
  },
  {
   "cell_type": "markdown",
   "metadata": {},
   "source": [
    "Summarize results"
   ]
  },
  {
   "cell_type": "code",
   "execution_count": 7,
   "metadata": {
    "ExecuteTime": {
     "end_time": "2019-12-24T16:17:04.382020Z",
     "start_time": "2019-12-24T16:17:04.331291Z"
    },
    "scrolled": false
   },
   "outputs": [
    {
     "data": {
      "text/html": [
       "<div>\n",
       "<style scoped>\n",
       "    .dataframe tbody tr th:only-of-type {\n",
       "        vertical-align: middle;\n",
       "    }\n",
       "\n",
       "    .dataframe tbody tr th {\n",
       "        vertical-align: top;\n",
       "    }\n",
       "\n",
       "    .dataframe thead th {\n",
       "        text-align: right;\n",
       "    }\n",
       "</style>\n",
       "<table border=\"1\" class=\"dataframe\">\n",
       "  <thead>\n",
       "    <tr style=\"text-align: right;\">\n",
       "      <th></th>\n",
       "      <th>1</th>\n",
       "      <th>2</th>\n",
       "      <th>3</th>\n",
       "      <th>4</th>\n",
       "      <th>5</th>\n",
       "      <th>6</th>\n",
       "      <th>7</th>\n",
       "      <th>8</th>\n",
       "      <th>9</th>\n",
       "    </tr>\n",
       "  </thead>\n",
       "  <tbody>\n",
       "    <tr>\n",
       "      <th>annual_return_rate</th>\n",
       "      <td>7.22</td>\n",
       "      <td>5.23</td>\n",
       "      <td>4.46</td>\n",
       "      <td>4.55</td>\n",
       "      <td>4.69</td>\n",
       "      <td>4.98</td>\n",
       "      <td>5.10</td>\n",
       "      <td>4.99</td>\n",
       "      <td>4.74</td>\n",
       "    </tr>\n",
       "    <tr>\n",
       "      <th>max_closed_out_drawdown</th>\n",
       "      <td>-20.59</td>\n",
       "      <td>-32.14</td>\n",
       "      <td>-38.53</td>\n",
       "      <td>-42.06</td>\n",
       "      <td>-43.47</td>\n",
       "      <td>-45.30</td>\n",
       "      <td>-46.42</td>\n",
       "      <td>-47.79</td>\n",
       "      <td>-48.71</td>\n",
       "    </tr>\n",
       "    <tr>\n",
       "      <th>drawdown_annualized_return</th>\n",
       "      <td>-2.85</td>\n",
       "      <td>-6.14</td>\n",
       "      <td>-8.63</td>\n",
       "      <td>-9.25</td>\n",
       "      <td>-9.28</td>\n",
       "      <td>-9.10</td>\n",
       "      <td>-9.10</td>\n",
       "      <td>-9.59</td>\n",
       "      <td>-10.28</td>\n",
       "    </tr>\n",
       "    <tr>\n",
       "      <th>drawdown_recovery</th>\n",
       "      <td>-1.48</td>\n",
       "      <td>-3.52</td>\n",
       "      <td>-3.52</td>\n",
       "      <td>-3.52</td>\n",
       "      <td>-3.52</td>\n",
       "      <td>-3.52</td>\n",
       "      <td>-3.13</td>\n",
       "      <td>-3.13</td>\n",
       "      <td>-3.13</td>\n",
       "    </tr>\n",
       "    <tr>\n",
       "      <th>best_month</th>\n",
       "      <td>21.98</td>\n",
       "      <td>22.97</td>\n",
       "      <td>24.08</td>\n",
       "      <td>25.13</td>\n",
       "      <td>24.38</td>\n",
       "      <td>23.90</td>\n",
       "      <td>23.55</td>\n",
       "      <td>23.29</td>\n",
       "      <td>23.08</td>\n",
       "    </tr>\n",
       "    <tr>\n",
       "      <th>worst_month</th>\n",
       "      <td>-17.69</td>\n",
       "      <td>-17.70</td>\n",
       "      <td>-17.69</td>\n",
       "      <td>-18.29</td>\n",
       "      <td>-19.53</td>\n",
       "      <td>-20.31</td>\n",
       "      <td>-20.91</td>\n",
       "      <td>-21.33</td>\n",
       "      <td>-21.68</td>\n",
       "    </tr>\n",
       "    <tr>\n",
       "      <th>sharpe_ratio</th>\n",
       "      <td>0.50</td>\n",
       "      <td>0.38</td>\n",
       "      <td>0.33</td>\n",
       "      <td>0.33</td>\n",
       "      <td>0.33</td>\n",
       "      <td>0.34</td>\n",
       "      <td>0.35</td>\n",
       "      <td>0.34</td>\n",
       "      <td>0.32</td>\n",
       "    </tr>\n",
       "    <tr>\n",
       "      <th>sortino_ratio</th>\n",
       "      <td>0.35</td>\n",
       "      <td>0.30</td>\n",
       "      <td>0.28</td>\n",
       "      <td>0.29</td>\n",
       "      <td>0.31</td>\n",
       "      <td>0.33</td>\n",
       "      <td>0.34</td>\n",
       "      <td>0.35</td>\n",
       "      <td>0.34</td>\n",
       "    </tr>\n",
       "    <tr>\n",
       "      <th>monthly_std</th>\n",
       "      <td>3.76</td>\n",
       "      <td>3.96</td>\n",
       "      <td>4.23</td>\n",
       "      <td>4.49</td>\n",
       "      <td>4.68</td>\n",
       "      <td>4.87</td>\n",
       "      <td>5.03</td>\n",
       "      <td>5.17</td>\n",
       "      <td>5.26</td>\n",
       "    </tr>\n",
       "    <tr>\n",
       "      <th>pct_time_in_market</th>\n",
       "      <td>20.40</td>\n",
       "      <td>27.36</td>\n",
       "      <td>32.87</td>\n",
       "      <td>37.64</td>\n",
       "      <td>42.09</td>\n",
       "      <td>45.15</td>\n",
       "      <td>47.95</td>\n",
       "      <td>51.21</td>\n",
       "      <td>52.56</td>\n",
       "    </tr>\n",
       "    <tr>\n",
       "      <th>total_num_trades</th>\n",
       "      <td>77.00</td>\n",
       "      <td>152.00</td>\n",
       "      <td>215.00</td>\n",
       "      <td>259.00</td>\n",
       "      <td>295.00</td>\n",
       "      <td>330.00</td>\n",
       "      <td>360.00</td>\n",
       "      <td>386.00</td>\n",
       "      <td>401.00</td>\n",
       "    </tr>\n",
       "    <tr>\n",
       "      <th>pct_profitable_trades</th>\n",
       "      <td>67.53</td>\n",
       "      <td>63.16</td>\n",
       "      <td>60.47</td>\n",
       "      <td>58.69</td>\n",
       "      <td>60.34</td>\n",
       "      <td>59.70</td>\n",
       "      <td>60.28</td>\n",
       "      <td>60.36</td>\n",
       "      <td>59.60</td>\n",
       "    </tr>\n",
       "    <tr>\n",
       "      <th>avg_points</th>\n",
       "      <td>0.52</td>\n",
       "      <td>0.36</td>\n",
       "      <td>0.29</td>\n",
       "      <td>0.30</td>\n",
       "      <td>0.44</td>\n",
       "      <td>0.48</td>\n",
       "      <td>0.56</td>\n",
       "      <td>0.58</td>\n",
       "      <td>0.61</td>\n",
       "    </tr>\n",
       "    <tr>\n",
       "      <th>pct_profitable_trades</th>\n",
       "      <td>67.53</td>\n",
       "      <td>63.16</td>\n",
       "      <td>60.47</td>\n",
       "      <td>58.69</td>\n",
       "      <td>60.34</td>\n",
       "      <td>59.70</td>\n",
       "      <td>60.28</td>\n",
       "      <td>60.36</td>\n",
       "      <td>59.60</td>\n",
       "    </tr>\n",
       "  </tbody>\n",
       "</table>\n",
       "</div>"
      ],
      "text/plain": [
       "                                1      2      3      4      5      6      7  \\\n",
       "annual_return_rate           7.22   5.23   4.46   4.55   4.69   4.98   5.10   \n",
       "max_closed_out_drawdown    -20.59 -32.14 -38.53 -42.06 -43.47 -45.30 -46.42   \n",
       "drawdown_annualized_return  -2.85  -6.14  -8.63  -9.25  -9.28  -9.10  -9.10   \n",
       "drawdown_recovery           -1.48  -3.52  -3.52  -3.52  -3.52  -3.52  -3.13   \n",
       "best_month                  21.98  22.97  24.08  25.13  24.38  23.90  23.55   \n",
       "worst_month                -17.69 -17.70 -17.69 -18.29 -19.53 -20.31 -20.91   \n",
       "sharpe_ratio                 0.50   0.38   0.33   0.33   0.33   0.34   0.35   \n",
       "sortino_ratio                0.35   0.30   0.28   0.29   0.31   0.33   0.34   \n",
       "monthly_std                  3.76   3.96   4.23   4.49   4.68   4.87   5.03   \n",
       "pct_time_in_market          20.40  27.36  32.87  37.64  42.09  45.15  47.95   \n",
       "total_num_trades            77.00 152.00 215.00 259.00 295.00 330.00 360.00   \n",
       "pct_profitable_trades       67.53  63.16  60.47  58.69  60.34  59.70  60.28   \n",
       "avg_points                   0.52   0.36   0.29   0.30   0.44   0.48   0.56   \n",
       "pct_profitable_trades       67.53  63.16  60.47  58.69  60.34  59.70  60.28   \n",
       "\n",
       "                                8      9  \n",
       "annual_return_rate           4.99   4.74  \n",
       "max_closed_out_drawdown    -47.79 -48.71  \n",
       "drawdown_annualized_return  -9.59 -10.28  \n",
       "drawdown_recovery           -3.13  -3.13  \n",
       "best_month                  23.29  23.08  \n",
       "worst_month                -21.33 -21.68  \n",
       "sharpe_ratio                 0.34   0.32  \n",
       "sortino_ratio                0.35   0.34  \n",
       "monthly_std                  5.17   5.26  \n",
       "pct_time_in_market          51.21  52.56  \n",
       "total_num_trades           386.00 401.00  \n",
       "pct_profitable_trades       60.36  59.60  \n",
       "avg_points                   0.58   0.61  \n",
       "pct_profitable_trades       60.36  59.60  "
      ]
     },
     "execution_count": 7,
     "metadata": {},
     "output_type": "execute_result"
    }
   ],
   "source": [
    "metrics = ('annual_return_rate',\n",
    "           'max_closed_out_drawdown',\n",
    "           'drawdown_annualized_return',\n",
    "           'drawdown_recovery',\n",
    "           'best_month',\n",
    "           'worst_month',\n",
    "           'sharpe_ratio',\n",
    "           'sortino_ratio',\n",
    "           'monthly_std',\n",
    "           'pct_time_in_market',\n",
    "           'total_num_trades',\n",
    "           'pct_profitable_trades',\n",
    "           'avg_points',\n",
    "           'pct_profitable_trades')\n",
    "\n",
    "df = strategy.summary(strategies, *metrics)\n",
    "df"
   ]
  },
  {
   "cell_type": "markdown",
   "metadata": {},
   "source": [
    "Bar graphs"
   ]
  },
  {
   "cell_type": "code",
   "execution_count": 8,
   "metadata": {
    "ExecuteTime": {
     "end_time": "2019-12-24T16:17:05.263904Z",
     "start_time": "2019-12-24T16:17:04.385960Z"
    }
   },
   "outputs": [
    {
     "data": {
      "image/png": "[encoded data removed]",
      "text/plain": [
       "<Figure size 720x504 with 1 Axes>"
      ]
     },
     "metadata": {
      "needs_background": "light"
     },
     "output_type": "display_data"
    },
    {
     "data": {
      "image/png": "[encoded data removed]",
      "text/plain": [
       "<Figure size 720x504 with 1 Axes>"
      ]
     },
     "metadata": {
      "needs_background": "light"
     },
     "output_type": "display_data"
    },
    {
     "data": {
      "image/png": "[encoded data removed]",
      "text/plain": [
       "<Figure size 720x504 with 1 Axes>"
      ]
     },
     "metadata": {
      "needs_background": "light"
     },
     "output_type": "display_data"
    }
   ],
   "source": [
    "strategy.plot_bar_graph(df, 'annual_return_rate')\n",
    "strategy.plot_bar_graph(df, 'sharpe_ratio')\n",
    "strategy.plot_bar_graph(df, 'max_closed_out_drawdown')"
   ]
  },
  {
   "cell_type": "markdown",
   "metadata": {},
   "source": [
    "Run Benchmark"
   ]
  },
  {
   "cell_type": "code",
   "execution_count": 9,
   "metadata": {
    "ExecuteTime": {
     "end_time": "2019-12-24T16:17:05.913912Z",
     "start_time": "2019-12-24T16:17:05.269402Z"
    }
   },
   "outputs": [
    {
     "name": "stdout",
     "output_type": "stream",
     "text": [
      "2007-03-08 00:00:00 BUY  260 GDX @ 38.35\n",
      "2019-07-03 00:00:00 SELL 260 GDX @ 25.65\n"
     ]
    }
   ],
   "source": [
    "s = strategies[pos[0]]\n",
    "benchmark = pf.Benchmark(symbol, capital, s._start, s._end)\n",
    "benchmark.run()\n",
    "benchmark.tlog, benchmark.dbal = benchmark.get_logs()\n",
    "benchmark.stats = benchmark.get_stats()"
   ]
  },
  {
   "cell_type": "markdown",
   "metadata": {},
   "source": [
    "Equity curve"
   ]
  },
  {
   "cell_type": "code",
   "execution_count": 10,
   "metadata": {
    "ExecuteTime": {
     "end_time": "2019-12-24T16:17:06.205111Z",
     "start_time": "2019-12-24T16:17:05.924187Z"
    }
   },
   "outputs": [
    {
     "data": {
      "image/png": "[encoded data removed]",
      "text/plain": [
       "<Figure size 720x504 with 1 Axes>"
      ]
     },
     "metadata": {
      "needs_background": "light"
     },
     "output_type": "display_data"
    }
   ],
   "source": [
    "pf.plot_equity_curve(strategies['1'].dbal, benchmark=benchmark.dbal)"
   ]
  }
 ],
 "metadata": {
  "kernelspec": {
   "display_name": "Python 2",
   "language": "python",
   "name": "python2"
  },
  "language_info": {
   "codemirror_mode": {
    "name": "ipython",
    "version": 2
   },
   "file_extension": ".py",
   "mimetype": "text/x-python",
   "name": "python",
   "nbconvert_exporter": "python",
   "pygments_lexer": "ipython2",
   "version": "2.7.15+"
  },
  "latex_envs": {
   "LaTeX_envs_menu_present": true,
   "autoclose": false,
   "autocomplete": true,
   "bibliofile": "biblio.bib",
   "cite_by": "apalike",
   "current_citInitial": 1,
   "eqLabelWithNumbers": true,
   "eqNumInitial": 1,
   "hotkeys": {
    "equation": "Ctrl-E",
    "itemize": "Ctrl-I"
   },
   "labels_anchors": false,
   "latex_user_defs": false,
   "report_style_numbering": false,
   "user_envs_cfg": false
  }
 },
 "nbformat": 4,
 "nbformat_minor": 1
}
