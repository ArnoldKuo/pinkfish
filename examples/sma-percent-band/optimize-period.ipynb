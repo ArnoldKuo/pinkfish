{
 "metadata": {
  "kernelspec": {
   "display_name": "Python 2",
   "language": "python",
   "name": "python2"
  },
  "language_info": {
   "codemirror_mode": {
    "name": "ipython",
    "version": 2
   },
   "file_extension": ".py",
   "mimetype": "text/x-python",
   "name": "python",
   "nbconvert_exporter": "python",
   "pygments_lexer": "ipython2",
   "version": "2.7.6"
  },
  "name": "",
  "signature": "sha256:d264e6aa7d8208b46952b953474d90e666126481caf136361c9df9a83771cce6"
 },
 "nbformat": 3,
 "nbformat_minor": 0,
 "worksheets": [
  {
   "cells": [
    {
     "cell_type": "markdown",
     "metadata": {},
     "source": [
      "#SMA Percent Band\n",
      "\n",
      "    1. The SPY closes above its upper band, buy\n",
      "    2. If the SPY closes below its lower band, sell your long position.\n",
      "    \n",
      "    (optimize period)"
     ]
    },
    {
     "cell_type": "code",
     "collapsed": false,
     "input": [
      "%matplotlib inline"
     ],
     "language": "python",
     "metadata": {},
     "outputs": [],
     "prompt_number": 1
    },
    {
     "cell_type": "markdown",
     "metadata": {},
     "source": [
      "Use future imports for python 3.0 forward compatibility"
     ]
    },
    {
     "cell_type": "code",
     "collapsed": false,
     "input": [
      "from __future__ import print_function\n",
      "from __future__ import unicode_literals\n",
      "from __future__ import division\n",
      "from __future__ import absolute_import"
     ],
     "language": "python",
     "metadata": {},
     "outputs": [],
     "prompt_number": 2
    },
    {
     "cell_type": "markdown",
     "metadata": {},
     "source": [
      "Other imports"
     ]
    },
    {
     "cell_type": "code",
     "collapsed": false,
     "input": [
      "import pandas as pd\n",
      "import numpy as np\n",
      "import matplotlib\n",
      "import matplotlib.pyplot as plt\n",
      "import datetime\n",
      "from talib.abstract import *\n",
      "import pinkfish as pf\n",
      "import strategy\n",
      "\n",
      "# format price data\n",
      "pd.options.display.float_format = '{:0.2f}'.format\n",
      "\n",
      "# Double the DPI, so we are making 2x plots:\n",
      "matplotlib.rcParams['savefig.dpi'] = 2 * matplotlib.rcParams['savefig.dpi']"
     ],
     "language": "python",
     "metadata": {},
     "outputs": [],
     "prompt_number": 3
    },
    {
     "cell_type": "markdown",
     "metadata": {},
     "source": [
      "Some global data"
     ]
    },
    {
     "cell_type": "code",
     "collapsed": false,
     "input": [
      "symbol = '^GSPC'\n",
      "#symbol = 'SPY'\n",
      "#symbol = 'DIA'\n",
      "#symbol = 'QQQ'\n",
      "#symbol = 'IWM'\n",
      "#symbol = 'TLT'\n",
      "#symbol = 'GLD'\n",
      "#symbol = 'AAPL'\n",
      "#symbol = 'BBRY'\n",
      "#symbol = 'GDX'\n",
      "capital = 10000\n",
      "start = datetime.datetime(1900, 1, 1)\n",
      "#end = datetime.datetime(2005, 12, 1)\n",
      "end = datetime.datetime.now()"
     ],
     "language": "python",
     "metadata": {},
     "outputs": [],
     "prompt_number": 4
    },
    {
     "cell_type": "markdown",
     "metadata": {},
     "source": [
      "Define the periods"
     ]
    },
    {
     "cell_type": "code",
     "collapsed": false,
     "input": [
      "periods = range(50, 525, 25)\n",
      "periods = [str(period) for period in periods]"
     ],
     "language": "python",
     "metadata": {},
     "outputs": [],
     "prompt_number": 5
    },
    {
     "cell_type": "markdown",
     "metadata": {},
     "source": [
      "Run Strategy"
     ]
    },
    {
     "cell_type": "code",
     "collapsed": false,
     "input": [
      "strategies = pd.Series()\n",
      "for period in periods:\n",
      "    print(\"{0}\".format(period), end=\" \")\n",
      "    strategies[period] = strategy.Strategy(symbol, capital, start, end, sma_period=int(period))\n",
      "    strategies[period].run()\n",
      "    strategies[period].tlog, strategies[period].dbal = strategies[period].get_logs()\n",
      "    strategies[period].stats = strategies[period].stats()"
     ],
     "language": "python",
     "metadata": {},
     "outputs": [
      {
       "output_type": "stream",
       "stream": "stdout",
       "text": [
        "50 75"
       ]
      },
      {
       "output_type": "stream",
       "stream": "stdout",
       "text": [
        " 100"
       ]
      },
      {
       "output_type": "stream",
       "stream": "stdout",
       "text": [
        " 125"
       ]
      },
      {
       "output_type": "stream",
       "stream": "stdout",
       "text": [
        " 150"
       ]
      },
      {
       "output_type": "stream",
       "stream": "stdout",
       "text": [
        " 175"
       ]
      },
      {
       "output_type": "stream",
       "stream": "stdout",
       "text": [
        " 200"
       ]
      },
      {
       "output_type": "stream",
       "stream": "stdout",
       "text": [
        " 225"
       ]
      },
      {
       "output_type": "stream",
       "stream": "stdout",
       "text": [
        " 250"
       ]
      },
      {
       "output_type": "stream",
       "stream": "stdout",
       "text": [
        " 275"
       ]
      },
      {
       "output_type": "stream",
       "stream": "stdout",
       "text": [
        " 300"
       ]
      },
      {
       "output_type": "stream",
       "stream": "stdout",
       "text": [
        " 325"
       ]
      },
      {
       "output_type": "stream",
       "stream": "stdout",
       "text": [
        " 350"
       ]
      },
      {
       "output_type": "stream",
       "stream": "stdout",
       "text": [
        " 375"
       ]
      },
      {
       "output_type": "stream",
       "stream": "stdout",
       "text": [
        " 400"
       ]
      },
      {
       "output_type": "stream",
       "stream": "stdout",
       "text": [
        " 425"
       ]
      },
      {
       "output_type": "stream",
       "stream": "stdout",
       "text": [
        " 450"
       ]
      },
      {
       "output_type": "stream",
       "stream": "stdout",
       "text": [
        " 475"
       ]
      },
      {
       "output_type": "stream",
       "stream": "stdout",
       "text": [
        " 500"
       ]
      },
      {
       "output_type": "stream",
       "stream": "stdout",
       "text": [
        " "
       ]
      }
     ],
     "prompt_number": 6
    },
    {
     "cell_type": "markdown",
     "metadata": {},
     "source": [
      "Summarize results"
     ]
    },
    {
     "cell_type": "code",
     "collapsed": false,
     "input": [
      "metrics = ('annual_return_rate',\n",
      "           'max_closed_out_drawdown',\n",
      "           'drawdown_annualized_return',\n",
      "           'drawdown_recovery',\n",
      "           'best_month',\n",
      "           'worst_month',\n",
      "           'sharpe_ratio',\n",
      "           'sortino_ratio',\n",
      "           'monthly_std',\n",
      "           'pct_time_in_market',\n",
      "           'total_num_trades',\n",
      "           'pct_profitable_trades',\n",
      "           'avg_points')\n",
      "\n",
      "df = strategy.summary(strategies, *metrics)\n",
      "df"
     ],
     "language": "python",
     "metadata": {
      "scrolled": true
     },
     "outputs": [
      {
       "html": [
        "<div style=\"max-width:1500px;overflow:auto;\">\n",
        "<style scoped>\n",
        "    .dataframe tbody tr th:only-of-type {\n",
        "        vertical-align: middle;\n",
        "    }\n",
        "\n",
        "    .dataframe tbody tr th {\n",
        "        vertical-align: top;\n",
        "    }\n",
        "\n",
        "    .dataframe thead th {\n",
        "        text-align: right;\n",
        "    }\n",
        "</style>\n",
        "<table border=\"1\" class=\"dataframe\">\n",
        "  <thead>\n",
        "    <tr style=\"text-align: right;\">\n",
        "      <th></th>\n",
        "      <th>50</th>\n",
        "      <th>75</th>\n",
        "      <th>100</th>\n",
        "      <th>125</th>\n",
        "      <th>150</th>\n",
        "      <th>175</th>\n",
        "      <th>200</th>\n",
        "      <th>225</th>\n",
        "      <th>250</th>\n",
        "      <th>275</th>\n",
        "      <th>300</th>\n",
        "      <th>325</th>\n",
        "      <th>350</th>\n",
        "      <th>375</th>\n",
        "      <th>400</th>\n",
        "      <th>425</th>\n",
        "      <th>450</th>\n",
        "      <th>475</th>\n",
        "      <th>500</th>\n",
        "    </tr>\n",
        "  </thead>\n",
        "  <tbody>\n",
        "    <tr>\n",
        "      <th>annual_return_rate</th>\n",
        "      <td>6.51</td>\n",
        "      <td>6.61</td>\n",
        "      <td>6.35</td>\n",
        "      <td>6.87</td>\n",
        "      <td>7.34</td>\n",
        "      <td>7.78</td>\n",
        "      <td>7.51</td>\n",
        "      <td>7.86</td>\n",
        "      <td>7.58</td>\n",
        "      <td>7.29</td>\n",
        "      <td>7.04</td>\n",
        "      <td>7.19</td>\n",
        "      <td>7.08</td>\n",
        "      <td>7.22</td>\n",
        "      <td>6.89</td>\n",
        "      <td>6.33</td>\n",
        "      <td>5.96</td>\n",
        "      <td>6.02</td>\n",
        "      <td>5.75</td>\n",
        "    </tr>\n",
        "    <tr>\n",
        "      <th>max_closed_out_drawdown</th>\n",
        "      <td>-39.52</td>\n",
        "      <td>-37.82</td>\n",
        "      <td>-50.60</td>\n",
        "      <td>-45.23</td>\n",
        "      <td>-38.18</td>\n",
        "      <td>-32.79</td>\n",
        "      <td>-28.26</td>\n",
        "      <td>-25.25</td>\n",
        "      <td>-21.64</td>\n",
        "      <td>-23.85</td>\n",
        "      <td>-35.43</td>\n",
        "      <td>-35.66</td>\n",
        "      <td>-36.46</td>\n",
        "      <td>-35.37</td>\n",
        "      <td>-36.47</td>\n",
        "      <td>-39.90</td>\n",
        "      <td>-43.89</td>\n",
        "      <td>-43.38</td>\n",
        "      <td>-42.93</td>\n",
        "    </tr>\n",
        "    <tr>\n",
        "      <th>drawdown_annualized_return</th>\n",
        "      <td>-6.07</td>\n",
        "      <td>-5.72</td>\n",
        "      <td>-7.97</td>\n",
        "      <td>-6.59</td>\n",
        "      <td>-5.20</td>\n",
        "      <td>-4.21</td>\n",
        "      <td>-3.76</td>\n",
        "      <td>-3.21</td>\n",
        "      <td>-2.85</td>\n",
        "      <td>-3.27</td>\n",
        "      <td>-5.04</td>\n",
        "      <td>-4.96</td>\n",
        "      <td>-5.15</td>\n",
        "      <td>-4.90</td>\n",
        "      <td>-5.29</td>\n",
        "      <td>-6.31</td>\n",
        "      <td>-7.37</td>\n",
        "      <td>-7.20</td>\n",
        "      <td>-7.47</td>\n",
        "    </tr>\n",
        "    <tr>\n",
        "      <th>drawdown_recovery</th>\n",
        "      <td>-9.88</td>\n",
        "      <td>-3.91</td>\n",
        "      <td>-3.93</td>\n",
        "      <td>-3.75</td>\n",
        "      <td>-3.75</td>\n",
        "      <td>-3.75</td>\n",
        "      <td>-3.76</td>\n",
        "      <td>-1.02</td>\n",
        "      <td>-0.30</td>\n",
        "      <td>-0.21</td>\n",
        "      <td>-1.24</td>\n",
        "      <td>-1.22</td>\n",
        "      <td>-1.27</td>\n",
        "      <td>-1.31</td>\n",
        "      <td>-1.36</td>\n",
        "      <td>-1.36</td>\n",
        "      <td>-1.36</td>\n",
        "      <td>-1.36</td>\n",
        "      <td>-1.36</td>\n",
        "    </tr>\n",
        "    <tr>\n",
        "      <th>best_month</th>\n",
        "      <td>15.18</td>\n",
        "      <td>15.17</td>\n",
        "      <td>15.18</td>\n",
        "      <td>14.92</td>\n",
        "      <td>14.92</td>\n",
        "      <td>14.92</td>\n",
        "      <td>13.42</td>\n",
        "      <td>13.41</td>\n",
        "      <td>13.40</td>\n",
        "      <td>13.40</td>\n",
        "      <td>13.40</td>\n",
        "      <td>14.53</td>\n",
        "      <td>14.54</td>\n",
        "      <td>14.55</td>\n",
        "      <td>15.87</td>\n",
        "      <td>15.87</td>\n",
        "      <td>18.16</td>\n",
        "      <td>18.15</td>\n",
        "      <td>18.16</td>\n",
        "    </tr>\n",
        "    <tr>\n",
        "      <th>worst_month</th>\n",
        "      <td>-15.40</td>\n",
        "      <td>-12.67</td>\n",
        "      <td>-12.69</td>\n",
        "      <td>-12.69</td>\n",
        "      <td>-11.80</td>\n",
        "      <td>-10.77</td>\n",
        "      <td>-11.96</td>\n",
        "      <td>-15.03</td>\n",
        "      <td>-14.22</td>\n",
        "      <td>-14.55</td>\n",
        "      <td>-31.46</td>\n",
        "      <td>-31.46</td>\n",
        "      <td>-31.45</td>\n",
        "      <td>-31.45</td>\n",
        "      <td>-31.45</td>\n",
        "      <td>-31.47</td>\n",
        "      <td>-31.44</td>\n",
        "      <td>-31.46</td>\n",
        "      <td>-31.42</td>\n",
        "    </tr>\n",
        "    <tr>\n",
        "      <th>sharpe_ratio</th>\n",
        "      <td>0.71</td>\n",
        "      <td>0.71</td>\n",
        "      <td>0.68</td>\n",
        "      <td>0.72</td>\n",
        "      <td>0.76</td>\n",
        "      <td>0.80</td>\n",
        "      <td>0.77</td>\n",
        "      <td>0.80</td>\n",
        "      <td>0.76</td>\n",
        "      <td>0.73</td>\n",
        "      <td>0.69</td>\n",
        "      <td>0.70</td>\n",
        "      <td>0.69</td>\n",
        "      <td>0.69</td>\n",
        "      <td>0.66</td>\n",
        "      <td>0.61</td>\n",
        "      <td>0.58</td>\n",
        "      <td>0.58</td>\n",
        "      <td>0.55</td>\n",
        "    </tr>\n",
        "    <tr>\n",
        "      <th>sortino_ratio</th>\n",
        "      <td>0.76</td>\n",
        "      <td>0.78</td>\n",
        "      <td>0.74</td>\n",
        "      <td>0.81</td>\n",
        "      <td>0.86</td>\n",
        "      <td>0.91</td>\n",
        "      <td>0.88</td>\n",
        "      <td>0.92</td>\n",
        "      <td>0.89</td>\n",
        "      <td>0.84</td>\n",
        "      <td>0.74</td>\n",
        "      <td>0.76</td>\n",
        "      <td>0.75</td>\n",
        "      <td>0.76</td>\n",
        "      <td>0.73</td>\n",
        "      <td>0.67</td>\n",
        "      <td>0.63</td>\n",
        "      <td>0.64</td>\n",
        "      <td>0.61</td>\n",
        "    </tr>\n",
        "    <tr>\n",
        "      <th>monthly_std</th>\n",
        "      <td>2.79</td>\n",
        "      <td>2.81</td>\n",
        "      <td>2.88</td>\n",
        "      <td>2.89</td>\n",
        "      <td>2.89</td>\n",
        "      <td>2.85</td>\n",
        "      <td>2.87</td>\n",
        "      <td>2.92</td>\n",
        "      <td>2.96</td>\n",
        "      <td>2.99</td>\n",
        "      <td>3.16</td>\n",
        "      <td>3.14</td>\n",
        "      <td>3.16</td>\n",
        "      <td>3.16</td>\n",
        "      <td>3.15</td>\n",
        "      <td>3.20</td>\n",
        "      <td>3.27</td>\n",
        "      <td>3.29</td>\n",
        "      <td>3.31</td>\n",
        "    </tr>\n",
        "    <tr>\n",
        "      <th>pct_time_in_market</th>\n",
        "      <td>66.89</td>\n",
        "      <td>68.24</td>\n",
        "      <td>68.97</td>\n",
        "      <td>69.80</td>\n",
        "      <td>70.31</td>\n",
        "      <td>70.76</td>\n",
        "      <td>71.65</td>\n",
        "      <td>72.51</td>\n",
        "      <td>73.08</td>\n",
        "      <td>73.60</td>\n",
        "      <td>74.02</td>\n",
        "      <td>74.39</td>\n",
        "      <td>74.79</td>\n",
        "      <td>75.33</td>\n",
        "      <td>75.94</td>\n",
        "      <td>76.47</td>\n",
        "      <td>76.91</td>\n",
        "      <td>77.45</td>\n",
        "      <td>77.97</td>\n",
        "    </tr>\n",
        "    <tr>\n",
        "      <th>total_num_trades</th>\n",
        "      <td>525.00</td>\n",
        "      <td>421.00</td>\n",
        "      <td>360.00</td>\n",
        "      <td>310.00</td>\n",
        "      <td>261.00</td>\n",
        "      <td>216.00</td>\n",
        "      <td>197.00</td>\n",
        "      <td>181.00</td>\n",
        "      <td>164.00</td>\n",
        "      <td>164.00</td>\n",
        "      <td>138.00</td>\n",
        "      <td>120.00</td>\n",
        "      <td>121.00</td>\n",
        "      <td>114.00</td>\n",
        "      <td>122.00</td>\n",
        "      <td>134.00</td>\n",
        "      <td>121.00</td>\n",
        "      <td>132.00</td>\n",
        "      <td>135.00</td>\n",
        "    </tr>\n",
        "    <tr>\n",
        "      <th>pct_profitable_trades</th>\n",
        "      <td>31.05</td>\n",
        "      <td>29.93</td>\n",
        "      <td>26.11</td>\n",
        "      <td>27.74</td>\n",
        "      <td>28.35</td>\n",
        "      <td>30.09</td>\n",
        "      <td>28.93</td>\n",
        "      <td>27.62</td>\n",
        "      <td>28.05</td>\n",
        "      <td>28.66</td>\n",
        "      <td>28.26</td>\n",
        "      <td>27.50</td>\n",
        "      <td>26.45</td>\n",
        "      <td>25.44</td>\n",
        "      <td>24.59</td>\n",
        "      <td>23.13</td>\n",
        "      <td>22.31</td>\n",
        "      <td>21.21</td>\n",
        "      <td>18.52</td>\n",
        "    </tr>\n",
        "    <tr>\n",
        "      <th>avg_points</th>\n",
        "      <td>2.40</td>\n",
        "      <td>4.03</td>\n",
        "      <td>4.19</td>\n",
        "      <td>5.52</td>\n",
        "      <td>7.37</td>\n",
        "      <td>10.54</td>\n",
        "      <td>12.10</td>\n",
        "      <td>14.65</td>\n",
        "      <td>15.51</td>\n",
        "      <td>14.90</td>\n",
        "      <td>18.39</td>\n",
        "      <td>23.41</td>\n",
        "      <td>21.80</td>\n",
        "      <td>24.92</td>\n",
        "      <td>23.28</td>\n",
        "      <td>20.04</td>\n",
        "      <td>20.89</td>\n",
        "      <td>18.33</td>\n",
        "      <td>17.86</td>\n",
        "    </tr>\n",
        "  </tbody>\n",
        "</table>\n",
        "</div>"
       ],
       "metadata": {},
       "output_type": "pyout",
       "prompt_number": 7,
       "text": [
        "                               50     75    100    125    150    175    200  \\\n",
        "annual_return_rate           6.51   6.61   6.35   6.87   7.34   7.78   7.51   \n",
        "max_closed_out_drawdown    -39.52 -37.82 -50.60 -45.23 -38.18 -32.79 -28.26   \n",
        "drawdown_annualized_return  -6.07  -5.72  -7.97  -6.59  -5.20  -4.21  -3.76   \n",
        "drawdown_recovery           -9.88  -3.91  -3.93  -3.75  -3.75  -3.75  -3.76   \n",
        "best_month                  15.18  15.17  15.18  14.92  14.92  14.92  13.42   \n",
        "worst_month                -15.40 -12.67 -12.69 -12.69 -11.80 -10.77 -11.96   \n",
        "sharpe_ratio                 0.71   0.71   0.68   0.72   0.76   0.80   0.77   \n",
        "sortino_ratio                0.76   0.78   0.74   0.81   0.86   0.91   0.88   \n",
        "monthly_std                  2.79   2.81   2.88   2.89   2.89   2.85   2.87   \n",
        "pct_time_in_market          66.89  68.24  68.97  69.80  70.31  70.76  71.65   \n",
        "total_num_trades           525.00 421.00 360.00 310.00 261.00 216.00 197.00   \n",
        "pct_profitable_trades       31.05  29.93  26.11  27.74  28.35  30.09  28.93   \n",
        "avg_points                   2.40   4.03   4.19   5.52   7.37  10.54  12.10   \n",
        "\n",
        "                              225    250    275    300    325    350    375  \\\n",
        "annual_return_rate           7.86   7.58   7.29   7.04   7.19   7.08   7.22   \n",
        "max_closed_out_drawdown    -25.25 -21.64 -23.85 -35.43 -35.66 -36.46 -35.37   \n",
        "drawdown_annualized_return  -3.21  -2.85  -3.27  -5.04  -4.96  -5.15  -4.90   \n",
        "drawdown_recovery           -1.02  -0.30  -0.21  -1.24  -1.22  -1.27  -1.31   \n",
        "best_month                  13.41  13.40  13.40  13.40  14.53  14.54  14.55   \n",
        "worst_month                -15.03 -14.22 -14.55 -31.46 -31.46 -31.45 -31.45   \n",
        "sharpe_ratio                 0.80   0.76   0.73   0.69   0.70   0.69   0.69   \n",
        "sortino_ratio                0.92   0.89   0.84   0.74   0.76   0.75   0.76   \n",
        "monthly_std                  2.92   2.96   2.99   3.16   3.14   3.16   3.16   \n",
        "pct_time_in_market          72.51  73.08  73.60  74.02  74.39  74.79  75.33   \n",
        "total_num_trades           181.00 164.00 164.00 138.00 120.00 121.00 114.00   \n",
        "pct_profitable_trades       27.62  28.05  28.66  28.26  27.50  26.45  25.44   \n",
        "avg_points                  14.65  15.51  14.90  18.39  23.41  21.80  24.92   \n",
        "\n",
        "                              400    425    450    475    500  \n",
        "annual_return_rate           6.89   6.33   5.96   6.02   5.75  \n",
        "max_closed_out_drawdown    -36.47 -39.90 -43.89 -43.38 -42.93  \n",
        "drawdown_annualized_return  -5.29  -6.31  -7.37  -7.20  -7.47  \n",
        "drawdown_recovery           -1.36  -1.36  -1.36  -1.36  -1.36  \n",
        "best_month                  15.87  15.87  18.16  18.15  18.16  \n",
        "worst_month                -31.45 -31.47 -31.44 -31.46 -31.42  \n",
        "sharpe_ratio                 0.66   0.61   0.58   0.58   0.55  \n",
        "sortino_ratio                0.73   0.67   0.63   0.64   0.61  \n",
        "monthly_std                  3.15   3.20   3.27   3.29   3.31  \n",
        "pct_time_in_market          75.94  76.47  76.91  77.45  77.97  \n",
        "total_num_trades           122.00 134.00 121.00 132.00 135.00  \n",
        "pct_profitable_trades       24.59  23.13  22.31  21.21  18.52  \n",
        "avg_points                  23.28  20.04  20.89  18.33  17.86  "
       ]
      }
     ],
     "prompt_number": 7
    },
    {
     "cell_type": "markdown",
     "metadata": {},
     "source": [
      "Bar graphs"
     ]
    },
    {
     "cell_type": "code",
     "collapsed": false,
     "input": [
      "strategy.plot_bar_graph(df, 'annual_return_rate')\n",
      "strategy.plot_bar_graph(df, 'sharpe_ratio')\n",
      "strategy.plot_bar_graph(df, 'max_closed_out_drawdown')"
     ],
     "language": "python",
     "metadata": {},
     "outputs": [
      {
       "metadata": {},
       "output_type": "display_data",
       "png": "[encoded data removed]",
       "text": [
        "<matplotlib.figure.Figure at 0x7fd063bf7bd0>"
       ]
      },
      {
       "metadata": {},
       "output_type": "display_data",
       "png": "[encoded data removed]",
       "text": [
        "<matplotlib.figure.Figure at 0x7fd05b86e6d0>"
       ]
      },
      {
       "metadata": {},
       "output_type": "display_data",
       "png": "[encoded data removed]",
       "text": [
        "<matplotlib.figure.Figure at 0x7fd05b7be610>"
       ]
      }
     ],
     "prompt_number": 8
    },
    {
     "cell_type": "markdown",
     "metadata": {},
     "source": [
      "Run Benchmark"
     ]
    },
    {
     "cell_type": "code",
     "collapsed": false,
     "input": [
      "s = strategies[periods[0]]\n",
      "benchmark = pf.Benchmark(symbol, capital, s._start, s._end)\n",
      "benchmark.run()\n",
      "benchmark.tlog, benchmark.dbal = benchmark.get_logs()\n",
      "benchmark.stats = benchmark.stats()"
     ],
     "language": "python",
     "metadata": {},
     "outputs": [
      {
       "output_type": "stream",
       "stream": "stdout",
       "text": [
        "1950-03-15 00:00:00 BUY  573 ^GSPC @ 17.45\n",
        "2018-01-29 00:00:00 SELL 573 ^GSPC @ 2853.53"
       ]
      },
      {
       "output_type": "stream",
       "stream": "stdout",
       "text": [
        "\n"
       ]
      }
     ],
     "prompt_number": 9
    },
    {
     "cell_type": "markdown",
     "metadata": {},
     "source": [
      "Equity curve"
     ]
    },
    {
     "cell_type": "code",
     "collapsed": false,
     "input": [
      "pf.plot_equity_curve(strategies['200'].dbal, benchmark=benchmark.dbal)"
     ],
     "language": "python",
     "metadata": {},
     "outputs": [
      {
       "metadata": {},
       "output_type": "display_data",
       "png": "[encoded data removed]",
       "text": [
        "<matplotlib.figure.Figure at 0x7fd05b818d50>"
       ]
      }
     ],
     "prompt_number": 10
    }
   ],
   "metadata": {}
  }
 ]
}