{
 "cells": [
  {
   "cell_type": "markdown",
   "metadata": {},
   "source": [
    "#SMA Percent Band\n",
    "\n",
    "    1. The SPY closes above its upper band, buy\n",
    "    2. If the SPY closes below its lower band, sell your long position.\n",
    "    \n",
    "    (optimize period)"
   ]
  },
  {
   "cell_type": "code",
   "execution_count": 1,
   "metadata": {},
   "outputs": [],
   "source": [
    "%matplotlib inline"
   ]
  },
  {
   "cell_type": "markdown",
   "metadata": {},
   "source": [
    "Use future imports for python 3.0 forward compatibility"
   ]
  },
  {
   "cell_type": "code",
   "execution_count": 2,
   "metadata": {},
   "outputs": [],
   "source": [
    "from __future__ import print_function\n",
    "from __future__ import unicode_literals\n",
    "from __future__ import division\n",
    "from __future__ import absolute_import"
   ]
  },
  {
   "cell_type": "markdown",
   "metadata": {},
   "source": [
    "Other imports"
   ]
  },
  {
   "cell_type": "code",
   "execution_count": 3,
   "metadata": {},
   "outputs": [],
   "source": [
    "import pandas as pd\n",
    "import numpy as np\n",
    "import matplotlib\n",
    "import matplotlib.pyplot as plt\n",
    "import datetime\n",
    "from talib.abstract import *\n",
    "import pinkfish as pf\n",
    "import strategy\n",
    "\n",
    "# format price data\n",
    "pd.options.display.float_format = '{:0.2f}'.format\n",
    "\n",
    "# set size of inline plots\n",
    "matplotlib.rcParams['figure.figsize'] = [14, 10]"
   ]
  },
  {
   "cell_type": "markdown",
   "metadata": {},
   "source": [
    "Some global data"
   ]
  },
  {
   "cell_type": "code",
   "execution_count": 4,
   "metadata": {},
   "outputs": [],
   "source": [
    "symbol = '^GSPC'\n",
    "#symbol = 'SPY'\n",
    "#symbol = 'DIA'\n",
    "#symbol = 'QQQ'\n",
    "#symbol = 'IWM'\n",
    "#symbol = 'TLT'\n",
    "#symbol = 'GLD'\n",
    "#symbol = 'AAPL'\n",
    "#symbol = 'BBRY'\n",
    "#symbol = 'GDX'\n",
    "capital = 10000\n",
    "start = datetime.datetime(1900, 1, 1)\n",
    "#end = datetime.datetime(2005, 12, 1)\n",
    "end = datetime.datetime.now()"
   ]
  },
  {
   "cell_type": "markdown",
   "metadata": {},
   "source": [
    "Define the periods"
   ]
  },
  {
   "cell_type": "code",
   "execution_count": 5,
   "metadata": {},
   "outputs": [],
   "source": [
    "periods = range(50, 525, 25)\n",
    "periods = [str(period) for period in periods]"
   ]
  },
  {
   "cell_type": "markdown",
   "metadata": {},
   "source": [
    "Run Strategy"
   ]
  },
  {
   "cell_type": "code",
   "execution_count": 6,
   "metadata": {},
   "outputs": [
    {
     "name": "stdout",
     "output_type": "stream",
     "text": [
      "50 75 100 125 150 175 200 225 250 275 300 325 350 375 400 425 450 475 500 "
     ]
    }
   ],
   "source": [
    "strategies = pd.Series()\n",
    "for period in periods:\n",
    "    print(\"{0}\".format(period), end=\" \")\n",
    "    strategies[period] = strategy.Strategy(symbol, capital, start, end, sma_period=int(period))\n",
    "    strategies[period].run()\n",
    "    strategies[period].tlog, strategies[period].dbal = strategies[period].get_logs()\n",
    "    strategies[period].stats = strategies[period].stats()"
   ]
  },
  {
   "cell_type": "markdown",
   "metadata": {},
   "source": [
    "Summarize results"
   ]
  },
  {
   "cell_type": "code",
   "execution_count": 7,
   "metadata": {
    "scrolled": true
   },
   "outputs": [
    {
     "data": {
      "text/html": [
       "<div>\n",
       "<style scoped>\n",
       "    .dataframe tbody tr th:only-of-type {\n",
       "        vertical-align: middle;\n",
       "    }\n",
       "\n",
       "    .dataframe tbody tr th {\n",
       "        vertical-align: top;\n",
       "    }\n",
       "\n",
       "    .dataframe thead th {\n",
       "        text-align: right;\n",
       "    }\n",
       "</style>\n",
       "<table border=\"1\" class=\"dataframe\">\n",
       "  <thead>\n",
       "    <tr style=\"text-align: right;\">\n",
       "      <th></th>\n",
       "      <th>50</th>\n",
       "      <th>75</th>\n",
       "      <th>100</th>\n",
       "      <th>125</th>\n",
       "      <th>150</th>\n",
       "      <th>175</th>\n",
       "      <th>200</th>\n",
       "      <th>225</th>\n",
       "      <th>250</th>\n",
       "      <th>275</th>\n",
       "      <th>300</th>\n",
       "      <th>325</th>\n",
       "      <th>350</th>\n",
       "      <th>375</th>\n",
       "      <th>400</th>\n",
       "      <th>425</th>\n",
       "      <th>450</th>\n",
       "      <th>475</th>\n",
       "      <th>500</th>\n",
       "    </tr>\n",
       "  </thead>\n",
       "  <tbody>\n",
       "    <tr>\n",
       "      <th>annual_return_rate</th>\n",
       "      <td>6.26</td>\n",
       "      <td>6.39</td>\n",
       "      <td>6.12</td>\n",
       "      <td>6.63</td>\n",
       "      <td>6.87</td>\n",
       "      <td>7.31</td>\n",
       "      <td>7.18</td>\n",
       "      <td>7.53</td>\n",
       "      <td>7.34</td>\n",
       "      <td>7.01</td>\n",
       "      <td>6.75</td>\n",
       "      <td>6.92</td>\n",
       "      <td>6.79</td>\n",
       "      <td>6.99</td>\n",
       "      <td>6.67</td>\n",
       "      <td>6.11</td>\n",
       "      <td>5.79</td>\n",
       "      <td>5.88</td>\n",
       "      <td>5.59</td>\n",
       "    </tr>\n",
       "    <tr>\n",
       "      <th>max_closed_out_drawdown</th>\n",
       "      <td>-39.52</td>\n",
       "      <td>-37.82</td>\n",
       "      <td>-50.60</td>\n",
       "      <td>-45.23</td>\n",
       "      <td>-38.18</td>\n",
       "      <td>-32.79</td>\n",
       "      <td>-28.26</td>\n",
       "      <td>-25.25</td>\n",
       "      <td>-21.64</td>\n",
       "      <td>-23.85</td>\n",
       "      <td>-35.43</td>\n",
       "      <td>-35.66</td>\n",
       "      <td>-36.46</td>\n",
       "      <td>-35.37</td>\n",
       "      <td>-36.47</td>\n",
       "      <td>-39.90</td>\n",
       "      <td>-43.89</td>\n",
       "      <td>-43.38</td>\n",
       "      <td>-42.93</td>\n",
       "    </tr>\n",
       "    <tr>\n",
       "      <th>drawdown_annualized_return</th>\n",
       "      <td>-6.32</td>\n",
       "      <td>-5.91</td>\n",
       "      <td>-8.27</td>\n",
       "      <td>-6.82</td>\n",
       "      <td>-5.56</td>\n",
       "      <td>-4.49</td>\n",
       "      <td>-3.93</td>\n",
       "      <td>-3.36</td>\n",
       "      <td>-2.95</td>\n",
       "      <td>-3.40</td>\n",
       "      <td>-5.25</td>\n",
       "      <td>-5.15</td>\n",
       "      <td>-5.37</td>\n",
       "      <td>-5.06</td>\n",
       "      <td>-5.46</td>\n",
       "      <td>-6.53</td>\n",
       "      <td>-7.58</td>\n",
       "      <td>-7.38</td>\n",
       "      <td>-7.67</td>\n",
       "    </tr>\n",
       "    <tr>\n",
       "      <th>drawdown_recovery</th>\n",
       "      <td>-9.88</td>\n",
       "      <td>-3.91</td>\n",
       "      <td>-3.93</td>\n",
       "      <td>-3.75</td>\n",
       "      <td>-3.75</td>\n",
       "      <td>-3.75</td>\n",
       "      <td>-3.76</td>\n",
       "      <td>-1.02</td>\n",
       "      <td>-0.30</td>\n",
       "      <td>-0.21</td>\n",
       "      <td>-1.24</td>\n",
       "      <td>-1.22</td>\n",
       "      <td>-1.27</td>\n",
       "      <td>-1.31</td>\n",
       "      <td>-1.36</td>\n",
       "      <td>-1.36</td>\n",
       "      <td>-1.36</td>\n",
       "      <td>-1.36</td>\n",
       "      <td>-1.36</td>\n",
       "    </tr>\n",
       "    <tr>\n",
       "      <th>best_month</th>\n",
       "      <td>15.18</td>\n",
       "      <td>15.17</td>\n",
       "      <td>15.18</td>\n",
       "      <td>14.93</td>\n",
       "      <td>14.92</td>\n",
       "      <td>14.92</td>\n",
       "      <td>13.42</td>\n",
       "      <td>13.41</td>\n",
       "      <td>13.40</td>\n",
       "      <td>13.40</td>\n",
       "      <td>13.40</td>\n",
       "      <td>14.53</td>\n",
       "      <td>14.54</td>\n",
       "      <td>14.55</td>\n",
       "      <td>15.87</td>\n",
       "      <td>15.87</td>\n",
       "      <td>18.16</td>\n",
       "      <td>18.15</td>\n",
       "      <td>18.16</td>\n",
       "    </tr>\n",
       "    <tr>\n",
       "      <th>worst_month</th>\n",
       "      <td>-15.40</td>\n",
       "      <td>-12.67</td>\n",
       "      <td>-12.69</td>\n",
       "      <td>-12.68</td>\n",
       "      <td>-12.11</td>\n",
       "      <td>-11.35</td>\n",
       "      <td>-11.96</td>\n",
       "      <td>-15.03</td>\n",
       "      <td>-14.22</td>\n",
       "      <td>-14.55</td>\n",
       "      <td>-31.46</td>\n",
       "      <td>-31.46</td>\n",
       "      <td>-31.45</td>\n",
       "      <td>-31.45</td>\n",
       "      <td>-31.45</td>\n",
       "      <td>-31.47</td>\n",
       "      <td>-31.44</td>\n",
       "      <td>-31.46</td>\n",
       "      <td>-31.42</td>\n",
       "    </tr>\n",
       "    <tr>\n",
       "      <th>sharpe_ratio</th>\n",
       "      <td>0.68</td>\n",
       "      <td>0.69</td>\n",
       "      <td>0.65</td>\n",
       "      <td>0.70</td>\n",
       "      <td>0.72</td>\n",
       "      <td>0.75</td>\n",
       "      <td>0.74</td>\n",
       "      <td>0.76</td>\n",
       "      <td>0.74</td>\n",
       "      <td>0.70</td>\n",
       "      <td>0.66</td>\n",
       "      <td>0.67</td>\n",
       "      <td>0.66</td>\n",
       "      <td>0.67</td>\n",
       "      <td>0.64</td>\n",
       "      <td>0.59</td>\n",
       "      <td>0.56</td>\n",
       "      <td>0.57</td>\n",
       "      <td>0.54</td>\n",
       "    </tr>\n",
       "    <tr>\n",
       "      <th>sortino_ratio</th>\n",
       "      <td>0.73</td>\n",
       "      <td>0.75</td>\n",
       "      <td>0.71</td>\n",
       "      <td>0.78</td>\n",
       "      <td>0.80</td>\n",
       "      <td>0.85</td>\n",
       "      <td>0.84</td>\n",
       "      <td>0.88</td>\n",
       "      <td>0.85</td>\n",
       "      <td>0.81</td>\n",
       "      <td>0.71</td>\n",
       "      <td>0.73</td>\n",
       "      <td>0.71</td>\n",
       "      <td>0.73</td>\n",
       "      <td>0.71</td>\n",
       "      <td>0.65</td>\n",
       "      <td>0.61</td>\n",
       "      <td>0.62</td>\n",
       "      <td>0.60</td>\n",
       "    </tr>\n",
       "    <tr>\n",
       "      <th>monthly_std</th>\n",
       "      <td>2.79</td>\n",
       "      <td>2.82</td>\n",
       "      <td>2.87</td>\n",
       "      <td>2.89</td>\n",
       "      <td>2.91</td>\n",
       "      <td>2.87</td>\n",
       "      <td>2.88</td>\n",
       "      <td>2.93</td>\n",
       "      <td>2.96</td>\n",
       "      <td>3.00</td>\n",
       "      <td>3.16</td>\n",
       "      <td>3.14</td>\n",
       "      <td>3.16</td>\n",
       "      <td>3.16</td>\n",
       "      <td>3.15</td>\n",
       "      <td>3.20</td>\n",
       "      <td>3.26</td>\n",
       "      <td>3.28</td>\n",
       "      <td>3.31</td>\n",
       "    </tr>\n",
       "    <tr>\n",
       "      <th>pct_time_in_market</th>\n",
       "      <td>66.86</td>\n",
       "      <td>68.19</td>\n",
       "      <td>68.93</td>\n",
       "      <td>69.77</td>\n",
       "      <td>70.38</td>\n",
       "      <td>70.89</td>\n",
       "      <td>71.77</td>\n",
       "      <td>72.63</td>\n",
       "      <td>73.22</td>\n",
       "      <td>73.77</td>\n",
       "      <td>74.23</td>\n",
       "      <td>74.60</td>\n",
       "      <td>75.03</td>\n",
       "      <td>75.58</td>\n",
       "      <td>76.21</td>\n",
       "      <td>76.76</td>\n",
       "      <td>77.22</td>\n",
       "      <td>77.76</td>\n",
       "      <td>78.29</td>\n",
       "    </tr>\n",
       "    <tr>\n",
       "      <th>total_num_trades</th>\n",
       "      <td>535.00</td>\n",
       "      <td>428.00</td>\n",
       "      <td>367.00</td>\n",
       "      <td>319.00</td>\n",
       "      <td>275.00</td>\n",
       "      <td>228.00</td>\n",
       "      <td>204.00</td>\n",
       "      <td>188.00</td>\n",
       "      <td>169.00</td>\n",
       "      <td>171.00</td>\n",
       "      <td>144.00</td>\n",
       "      <td>125.00</td>\n",
       "      <td>125.00</td>\n",
       "      <td>117.00</td>\n",
       "      <td>126.00</td>\n",
       "      <td>138.00</td>\n",
       "      <td>124.00</td>\n",
       "      <td>133.00</td>\n",
       "      <td>136.00</td>\n",
       "    </tr>\n",
       "    <tr>\n",
       "      <th>pct_profitable_trades</th>\n",
       "      <td>31.03</td>\n",
       "      <td>30.14</td>\n",
       "      <td>26.16</td>\n",
       "      <td>27.90</td>\n",
       "      <td>28.00</td>\n",
       "      <td>29.39</td>\n",
       "      <td>29.41</td>\n",
       "      <td>27.13</td>\n",
       "      <td>27.81</td>\n",
       "      <td>28.07</td>\n",
       "      <td>27.78</td>\n",
       "      <td>27.20</td>\n",
       "      <td>26.40</td>\n",
       "      <td>25.64</td>\n",
       "      <td>24.60</td>\n",
       "      <td>23.19</td>\n",
       "      <td>23.39</td>\n",
       "      <td>21.80</td>\n",
       "      <td>19.12</td>\n",
       "    </tr>\n",
       "    <tr>\n",
       "      <th>avg_points</th>\n",
       "      <td>1.91</td>\n",
       "      <td>3.59</td>\n",
       "      <td>3.60</td>\n",
       "      <td>4.70</td>\n",
       "      <td>4.92</td>\n",
       "      <td>7.56</td>\n",
       "      <td>10.10</td>\n",
       "      <td>12.44</td>\n",
       "      <td>14.07</td>\n",
       "      <td>12.89</td>\n",
       "      <td>15.79</td>\n",
       "      <td>20.70</td>\n",
       "      <td>19.11</td>\n",
       "      <td>23.02</td>\n",
       "      <td>21.45</td>\n",
       "      <td>18.30</td>\n",
       "      <td>19.70</td>\n",
       "      <td>17.91</td>\n",
       "      <td>17.24</td>\n",
       "    </tr>\n",
       "  </tbody>\n",
       "</table>\n",
       "</div>"
      ],
      "text/plain": [
       "                               50     75    100    125    150    175    200  \\\n",
       "annual_return_rate           6.26   6.39   6.12   6.63   6.87   7.31   7.18   \n",
       "max_closed_out_drawdown    -39.52 -37.82 -50.60 -45.23 -38.18 -32.79 -28.26   \n",
       "drawdown_annualized_return  -6.32  -5.91  -8.27  -6.82  -5.56  -4.49  -3.93   \n",
       "drawdown_recovery           -9.88  -3.91  -3.93  -3.75  -3.75  -3.75  -3.76   \n",
       "best_month                  15.18  15.17  15.18  14.93  14.92  14.92  13.42   \n",
       "worst_month                -15.40 -12.67 -12.69 -12.68 -12.11 -11.35 -11.96   \n",
       "sharpe_ratio                 0.68   0.69   0.65   0.70   0.72   0.75   0.74   \n",
       "sortino_ratio                0.73   0.75   0.71   0.78   0.80   0.85   0.84   \n",
       "monthly_std                  2.79   2.82   2.87   2.89   2.91   2.87   2.88   \n",
       "pct_time_in_market          66.86  68.19  68.93  69.77  70.38  70.89  71.77   \n",
       "total_num_trades           535.00 428.00 367.00 319.00 275.00 228.00 204.00   \n",
       "pct_profitable_trades       31.03  30.14  26.16  27.90  28.00  29.39  29.41   \n",
       "avg_points                   1.91   3.59   3.60   4.70   4.92   7.56  10.10   \n",
       "\n",
       "                              225    250    275    300    325    350    375  \\\n",
       "annual_return_rate           7.53   7.34   7.01   6.75   6.92   6.79   6.99   \n",
       "max_closed_out_drawdown    -25.25 -21.64 -23.85 -35.43 -35.66 -36.46 -35.37   \n",
       "drawdown_annualized_return  -3.36  -2.95  -3.40  -5.25  -5.15  -5.37  -5.06   \n",
       "drawdown_recovery           -1.02  -0.30  -0.21  -1.24  -1.22  -1.27  -1.31   \n",
       "best_month                  13.41  13.40  13.40  13.40  14.53  14.54  14.55   \n",
       "worst_month                -15.03 -14.22 -14.55 -31.46 -31.46 -31.45 -31.45   \n",
       "sharpe_ratio                 0.76   0.74   0.70   0.66   0.67   0.66   0.67   \n",
       "sortino_ratio                0.88   0.85   0.81   0.71   0.73   0.71   0.73   \n",
       "monthly_std                  2.93   2.96   3.00   3.16   3.14   3.16   3.16   \n",
       "pct_time_in_market          72.63  73.22  73.77  74.23  74.60  75.03  75.58   \n",
       "total_num_trades           188.00 169.00 171.00 144.00 125.00 125.00 117.00   \n",
       "pct_profitable_trades       27.13  27.81  28.07  27.78  27.20  26.40  25.64   \n",
       "avg_points                  12.44  14.07  12.89  15.79  20.70  19.11  23.02   \n",
       "\n",
       "                              400    425    450    475    500  \n",
       "annual_return_rate           6.67   6.11   5.79   5.88   5.59  \n",
       "max_closed_out_drawdown    -36.47 -39.90 -43.89 -43.38 -42.93  \n",
       "drawdown_annualized_return  -5.46  -6.53  -7.58  -7.38  -7.67  \n",
       "drawdown_recovery           -1.36  -1.36  -1.36  -1.36  -1.36  \n",
       "best_month                  15.87  15.87  18.16  18.15  18.16  \n",
       "worst_month                -31.45 -31.47 -31.44 -31.46 -31.42  \n",
       "sharpe_ratio                 0.64   0.59   0.56   0.57   0.54  \n",
       "sortino_ratio                0.71   0.65   0.61   0.62   0.60  \n",
       "monthly_std                  3.15   3.20   3.26   3.28   3.31  \n",
       "pct_time_in_market          76.21  76.76  77.22  77.76  78.29  \n",
       "total_num_trades           126.00 138.00 124.00 133.00 136.00  \n",
       "pct_profitable_trades       24.60  23.19  23.39  21.80  19.12  \n",
       "avg_points                  21.45  18.30  19.70  17.91  17.24  "
      ]
     },
     "execution_count": 7,
     "metadata": {},
     "output_type": "execute_result"
    }
   ],
   "source": [
    "metrics = ('annual_return_rate',\n",
    "           'max_closed_out_drawdown',\n",
    "           'drawdown_annualized_return',\n",
    "           'drawdown_recovery',\n",
    "           'best_month',\n",
    "           'worst_month',\n",
    "           'sharpe_ratio',\n",
    "           'sortino_ratio',\n",
    "           'monthly_std',\n",
    "           'pct_time_in_market',\n",
    "           'total_num_trades',\n",
    "           'pct_profitable_trades',\n",
    "           'avg_points')\n",
    "\n",
    "df = strategy.summary(strategies, *metrics)\n",
    "df"
   ]
  },
  {
   "cell_type": "markdown",
   "metadata": {},
   "source": [
    "Bar graphs"
   ]
  },
  {
   "cell_type": "code",
   "execution_count": 8,
   "metadata": {},
   "outputs": [
    {
     "data": {
      "image/png": "[encoded data removed]",
      "text/plain": [
       "<Figure size 1008x720 with 1 Axes>"
      ]
     },
     "metadata": {
      "needs_background": "light"
     },
     "output_type": "display_data"
    },
    {
     "data": {
      "image/png": "[encoded data removed]",
      "text/plain": [
       "<Figure size 1008x720 with 1 Axes>"
      ]
     },
     "metadata": {
      "needs_background": "light"
     },
     "output_type": "display_data"
    },
    {
     "data": {
      "image/png": "[encoded data removed]",
      "text/plain": [
       "<Figure size 1008x720 with 1 Axes>"
      ]
     },
     "metadata": {
      "needs_background": "light"
     },
     "output_type": "display_data"
    }
   ],
   "source": [
    "strategy.plot_bar_graph(df, 'annual_return_rate')\n",
    "strategy.plot_bar_graph(df, 'sharpe_ratio')\n",
    "strategy.plot_bar_graph(df, 'max_closed_out_drawdown')"
   ]
  },
  {
   "cell_type": "markdown",
   "metadata": {},
   "source": [
    "Run Benchmark"
   ]
  },
  {
   "cell_type": "code",
   "execution_count": 9,
   "metadata": {},
   "outputs": [
    {
     "name": "stdout",
     "output_type": "stream",
     "text": [
      "1950-03-15 00:00:00 BUY  573 ^GSPC @ 17.45\n",
      "2019-05-15 00:00:00 SELL 573 ^GSPC @ 2850.96\n"
     ]
    }
   ],
   "source": [
    "s = strategies[periods[0]]\n",
    "benchmark = pf.Benchmark(symbol, capital, s._start, s._end)\n",
    "benchmark.run()\n",
    "benchmark.tlog, benchmark.dbal = benchmark.get_logs()\n",
    "benchmark.stats = benchmark.stats()"
   ]
  },
  {
   "cell_type": "markdown",
   "metadata": {},
   "source": [
    "Equity curve"
   ]
  },
  {
   "cell_type": "code",
   "execution_count": 10,
   "metadata": {},
   "outputs": [
    {
     "data": {
      "image/png": "[encoded data removed]",
      "text/plain": [
       "<Figure size 1008x720 with 1 Axes>"
      ]
     },
     "metadata": {
      "needs_background": "light"
     },
     "output_type": "display_data"
    }
   ],
   "source": [
    "pf.plot_equity_curve(strategies['200'].dbal, benchmark=benchmark.dbal)"
   ]
  }
 ],
 "metadata": {
  "kernelspec": {
   "display_name": "Python 2",
   "language": "python",
   "name": "python2"
  },
  "language_info": {
   "codemirror_mode": {
    "name": "ipython",
    "version": 2
   },
   "file_extension": ".py",
   "mimetype": "text/x-python",
   "name": "python",
   "nbconvert_exporter": "python",
   "pygments_lexer": "ipython2",
   "version": "2.7.15rc1"
  }
 },
 "nbformat": 4,
 "nbformat_minor": 1
}
