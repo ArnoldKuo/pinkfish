{
 "cells": [
  {
   "cell_type": "markdown",
   "metadata": {},
   "source": [
    "# SMA Percent Band\n",
    "\n",
    "    1. The SPY closes above its upper band, buy\n",
    "    2. If the SPY closes below its lower band, sell your long position.\n",
    "    \n",
    "    (optimize period)"
   ]
  },
  {
   "cell_type": "code",
   "execution_count": 1,
   "metadata": {
    "ExecuteTime": {
     "end_time": "2019-12-24T17:52:09.517000Z",
     "start_time": "2019-12-24T17:52:08.276463Z"
    }
   },
   "outputs": [],
   "source": [
    "# use future imports for python 3.x forward compatibility\n",
    "from __future__ import print_function\n",
    "from __future__ import unicode_literals\n",
    "from __future__ import division\n",
    "from __future__ import absolute_import\n",
    "\n",
    "# other imports\n",
    "import pandas as pd\n",
    "import matplotlib.pyplot as plt\n",
    "import datetime\n",
    "from talib.abstract import *\n",
    "\n",
    "# project imports\n",
    "import pinkfish as pf\n",
    "import strategy\n",
    "\n",
    "# format price data\n",
    "pd.options.display.float_format = '{:0.2f}'.format\n",
    "\n",
    "%matplotlib inline"
   ]
  },
  {
   "cell_type": "code",
   "execution_count": 2,
   "metadata": {
    "ExecuteTime": {
     "end_time": "2019-12-24T17:52:09.540067Z",
     "start_time": "2019-12-24T17:52:09.530242Z"
    }
   },
   "outputs": [],
   "source": [
    "# set size of inline plots\n",
    "'''note: rcParams can't be in same cell as import matplotlib\n",
    "   or %matplotlib inline\n",
    "   \n",
    "   %matplotlib notebook: will lead to interactive plots embedded within\n",
    "   the notebook, you can zoom and resize the figure\n",
    "   \n",
    "   %matplotlib inline: only draw static images in the notebook\n",
    "'''\n",
    "plt.rcParams[\"figure.figsize\"] = (10, 7)"
   ]
  },
  {
   "cell_type": "markdown",
   "metadata": {},
   "source": [
    "Some global data"
   ]
  },
  {
   "cell_type": "code",
   "execution_count": 3,
   "metadata": {
    "ExecuteTime": {
     "end_time": "2019-12-24T17:52:09.559924Z",
     "start_time": "2019-12-24T17:52:09.544385Z"
    }
   },
   "outputs": [],
   "source": [
    "symbol = '^GSPC'\n",
    "#symbol = 'SPY'\n",
    "#symbol = 'DIA'\n",
    "#symbol = 'QQQ'\n",
    "#symbol = 'IWM'\n",
    "#symbol = 'TLT'\n",
    "#symbol = 'GLD'\n",
    "#symbol = 'AAPL'\n",
    "#symbol = 'BBRY'\n",
    "#symbol = 'GDX'\n",
    "capital = 10000\n",
    "start = datetime.datetime(1900, 1, 1)\n",
    "#start = datetime.datetime.strptime(pf.SP500_BEGIN, '%Y-%m-%d')\n",
    "end = datetime.datetime.now()"
   ]
  },
  {
   "cell_type": "markdown",
   "metadata": {},
   "source": [
    "Define the periods"
   ]
  },
  {
   "cell_type": "code",
   "execution_count": 4,
   "metadata": {
    "ExecuteTime": {
     "end_time": "2019-12-24T17:52:09.577955Z",
     "start_time": "2019-12-24T17:52:09.568148Z"
    }
   },
   "outputs": [],
   "source": [
    "periods = range(50, 525, 25)\n",
    "periods = [str(period) for period in periods]"
   ]
  },
  {
   "cell_type": "markdown",
   "metadata": {},
   "source": [
    "Run Strategy"
   ]
  },
  {
   "cell_type": "code",
   "execution_count": 5,
   "metadata": {
    "ExecuteTime": {
     "end_time": "2019-12-24T17:53:45.694507Z",
     "start_time": "2019-12-24T17:52:09.584118Z"
    }
   },
   "outputs": [
    {
     "name": "stdout",
     "output_type": "stream",
     "text": [
      "50 75 100 125 150 175 200 225 250 275 300 325 350 375 400 425 450 475 500 "
     ]
    }
   ],
   "source": [
    "strategies = pd.Series()\n",
    "for period in periods:\n",
    "    print(\"{0}\".format(period), end=\" \")\n",
    "    strategies[period] = strategy.Strategy(symbol, capital, start, end, sma_period=int(period))\n",
    "    strategies[period].run()\n",
    "    _, strategies[period].tlog, strategies[period].dbal = strategies[period].get_logs()\n",
    "    strategies[period].stats = strategies[period].get_stats()"
   ]
  },
  {
   "cell_type": "markdown",
   "metadata": {},
   "source": [
    "Summarize results"
   ]
  },
  {
   "cell_type": "code",
   "execution_count": 6,
   "metadata": {
    "ExecuteTime": {
     "end_time": "2019-12-24T17:53:45.801259Z",
     "start_time": "2019-12-24T17:53:45.705723Z"
    },
    "scrolled": true
   },
   "outputs": [
    {
     "data": {
      "text/html": [
       "<div>\n",
       "<style scoped>\n",
       "    .dataframe tbody tr th:only-of-type {\n",
       "        vertical-align: middle;\n",
       "    }\n",
       "\n",
       "    .dataframe tbody tr th {\n",
       "        vertical-align: top;\n",
       "    }\n",
       "\n",
       "    .dataframe thead th {\n",
       "        text-align: right;\n",
       "    }\n",
       "</style>\n",
       "<table border=\"1\" class=\"dataframe\">\n",
       "  <thead>\n",
       "    <tr style=\"text-align: right;\">\n",
       "      <th></th>\n",
       "      <th>50</th>\n",
       "      <th>75</th>\n",
       "      <th>100</th>\n",
       "      <th>125</th>\n",
       "      <th>150</th>\n",
       "      <th>175</th>\n",
       "      <th>200</th>\n",
       "      <th>225</th>\n",
       "      <th>250</th>\n",
       "      <th>275</th>\n",
       "      <th>300</th>\n",
       "      <th>325</th>\n",
       "      <th>350</th>\n",
       "      <th>375</th>\n",
       "      <th>400</th>\n",
       "      <th>425</th>\n",
       "      <th>450</th>\n",
       "      <th>475</th>\n",
       "      <th>500</th>\n",
       "    </tr>\n",
       "  </thead>\n",
       "  <tbody>\n",
       "    <tr>\n",
       "      <th>start</th>\n",
       "      <td>1928-03-13</td>\n",
       "      <td>1928-04-18</td>\n",
       "      <td>1928-05-23</td>\n",
       "      <td>1928-06-28</td>\n",
       "      <td>1928-08-03</td>\n",
       "      <td>1928-09-10</td>\n",
       "      <td>1928-10-16</td>\n",
       "      <td>1928-11-21</td>\n",
       "      <td>1928-12-28</td>\n",
       "      <td>1929-02-04</td>\n",
       "      <td>1929-03-13</td>\n",
       "      <td>1929-04-18</td>\n",
       "      <td>1929-05-23</td>\n",
       "      <td>1929-06-28</td>\n",
       "      <td>1929-08-05</td>\n",
       "      <td>1929-09-10</td>\n",
       "      <td>1929-10-15</td>\n",
       "      <td>1929-11-21</td>\n",
       "      <td>1929-12-31</td>\n",
       "    </tr>\n",
       "    <tr>\n",
       "      <th>ending_balance</th>\n",
       "      <td>2754563.59</td>\n",
       "      <td>1774111.04</td>\n",
       "      <td>2476853.39</td>\n",
       "      <td>2639670.82</td>\n",
       "      <td>2501089.58</td>\n",
       "      <td>3616575.25</td>\n",
       "      <td>3415486.62</td>\n",
       "      <td>3612619.65</td>\n",
       "      <td>3088179.69</td>\n",
       "      <td>2374317.83</td>\n",
       "      <td>2030298.62</td>\n",
       "      <td>2384723.94</td>\n",
       "      <td>2422721.79</td>\n",
       "      <td>2204061.51</td>\n",
       "      <td>1333093.76</td>\n",
       "      <td>948335.32</td>\n",
       "      <td>830088.45</td>\n",
       "      <td>1088752.50</td>\n",
       "      <td>670898.18</td>\n",
       "    </tr>\n",
       "    <tr>\n",
       "      <th>annual_return_rate</th>\n",
       "      <td>6.31</td>\n",
       "      <td>5.81</td>\n",
       "      <td>6.20</td>\n",
       "      <td>6.28</td>\n",
       "      <td>6.23</td>\n",
       "      <td>6.67</td>\n",
       "      <td>6.61</td>\n",
       "      <td>6.68</td>\n",
       "      <td>6.50</td>\n",
       "      <td>6.20</td>\n",
       "      <td>6.03</td>\n",
       "      <td>6.22</td>\n",
       "      <td>6.25</td>\n",
       "      <td>6.14</td>\n",
       "      <td>5.56</td>\n",
       "      <td>5.17</td>\n",
       "      <td>5.02</td>\n",
       "      <td>5.34</td>\n",
       "      <td>4.79</td>\n",
       "    </tr>\n",
       "    <tr>\n",
       "      <th>max_closed_out_drawdown</th>\n",
       "      <td>-50.01</td>\n",
       "      <td>-46.25</td>\n",
       "      <td>-50.64</td>\n",
       "      <td>-45.25</td>\n",
       "      <td>-48.77</td>\n",
       "      <td>-47.00</td>\n",
       "      <td>-51.57</td>\n",
       "      <td>-59.84</td>\n",
       "      <td>-56.37</td>\n",
       "      <td>-53.04</td>\n",
       "      <td>-45.93</td>\n",
       "      <td>-47.76</td>\n",
       "      <td>-43.62</td>\n",
       "      <td>-42.98</td>\n",
       "      <td>-50.04</td>\n",
       "      <td>-47.60</td>\n",
       "      <td>-43.90</td>\n",
       "      <td>-43.39</td>\n",
       "      <td>-47.61</td>\n",
       "    </tr>\n",
       "    <tr>\n",
       "      <th>drawdown_annualized_return</th>\n",
       "      <td>-7.92</td>\n",
       "      <td>-7.96</td>\n",
       "      <td>-8.16</td>\n",
       "      <td>-7.20</td>\n",
       "      <td>-7.83</td>\n",
       "      <td>-7.05</td>\n",
       "      <td>-7.81</td>\n",
       "      <td>-8.96</td>\n",
       "      <td>-8.67</td>\n",
       "      <td>-8.55</td>\n",
       "      <td>-7.62</td>\n",
       "      <td>-7.68</td>\n",
       "      <td>-6.98</td>\n",
       "      <td>-7.00</td>\n",
       "      <td>-9.00</td>\n",
       "      <td>-9.20</td>\n",
       "      <td>-8.74</td>\n",
       "      <td>-8.12</td>\n",
       "      <td>-9.95</td>\n",
       "    </tr>\n",
       "    <tr>\n",
       "      <th>drawdown_recovery</th>\n",
       "      <td>-1.74</td>\n",
       "      <td>-0.61</td>\n",
       "      <td>-3.93</td>\n",
       "      <td>-3.75</td>\n",
       "      <td>-5.58</td>\n",
       "      <td>-5.58</td>\n",
       "      <td>-3.51</td>\n",
       "      <td>-3.58</td>\n",
       "      <td>-3.58</td>\n",
       "      <td>-3.58</td>\n",
       "      <td>-4.54</td>\n",
       "      <td>-4.56</td>\n",
       "      <td>-4.56</td>\n",
       "      <td>-4.54</td>\n",
       "      <td>-4.53</td>\n",
       "      <td>-3.12</td>\n",
       "      <td>-1.36</td>\n",
       "      <td>-1.36</td>\n",
       "      <td>-1.88</td>\n",
       "    </tr>\n",
       "    <tr>\n",
       "      <th>best_month</th>\n",
       "      <td>55.78</td>\n",
       "      <td>50.92</td>\n",
       "      <td>44.29</td>\n",
       "      <td>34.27</td>\n",
       "      <td>29.99</td>\n",
       "      <td>27.02</td>\n",
       "      <td>27.01</td>\n",
       "      <td>35.96</td>\n",
       "      <td>35.96</td>\n",
       "      <td>33.32</td>\n",
       "      <td>27.01</td>\n",
       "      <td>27.01</td>\n",
       "      <td>27.02</td>\n",
       "      <td>22.41</td>\n",
       "      <td>22.41</td>\n",
       "      <td>22.40</td>\n",
       "      <td>22.42</td>\n",
       "      <td>22.42</td>\n",
       "      <td>22.42</td>\n",
       "    </tr>\n",
       "    <tr>\n",
       "      <th>worst_month</th>\n",
       "      <td>-24.71</td>\n",
       "      <td>-29.12</td>\n",
       "      <td>-21.23</td>\n",
       "      <td>-21.23</td>\n",
       "      <td>-24.41</td>\n",
       "      <td>-29.29</td>\n",
       "      <td>-26.88</td>\n",
       "      <td>-26.62</td>\n",
       "      <td>-31.52</td>\n",
       "      <td>-27.22</td>\n",
       "      <td>-31.46</td>\n",
       "      <td>-31.46</td>\n",
       "      <td>-31.46</td>\n",
       "      <td>-31.46</td>\n",
       "      <td>-31.45</td>\n",
       "      <td>-31.46</td>\n",
       "      <td>-31.44</td>\n",
       "      <td>-31.46</td>\n",
       "      <td>-31.46</td>\n",
       "    </tr>\n",
       "    <tr>\n",
       "      <th>sharpe_ratio</th>\n",
       "      <td>0.59</td>\n",
       "      <td>0.54</td>\n",
       "      <td>0.57</td>\n",
       "      <td>0.57</td>\n",
       "      <td>0.56</td>\n",
       "      <td>0.60</td>\n",
       "      <td>0.59</td>\n",
       "      <td>0.60</td>\n",
       "      <td>0.59</td>\n",
       "      <td>0.56</td>\n",
       "      <td>0.55</td>\n",
       "      <td>0.56</td>\n",
       "      <td>0.56</td>\n",
       "      <td>0.55</td>\n",
       "      <td>0.51</td>\n",
       "      <td>0.48</td>\n",
       "      <td>0.47</td>\n",
       "      <td>0.50</td>\n",
       "      <td>0.45</td>\n",
       "    </tr>\n",
       "    <tr>\n",
       "      <th>sortino_ratio</th>\n",
       "      <td>0.60</td>\n",
       "      <td>0.55</td>\n",
       "      <td>0.58</td>\n",
       "      <td>0.58</td>\n",
       "      <td>0.57</td>\n",
       "      <td>0.61</td>\n",
       "      <td>0.60</td>\n",
       "      <td>0.62</td>\n",
       "      <td>0.62</td>\n",
       "      <td>0.58</td>\n",
       "      <td>0.55</td>\n",
       "      <td>0.57</td>\n",
       "      <td>0.57</td>\n",
       "      <td>0.56</td>\n",
       "      <td>0.51</td>\n",
       "      <td>0.48</td>\n",
       "      <td>0.47</td>\n",
       "      <td>0.51</td>\n",
       "      <td>0.46</td>\n",
       "    </tr>\n",
       "    <tr>\n",
       "      <th>monthly_std</th>\n",
       "      <td>3.56</td>\n",
       "      <td>3.54</td>\n",
       "      <td>3.42</td>\n",
       "      <td>3.34</td>\n",
       "      <td>3.37</td>\n",
       "      <td>3.30</td>\n",
       "      <td>3.31</td>\n",
       "      <td>3.36</td>\n",
       "      <td>3.36</td>\n",
       "      <td>3.40</td>\n",
       "      <td>3.44</td>\n",
       "      <td>3.42</td>\n",
       "      <td>3.42</td>\n",
       "      <td>3.40</td>\n",
       "      <td>3.43</td>\n",
       "      <td>3.45</td>\n",
       "      <td>3.42</td>\n",
       "      <td>3.41</td>\n",
       "      <td>3.47</td>\n",
       "    </tr>\n",
       "    <tr>\n",
       "      <th>pct_time_in_market</th>\n",
       "      <td>61.53</td>\n",
       "      <td>63.00</td>\n",
       "      <td>63.83</td>\n",
       "      <td>65.06</td>\n",
       "      <td>65.89</td>\n",
       "      <td>66.51</td>\n",
       "      <td>67.18</td>\n",
       "      <td>67.74</td>\n",
       "      <td>68.22</td>\n",
       "      <td>68.49</td>\n",
       "      <td>68.59</td>\n",
       "      <td>68.86</td>\n",
       "      <td>69.03</td>\n",
       "      <td>69.40</td>\n",
       "      <td>69.81</td>\n",
       "      <td>70.08</td>\n",
       "      <td>70.42</td>\n",
       "      <td>70.86</td>\n",
       "      <td>71.46</td>\n",
       "    </tr>\n",
       "    <tr>\n",
       "      <th>total_num_trades</th>\n",
       "      <td>712</td>\n",
       "      <td>570</td>\n",
       "      <td>478</td>\n",
       "      <td>411</td>\n",
       "      <td>364</td>\n",
       "      <td>301</td>\n",
       "      <td>275</td>\n",
       "      <td>263</td>\n",
       "      <td>227</td>\n",
       "      <td>230</td>\n",
       "      <td>209</td>\n",
       "      <td>186</td>\n",
       "      <td>174</td>\n",
       "      <td>153</td>\n",
       "      <td>168</td>\n",
       "      <td>182</td>\n",
       "      <td>160</td>\n",
       "      <td>171</td>\n",
       "      <td>183</td>\n",
       "    </tr>\n",
       "    <tr>\n",
       "      <th>trades_per_year</th>\n",
       "      <td>7.76</td>\n",
       "      <td>6.22</td>\n",
       "      <td>5.22</td>\n",
       "      <td>4.49</td>\n",
       "      <td>3.98</td>\n",
       "      <td>3.30</td>\n",
       "      <td>3.02</td>\n",
       "      <td>2.89</td>\n",
       "      <td>2.49</td>\n",
       "      <td>2.53</td>\n",
       "      <td>2.30</td>\n",
       "      <td>2.05</td>\n",
       "      <td>1.92</td>\n",
       "      <td>1.69</td>\n",
       "      <td>1.86</td>\n",
       "      <td>2.02</td>\n",
       "      <td>1.77</td>\n",
       "      <td>1.90</td>\n",
       "      <td>2.03</td>\n",
       "    </tr>\n",
       "    <tr>\n",
       "      <th>pct_profitable_trades</th>\n",
       "      <td>29.63</td>\n",
       "      <td>27.54</td>\n",
       "      <td>25.52</td>\n",
       "      <td>26.76</td>\n",
       "      <td>26.10</td>\n",
       "      <td>25.58</td>\n",
       "      <td>25.82</td>\n",
       "      <td>23.95</td>\n",
       "      <td>25.55</td>\n",
       "      <td>24.78</td>\n",
       "      <td>22.01</td>\n",
       "      <td>21.51</td>\n",
       "      <td>21.84</td>\n",
       "      <td>22.88</td>\n",
       "      <td>20.83</td>\n",
       "      <td>20.33</td>\n",
       "      <td>21.25</td>\n",
       "      <td>19.30</td>\n",
       "      <td>16.39</td>\n",
       "    </tr>\n",
       "    <tr>\n",
       "      <th>avg_points</th>\n",
       "      <td>1.70</td>\n",
       "      <td>2.61</td>\n",
       "      <td>2.57</td>\n",
       "      <td>3.81</td>\n",
       "      <td>4.26</td>\n",
       "      <td>6.85</td>\n",
       "      <td>8.73</td>\n",
       "      <td>10.17</td>\n",
       "      <td>11.95</td>\n",
       "      <td>11.03</td>\n",
       "      <td>12.46</td>\n",
       "      <td>15.70</td>\n",
       "      <td>15.64</td>\n",
       "      <td>19.76</td>\n",
       "      <td>18.32</td>\n",
       "      <td>15.93</td>\n",
       "      <td>17.62</td>\n",
       "      <td>16.17</td>\n",
       "      <td>14.89</td>\n",
       "    </tr>\n",
       "  </tbody>\n",
       "</table>\n",
       "</div>"
      ],
      "text/plain": [
       "                                    50          75         100         125  \\\n",
       "start                       1928-03-13  1928-04-18  1928-05-23  1928-06-28   \n",
       "ending_balance              2754563.59  1774111.04  2476853.39  2639670.82   \n",
       "annual_return_rate                6.31        5.81        6.20        6.28   \n",
       "max_closed_out_drawdown         -50.01      -46.25      -50.64      -45.25   \n",
       "drawdown_annualized_return       -7.92       -7.96       -8.16       -7.20   \n",
       "drawdown_recovery                -1.74       -0.61       -3.93       -3.75   \n",
       "best_month                       55.78       50.92       44.29       34.27   \n",
       "worst_month                     -24.71      -29.12      -21.23      -21.23   \n",
       "sharpe_ratio                      0.59        0.54        0.57        0.57   \n",
       "sortino_ratio                     0.60        0.55        0.58        0.58   \n",
       "monthly_std                       3.56        3.54        3.42        3.34   \n",
       "pct_time_in_market               61.53       63.00       63.83       65.06   \n",
       "total_num_trades                   712         570         478         411   \n",
       "trades_per_year                   7.76        6.22        5.22        4.49   \n",
       "pct_profitable_trades            29.63       27.54       25.52       26.76   \n",
       "avg_points                        1.70        2.61        2.57        3.81   \n",
       "\n",
       "                                   150         175         200         225  \\\n",
       "start                       1928-08-03  1928-09-10  1928-10-16  1928-11-21   \n",
       "ending_balance              2501089.58  3616575.25  3415486.62  3612619.65   \n",
       "annual_return_rate                6.23        6.67        6.61        6.68   \n",
       "max_closed_out_drawdown         -48.77      -47.00      -51.57      -59.84   \n",
       "drawdown_annualized_return       -7.83       -7.05       -7.81       -8.96   \n",
       "drawdown_recovery                -5.58       -5.58       -3.51       -3.58   \n",
       "best_month                       29.99       27.02       27.01       35.96   \n",
       "worst_month                     -24.41      -29.29      -26.88      -26.62   \n",
       "sharpe_ratio                      0.56        0.60        0.59        0.60   \n",
       "sortino_ratio                     0.57        0.61        0.60        0.62   \n",
       "monthly_std                       3.37        3.30        3.31        3.36   \n",
       "pct_time_in_market               65.89       66.51       67.18       67.74   \n",
       "total_num_trades                   364         301         275         263   \n",
       "trades_per_year                   3.98        3.30        3.02        2.89   \n",
       "pct_profitable_trades            26.10       25.58       25.82       23.95   \n",
       "avg_points                        4.26        6.85        8.73       10.17   \n",
       "\n",
       "                                   250         275         300         325  \\\n",
       "start                       1928-12-28  1929-02-04  1929-03-13  1929-04-18   \n",
       "ending_balance              3088179.69  2374317.83  2030298.62  2384723.94   \n",
       "annual_return_rate                6.50        6.20        6.03        6.22   \n",
       "max_closed_out_drawdown         -56.37      -53.04      -45.93      -47.76   \n",
       "drawdown_annualized_return       -8.67       -8.55       -7.62       -7.68   \n",
       "drawdown_recovery                -3.58       -3.58       -4.54       -4.56   \n",
       "best_month                       35.96       33.32       27.01       27.01   \n",
       "worst_month                     -31.52      -27.22      -31.46      -31.46   \n",
       "sharpe_ratio                      0.59        0.56        0.55        0.56   \n",
       "sortino_ratio                     0.62        0.58        0.55        0.57   \n",
       "monthly_std                       3.36        3.40        3.44        3.42   \n",
       "pct_time_in_market               68.22       68.49       68.59       68.86   \n",
       "total_num_trades                   227         230         209         186   \n",
       "trades_per_year                   2.49        2.53        2.30        2.05   \n",
       "pct_profitable_trades            25.55       24.78       22.01       21.51   \n",
       "avg_points                       11.95       11.03       12.46       15.70   \n",
       "\n",
       "                                   350         375         400         425  \\\n",
       "start                       1929-05-23  1929-06-28  1929-08-05  1929-09-10   \n",
       "ending_balance              2422721.79  2204061.51  1333093.76   948335.32   \n",
       "annual_return_rate                6.25        6.14        5.56        5.17   \n",
       "max_closed_out_drawdown         -43.62      -42.98      -50.04      -47.60   \n",
       "drawdown_annualized_return       -6.98       -7.00       -9.00       -9.20   \n",
       "drawdown_recovery                -4.56       -4.54       -4.53       -3.12   \n",
       "best_month                       27.02       22.41       22.41       22.40   \n",
       "worst_month                     -31.46      -31.46      -31.45      -31.46   \n",
       "sharpe_ratio                      0.56        0.55        0.51        0.48   \n",
       "sortino_ratio                     0.57        0.56        0.51        0.48   \n",
       "monthly_std                       3.42        3.40        3.43        3.45   \n",
       "pct_time_in_market               69.03       69.40       69.81       70.08   \n",
       "total_num_trades                   174         153         168         182   \n",
       "trades_per_year                   1.92        1.69        1.86        2.02   \n",
       "pct_profitable_trades            21.84       22.88       20.83       20.33   \n",
       "avg_points                       15.64       19.76       18.32       15.93   \n",
       "\n",
       "                                   450         475         500  \n",
       "start                       1929-10-15  1929-11-21  1929-12-31  \n",
       "ending_balance               830088.45  1088752.50   670898.18  \n",
       "annual_return_rate                5.02        5.34        4.79  \n",
       "max_closed_out_drawdown         -43.90      -43.39      -47.61  \n",
       "drawdown_annualized_return       -8.74       -8.12       -9.95  \n",
       "drawdown_recovery                -1.36       -1.36       -1.88  \n",
       "best_month                       22.42       22.42       22.42  \n",
       "worst_month                     -31.44      -31.46      -31.46  \n",
       "sharpe_ratio                      0.47        0.50        0.45  \n",
       "sortino_ratio                     0.47        0.51        0.46  \n",
       "monthly_std                       3.42        3.41        3.47  \n",
       "pct_time_in_market               70.42       70.86       71.46  \n",
       "total_num_trades                   160         171         183  \n",
       "trades_per_year                   1.77        1.90        2.03  \n",
       "pct_profitable_trades            21.25       19.30       16.39  \n",
       "avg_points                       17.62       16.17       14.89  "
      ]
     },
     "execution_count": 6,
     "metadata": {},
     "output_type": "execute_result"
    }
   ],
   "source": [
    "metrics = ('start',\n",
    "           'ending_balance',\n",
    "           'annual_return_rate',\n",
    "           'max_closed_out_drawdown',\n",
    "           'drawdown_annualized_return',\n",
    "           'drawdown_recovery',\n",
    "           'best_month',\n",
    "           'worst_month',\n",
    "           'sharpe_ratio',\n",
    "           'sortino_ratio',\n",
    "           'monthly_std',\n",
    "           'pct_time_in_market',\n",
    "           'total_num_trades',\n",
    "           'trades_per_year',\n",
    "           'pct_profitable_trades',\n",
    "           'avg_points')\n",
    "\n",
    "df = strategy.summary(strategies, *metrics)\n",
    "df"
   ]
  },
  {
   "cell_type": "markdown",
   "metadata": {},
   "source": [
    "Bar graphs"
   ]
  },
  {
   "cell_type": "code",
   "execution_count": 7,
   "metadata": {
    "ExecuteTime": {
     "end_time": "2019-12-24T17:53:47.797235Z",
     "start_time": "2019-12-24T17:53:45.805319Z"
    }
   },
   "outputs": [
    {
     "data": {
      "image/png": "[encoded data removed]",
      "text/plain": [
       "<Figure size 720x504 with 1 Axes>"
      ]
     },
     "metadata": {
      "needs_background": "light"
     },
     "output_type": "display_data"
    },
    {
     "data": {
      "image/png": "[encoded data removed]",
      "text/plain": [
       "<Figure size 720x504 with 1 Axes>"
      ]
     },
     "metadata": {
      "needs_background": "light"
     },
     "output_type": "display_data"
    },
    {
     "data": {
      "image/png": "[encoded data removed]",
      "text/plain": [
       "<Figure size 720x504 with 1 Axes>"
      ]
     },
     "metadata": {
      "needs_background": "light"
     },
     "output_type": "display_data"
    },
    {
     "data": {
      "image/png": "[encoded data removed]",
      "text/plain": [
       "<Figure size 720x504 with 1 Axes>"
      ]
     },
     "metadata": {
      "needs_background": "light"
     },
     "output_type": "display_data"
    }
   ],
   "source": [
    "strategy.plot_bar_graph(df, 'annual_return_rate')\n",
    "strategy.plot_bar_graph(df, 'ending_balance')\n",
    "strategy.plot_bar_graph(df, 'sharpe_ratio')\n",
    "strategy.plot_bar_graph(df, 'max_closed_out_drawdown')"
   ]
  },
  {
   "cell_type": "markdown",
   "metadata": {},
   "source": [
    "Run Benchmark"
   ]
  },
  {
   "cell_type": "code",
   "execution_count": 8,
   "metadata": {
    "ExecuteTime": {
     "end_time": "2019-12-24T17:53:50.945071Z",
     "start_time": "2019-12-24T17:53:47.802716Z"
    }
   },
   "outputs": [
    {
     "name": "stdout",
     "output_type": "stream",
     "text": [
      "1928-03-13 00:00:00 BUY  558 ^GSPC @ 17.92\n",
      "2019-12-23 00:00:00 SELL 558 ^GSPC @ 3224.01\n"
     ]
    }
   ],
   "source": [
    "s = strategies[periods[0]]\n",
    "benchmark = pf.Benchmark(symbol, capital, s._start, s._end)\n",
    "benchmark.run()\n",
    "benchmark.tlog, benchmark.dbal = benchmark.get_logs()\n",
    "benchmark.stats = benchmark.get_stats()"
   ]
  },
  {
   "cell_type": "markdown",
   "metadata": {},
   "source": [
    "Equity curve"
   ]
  },
  {
   "cell_type": "code",
   "execution_count": 9,
   "metadata": {
    "ExecuteTime": {
     "end_time": "2019-12-24T17:53:51.486993Z",
     "start_time": "2019-12-24T17:53:50.955330Z"
    }
   },
   "outputs": [
    {
     "data": {
      "image/png": "[encoded data removed]",
      "text/plain": [
       "<Figure size 720x504 with 1 Axes>"
      ]
     },
     "metadata": {
      "needs_background": "light"
     },
     "output_type": "display_data"
    }
   ],
   "source": [
    "pf.plot_equity_curve(strategies['200'].dbal, benchmark=benchmark.dbal)"
   ]
  },
  {
   "cell_type": "code",
   "execution_count": null,
   "metadata": {},
   "outputs": [],
   "source": []
  }
 ],
 "metadata": {
  "kernelspec": {
   "display_name": "Python 2",
   "language": "python",
   "name": "python2"
  },
  "language_info": {
   "codemirror_mode": {
    "name": "ipython",
    "version": 2
   },
   "file_extension": ".py",
   "mimetype": "text/x-python",
   "name": "python",
   "nbconvert_exporter": "python",
   "pygments_lexer": "ipython2",
   "version": "2.7.15+"
  },
  "latex_envs": {
   "LaTeX_envs_menu_present": true,
   "autoclose": false,
   "autocomplete": true,
   "bibliofile": "biblio.bib",
   "cite_by": "apalike",
   "current_citInitial": 1,
   "eqLabelWithNumbers": true,
   "eqNumInitial": 1,
   "hotkeys": {
    "equation": "Ctrl-E",
    "itemize": "Ctrl-I"
   },
   "labels_anchors": false,
   "latex_user_defs": false,
   "report_style_numbering": false,
   "user_envs_cfg": false
  }
 },
 "nbformat": 4,
 "nbformat_minor": 2
}
