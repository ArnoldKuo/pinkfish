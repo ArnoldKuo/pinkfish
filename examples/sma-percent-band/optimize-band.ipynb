{
 "cells": [
  {
   "cell_type": "markdown",
   "metadata": {},
   "source": [
    "#SMA Percent Band\n",
    "\n",
    "    1. The SPY is closes above its upper band, buy\n",
    "    2. If the SPY closes below its lower band, sell your long position.\n",
    "    \n",
    "    (optimize band)"
   ]
  },
  {
   "cell_type": "code",
   "execution_count": 45,
   "metadata": {
    "collapsed": false
   },
   "outputs": [],
   "source": [
    "%matplotlib inline"
   ]
  },
  {
   "cell_type": "markdown",
   "metadata": {},
   "source": [
    "Use future imports for python 3.0 forward compatibility"
   ]
  },
  {
   "cell_type": "code",
   "execution_count": 46,
   "metadata": {
    "collapsed": false
   },
   "outputs": [],
   "source": [
    "from __future__ import print_function\n",
    "from __future__ import unicode_literals\n",
    "from __future__ import division\n",
    "from __future__ import absolute_import"
   ]
  },
  {
   "cell_type": "markdown",
   "metadata": {},
   "source": [
    "Other imports"
   ]
  },
  {
   "cell_type": "code",
   "execution_count": 47,
   "metadata": {
    "collapsed": false
   },
   "outputs": [],
   "source": [
    "import pandas as pd\n",
    "import numpy as np\n",
    "import matplotlib\n",
    "import matplotlib.pyplot as plt\n",
    "import datetime\n",
    "from talib.abstract import *\n",
    "import pinkfish as pf\n",
    "import strategy\n",
    "\n",
    "# format price data\n",
    "pd.options.display.float_format = '{:0.2f}'.format\n",
    "\n",
    "# Double the DPI, so we are making 2x plots:\n",
    "matplotlib.rcParams['savefig.dpi'] = 2 * matplotlib.rcParams['savefig.dpi']"
   ]
  },
  {
   "cell_type": "markdown",
   "metadata": {},
   "source": [
    "Some global data"
   ]
  },
  {
   "cell_type": "code",
   "execution_count": 48,
   "metadata": {
    "collapsed": false
   },
   "outputs": [],
   "source": [
    "symbol = '^GSPC'\n",
    "#symbol = 'SPY'\n",
    "#symbol = 'DIA'\n",
    "#symbol = 'QQQ'\n",
    "#symbol = 'IWM'\n",
    "#symbol = 'TLT'\n",
    "#symbol = 'GLD'\n",
    "#symbol = 'AAPL'\n",
    "#symbol = 'BBRY'\n",
    "#symbol = 'GDX'\n",
    "capital = 10000\n",
    "start = datetime.datetime(1900, 1, 1)\n",
    "#end = datetime.datetime(2005, 12, 1)\n",
    "end = datetime.datetime.now()"
   ]
  },
  {
   "cell_type": "markdown",
   "metadata": {},
   "source": [
    "Define percent bands"
   ]
  },
  {
   "cell_type": "code",
   "execution_count": 49,
   "metadata": {
    "collapsed": false
   },
   "outputs": [],
   "source": [
    "bands = range(0, 100, 5)\n",
    "bands = [str(band) for band in bands]"
   ]
  },
  {
   "cell_type": "markdown",
   "metadata": {},
   "source": [
    "Run Strategy"
   ]
  },
  {
   "cell_type": "code",
   "execution_count": 50,
   "metadata": {
    "collapsed": false
   },
   "outputs": [
    {
     "name": "stdout",
     "output_type": "stream",
     "text": [
      "0 5 10 15 20 25 30 35 40 45 50 55 60 65 70 75 80 85 90 95 "
     ]
    }
   ],
   "source": [
    "strategies = pd.Series()\n",
    "for band in bands:\n",
    "    print(\"{0}\".format(band), end=\" \")\n",
    "    strategies[band] = strategy.Strategy(symbol, capital, start, end, sma_period=200, percent_band=int(band)/10)\n",
    "    strategies[band].run()\n",
    "    strategies[band].tlog, strategies[band].dbal = strategies[band].get_logs()\n",
    "    strategies[band].stats = strategies[band].stats()"
   ]
  },
  {
   "cell_type": "markdown",
   "metadata": {},
   "source": [
    "Summarize results"
   ]
  },
  {
   "cell_type": "code",
   "execution_count": 51,
   "metadata": {
    "collapsed": false,
    "scrolled": true
   },
   "outputs": [
    {
     "data": {
      "text/html": [
       "<div>\n",
       "<table border=\"1\" class=\"dataframe\">\n",
       "  <thead>\n",
       "    <tr style=\"text-align: right;\">\n",
       "      <th></th>\n",
       "      <th>0</th>\n",
       "      <th>5</th>\n",
       "      <th>10</th>\n",
       "      <th>15</th>\n",
       "      <th>20</th>\n",
       "      <th>25</th>\n",
       "      <th>30</th>\n",
       "      <th>35</th>\n",
       "      <th>40</th>\n",
       "      <th>45</th>\n",
       "      <th>50</th>\n",
       "      <th>55</th>\n",
       "      <th>60</th>\n",
       "      <th>65</th>\n",
       "      <th>70</th>\n",
       "      <th>75</th>\n",
       "      <th>80</th>\n",
       "      <th>85</th>\n",
       "      <th>90</th>\n",
       "      <th>95</th>\n",
       "    </tr>\n",
       "  </thead>\n",
       "  <tbody>\n",
       "    <tr>\n",
       "      <th>annual_return_rate</th>\n",
       "      <td>7.51</td>\n",
       "      <td>7.36</td>\n",
       "      <td>7.48</td>\n",
       "      <td>7.28</td>\n",
       "      <td>7.00</td>\n",
       "      <td>7.41</td>\n",
       "      <td>7.53</td>\n",
       "      <td>7.61</td>\n",
       "      <td>7.29</td>\n",
       "      <td>7.47</td>\n",
       "      <td>7.41</td>\n",
       "      <td>6.97</td>\n",
       "      <td>6.58</td>\n",
       "      <td>6.47</td>\n",
       "      <td>6.04</td>\n",
       "      <td>6.08</td>\n",
       "      <td>5.97</td>\n",
       "      <td>6.30</td>\n",
       "      <td>6.67</td>\n",
       "      <td>6.59</td>\n",
       "    </tr>\n",
       "    <tr>\n",
       "      <th>max_closed_out_drawdown</th>\n",
       "      <td>-28.26</td>\n",
       "      <td>-24.16</td>\n",
       "      <td>-22.21</td>\n",
       "      <td>-22.47</td>\n",
       "      <td>-21.54</td>\n",
       "      <td>-25.38</td>\n",
       "      <td>-25.08</td>\n",
       "      <td>-21.35</td>\n",
       "      <td>-21.73</td>\n",
       "      <td>-21.73</td>\n",
       "      <td>-21.77</td>\n",
       "      <td>-36.89</td>\n",
       "      <td>-37.12</td>\n",
       "      <td>-37.70</td>\n",
       "      <td>-37.67</td>\n",
       "      <td>-34.27</td>\n",
       "      <td>-34.27</td>\n",
       "      <td>-34.73</td>\n",
       "      <td>-35.01</td>\n",
       "      <td>-35.54</td>\n",
       "    </tr>\n",
       "    <tr>\n",
       "      <th>drawdown_annualized_return</th>\n",
       "      <td>-3.76</td>\n",
       "      <td>-3.28</td>\n",
       "      <td>-2.97</td>\n",
       "      <td>-3.09</td>\n",
       "      <td>-3.08</td>\n",
       "      <td>-3.42</td>\n",
       "      <td>-3.33</td>\n",
       "      <td>-2.81</td>\n",
       "      <td>-2.98</td>\n",
       "      <td>-2.91</td>\n",
       "      <td>-2.94</td>\n",
       "      <td>-5.29</td>\n",
       "      <td>-5.64</td>\n",
       "      <td>-5.83</td>\n",
       "      <td>-6.23</td>\n",
       "      <td>-5.63</td>\n",
       "      <td>-5.74</td>\n",
       "      <td>-5.51</td>\n",
       "      <td>-5.25</td>\n",
       "      <td>-5.39</td>\n",
       "    </tr>\n",
       "    <tr>\n",
       "      <th>drawdown_recovery</th>\n",
       "      <td>-3.76</td>\n",
       "      <td>-1.98</td>\n",
       "      <td>-1.98</td>\n",
       "      <td>-3.76</td>\n",
       "      <td>-3.69</td>\n",
       "      <td>-3.69</td>\n",
       "      <td>-2.64</td>\n",
       "      <td>-0.99</td>\n",
       "      <td>-0.99</td>\n",
       "      <td>-0.99</td>\n",
       "      <td>-0.99</td>\n",
       "      <td>-0.99</td>\n",
       "      <td>-0.99</td>\n",
       "      <td>-1.23</td>\n",
       "      <td>-1.23</td>\n",
       "      <td>-1.52</td>\n",
       "      <td>-1.52</td>\n",
       "      <td>-1.52</td>\n",
       "      <td>-1.52</td>\n",
       "      <td>-1.52</td>\n",
       "    </tr>\n",
       "    <tr>\n",
       "      <th>best_month</th>\n",
       "      <td>13.42</td>\n",
       "      <td>14.93</td>\n",
       "      <td>14.92</td>\n",
       "      <td>14.92</td>\n",
       "      <td>14.93</td>\n",
       "      <td>14.94</td>\n",
       "      <td>14.92</td>\n",
       "      <td>14.94</td>\n",
       "      <td>14.55</td>\n",
       "      <td>14.55</td>\n",
       "      <td>14.55</td>\n",
       "      <td>14.52</td>\n",
       "      <td>14.55</td>\n",
       "      <td>14.51</td>\n",
       "      <td>14.49</td>\n",
       "      <td>14.52</td>\n",
       "      <td>14.49</td>\n",
       "      <td>14.54</td>\n",
       "      <td>14.55</td>\n",
       "      <td>14.55</td>\n",
       "    </tr>\n",
       "    <tr>\n",
       "      <th>worst_month</th>\n",
       "      <td>-11.96</td>\n",
       "      <td>-13.82</td>\n",
       "      <td>-13.83</td>\n",
       "      <td>-13.82</td>\n",
       "      <td>-13.82</td>\n",
       "      <td>-13.83</td>\n",
       "      <td>-13.83</td>\n",
       "      <td>-13.94</td>\n",
       "      <td>-13.94</td>\n",
       "      <td>-13.93</td>\n",
       "      <td>-13.94</td>\n",
       "      <td>-31.44</td>\n",
       "      <td>-31.44</td>\n",
       "      <td>-31.45</td>\n",
       "      <td>-31.42</td>\n",
       "      <td>-31.45</td>\n",
       "      <td>-31.45</td>\n",
       "      <td>-31.44</td>\n",
       "      <td>-31.47</td>\n",
       "      <td>-31.45</td>\n",
       "    </tr>\n",
       "    <tr>\n",
       "      <th>sharpe_ratio</th>\n",
       "      <td>0.77</td>\n",
       "      <td>0.75</td>\n",
       "      <td>0.76</td>\n",
       "      <td>0.74</td>\n",
       "      <td>0.71</td>\n",
       "      <td>0.75</td>\n",
       "      <td>0.75</td>\n",
       "      <td>0.76</td>\n",
       "      <td>0.73</td>\n",
       "      <td>0.74</td>\n",
       "      <td>0.73</td>\n",
       "      <td>0.67</td>\n",
       "      <td>0.63</td>\n",
       "      <td>0.62</td>\n",
       "      <td>0.59</td>\n",
       "      <td>0.59</td>\n",
       "      <td>0.58</td>\n",
       "      <td>0.60</td>\n",
       "      <td>0.62</td>\n",
       "      <td>0.61</td>\n",
       "    </tr>\n",
       "    <tr>\n",
       "      <th>sortino_ratio</th>\n",
       "      <td>0.88</td>\n",
       "      <td>0.86</td>\n",
       "      <td>0.87</td>\n",
       "      <td>0.85</td>\n",
       "      <td>0.82</td>\n",
       "      <td>0.86</td>\n",
       "      <td>0.87</td>\n",
       "      <td>0.86</td>\n",
       "      <td>0.83</td>\n",
       "      <td>0.86</td>\n",
       "      <td>0.85</td>\n",
       "      <td>0.73</td>\n",
       "      <td>0.70</td>\n",
       "      <td>0.69</td>\n",
       "      <td>0.64</td>\n",
       "      <td>0.65</td>\n",
       "      <td>0.64</td>\n",
       "      <td>0.67</td>\n",
       "      <td>0.71</td>\n",
       "      <td>0.71</td>\n",
       "    </tr>\n",
       "    <tr>\n",
       "      <th>monthly_std</th>\n",
       "      <td>2.89</td>\n",
       "      <td>2.94</td>\n",
       "      <td>2.93</td>\n",
       "      <td>2.94</td>\n",
       "      <td>2.96</td>\n",
       "      <td>2.95</td>\n",
       "      <td>2.95</td>\n",
       "      <td>2.97</td>\n",
       "      <td>2.97</td>\n",
       "      <td>3.00</td>\n",
       "      <td>3.03</td>\n",
       "      <td>3.17</td>\n",
       "      <td>3.19</td>\n",
       "      <td>3.20</td>\n",
       "      <td>3.24</td>\n",
       "      <td>3.24</td>\n",
       "      <td>3.26</td>\n",
       "      <td>3.29</td>\n",
       "      <td>3.33</td>\n",
       "      <td>3.38</td>\n",
       "    </tr>\n",
       "    <tr>\n",
       "      <th>pct_time_in_market</th>\n",
       "      <td>71.12</td>\n",
       "      <td>70.54</td>\n",
       "      <td>69.93</td>\n",
       "      <td>70.02</td>\n",
       "      <td>70.25</td>\n",
       "      <td>69.92</td>\n",
       "      <td>70.40</td>\n",
       "      <td>70.66</td>\n",
       "      <td>70.35</td>\n",
       "      <td>72.14</td>\n",
       "      <td>73.58</td>\n",
       "      <td>73.99</td>\n",
       "      <td>74.60</td>\n",
       "      <td>74.84</td>\n",
       "      <td>75.02</td>\n",
       "      <td>75.26</td>\n",
       "      <td>75.96</td>\n",
       "      <td>77.55</td>\n",
       "      <td>78.71</td>\n",
       "      <td>80.90</td>\n",
       "    </tr>\n",
       "    <tr>\n",
       "      <th>total_num_trades</th>\n",
       "      <td>187.00</td>\n",
       "      <td>105.00</td>\n",
       "      <td>75.00</td>\n",
       "      <td>58.00</td>\n",
       "      <td>51.00</td>\n",
       "      <td>38.00</td>\n",
       "      <td>33.00</td>\n",
       "      <td>28.00</td>\n",
       "      <td>28.00</td>\n",
       "      <td>25.00</td>\n",
       "      <td>23.00</td>\n",
       "      <td>22.00</td>\n",
       "      <td>22.00</td>\n",
       "      <td>21.00</td>\n",
       "      <td>21.00</td>\n",
       "      <td>19.00</td>\n",
       "      <td>18.00</td>\n",
       "      <td>16.00</td>\n",
       "      <td>14.00</td>\n",
       "      <td>13.00</td>\n",
       "    </tr>\n",
       "    <tr>\n",
       "      <th>pct_profitable_trades</th>\n",
       "      <td>29.95</td>\n",
       "      <td>47.62</td>\n",
       "      <td>54.67</td>\n",
       "      <td>51.72</td>\n",
       "      <td>50.98</td>\n",
       "      <td>63.16</td>\n",
       "      <td>69.70</td>\n",
       "      <td>82.14</td>\n",
       "      <td>78.57</td>\n",
       "      <td>84.00</td>\n",
       "      <td>86.96</td>\n",
       "      <td>90.91</td>\n",
       "      <td>86.36</td>\n",
       "      <td>85.71</td>\n",
       "      <td>80.95</td>\n",
       "      <td>84.21</td>\n",
       "      <td>83.33</td>\n",
       "      <td>93.75</td>\n",
       "      <td>100.00</td>\n",
       "      <td>100.00</td>\n",
       "    </tr>\n",
       "    <tr>\n",
       "      <th>avg_points</th>\n",
       "      <td>9.95</td>\n",
       "      <td>18.91</td>\n",
       "      <td>27.63</td>\n",
       "      <td>35.26</td>\n",
       "      <td>40.28</td>\n",
       "      <td>61.72</td>\n",
       "      <td>72.21</td>\n",
       "      <td>84.86</td>\n",
       "      <td>82.70</td>\n",
       "      <td>95.87</td>\n",
       "      <td>109.37</td>\n",
       "      <td>109.17</td>\n",
       "      <td>105.48</td>\n",
       "      <td>108.27</td>\n",
       "      <td>101.65</td>\n",
       "      <td>108.91</td>\n",
       "      <td>111.49</td>\n",
       "      <td>136.35</td>\n",
       "      <td>155.97</td>\n",
       "      <td>158.92</td>\n",
       "    </tr>\n",
       "  </tbody>\n",
       "</table>\n",
       "</div>"
      ],
      "text/plain": [
       "                                0      5     10     15     20     25     30  \\\n",
       "annual_return_rate           7.51   7.36   7.48   7.28   7.00   7.41   7.53   \n",
       "max_closed_out_drawdown    -28.26 -24.16 -22.21 -22.47 -21.54 -25.38 -25.08   \n",
       "drawdown_annualized_return  -3.76  -3.28  -2.97  -3.09  -3.08  -3.42  -3.33   \n",
       "drawdown_recovery           -3.76  -1.98  -1.98  -3.76  -3.69  -3.69  -2.64   \n",
       "best_month                  13.42  14.93  14.92  14.92  14.93  14.94  14.92   \n",
       "worst_month                -11.96 -13.82 -13.83 -13.82 -13.82 -13.83 -13.83   \n",
       "sharpe_ratio                 0.77   0.75   0.76   0.74   0.71   0.75   0.75   \n",
       "sortino_ratio                0.88   0.86   0.87   0.85   0.82   0.86   0.87   \n",
       "monthly_std                  2.89   2.94   2.93   2.94   2.96   2.95   2.95   \n",
       "pct_time_in_market          71.12  70.54  69.93  70.02  70.25  69.92  70.40   \n",
       "total_num_trades           187.00 105.00  75.00  58.00  51.00  38.00  33.00   \n",
       "pct_profitable_trades       29.95  47.62  54.67  51.72  50.98  63.16  69.70   \n",
       "avg_points                   9.95  18.91  27.63  35.26  40.28  61.72  72.21   \n",
       "\n",
       "                               35     40     45     50     55     60     65  \\\n",
       "annual_return_rate           7.61   7.29   7.47   7.41   6.97   6.58   6.47   \n",
       "max_closed_out_drawdown    -21.35 -21.73 -21.73 -21.77 -36.89 -37.12 -37.70   \n",
       "drawdown_annualized_return  -2.81  -2.98  -2.91  -2.94  -5.29  -5.64  -5.83   \n",
       "drawdown_recovery           -0.99  -0.99  -0.99  -0.99  -0.99  -0.99  -1.23   \n",
       "best_month                  14.94  14.55  14.55  14.55  14.52  14.55  14.51   \n",
       "worst_month                -13.94 -13.94 -13.93 -13.94 -31.44 -31.44 -31.45   \n",
       "sharpe_ratio                 0.76   0.73   0.74   0.73   0.67   0.63   0.62   \n",
       "sortino_ratio                0.86   0.83   0.86   0.85   0.73   0.70   0.69   \n",
       "monthly_std                  2.97   2.97   3.00   3.03   3.17   3.19   3.20   \n",
       "pct_time_in_market          70.66  70.35  72.14  73.58  73.99  74.60  74.84   \n",
       "total_num_trades            28.00  28.00  25.00  23.00  22.00  22.00  21.00   \n",
       "pct_profitable_trades       82.14  78.57  84.00  86.96  90.91  86.36  85.71   \n",
       "avg_points                  84.86  82.70  95.87 109.37 109.17 105.48 108.27   \n",
       "\n",
       "                               70     75     80     85     90     95  \n",
       "annual_return_rate           6.04   6.08   5.97   6.30   6.67   6.59  \n",
       "max_closed_out_drawdown    -37.67 -34.27 -34.27 -34.73 -35.01 -35.54  \n",
       "drawdown_annualized_return  -6.23  -5.63  -5.74  -5.51  -5.25  -5.39  \n",
       "drawdown_recovery           -1.23  -1.52  -1.52  -1.52  -1.52  -1.52  \n",
       "best_month                  14.49  14.52  14.49  14.54  14.55  14.55  \n",
       "worst_month                -31.42 -31.45 -31.45 -31.44 -31.47 -31.45  \n",
       "sharpe_ratio                 0.59   0.59   0.58   0.60   0.62   0.61  \n",
       "sortino_ratio                0.64   0.65   0.64   0.67   0.71   0.71  \n",
       "monthly_std                  3.24   3.24   3.26   3.29   3.33   3.38  \n",
       "pct_time_in_market          75.02  75.26  75.96  77.55  78.71  80.90  \n",
       "total_num_trades            21.00  19.00  18.00  16.00  14.00  13.00  \n",
       "pct_profitable_trades       80.95  84.21  83.33  93.75 100.00 100.00  \n",
       "avg_points                 101.65 108.91 111.49 136.35 155.97 158.92  "
      ]
     },
     "execution_count": 51,
     "metadata": {},
     "output_type": "execute_result"
    }
   ],
   "source": [
    "metrics = ('annual_return_rate',\n",
    "           'max_closed_out_drawdown',\n",
    "           'drawdown_annualized_return',\n",
    "           'drawdown_recovery',\n",
    "           'best_month',\n",
    "           'worst_month',\n",
    "           'sharpe_ratio',\n",
    "           'sortino_ratio',\n",
    "           'monthly_std',\n",
    "           'pct_time_in_market',\n",
    "           'total_num_trades',\n",
    "           'pct_profitable_trades',\n",
    "           'avg_points')\n",
    "\n",
    "df = strategy.summary(strategies, *metrics)\n",
    "df"
   ]
  },
  {
   "cell_type": "markdown",
   "metadata": {},
   "source": [
    "Bar graphs"
   ]
  },
  {
   "cell_type": "code",
   "execution_count": 52,
   "metadata": {
    "collapsed": false
   },
   "outputs": [
    {
     "data": {
      "image/png": "[encoded data removed]",
      "text/plain": [
       "<matplotlib.figure.Figure at 0x7f665f2c7f90>"
      ]
     },
     "metadata": {},
     "output_type": "display_data"
    },
    {
     "data": {
      "image/png": "[encoded data removed]",
      "text/plain": [
       "<matplotlib.figure.Figure at 0x7f665f2c7590>"
      ]
     },
     "metadata": {},
     "output_type": "display_data"
    },
    {
     "data": {
      "image/png": "[encoded data removed]",
      "text/plain": [
       "<matplotlib.figure.Figure at 0x7f6657146290>"
      ]
     },
     "metadata": {},
     "output_type": "display_data"
    }
   ],
   "source": [
    "strategy.plot_bar_graph(df, 'annual_return_rate')\n",
    "strategy.plot_bar_graph(df, 'sharpe_ratio')\n",
    "strategy.plot_bar_graph(df, 'max_closed_out_drawdown')"
   ]
  },
  {
   "cell_type": "markdown",
   "metadata": {},
   "source": [
    "Run Benchmark"
   ]
  },
  {
   "cell_type": "code",
   "execution_count": 53,
   "metadata": {
    "collapsed": false
   },
   "outputs": [
    {
     "name": "stdout",
     "output_type": "stream",
     "text": [
      "1950-10-18 00:00:00 BUY  499 ^GSPC @ 20.01\n",
      "2015-05-29 00:00:00 SELL 499.0 ^GSPC @ 2107.39\n"
     ]
    }
   ],
   "source": [
    "s = strategies[bands[0]]\n",
    "benchmark = pf.Benchmark(symbol, capital, s._start, s._end)\n",
    "benchmark.run()\n",
    "benchmark.tlog, benchmark.dbal = benchmark.get_logs()\n",
    "benchmark.stats = benchmark.stats()"
   ]
  },
  {
   "cell_type": "markdown",
   "metadata": {},
   "source": [
    "Equity curve"
   ]
  },
  {
   "cell_type": "code",
   "execution_count": 57,
   "metadata": {
    "collapsed": false
   },
   "outputs": [
    {
     "data": {
      "image/png": "[encoded data removed]",
      "text/plain": [
       "<matplotlib.figure.Figure at 0x7f664feef110>"
      ]
     },
     "metadata": {},
     "output_type": "display_data"
    }
   ],
   "source": [
    "pf.plot_equity_curve(strategies['40'].dbal, benchmark=benchmark.dbal)"
   ]
  },
  {
   "cell_type": "code",
   "execution_count": null,
   "metadata": {
    "collapsed": true
   },
   "outputs": [],
   "source": []
  }
 ],
 "metadata": {
  "kernelspec": {
   "display_name": "Python 2",
   "language": "python",
   "name": "python2"
  },
  "language_info": {
   "codemirror_mode": {
    "name": "ipython",
    "version": 2
   },
   "file_extension": ".py",
   "mimetype": "text/x-python",
   "name": "python",
   "nbconvert_exporter": "python",
   "pygments_lexer": "ipython2",
   "version": "2.7.6"
  }
 },
 "nbformat": 4,
 "nbformat_minor": 0
}
