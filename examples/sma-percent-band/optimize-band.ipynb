{
 "metadata": {
  "kernelspec": {
   "display_name": "Python 2",
   "language": "python",
   "name": "python2"
  },
  "language_info": {
   "codemirror_mode": {
    "name": "ipython",
    "version": 2
   },
   "file_extension": ".py",
   "mimetype": "text/x-python",
   "name": "python",
   "nbconvert_exporter": "python",
   "pygments_lexer": "ipython2",
   "version": "2.7.6"
  },
  "name": "",
  "signature": "sha256:114e3942c8fbd4087a3c04a1331f25035f187a2402f4efe7a9bf0942032d06a8"
 },
 "nbformat": 3,
 "nbformat_minor": 0,
 "worksheets": [
  {
   "cells": [
    {
     "cell_type": "markdown",
     "metadata": {},
     "source": [
      "#SMA Percent Band\n",
      "\n",
      "    1. The SPY closes above its upper band, buy\n",
      "    2. If the SPY closes below its lower band, sell your long position.\n",
      "    \n",
      "    (optimize band)"
     ]
    },
    {
     "cell_type": "code",
     "collapsed": false,
     "input": [
      "%matplotlib inline"
     ],
     "language": "python",
     "metadata": {},
     "outputs": [],
     "prompt_number": 1
    },
    {
     "cell_type": "markdown",
     "metadata": {},
     "source": [
      "Use future imports for python 3.0 forward compatibility"
     ]
    },
    {
     "cell_type": "code",
     "collapsed": false,
     "input": [
      "from __future__ import print_function\n",
      "from __future__ import unicode_literals\n",
      "from __future__ import division\n",
      "from __future__ import absolute_import"
     ],
     "language": "python",
     "metadata": {},
     "outputs": [],
     "prompt_number": 2
    },
    {
     "cell_type": "markdown",
     "metadata": {},
     "source": [
      "Other imports"
     ]
    },
    {
     "cell_type": "code",
     "collapsed": false,
     "input": [
      "import pandas as pd\n",
      "import numpy as np\n",
      "import matplotlib\n",
      "import matplotlib.pyplot as plt\n",
      "import datetime\n",
      "from talib.abstract import *\n",
      "import pinkfish as pf\n",
      "import strategy\n",
      "\n",
      "# format price data\n",
      "pd.options.display.float_format = '{:0.2f}'.format\n",
      "\n",
      "# Double the DPI, so we are making 2x plots:\n",
      "matplotlib.rcParams['savefig.dpi'] = 2 * matplotlib.rcParams['savefig.dpi']"
     ],
     "language": "python",
     "metadata": {},
     "outputs": [],
     "prompt_number": 3
    },
    {
     "cell_type": "markdown",
     "metadata": {},
     "source": [
      "Some global data"
     ]
    },
    {
     "cell_type": "code",
     "collapsed": false,
     "input": [
      "symbol = '^GSPC'\n",
      "#symbol = 'SPY'\n",
      "#symbol = 'DIA'\n",
      "#symbol = 'QQQ'\n",
      "#symbol = 'IWM'\n",
      "#symbol = 'TLT'\n",
      "#symbol = 'GLD'\n",
      "#symbol = 'AAPL'\n",
      "#symbol = 'BBRY'\n",
      "#symbol = 'GDX'\n",
      "capital = 10000\n",
      "start = datetime.datetime(1900, 1, 1)\n",
      "#end = datetime.datetime(2005, 12, 1)\n",
      "end = datetime.datetime.now()"
     ],
     "language": "python",
     "metadata": {},
     "outputs": [],
     "prompt_number": 4
    },
    {
     "cell_type": "markdown",
     "metadata": {},
     "source": [
      "Define percent bands"
     ]
    },
    {
     "cell_type": "code",
     "collapsed": false,
     "input": [
      "bands = range(0, 100, 5)\n",
      "bands = [str(band) for band in bands]"
     ],
     "language": "python",
     "metadata": {},
     "outputs": [],
     "prompt_number": 5
    },
    {
     "cell_type": "markdown",
     "metadata": {},
     "source": [
      "Run Strategy"
     ]
    },
    {
     "cell_type": "code",
     "collapsed": false,
     "input": [
      "strategies = pd.Series()\n",
      "for band in bands:\n",
      "    print(\"{0}\".format(band), end=\" \")\n",
      "    strategies[band] = strategy.Strategy(symbol, capital, start, end, sma_period=200, percent_band=int(band)/10)\n",
      "    strategies[band].run()\n",
      "    strategies[band].tlog, strategies[band].dbal = strategies[band].get_logs()\n",
      "    strategies[band].stats = strategies[band].stats()"
     ],
     "language": "python",
     "metadata": {},
     "outputs": [
      {
       "output_type": "stream",
       "stream": "stdout",
       "text": [
        "0 5"
       ]
      },
      {
       "output_type": "stream",
       "stream": "stdout",
       "text": [
        " 10"
       ]
      },
      {
       "output_type": "stream",
       "stream": "stdout",
       "text": [
        " 15"
       ]
      },
      {
       "output_type": "stream",
       "stream": "stdout",
       "text": [
        " 20"
       ]
      },
      {
       "output_type": "stream",
       "stream": "stdout",
       "text": [
        " 25"
       ]
      },
      {
       "output_type": "stream",
       "stream": "stdout",
       "text": [
        " 30"
       ]
      },
      {
       "output_type": "stream",
       "stream": "stdout",
       "text": [
        " 35"
       ]
      },
      {
       "output_type": "stream",
       "stream": "stdout",
       "text": [
        " 40"
       ]
      },
      {
       "output_type": "stream",
       "stream": "stdout",
       "text": [
        " 45"
       ]
      },
      {
       "output_type": "stream",
       "stream": "stdout",
       "text": [
        " 50"
       ]
      },
      {
       "output_type": "stream",
       "stream": "stdout",
       "text": [
        " 55"
       ]
      },
      {
       "output_type": "stream",
       "stream": "stdout",
       "text": [
        " 60"
       ]
      },
      {
       "output_type": "stream",
       "stream": "stdout",
       "text": [
        " 65"
       ]
      },
      {
       "output_type": "stream",
       "stream": "stdout",
       "text": [
        " 70"
       ]
      },
      {
       "output_type": "stream",
       "stream": "stdout",
       "text": [
        " 75"
       ]
      },
      {
       "output_type": "stream",
       "stream": "stdout",
       "text": [
        " 80"
       ]
      },
      {
       "output_type": "stream",
       "stream": "stdout",
       "text": [
        " 85"
       ]
      },
      {
       "output_type": "stream",
       "stream": "stdout",
       "text": [
        " 90"
       ]
      },
      {
       "output_type": "stream",
       "stream": "stdout",
       "text": [
        " 95"
       ]
      },
      {
       "output_type": "stream",
       "stream": "stdout",
       "text": [
        " "
       ]
      }
     ],
     "prompt_number": 6
    },
    {
     "cell_type": "markdown",
     "metadata": {},
     "source": [
      "Summarize results"
     ]
    },
    {
     "cell_type": "code",
     "collapsed": false,
     "input": [
      "metrics = ('annual_return_rate',\n",
      "           'max_closed_out_drawdown',\n",
      "           'drawdown_annualized_return',\n",
      "           'drawdown_recovery',\n",
      "           'best_month',\n",
      "           'worst_month',\n",
      "           'sharpe_ratio',\n",
      "           'sortino_ratio',\n",
      "           'monthly_std',\n",
      "           'pct_time_in_market',\n",
      "           'total_num_trades',\n",
      "           'pct_profitable_trades',\n",
      "           'avg_points')\n",
      "\n",
      "df = strategy.summary(strategies, *metrics)\n",
      "df"
     ],
     "language": "python",
     "metadata": {
      "scrolled": true
     },
     "outputs": [
      {
       "html": [
        "<div style=\"max-width:1500px;overflow:auto;\">\n",
        "<style scoped>\n",
        "    .dataframe tbody tr th:only-of-type {\n",
        "        vertical-align: middle;\n",
        "    }\n",
        "\n",
        "    .dataframe tbody tr th {\n",
        "        vertical-align: top;\n",
        "    }\n",
        "\n",
        "    .dataframe thead th {\n",
        "        text-align: right;\n",
        "    }\n",
        "</style>\n",
        "<table border=\"1\" class=\"dataframe\">\n",
        "  <thead>\n",
        "    <tr style=\"text-align: right;\">\n",
        "      <th></th>\n",
        "      <th>0</th>\n",
        "      <th>5</th>\n",
        "      <th>10</th>\n",
        "      <th>15</th>\n",
        "      <th>20</th>\n",
        "      <th>25</th>\n",
        "      <th>30</th>\n",
        "      <th>35</th>\n",
        "      <th>40</th>\n",
        "      <th>45</th>\n",
        "      <th>50</th>\n",
        "      <th>55</th>\n",
        "      <th>60</th>\n",
        "      <th>65</th>\n",
        "      <th>70</th>\n",
        "      <th>75</th>\n",
        "      <th>80</th>\n",
        "      <th>85</th>\n",
        "      <th>90</th>\n",
        "      <th>95</th>\n",
        "    </tr>\n",
        "  </thead>\n",
        "  <tbody>\n",
        "    <tr>\n",
        "      <th>annual_return_rate</th>\n",
        "      <td>7.51</td>\n",
        "      <td>7.37</td>\n",
        "      <td>7.49</td>\n",
        "      <td>7.32</td>\n",
        "      <td>7.10</td>\n",
        "      <td>7.51</td>\n",
        "      <td>7.62</td>\n",
        "      <td>7.68</td>\n",
        "      <td>7.37</td>\n",
        "      <td>7.54</td>\n",
        "      <td>7.48</td>\n",
        "      <td>6.96</td>\n",
        "      <td>6.59</td>\n",
        "      <td>6.47</td>\n",
        "      <td>5.99</td>\n",
        "      <td>5.98</td>\n",
        "      <td>5.86</td>\n",
        "      <td>6.17</td>\n",
        "      <td>6.48</td>\n",
        "      <td>6.40</td>\n",
        "    </tr>\n",
        "    <tr>\n",
        "      <th>max_closed_out_drawdown</th>\n",
        "      <td>-28.26</td>\n",
        "      <td>-24.16</td>\n",
        "      <td>-22.21</td>\n",
        "      <td>-22.47</td>\n",
        "      <td>-21.54</td>\n",
        "      <td>-25.38</td>\n",
        "      <td>-25.08</td>\n",
        "      <td>-21.35</td>\n",
        "      <td>-21.73</td>\n",
        "      <td>-21.73</td>\n",
        "      <td>-21.77</td>\n",
        "      <td>-36.89</td>\n",
        "      <td>-37.12</td>\n",
        "      <td>-37.70</td>\n",
        "      <td>-37.67</td>\n",
        "      <td>-34.27</td>\n",
        "      <td>-34.27</td>\n",
        "      <td>-34.73</td>\n",
        "      <td>-35.01</td>\n",
        "      <td>-35.54</td>\n",
        "    </tr>\n",
        "    <tr>\n",
        "      <th>drawdown_annualized_return</th>\n",
        "      <td>-3.76</td>\n",
        "      <td>-3.28</td>\n",
        "      <td>-2.97</td>\n",
        "      <td>-3.07</td>\n",
        "      <td>-3.03</td>\n",
        "      <td>-3.38</td>\n",
        "      <td>-3.29</td>\n",
        "      <td>-2.78</td>\n",
        "      <td>-2.95</td>\n",
        "      <td>-2.88</td>\n",
        "      <td>-2.91</td>\n",
        "      <td>-5.30</td>\n",
        "      <td>-5.63</td>\n",
        "      <td>-5.82</td>\n",
        "      <td>-6.29</td>\n",
        "      <td>-5.73</td>\n",
        "      <td>-5.84</td>\n",
        "      <td>-5.63</td>\n",
        "      <td>-5.40</td>\n",
        "      <td>-5.55</td>\n",
        "    </tr>\n",
        "    <tr>\n",
        "      <th>drawdown_recovery</th>\n",
        "      <td>-3.76</td>\n",
        "      <td>-1.98</td>\n",
        "      <td>-1.98</td>\n",
        "      <td>-3.76</td>\n",
        "      <td>-3.69</td>\n",
        "      <td>-3.69</td>\n",
        "      <td>-2.64</td>\n",
        "      <td>-0.99</td>\n",
        "      <td>-0.99</td>\n",
        "      <td>-0.99</td>\n",
        "      <td>-0.99</td>\n",
        "      <td>-0.99</td>\n",
        "      <td>-0.99</td>\n",
        "      <td>-1.23</td>\n",
        "      <td>-1.23</td>\n",
        "      <td>-1.52</td>\n",
        "      <td>-1.52</td>\n",
        "      <td>-1.52</td>\n",
        "      <td>-1.52</td>\n",
        "      <td>-1.52</td>\n",
        "    </tr>\n",
        "    <tr>\n",
        "      <th>best_month</th>\n",
        "      <td>13.42</td>\n",
        "      <td>14.93</td>\n",
        "      <td>14.92</td>\n",
        "      <td>14.92</td>\n",
        "      <td>14.93</td>\n",
        "      <td>14.94</td>\n",
        "      <td>14.92</td>\n",
        "      <td>14.94</td>\n",
        "      <td>14.55</td>\n",
        "      <td>14.55</td>\n",
        "      <td>14.55</td>\n",
        "      <td>14.52</td>\n",
        "      <td>14.55</td>\n",
        "      <td>14.51</td>\n",
        "      <td>14.49</td>\n",
        "      <td>14.52</td>\n",
        "      <td>14.49</td>\n",
        "      <td>14.54</td>\n",
        "      <td>14.55</td>\n",
        "      <td>14.55</td>\n",
        "    </tr>\n",
        "    <tr>\n",
        "      <th>worst_month</th>\n",
        "      <td>-11.96</td>\n",
        "      <td>-13.82</td>\n",
        "      <td>-13.83</td>\n",
        "      <td>-13.82</td>\n",
        "      <td>-13.82</td>\n",
        "      <td>-13.83</td>\n",
        "      <td>-13.83</td>\n",
        "      <td>-13.94</td>\n",
        "      <td>-13.94</td>\n",
        "      <td>-13.93</td>\n",
        "      <td>-13.94</td>\n",
        "      <td>-31.44</td>\n",
        "      <td>-31.44</td>\n",
        "      <td>-31.45</td>\n",
        "      <td>-31.42</td>\n",
        "      <td>-31.45</td>\n",
        "      <td>-31.45</td>\n",
        "      <td>-31.44</td>\n",
        "      <td>-31.47</td>\n",
        "      <td>-31.45</td>\n",
        "    </tr>\n",
        "    <tr>\n",
        "      <th>sharpe_ratio</th>\n",
        "      <td>0.77</td>\n",
        "      <td>0.76</td>\n",
        "      <td>0.77</td>\n",
        "      <td>0.75</td>\n",
        "      <td>0.72</td>\n",
        "      <td>0.76</td>\n",
        "      <td>0.77</td>\n",
        "      <td>0.77</td>\n",
        "      <td>0.74</td>\n",
        "      <td>0.75</td>\n",
        "      <td>0.74</td>\n",
        "      <td>0.67</td>\n",
        "      <td>0.64</td>\n",
        "      <td>0.63</td>\n",
        "      <td>0.59</td>\n",
        "      <td>0.59</td>\n",
        "      <td>0.57</td>\n",
        "      <td>0.59</td>\n",
        "      <td>0.61</td>\n",
        "      <td>0.60</td>\n",
        "    </tr>\n",
        "    <tr>\n",
        "      <th>sortino_ratio</th>\n",
        "      <td>0.88</td>\n",
        "      <td>0.86</td>\n",
        "      <td>0.87</td>\n",
        "      <td>0.85</td>\n",
        "      <td>0.83</td>\n",
        "      <td>0.87</td>\n",
        "      <td>0.88</td>\n",
        "      <td>0.87</td>\n",
        "      <td>0.84</td>\n",
        "      <td>0.86</td>\n",
        "      <td>0.86</td>\n",
        "      <td>0.73</td>\n",
        "      <td>0.70</td>\n",
        "      <td>0.69</td>\n",
        "      <td>0.64</td>\n",
        "      <td>0.64</td>\n",
        "      <td>0.63</td>\n",
        "      <td>0.66</td>\n",
        "      <td>0.69</td>\n",
        "      <td>0.69</td>\n",
        "    </tr>\n",
        "    <tr>\n",
        "      <th>monthly_std</th>\n",
        "      <td>2.87</td>\n",
        "      <td>2.91</td>\n",
        "      <td>2.90</td>\n",
        "      <td>2.91</td>\n",
        "      <td>2.93</td>\n",
        "      <td>2.92</td>\n",
        "      <td>2.92</td>\n",
        "      <td>2.94</td>\n",
        "      <td>2.94</td>\n",
        "      <td>2.97</td>\n",
        "      <td>3.00</td>\n",
        "      <td>3.14</td>\n",
        "      <td>3.16</td>\n",
        "      <td>3.17</td>\n",
        "      <td>3.21</td>\n",
        "      <td>3.20</td>\n",
        "      <td>3.22</td>\n",
        "      <td>3.25</td>\n",
        "      <td>3.29</td>\n",
        "      <td>3.34</td>\n",
        "    </tr>\n",
        "    <tr>\n",
        "      <th>pct_time_in_market</th>\n",
        "      <td>71.65</td>\n",
        "      <td>71.08</td>\n",
        "      <td>70.44</td>\n",
        "      <td>70.47</td>\n",
        "      <td>70.71</td>\n",
        "      <td>70.22</td>\n",
        "      <td>70.63</td>\n",
        "      <td>70.86</td>\n",
        "      <td>70.56</td>\n",
        "      <td>72.09</td>\n",
        "      <td>73.46</td>\n",
        "      <td>73.72</td>\n",
        "      <td>74.30</td>\n",
        "      <td>74.52</td>\n",
        "      <td>74.06</td>\n",
        "      <td>74.05</td>\n",
        "      <td>74.71</td>\n",
        "      <td>76.23</td>\n",
        "      <td>77.31</td>\n",
        "      <td>79.42</td>\n",
        "    </tr>\n",
        "    <tr>\n",
        "      <th>total_num_trades</th>\n",
        "      <td>197.00</td>\n",
        "      <td>112.00</td>\n",
        "      <td>79.00</td>\n",
        "      <td>61.00</td>\n",
        "      <td>53.00</td>\n",
        "      <td>39.00</td>\n",
        "      <td>34.00</td>\n",
        "      <td>29.00</td>\n",
        "      <td>29.00</td>\n",
        "      <td>26.00</td>\n",
        "      <td>24.00</td>\n",
        "      <td>23.00</td>\n",
        "      <td>23.00</td>\n",
        "      <td>22.00</td>\n",
        "      <td>22.00</td>\n",
        "      <td>20.00</td>\n",
        "      <td>19.00</td>\n",
        "      <td>17.00</td>\n",
        "      <td>15.00</td>\n",
        "      <td>14.00</td>\n",
        "    </tr>\n",
        "    <tr>\n",
        "      <th>pct_profitable_trades</th>\n",
        "      <td>28.93</td>\n",
        "      <td>45.54</td>\n",
        "      <td>53.16</td>\n",
        "      <td>50.82</td>\n",
        "      <td>50.94</td>\n",
        "      <td>64.10</td>\n",
        "      <td>70.59</td>\n",
        "      <td>82.76</td>\n",
        "      <td>79.31</td>\n",
        "      <td>84.62</td>\n",
        "      <td>87.50</td>\n",
        "      <td>91.30</td>\n",
        "      <td>86.96</td>\n",
        "      <td>86.36</td>\n",
        "      <td>81.82</td>\n",
        "      <td>85.00</td>\n",
        "      <td>84.21</td>\n",
        "      <td>94.12</td>\n",
        "      <td>100.00</td>\n",
        "      <td>100.00</td>\n",
        "    </tr>\n",
        "    <tr>\n",
        "      <th>avg_points</th>\n",
        "      <td>12.10</td>\n",
        "      <td>22.49</td>\n",
        "      <td>32.90</td>\n",
        "      <td>42.72</td>\n",
        "      <td>50.58</td>\n",
        "      <td>76.65</td>\n",
        "      <td>88.75</td>\n",
        "      <td>103.40</td>\n",
        "      <td>101.09</td>\n",
        "      <td>115.71</td>\n",
        "      <td>129.73</td>\n",
        "      <td>125.61</td>\n",
        "      <td>122.07</td>\n",
        "      <td>124.97</td>\n",
        "      <td>113.74</td>\n",
        "      <td>118.55</td>\n",
        "      <td>120.89</td>\n",
        "      <td>144.44</td>\n",
        "      <td>160.09</td>\n",
        "      <td>163.12</td>\n",
        "    </tr>\n",
        "  </tbody>\n",
        "</table>\n",
        "</div>"
       ],
       "metadata": {},
       "output_type": "pyout",
       "prompt_number": 7,
       "text": [
        "                                0      5     10     15     20     25     30  \\\n",
        "annual_return_rate           7.51   7.37   7.49   7.32   7.10   7.51   7.62   \n",
        "max_closed_out_drawdown    -28.26 -24.16 -22.21 -22.47 -21.54 -25.38 -25.08   \n",
        "drawdown_annualized_return  -3.76  -3.28  -2.97  -3.07  -3.03  -3.38  -3.29   \n",
        "drawdown_recovery           -3.76  -1.98  -1.98  -3.76  -3.69  -3.69  -2.64   \n",
        "best_month                  13.42  14.93  14.92  14.92  14.93  14.94  14.92   \n",
        "worst_month                -11.96 -13.82 -13.83 -13.82 -13.82 -13.83 -13.83   \n",
        "sharpe_ratio                 0.77   0.76   0.77   0.75   0.72   0.76   0.77   \n",
        "sortino_ratio                0.88   0.86   0.87   0.85   0.83   0.87   0.88   \n",
        "monthly_std                  2.87   2.91   2.90   2.91   2.93   2.92   2.92   \n",
        "pct_time_in_market          71.65  71.08  70.44  70.47  70.71  70.22  70.63   \n",
        "total_num_trades           197.00 112.00  79.00  61.00  53.00  39.00  34.00   \n",
        "pct_profitable_trades       28.93  45.54  53.16  50.82  50.94  64.10  70.59   \n",
        "avg_points                  12.10  22.49  32.90  42.72  50.58  76.65  88.75   \n",
        "\n",
        "                               35     40     45     50     55     60     65  \\\n",
        "annual_return_rate           7.68   7.37   7.54   7.48   6.96   6.59   6.47   \n",
        "max_closed_out_drawdown    -21.35 -21.73 -21.73 -21.77 -36.89 -37.12 -37.70   \n",
        "drawdown_annualized_return  -2.78  -2.95  -2.88  -2.91  -5.30  -5.63  -5.82   \n",
        "drawdown_recovery           -0.99  -0.99  -0.99  -0.99  -0.99  -0.99  -1.23   \n",
        "best_month                  14.94  14.55  14.55  14.55  14.52  14.55  14.51   \n",
        "worst_month                -13.94 -13.94 -13.93 -13.94 -31.44 -31.44 -31.45   \n",
        "sharpe_ratio                 0.77   0.74   0.75   0.74   0.67   0.64   0.63   \n",
        "sortino_ratio                0.87   0.84   0.86   0.86   0.73   0.70   0.69   \n",
        "monthly_std                  2.94   2.94   2.97   3.00   3.14   3.16   3.17   \n",
        "pct_time_in_market          70.86  70.56  72.09  73.46  73.72  74.30  74.52   \n",
        "total_num_trades            29.00  29.00  26.00  24.00  23.00  23.00  22.00   \n",
        "pct_profitable_trades       82.76  79.31  84.62  87.50  91.30  86.96  86.36   \n",
        "avg_points                 103.40 101.09 115.71 129.73 125.61 122.07 124.97   \n",
        "\n",
        "                               70     75     80     85     90     95  \n",
        "annual_return_rate           5.99   5.98   5.86   6.17   6.48   6.40  \n",
        "max_closed_out_drawdown    -37.67 -34.27 -34.27 -34.73 -35.01 -35.54  \n",
        "drawdown_annualized_return  -6.29  -5.73  -5.84  -5.63  -5.40  -5.55  \n",
        "drawdown_recovery           -1.23  -1.52  -1.52  -1.52  -1.52  -1.52  \n",
        "best_month                  14.49  14.52  14.49  14.54  14.55  14.55  \n",
        "worst_month                -31.42 -31.45 -31.45 -31.44 -31.47 -31.45  \n",
        "sharpe_ratio                 0.59   0.59   0.57   0.59   0.61   0.60  \n",
        "sortino_ratio                0.64   0.64   0.63   0.66   0.69   0.69  \n",
        "monthly_std                  3.21   3.20   3.22   3.25   3.29   3.34  \n",
        "pct_time_in_market          74.06  74.05  74.71  76.23  77.31  79.42  \n",
        "total_num_trades            22.00  20.00  19.00  17.00  15.00  14.00  \n",
        "pct_profitable_trades       81.82  85.00  84.21  94.12 100.00 100.00  \n",
        "avg_points                 113.74 118.55 120.89 144.44 160.09 163.12  "
       ]
      }
     ],
     "prompt_number": 7
    },
    {
     "cell_type": "markdown",
     "metadata": {},
     "source": [
      "Bar graphs"
     ]
    },
    {
     "cell_type": "code",
     "collapsed": false,
     "input": [
      "strategy.plot_bar_graph(df, 'annual_return_rate')\n",
      "strategy.plot_bar_graph(df, 'sharpe_ratio')\n",
      "strategy.plot_bar_graph(df, 'max_closed_out_drawdown')"
     ],
     "language": "python",
     "metadata": {},
     "outputs": [
      {
       "metadata": {},
       "output_type": "display_data",
       "png": "[encoded data removed]",
       "text": [
        "<matplotlib.figure.Figure at 0x7f003d598950>"
       ]
      },
      {
       "metadata": {},
       "output_type": "display_data",
       "png": "[encoded data removed]",
       "text": [
        "<matplotlib.figure.Figure at 0x7f00149d0810>"
       ]
      },
      {
       "metadata": {},
       "output_type": "display_data",
       "png": "[encoded data removed]",
       "text": [
        "<matplotlib.figure.Figure at 0x7f0012840410>"
       ]
      }
     ],
     "prompt_number": 8
    },
    {
     "cell_type": "markdown",
     "metadata": {},
     "source": [
      "Run Benchmark"
     ]
    },
    {
     "cell_type": "code",
     "collapsed": false,
     "input": [
      "s = strategies[bands[0]]\n",
      "benchmark = pf.Benchmark(symbol, capital, s._start, s._end)\n",
      "benchmark.run()\n",
      "benchmark.tlog, benchmark.dbal = benchmark.get_logs()\n",
      "benchmark.stats = benchmark.stats()"
     ],
     "language": "python",
     "metadata": {},
     "outputs": [
      {
       "output_type": "stream",
       "stream": "stdout",
       "text": [
        "1950-10-18 00:00:00 BUY  499 ^GSPC @ 20.01\n",
        "2018-01-29 00:00:00 SELL 499 ^GSPC @ 2853.53"
       ]
      },
      {
       "output_type": "stream",
       "stream": "stdout",
       "text": [
        "\n"
       ]
      }
     ],
     "prompt_number": 9
    },
    {
     "cell_type": "markdown",
     "metadata": {},
     "source": [
      "Equity curve"
     ]
    },
    {
     "cell_type": "code",
     "collapsed": false,
     "input": [
      "pf.plot_equity_curve(strategies['40'].dbal, benchmark=benchmark.dbal)"
     ],
     "language": "python",
     "metadata": {},
     "outputs": [
      {
       "metadata": {},
       "output_type": "display_data",
       "png": "[encoded data removed]",
       "text": [
        "<matplotlib.figure.Figure at 0x7f0012791a50>"
       ]
      }
     ],
     "prompt_number": 10
    }
   ],
   "metadata": {}
  }
 ]
}