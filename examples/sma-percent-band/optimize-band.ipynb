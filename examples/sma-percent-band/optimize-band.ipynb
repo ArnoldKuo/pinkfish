{
 "cells": [
  {
   "cell_type": "markdown",
   "metadata": {},
   "source": [
    "#SMA Percent Band\n",
    "\n",
    "    1. The SPY closes above its upper band, buy\n",
    "    2. If the SPY closes below its lower band, sell your long position.\n",
    "    \n",
    "    (optimize band)"
   ]
  },
  {
   "cell_type": "code",
   "execution_count": 1,
   "metadata": {},
   "outputs": [],
   "source": [
    "%matplotlib inline"
   ]
  },
  {
   "cell_type": "markdown",
   "metadata": {},
   "source": [
    "Use future imports for python 3.0 forward compatibility"
   ]
  },
  {
   "cell_type": "code",
   "execution_count": 2,
   "metadata": {},
   "outputs": [],
   "source": [
    "from __future__ import print_function\n",
    "from __future__ import unicode_literals\n",
    "from __future__ import division\n",
    "from __future__ import absolute_import"
   ]
  },
  {
   "cell_type": "markdown",
   "metadata": {},
   "source": [
    "Other imports"
   ]
  },
  {
   "cell_type": "code",
   "execution_count": 3,
   "metadata": {},
   "outputs": [],
   "source": [
    "import pandas as pd\n",
    "import numpy as np\n",
    "import matplotlib\n",
    "import matplotlib.pyplot as plt\n",
    "import datetime\n",
    "from talib.abstract import *\n",
    "import pinkfish as pf\n",
    "import strategy\n",
    "\n",
    "# format price data\n",
    "pd.options.display.float_format = '{:0.2f}'.format\n",
    "\n",
    "# set size of inline plots\n",
    "matplotlib.rcParams['figure.figsize'] = [14, 10]"
   ]
  },
  {
   "cell_type": "markdown",
   "metadata": {},
   "source": [
    "Some global data"
   ]
  },
  {
   "cell_type": "code",
   "execution_count": 4,
   "metadata": {},
   "outputs": [],
   "source": [
    "symbol = '^GSPC'\n",
    "#symbol = 'SPY'\n",
    "#symbol = 'DIA'\n",
    "#symbol = 'QQQ'\n",
    "#symbol = 'IWM'\n",
    "#symbol = 'TLT'\n",
    "#symbol = 'GLD'\n",
    "#symbol = 'AAPL'\n",
    "#symbol = 'BBRY'\n",
    "#symbol = 'GDX'\n",
    "capital = 10000\n",
    "start = datetime.datetime(1900, 1, 1)\n",
    "#end = datetime.datetime(2005, 12, 1)\n",
    "end = datetime.datetime.now()"
   ]
  },
  {
   "cell_type": "markdown",
   "metadata": {},
   "source": [
    "Define percent bands"
   ]
  },
  {
   "cell_type": "code",
   "execution_count": 5,
   "metadata": {},
   "outputs": [],
   "source": [
    "bands = range(0, 100, 5)\n",
    "bands = [str(band) for band in bands]"
   ]
  },
  {
   "cell_type": "markdown",
   "metadata": {},
   "source": [
    "Run Strategy"
   ]
  },
  {
   "cell_type": "code",
   "execution_count": 6,
   "metadata": {},
   "outputs": [
    {
     "name": "stdout",
     "output_type": "stream",
     "text": [
      "0 5 10 15 20 25 30 35 40 45 50 55 60 65 70 75 80 85 90 95 "
     ]
    }
   ],
   "source": [
    "strategies = pd.Series()\n",
    "for band in bands:\n",
    "    print(\"{0}\".format(band), end=\" \")\n",
    "    strategies[band] = strategy.Strategy(symbol, capital, start, end, sma_period=200, percent_band=int(band)/10)\n",
    "    strategies[band].run()\n",
    "    strategies[band].tlog, strategies[band].dbal = strategies[band].get_logs()\n",
    "    strategies[band].stats = strategies[band].stats()"
   ]
  },
  {
   "cell_type": "markdown",
   "metadata": {},
   "source": [
    "Summarize results"
   ]
  },
  {
   "cell_type": "code",
   "execution_count": 7,
   "metadata": {
    "scrolled": true
   },
   "outputs": [
    {
     "data": {
      "text/html": [
       "<div>\n",
       "<style scoped>\n",
       "    .dataframe tbody tr th:only-of-type {\n",
       "        vertical-align: middle;\n",
       "    }\n",
       "\n",
       "    .dataframe tbody tr th {\n",
       "        vertical-align: top;\n",
       "    }\n",
       "\n",
       "    .dataframe thead th {\n",
       "        text-align: right;\n",
       "    }\n",
       "</style>\n",
       "<table border=\"1\" class=\"dataframe\">\n",
       "  <thead>\n",
       "    <tr style=\"text-align: right;\">\n",
       "      <th></th>\n",
       "      <th>0</th>\n",
       "      <th>5</th>\n",
       "      <th>10</th>\n",
       "      <th>15</th>\n",
       "      <th>20</th>\n",
       "      <th>25</th>\n",
       "      <th>30</th>\n",
       "      <th>35</th>\n",
       "      <th>40</th>\n",
       "      <th>45</th>\n",
       "      <th>50</th>\n",
       "      <th>55</th>\n",
       "      <th>60</th>\n",
       "      <th>65</th>\n",
       "      <th>70</th>\n",
       "      <th>75</th>\n",
       "      <th>80</th>\n",
       "      <th>85</th>\n",
       "      <th>90</th>\n",
       "      <th>95</th>\n",
       "    </tr>\n",
       "  </thead>\n",
       "  <tbody>\n",
       "    <tr>\n",
       "      <th>annual_return_rate</th>\n",
       "      <td>7.18</td>\n",
       "      <td>7.06</td>\n",
       "      <td>7.13</td>\n",
       "      <td>7.03</td>\n",
       "      <td>6.88</td>\n",
       "      <td>7.27</td>\n",
       "      <td>7.36</td>\n",
       "      <td>7.42</td>\n",
       "      <td>7.11</td>\n",
       "      <td>7.25</td>\n",
       "      <td>7.16</td>\n",
       "      <td>6.64</td>\n",
       "      <td>6.24</td>\n",
       "      <td>6.17</td>\n",
       "      <td>5.70</td>\n",
       "      <td>5.69</td>\n",
       "      <td>5.55</td>\n",
       "      <td>5.85</td>\n",
       "      <td>6.15</td>\n",
       "      <td>6.06</td>\n",
       "    </tr>\n",
       "    <tr>\n",
       "      <th>max_closed_out_drawdown</th>\n",
       "      <td>-28.26</td>\n",
       "      <td>-24.16</td>\n",
       "      <td>-22.21</td>\n",
       "      <td>-22.47</td>\n",
       "      <td>-21.54</td>\n",
       "      <td>-25.38</td>\n",
       "      <td>-25.08</td>\n",
       "      <td>-21.35</td>\n",
       "      <td>-21.73</td>\n",
       "      <td>-21.73</td>\n",
       "      <td>-21.77</td>\n",
       "      <td>-36.89</td>\n",
       "      <td>-37.12</td>\n",
       "      <td>-37.70</td>\n",
       "      <td>-37.67</td>\n",
       "      <td>-34.27</td>\n",
       "      <td>-34.27</td>\n",
       "      <td>-34.73</td>\n",
       "      <td>-35.01</td>\n",
       "      <td>-35.54</td>\n",
       "    </tr>\n",
       "    <tr>\n",
       "      <th>drawdown_annualized_return</th>\n",
       "      <td>-3.93</td>\n",
       "      <td>-3.42</td>\n",
       "      <td>-3.12</td>\n",
       "      <td>-3.20</td>\n",
       "      <td>-3.13</td>\n",
       "      <td>-3.49</td>\n",
       "      <td>-3.41</td>\n",
       "      <td>-2.88</td>\n",
       "      <td>-3.06</td>\n",
       "      <td>-3.00</td>\n",
       "      <td>-3.04</td>\n",
       "      <td>-5.56</td>\n",
       "      <td>-5.95</td>\n",
       "      <td>-6.11</td>\n",
       "      <td>-6.61</td>\n",
       "      <td>-6.03</td>\n",
       "      <td>-6.17</td>\n",
       "      <td>-5.93</td>\n",
       "      <td>-5.69</td>\n",
       "      <td>-5.87</td>\n",
       "    </tr>\n",
       "    <tr>\n",
       "      <th>drawdown_recovery</th>\n",
       "      <td>-3.76</td>\n",
       "      <td>-1.98</td>\n",
       "      <td>-1.98</td>\n",
       "      <td>-3.76</td>\n",
       "      <td>-3.69</td>\n",
       "      <td>-3.69</td>\n",
       "      <td>-2.64</td>\n",
       "      <td>-0.99</td>\n",
       "      <td>-0.99</td>\n",
       "      <td>-0.99</td>\n",
       "      <td>-0.99</td>\n",
       "      <td>-0.99</td>\n",
       "      <td>-0.99</td>\n",
       "      <td>-1.23</td>\n",
       "      <td>-1.23</td>\n",
       "      <td>-1.52</td>\n",
       "      <td>-1.52</td>\n",
       "      <td>-1.52</td>\n",
       "      <td>-1.52</td>\n",
       "      <td>-1.52</td>\n",
       "    </tr>\n",
       "    <tr>\n",
       "      <th>best_month</th>\n",
       "      <td>13.42</td>\n",
       "      <td>14.93</td>\n",
       "      <td>14.92</td>\n",
       "      <td>14.92</td>\n",
       "      <td>14.93</td>\n",
       "      <td>14.94</td>\n",
       "      <td>14.92</td>\n",
       "      <td>14.94</td>\n",
       "      <td>14.55</td>\n",
       "      <td>14.55</td>\n",
       "      <td>14.55</td>\n",
       "      <td>14.52</td>\n",
       "      <td>14.55</td>\n",
       "      <td>14.51</td>\n",
       "      <td>14.49</td>\n",
       "      <td>14.52</td>\n",
       "      <td>14.49</td>\n",
       "      <td>14.54</td>\n",
       "      <td>14.55</td>\n",
       "      <td>14.55</td>\n",
       "    </tr>\n",
       "    <tr>\n",
       "      <th>worst_month</th>\n",
       "      <td>-11.96</td>\n",
       "      <td>-13.82</td>\n",
       "      <td>-13.83</td>\n",
       "      <td>-13.82</td>\n",
       "      <td>-13.82</td>\n",
       "      <td>-13.83</td>\n",
       "      <td>-13.83</td>\n",
       "      <td>-13.94</td>\n",
       "      <td>-13.94</td>\n",
       "      <td>-13.93</td>\n",
       "      <td>-13.94</td>\n",
       "      <td>-31.44</td>\n",
       "      <td>-31.44</td>\n",
       "      <td>-31.45</td>\n",
       "      <td>-31.42</td>\n",
       "      <td>-31.45</td>\n",
       "      <td>-31.45</td>\n",
       "      <td>-31.44</td>\n",
       "      <td>-31.47</td>\n",
       "      <td>-31.45</td>\n",
       "    </tr>\n",
       "    <tr>\n",
       "      <th>sharpe_ratio</th>\n",
       "      <td>0.74</td>\n",
       "      <td>0.72</td>\n",
       "      <td>0.73</td>\n",
       "      <td>0.72</td>\n",
       "      <td>0.70</td>\n",
       "      <td>0.74</td>\n",
       "      <td>0.74</td>\n",
       "      <td>0.74</td>\n",
       "      <td>0.71</td>\n",
       "      <td>0.72</td>\n",
       "      <td>0.70</td>\n",
       "      <td>0.64</td>\n",
       "      <td>0.61</td>\n",
       "      <td>0.60</td>\n",
       "      <td>0.56</td>\n",
       "      <td>0.56</td>\n",
       "      <td>0.55</td>\n",
       "      <td>0.56</td>\n",
       "      <td>0.59</td>\n",
       "      <td>0.57</td>\n",
       "    </tr>\n",
       "    <tr>\n",
       "      <th>sortino_ratio</th>\n",
       "      <td>0.84</td>\n",
       "      <td>0.82</td>\n",
       "      <td>0.82</td>\n",
       "      <td>0.82</td>\n",
       "      <td>0.80</td>\n",
       "      <td>0.83</td>\n",
       "      <td>0.84</td>\n",
       "      <td>0.84</td>\n",
       "      <td>0.81</td>\n",
       "      <td>0.83</td>\n",
       "      <td>0.82</td>\n",
       "      <td>0.70</td>\n",
       "      <td>0.66</td>\n",
       "      <td>0.66</td>\n",
       "      <td>0.61</td>\n",
       "      <td>0.61</td>\n",
       "      <td>0.60</td>\n",
       "      <td>0.63</td>\n",
       "      <td>0.66</td>\n",
       "      <td>0.65</td>\n",
       "    </tr>\n",
       "    <tr>\n",
       "      <th>monthly_std</th>\n",
       "      <td>2.88</td>\n",
       "      <td>2.92</td>\n",
       "      <td>2.92</td>\n",
       "      <td>2.92</td>\n",
       "      <td>2.93</td>\n",
       "      <td>2.92</td>\n",
       "      <td>2.92</td>\n",
       "      <td>2.94</td>\n",
       "      <td>2.94</td>\n",
       "      <td>2.97</td>\n",
       "      <td>3.00</td>\n",
       "      <td>3.14</td>\n",
       "      <td>3.16</td>\n",
       "      <td>3.17</td>\n",
       "      <td>3.21</td>\n",
       "      <td>3.20</td>\n",
       "      <td>3.22</td>\n",
       "      <td>3.25</td>\n",
       "      <td>3.29</td>\n",
       "      <td>3.34</td>\n",
       "    </tr>\n",
       "    <tr>\n",
       "      <th>pct_time_in_market</th>\n",
       "      <td>71.77</td>\n",
       "      <td>71.20</td>\n",
       "      <td>70.58</td>\n",
       "      <td>70.60</td>\n",
       "      <td>70.72</td>\n",
       "      <td>70.23</td>\n",
       "      <td>70.61</td>\n",
       "      <td>70.84</td>\n",
       "      <td>70.50</td>\n",
       "      <td>72.00</td>\n",
       "      <td>73.49</td>\n",
       "      <td>73.72</td>\n",
       "      <td>74.27</td>\n",
       "      <td>74.41</td>\n",
       "      <td>73.96</td>\n",
       "      <td>73.95</td>\n",
       "      <td>74.61</td>\n",
       "      <td>76.09</td>\n",
       "      <td>77.15</td>\n",
       "      <td>79.23</td>\n",
       "    </tr>\n",
       "    <tr>\n",
       "      <th>total_num_trades</th>\n",
       "      <td>204.00</td>\n",
       "      <td>116.00</td>\n",
       "      <td>83.00</td>\n",
       "      <td>63.00</td>\n",
       "      <td>54.00</td>\n",
       "      <td>40.00</td>\n",
       "      <td>35.00</td>\n",
       "      <td>30.00</td>\n",
       "      <td>30.00</td>\n",
       "      <td>27.00</td>\n",
       "      <td>25.00</td>\n",
       "      <td>24.00</td>\n",
       "      <td>24.00</td>\n",
       "      <td>22.00</td>\n",
       "      <td>22.00</td>\n",
       "      <td>20.00</td>\n",
       "      <td>19.00</td>\n",
       "      <td>17.00</td>\n",
       "      <td>15.00</td>\n",
       "      <td>14.00</td>\n",
       "    </tr>\n",
       "    <tr>\n",
       "      <th>pct_profitable_trades</th>\n",
       "      <td>29.41</td>\n",
       "      <td>44.83</td>\n",
       "      <td>51.81</td>\n",
       "      <td>50.79</td>\n",
       "      <td>51.85</td>\n",
       "      <td>65.00</td>\n",
       "      <td>68.57</td>\n",
       "      <td>80.00</td>\n",
       "      <td>76.67</td>\n",
       "      <td>81.48</td>\n",
       "      <td>84.00</td>\n",
       "      <td>87.50</td>\n",
       "      <td>83.33</td>\n",
       "      <td>86.36</td>\n",
       "      <td>81.82</td>\n",
       "      <td>85.00</td>\n",
       "      <td>84.21</td>\n",
       "      <td>94.12</td>\n",
       "      <td>100.00</td>\n",
       "      <td>100.00</td>\n",
       "    </tr>\n",
       "    <tr>\n",
       "      <th>avg_points</th>\n",
       "      <td>10.10</td>\n",
       "      <td>19.15</td>\n",
       "      <td>26.72</td>\n",
       "      <td>37.37</td>\n",
       "      <td>46.72</td>\n",
       "      <td>70.51</td>\n",
       "      <td>80.46</td>\n",
       "      <td>93.24</td>\n",
       "      <td>90.60</td>\n",
       "      <td>102.02</td>\n",
       "      <td>112.14</td>\n",
       "      <td>106.36</td>\n",
       "      <td>100.47</td>\n",
       "      <td>110.99</td>\n",
       "      <td>99.76</td>\n",
       "      <td>103.17</td>\n",
       "      <td>102.65</td>\n",
       "      <td>124.06</td>\n",
       "      <td>136.99</td>\n",
       "      <td>135.54</td>\n",
       "    </tr>\n",
       "  </tbody>\n",
       "</table>\n",
       "</div>"
      ],
      "text/plain": [
       "                                0      5     10     15     20     25     30  \\\n",
       "annual_return_rate           7.18   7.06   7.13   7.03   6.88   7.27   7.36   \n",
       "max_closed_out_drawdown    -28.26 -24.16 -22.21 -22.47 -21.54 -25.38 -25.08   \n",
       "drawdown_annualized_return  -3.93  -3.42  -3.12  -3.20  -3.13  -3.49  -3.41   \n",
       "drawdown_recovery           -3.76  -1.98  -1.98  -3.76  -3.69  -3.69  -2.64   \n",
       "best_month                  13.42  14.93  14.92  14.92  14.93  14.94  14.92   \n",
       "worst_month                -11.96 -13.82 -13.83 -13.82 -13.82 -13.83 -13.83   \n",
       "sharpe_ratio                 0.74   0.72   0.73   0.72   0.70   0.74   0.74   \n",
       "sortino_ratio                0.84   0.82   0.82   0.82   0.80   0.83   0.84   \n",
       "monthly_std                  2.88   2.92   2.92   2.92   2.93   2.92   2.92   \n",
       "pct_time_in_market          71.77  71.20  70.58  70.60  70.72  70.23  70.61   \n",
       "total_num_trades           204.00 116.00  83.00  63.00  54.00  40.00  35.00   \n",
       "pct_profitable_trades       29.41  44.83  51.81  50.79  51.85  65.00  68.57   \n",
       "avg_points                  10.10  19.15  26.72  37.37  46.72  70.51  80.46   \n",
       "\n",
       "                               35     40     45     50     55     60     65  \\\n",
       "annual_return_rate           7.42   7.11   7.25   7.16   6.64   6.24   6.17   \n",
       "max_closed_out_drawdown    -21.35 -21.73 -21.73 -21.77 -36.89 -37.12 -37.70   \n",
       "drawdown_annualized_return  -2.88  -3.06  -3.00  -3.04  -5.56  -5.95  -6.11   \n",
       "drawdown_recovery           -0.99  -0.99  -0.99  -0.99  -0.99  -0.99  -1.23   \n",
       "best_month                  14.94  14.55  14.55  14.55  14.52  14.55  14.51   \n",
       "worst_month                -13.94 -13.94 -13.93 -13.94 -31.44 -31.44 -31.45   \n",
       "sharpe_ratio                 0.74   0.71   0.72   0.70   0.64   0.61   0.60   \n",
       "sortino_ratio                0.84   0.81   0.83   0.82   0.70   0.66   0.66   \n",
       "monthly_std                  2.94   2.94   2.97   3.00   3.14   3.16   3.17   \n",
       "pct_time_in_market          70.84  70.50  72.00  73.49  73.72  74.27  74.41   \n",
       "total_num_trades            30.00  30.00  27.00  25.00  24.00  24.00  22.00   \n",
       "pct_profitable_trades       80.00  76.67  81.48  84.00  87.50  83.33  86.36   \n",
       "avg_points                  93.24  90.60 102.02 112.14 106.36 100.47 110.99   \n",
       "\n",
       "                               70     75     80     85     90     95  \n",
       "annual_return_rate           5.70   5.69   5.55   5.85   6.15   6.06  \n",
       "max_closed_out_drawdown    -37.67 -34.27 -34.27 -34.73 -35.01 -35.54  \n",
       "drawdown_annualized_return  -6.61  -6.03  -6.17  -5.93  -5.69  -5.87  \n",
       "drawdown_recovery           -1.23  -1.52  -1.52  -1.52  -1.52  -1.52  \n",
       "best_month                  14.49  14.52  14.49  14.54  14.55  14.55  \n",
       "worst_month                -31.42 -31.45 -31.45 -31.44 -31.47 -31.45  \n",
       "sharpe_ratio                 0.56   0.56   0.55   0.56   0.59   0.57  \n",
       "sortino_ratio                0.61   0.61   0.60   0.63   0.66   0.65  \n",
       "monthly_std                  3.21   3.20   3.22   3.25   3.29   3.34  \n",
       "pct_time_in_market          73.96  73.95  74.61  76.09  77.15  79.23  \n",
       "total_num_trades            22.00  20.00  19.00  17.00  15.00  14.00  \n",
       "pct_profitable_trades       81.82  85.00  84.21  94.12 100.00 100.00  \n",
       "avg_points                  99.76 103.17 102.65 124.06 136.99 135.54  "
      ]
     },
     "execution_count": 7,
     "metadata": {},
     "output_type": "execute_result"
    }
   ],
   "source": [
    "metrics = ('annual_return_rate',\n",
    "           'max_closed_out_drawdown',\n",
    "           'drawdown_annualized_return',\n",
    "           'drawdown_recovery',\n",
    "           'best_month',\n",
    "           'worst_month',\n",
    "           'sharpe_ratio',\n",
    "           'sortino_ratio',\n",
    "           'monthly_std',\n",
    "           'pct_time_in_market',\n",
    "           'total_num_trades',\n",
    "           'pct_profitable_trades',\n",
    "           'avg_points')\n",
    "\n",
    "df = strategy.summary(strategies, *metrics)\n",
    "df"
   ]
  },
  {
   "cell_type": "markdown",
   "metadata": {},
   "source": [
    "Bar graphs"
   ]
  },
  {
   "cell_type": "code",
   "execution_count": 8,
   "metadata": {},
   "outputs": [
    {
     "data": {
      "image/png": "[encoded data removed]",
      "text/plain": [
       "<Figure size 1008x720 with 1 Axes>"
      ]
     },
     "metadata": {
      "needs_background": "light"
     },
     "output_type": "display_data"
    },
    {
     "data": {
      "image/png": "[encoded data removed]",
      "text/plain": [
       "<Figure size 1008x720 with 1 Axes>"
      ]
     },
     "metadata": {
      "needs_background": "light"
     },
     "output_type": "display_data"
    },
    {
     "data": {
      "image/png": "[encoded data removed]",
      "text/plain": [
       "<Figure size 1008x720 with 1 Axes>"
      ]
     },
     "metadata": {
      "needs_background": "light"
     },
     "output_type": "display_data"
    }
   ],
   "source": [
    "strategy.plot_bar_graph(df, 'annual_return_rate')\n",
    "strategy.plot_bar_graph(df, 'sharpe_ratio')\n",
    "strategy.plot_bar_graph(df, 'max_closed_out_drawdown')"
   ]
  },
  {
   "cell_type": "markdown",
   "metadata": {},
   "source": [
    "Run Benchmark"
   ]
  },
  {
   "cell_type": "code",
   "execution_count": 9,
   "metadata": {},
   "outputs": [
    {
     "name": "stdout",
     "output_type": "stream",
     "text": [
      "1950-10-18 00:00:00 BUY  499 ^GSPC @ 20.01\n",
      "2019-05-15 00:00:00 SELL 499 ^GSPC @ 2850.96\n"
     ]
    }
   ],
   "source": [
    "s = strategies[bands[0]]\n",
    "benchmark = pf.Benchmark(symbol, capital, s._start, s._end)\n",
    "benchmark.run()\n",
    "benchmark.tlog, benchmark.dbal = benchmark.get_logs()\n",
    "benchmark.stats = benchmark.stats()"
   ]
  },
  {
   "cell_type": "markdown",
   "metadata": {},
   "source": [
    "Equity curve"
   ]
  },
  {
   "cell_type": "code",
   "execution_count": 10,
   "metadata": {},
   "outputs": [
    {
     "data": {
      "image/png": "[encoded data removed]",
      "text/plain": [
       "<Figure size 1008x720 with 1 Axes>"
      ]
     },
     "metadata": {
      "needs_background": "light"
     },
     "output_type": "display_data"
    }
   ],
   "source": [
    "pf.plot_equity_curve(strategies['40'].dbal, benchmark=benchmark.dbal)"
   ]
  }
 ],
 "metadata": {
  "kernelspec": {
   "display_name": "Python 2",
   "language": "python",
   "name": "python2"
  },
  "language_info": {
   "codemirror_mode": {
    "name": "ipython",
    "version": 2
   },
   "file_extension": ".py",
   "mimetype": "text/x-python",
   "name": "python",
   "nbconvert_exporter": "python",
   "pygments_lexer": "ipython2",
   "version": "2.7.15rc1"
  }
 },
 "nbformat": 4,
 "nbformat_minor": 1
}
