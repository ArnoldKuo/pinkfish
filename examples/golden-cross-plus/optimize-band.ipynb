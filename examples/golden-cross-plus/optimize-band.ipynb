{
 "cells": [
  {
   "cell_type": "markdown",
   "metadata": {},
   "source": [
    "#SMA Percent Band\n",
    "\n",
    "    1. The SPY is closes above its upper band or 200ma, buy\n",
    "    2. If the SPY closes below its lower band and 200ma, sell your long position.\n",
    "    \n",
    "    (optimize band)"
   ]
  },
  {
   "cell_type": "code",
   "execution_count": 1,
   "metadata": {
    "collapsed": false
   },
   "outputs": [],
   "source": [
    "%matplotlib inline"
   ]
  },
  {
   "cell_type": "markdown",
   "metadata": {},
   "source": [
    "Use future imports for python 3.0 forward compatibility"
   ]
  },
  {
   "cell_type": "code",
   "execution_count": 2,
   "metadata": {
    "collapsed": false
   },
   "outputs": [],
   "source": [
    "from __future__ import print_function\n",
    "from __future__ import unicode_literals\n",
    "from __future__ import division\n",
    "from __future__ import absolute_import"
   ]
  },
  {
   "cell_type": "markdown",
   "metadata": {},
   "source": [
    "Other imports"
   ]
  },
  {
   "cell_type": "code",
   "execution_count": 3,
   "metadata": {
    "collapsed": false
   },
   "outputs": [],
   "source": [
    "import pandas as pd\n",
    "import numpy as np\n",
    "import matplotlib\n",
    "import matplotlib.pyplot as plt\n",
    "import datetime\n",
    "from talib.abstract import *\n",
    "import pinkfish as pf\n",
    "import strategy\n",
    "\n",
    "# format price data\n",
    "pd.options.display.float_format = '{:0.2f}'.format\n",
    "\n",
    "# Double the DPI, so we are making 2x plots:\n",
    "matplotlib.rcParams['savefig.dpi'] = 2 * matplotlib.rcParams['savefig.dpi']"
   ]
  },
  {
   "cell_type": "markdown",
   "metadata": {},
   "source": [
    "Some global data"
   ]
  },
  {
   "cell_type": "code",
   "execution_count": 4,
   "metadata": {
    "collapsed": false
   },
   "outputs": [],
   "source": [
    "symbol = '^GSPC'\n",
    "#symbol = 'SPY'\n",
    "#symbol = 'DIA'\n",
    "#symbol = 'QQQ'\n",
    "#symbol = 'IWM'\n",
    "#symbol = 'TLT'\n",
    "#symbol = 'GLD'\n",
    "#symbol = 'AAPL'\n",
    "#symbol = 'BBRY'\n",
    "#symbol = 'GDX'\n",
    "capital = 10000\n",
    "start = datetime.datetime(1900, 1, 1)\n",
    "#end = datetime.datetime(2005, 12, 1)\n",
    "end = datetime.datetime.now()"
   ]
  },
  {
   "cell_type": "markdown",
   "metadata": {},
   "source": [
    "Define percent bands"
   ]
  },
  {
   "cell_type": "code",
   "execution_count": 5,
   "metadata": {
    "collapsed": false
   },
   "outputs": [],
   "source": [
    "bands = range(0, 100, 5)\n",
    "bands = [str(band) for band in bands]"
   ]
  },
  {
   "cell_type": "markdown",
   "metadata": {},
   "source": [
    "Run Strategy"
   ]
  },
  {
   "cell_type": "code",
   "execution_count": 6,
   "metadata": {
    "collapsed": false
   },
   "outputs": [
    {
     "name": "stdout",
     "output_type": "stream",
     "text": [
      "0 5 10 15 20 25 30 35 40 45 50 55 60 65 70 75 80 85 90 95 "
     ]
    }
   ],
   "source": [
    "strategies = pd.Series()\n",
    "for band in bands:\n",
    "    print(\"{0}\".format(band), end=\" \")\n",
    "    strategies[band] = strategy.Strategy(symbol, capital, start, end, sma_period=200, percent_band=int(band)/10)\n",
    "    strategies[band].run()\n",
    "    strategies[band].tlog, strategies[band].dbal = strategies[band].get_logs()\n",
    "    strategies[band].stats = strategies[band].stats()"
   ]
  },
  {
   "cell_type": "markdown",
   "metadata": {},
   "source": [
    "Summarize results"
   ]
  },
  {
   "cell_type": "code",
   "execution_count": 7,
   "metadata": {
    "collapsed": false,
    "scrolled": true
   },
   "outputs": [
    {
     "data": {
      "text/html": [
       "<div>\n",
       "<table border=\"1\" class=\"dataframe\">\n",
       "  <thead>\n",
       "    <tr style=\"text-align: right;\">\n",
       "      <th></th>\n",
       "      <th>0</th>\n",
       "      <th>5</th>\n",
       "      <th>10</th>\n",
       "      <th>15</th>\n",
       "      <th>20</th>\n",
       "      <th>25</th>\n",
       "      <th>30</th>\n",
       "      <th>35</th>\n",
       "      <th>40</th>\n",
       "      <th>45</th>\n",
       "      <th>50</th>\n",
       "      <th>55</th>\n",
       "      <th>60</th>\n",
       "      <th>65</th>\n",
       "      <th>70</th>\n",
       "      <th>75</th>\n",
       "      <th>80</th>\n",
       "      <th>85</th>\n",
       "      <th>90</th>\n",
       "      <th>95</th>\n",
       "    </tr>\n",
       "  </thead>\n",
       "  <tbody>\n",
       "    <tr>\n",
       "      <th>annual_return_rate</th>\n",
       "      <td>8.40</td>\n",
       "      <td>8.46</td>\n",
       "      <td>8.33</td>\n",
       "      <td>8.07</td>\n",
       "      <td>7.85</td>\n",
       "      <td>7.95</td>\n",
       "      <td>7.86</td>\n",
       "      <td>7.97</td>\n",
       "      <td>8.00</td>\n",
       "      <td>8.06</td>\n",
       "      <td>7.78</td>\n",
       "      <td>7.77</td>\n",
       "      <td>7.55</td>\n",
       "      <td>7.53</td>\n",
       "      <td>7.34</td>\n",
       "      <td>7.28</td>\n",
       "      <td>7.17</td>\n",
       "      <td>7.18</td>\n",
       "      <td>7.50</td>\n",
       "      <td>7.65</td>\n",
       "    </tr>\n",
       "    <tr>\n",
       "      <th>max_closed_out_drawdown</th>\n",
       "      <td>-33.22</td>\n",
       "      <td>-33.21</td>\n",
       "      <td>-33.23</td>\n",
       "      <td>-33.21</td>\n",
       "      <td>-33.23</td>\n",
       "      <td>-33.23</td>\n",
       "      <td>-33.24</td>\n",
       "      <td>-33.21</td>\n",
       "      <td>-33.21</td>\n",
       "      <td>-33.23</td>\n",
       "      <td>-33.23</td>\n",
       "      <td>-33.21</td>\n",
       "      <td>-33.23</td>\n",
       "      <td>-33.23</td>\n",
       "      <td>-33.22</td>\n",
       "      <td>-33.21</td>\n",
       "      <td>-33.21</td>\n",
       "      <td>-33.21</td>\n",
       "      <td>-33.22</td>\n",
       "      <td>-33.23</td>\n",
       "    </tr>\n",
       "    <tr>\n",
       "      <th>drawdown_annualized_return</th>\n",
       "      <td>-3.96</td>\n",
       "      <td>-3.93</td>\n",
       "      <td>-3.99</td>\n",
       "      <td>-4.12</td>\n",
       "      <td>-4.23</td>\n",
       "      <td>-4.18</td>\n",
       "      <td>-4.23</td>\n",
       "      <td>-4.17</td>\n",
       "      <td>-4.15</td>\n",
       "      <td>-4.12</td>\n",
       "      <td>-4.27</td>\n",
       "      <td>-4.28</td>\n",
       "      <td>-4.40</td>\n",
       "      <td>-4.41</td>\n",
       "      <td>-4.53</td>\n",
       "      <td>-4.56</td>\n",
       "      <td>-4.63</td>\n",
       "      <td>-4.63</td>\n",
       "      <td>-4.43</td>\n",
       "      <td>-4.34</td>\n",
       "    </tr>\n",
       "    <tr>\n",
       "      <th>drawdown_recovery</th>\n",
       "      <td>-0.15</td>\n",
       "      <td>-0.15</td>\n",
       "      <td>-0.15</td>\n",
       "      <td>-0.15</td>\n",
       "      <td>-0.15</td>\n",
       "      <td>-0.15</td>\n",
       "      <td>-0.15</td>\n",
       "      <td>-0.15</td>\n",
       "      <td>-0.15</td>\n",
       "      <td>-0.15</td>\n",
       "      <td>-0.15</td>\n",
       "      <td>-0.15</td>\n",
       "      <td>-0.15</td>\n",
       "      <td>-0.15</td>\n",
       "      <td>-0.15</td>\n",
       "      <td>-0.15</td>\n",
       "      <td>-0.15</td>\n",
       "      <td>-0.15</td>\n",
       "      <td>-0.15</td>\n",
       "      <td>-0.15</td>\n",
       "    </tr>\n",
       "    <tr>\n",
       "      <th>best_month</th>\n",
       "      <td>14.93</td>\n",
       "      <td>14.93</td>\n",
       "      <td>14.94</td>\n",
       "      <td>14.94</td>\n",
       "      <td>14.93</td>\n",
       "      <td>14.93</td>\n",
       "      <td>14.92</td>\n",
       "      <td>14.94</td>\n",
       "      <td>14.94</td>\n",
       "      <td>14.94</td>\n",
       "      <td>14.93</td>\n",
       "      <td>14.94</td>\n",
       "      <td>14.93</td>\n",
       "      <td>14.92</td>\n",
       "      <td>14.93</td>\n",
       "      <td>14.94</td>\n",
       "      <td>14.94</td>\n",
       "      <td>14.94</td>\n",
       "      <td>14.93</td>\n",
       "      <td>14.92</td>\n",
       "    </tr>\n",
       "    <tr>\n",
       "      <th>worst_month</th>\n",
       "      <td>-29.54</td>\n",
       "      <td>-29.54</td>\n",
       "      <td>-29.55</td>\n",
       "      <td>-29.53</td>\n",
       "      <td>-29.55</td>\n",
       "      <td>-29.55</td>\n",
       "      <td>-29.56</td>\n",
       "      <td>-29.54</td>\n",
       "      <td>-29.53</td>\n",
       "      <td>-29.55</td>\n",
       "      <td>-29.56</td>\n",
       "      <td>-29.53</td>\n",
       "      <td>-29.56</td>\n",
       "      <td>-29.55</td>\n",
       "      <td>-29.55</td>\n",
       "      <td>-29.54</td>\n",
       "      <td>-29.54</td>\n",
       "      <td>-29.53</td>\n",
       "      <td>-29.54</td>\n",
       "      <td>-29.55</td>\n",
       "    </tr>\n",
       "    <tr>\n",
       "      <th>sharpe_ratio</th>\n",
       "      <td>0.76</td>\n",
       "      <td>0.77</td>\n",
       "      <td>0.76</td>\n",
       "      <td>0.74</td>\n",
       "      <td>0.72</td>\n",
       "      <td>0.73</td>\n",
       "      <td>0.72</td>\n",
       "      <td>0.73</td>\n",
       "      <td>0.73</td>\n",
       "      <td>0.73</td>\n",
       "      <td>0.71</td>\n",
       "      <td>0.71</td>\n",
       "      <td>0.69</td>\n",
       "      <td>0.69</td>\n",
       "      <td>0.67</td>\n",
       "      <td>0.66</td>\n",
       "      <td>0.65</td>\n",
       "      <td>0.65</td>\n",
       "      <td>0.67</td>\n",
       "      <td>0.68</td>\n",
       "    </tr>\n",
       "    <tr>\n",
       "      <th>sortino_ratio</th>\n",
       "      <td>0.84</td>\n",
       "      <td>0.85</td>\n",
       "      <td>0.84</td>\n",
       "      <td>0.81</td>\n",
       "      <td>0.79</td>\n",
       "      <td>0.80</td>\n",
       "      <td>0.79</td>\n",
       "      <td>0.80</td>\n",
       "      <td>0.81</td>\n",
       "      <td>0.81</td>\n",
       "      <td>0.79</td>\n",
       "      <td>0.79</td>\n",
       "      <td>0.77</td>\n",
       "      <td>0.77</td>\n",
       "      <td>0.76</td>\n",
       "      <td>0.76</td>\n",
       "      <td>0.75</td>\n",
       "      <td>0.75</td>\n",
       "      <td>0.78</td>\n",
       "      <td>0.79</td>\n",
       "    </tr>\n",
       "    <tr>\n",
       "      <th>monthly_std</th>\n",
       "      <td>3.12</td>\n",
       "      <td>3.12</td>\n",
       "      <td>3.11</td>\n",
       "      <td>3.10</td>\n",
       "      <td>3.10</td>\n",
       "      <td>3.10</td>\n",
       "      <td>3.10</td>\n",
       "      <td>3.11</td>\n",
       "      <td>3.12</td>\n",
       "      <td>3.13</td>\n",
       "      <td>3.13</td>\n",
       "      <td>3.14</td>\n",
       "      <td>3.15</td>\n",
       "      <td>3.17</td>\n",
       "      <td>3.19</td>\n",
       "      <td>3.22</td>\n",
       "      <td>3.26</td>\n",
       "      <td>3.29</td>\n",
       "      <td>3.31</td>\n",
       "      <td>3.36</td>\n",
       "    </tr>\n",
       "    <tr>\n",
       "      <th>pct_time_in_market</th>\n",
       "      <td>76.00</td>\n",
       "      <td>75.62</td>\n",
       "      <td>75.12</td>\n",
       "      <td>74.84</td>\n",
       "      <td>74.93</td>\n",
       "      <td>74.41</td>\n",
       "      <td>74.71</td>\n",
       "      <td>74.66</td>\n",
       "      <td>74.77</td>\n",
       "      <td>75.66</td>\n",
       "      <td>75.64</td>\n",
       "      <td>75.63</td>\n",
       "      <td>76.49</td>\n",
       "      <td>77.36</td>\n",
       "      <td>77.83</td>\n",
       "      <td>79.31</td>\n",
       "      <td>80.06</td>\n",
       "      <td>81.18</td>\n",
       "      <td>82.08</td>\n",
       "      <td>83.52</td>\n",
       "    </tr>\n",
       "    <tr>\n",
       "      <th>total_num_trades</th>\n",
       "      <td>85.00</td>\n",
       "      <td>51.00</td>\n",
       "      <td>42.00</td>\n",
       "      <td>36.00</td>\n",
       "      <td>34.00</td>\n",
       "      <td>29.00</td>\n",
       "      <td>27.00</td>\n",
       "      <td>24.00</td>\n",
       "      <td>23.00</td>\n",
       "      <td>21.00</td>\n",
       "      <td>21.00</td>\n",
       "      <td>21.00</td>\n",
       "      <td>21.00</td>\n",
       "      <td>20.00</td>\n",
       "      <td>20.00</td>\n",
       "      <td>19.00</td>\n",
       "      <td>18.00</td>\n",
       "      <td>17.00</td>\n",
       "      <td>15.00</td>\n",
       "      <td>13.00</td>\n",
       "    </tr>\n",
       "    <tr>\n",
       "      <th>pct_profitable_trades</th>\n",
       "      <td>31.76</td>\n",
       "      <td>52.94</td>\n",
       "      <td>61.90</td>\n",
       "      <td>72.22</td>\n",
       "      <td>67.65</td>\n",
       "      <td>75.86</td>\n",
       "      <td>81.48</td>\n",
       "      <td>83.33</td>\n",
       "      <td>86.96</td>\n",
       "      <td>90.48</td>\n",
       "      <td>90.48</td>\n",
       "      <td>85.71</td>\n",
       "      <td>85.71</td>\n",
       "      <td>90.00</td>\n",
       "      <td>90.00</td>\n",
       "      <td>89.47</td>\n",
       "      <td>88.89</td>\n",
       "      <td>94.12</td>\n",
       "      <td>93.33</td>\n",
       "      <td>100.00</td>\n",
       "    </tr>\n",
       "    <tr>\n",
       "      <th>avg_points</th>\n",
       "      <td>29.30</td>\n",
       "      <td>51.08</td>\n",
       "      <td>62.20</td>\n",
       "      <td>70.98</td>\n",
       "      <td>75.49</td>\n",
       "      <td>91.62</td>\n",
       "      <td>95.73</td>\n",
       "      <td>106.28</td>\n",
       "      <td>112.66</td>\n",
       "      <td>123.89</td>\n",
       "      <td>120.95</td>\n",
       "      <td>119.27</td>\n",
       "      <td>117.89</td>\n",
       "      <td>122.25</td>\n",
       "      <td>120.33</td>\n",
       "      <td>124.91</td>\n",
       "      <td>128.57</td>\n",
       "      <td>142.41</td>\n",
       "      <td>162.01</td>\n",
       "      <td>183.10</td>\n",
       "    </tr>\n",
       "  </tbody>\n",
       "</table>\n",
       "</div>"
      ],
      "text/plain": [
       "                                0      5     10     15     20     25     30  \\\n",
       "annual_return_rate           8.40   8.46   8.33   8.07   7.85   7.95   7.86   \n",
       "max_closed_out_drawdown    -33.22 -33.21 -33.23 -33.21 -33.23 -33.23 -33.24   \n",
       "drawdown_annualized_return  -3.96  -3.93  -3.99  -4.12  -4.23  -4.18  -4.23   \n",
       "drawdown_recovery           -0.15  -0.15  -0.15  -0.15  -0.15  -0.15  -0.15   \n",
       "best_month                  14.93  14.93  14.94  14.94  14.93  14.93  14.92   \n",
       "worst_month                -29.54 -29.54 -29.55 -29.53 -29.55 -29.55 -29.56   \n",
       "sharpe_ratio                 0.76   0.77   0.76   0.74   0.72   0.73   0.72   \n",
       "sortino_ratio                0.84   0.85   0.84   0.81   0.79   0.80   0.79   \n",
       "monthly_std                  3.12   3.12   3.11   3.10   3.10   3.10   3.10   \n",
       "pct_time_in_market          76.00  75.62  75.12  74.84  74.93  74.41  74.71   \n",
       "total_num_trades            85.00  51.00  42.00  36.00  34.00  29.00  27.00   \n",
       "pct_profitable_trades       31.76  52.94  61.90  72.22  67.65  75.86  81.48   \n",
       "avg_points                  29.30  51.08  62.20  70.98  75.49  91.62  95.73   \n",
       "\n",
       "                               35     40     45     50     55     60     65  \\\n",
       "annual_return_rate           7.97   8.00   8.06   7.78   7.77   7.55   7.53   \n",
       "max_closed_out_drawdown    -33.21 -33.21 -33.23 -33.23 -33.21 -33.23 -33.23   \n",
       "drawdown_annualized_return  -4.17  -4.15  -4.12  -4.27  -4.28  -4.40  -4.41   \n",
       "drawdown_recovery           -0.15  -0.15  -0.15  -0.15  -0.15  -0.15  -0.15   \n",
       "best_month                  14.94  14.94  14.94  14.93  14.94  14.93  14.92   \n",
       "worst_month                -29.54 -29.53 -29.55 -29.56 -29.53 -29.56 -29.55   \n",
       "sharpe_ratio                 0.73   0.73   0.73   0.71   0.71   0.69   0.69   \n",
       "sortino_ratio                0.80   0.81   0.81   0.79   0.79   0.77   0.77   \n",
       "monthly_std                  3.11   3.12   3.13   3.13   3.14   3.15   3.17   \n",
       "pct_time_in_market          74.66  74.77  75.66  75.64  75.63  76.49  77.36   \n",
       "total_num_trades            24.00  23.00  21.00  21.00  21.00  21.00  20.00   \n",
       "pct_profitable_trades       83.33  86.96  90.48  90.48  85.71  85.71  90.00   \n",
       "avg_points                 106.28 112.66 123.89 120.95 119.27 117.89 122.25   \n",
       "\n",
       "                               70     75     80     85     90     95  \n",
       "annual_return_rate           7.34   7.28   7.17   7.18   7.50   7.65  \n",
       "max_closed_out_drawdown    -33.22 -33.21 -33.21 -33.21 -33.22 -33.23  \n",
       "drawdown_annualized_return  -4.53  -4.56  -4.63  -4.63  -4.43  -4.34  \n",
       "drawdown_recovery           -0.15  -0.15  -0.15  -0.15  -0.15  -0.15  \n",
       "best_month                  14.93  14.94  14.94  14.94  14.93  14.92  \n",
       "worst_month                -29.55 -29.54 -29.54 -29.53 -29.54 -29.55  \n",
       "sharpe_ratio                 0.67   0.66   0.65   0.65   0.67   0.68  \n",
       "sortino_ratio                0.76   0.76   0.75   0.75   0.78   0.79  \n",
       "monthly_std                  3.19   3.22   3.26   3.29   3.31   3.36  \n",
       "pct_time_in_market          77.83  79.31  80.06  81.18  82.08  83.52  \n",
       "total_num_trades            20.00  19.00  18.00  17.00  15.00  13.00  \n",
       "pct_profitable_trades       90.00  89.47  88.89  94.12  93.33 100.00  \n",
       "avg_points                 120.33 124.91 128.57 142.41 162.01 183.10  "
      ]
     },
     "execution_count": 7,
     "metadata": {},
     "output_type": "execute_result"
    }
   ],
   "source": [
    "metrics = ('annual_return_rate',\n",
    "           'max_closed_out_drawdown',\n",
    "           'drawdown_annualized_return',\n",
    "           'drawdown_recovery',\n",
    "           'best_month',\n",
    "           'worst_month',\n",
    "           'sharpe_ratio',\n",
    "           'sortino_ratio',\n",
    "           'monthly_std',\n",
    "           'pct_time_in_market',\n",
    "           'total_num_trades',\n",
    "           'pct_profitable_trades',\n",
    "           'avg_points')\n",
    "\n",
    "df = strategy.summary(strategies, *metrics)\n",
    "df"
   ]
  },
  {
   "cell_type": "markdown",
   "metadata": {},
   "source": [
    "Bar graphs"
   ]
  },
  {
   "cell_type": "code",
   "execution_count": 8,
   "metadata": {
    "collapsed": false
   },
   "outputs": [
    {
     "data": {
      "image/png": "[encoded data removed]",
      "text/plain": [
       "<matplotlib.figure.Figure at 0x7f5a1ffda8d0>"
      ]
     },
     "metadata": {},
     "output_type": "display_data"
    },
    {
     "data": {
      "image/png": "[encoded data removed]",
      "text/plain": [
       "<matplotlib.figure.Figure at 0x7f5a1a031c10>"
      ]
     },
     "metadata": {},
     "output_type": "display_data"
    },
    {
     "data": {
      "image/png": "[encoded data removed]",
      "text/plain": [
       "<matplotlib.figure.Figure at 0x7f5a199c4890>"
      ]
     },
     "metadata": {},
     "output_type": "display_data"
    }
   ],
   "source": [
    "strategy.plot_bar_graph(df, 'annual_return_rate')\n",
    "strategy.plot_bar_graph(df, 'sharpe_ratio')\n",
    "strategy.plot_bar_graph(df, 'max_closed_out_drawdown')"
   ]
  },
  {
   "cell_type": "markdown",
   "metadata": {},
   "source": [
    "Run Benchmark"
   ]
  },
  {
   "cell_type": "code",
   "execution_count": 9,
   "metadata": {
    "collapsed": false
   },
   "outputs": [
    {
     "name": "stdout",
     "output_type": "stream",
     "text": [
      "1950-10-18 00:00:00 BUY  499 ^GSPC @ 20.01\n",
      "2015-05-29 00:00:00 SELL 499.0 ^GSPC @ 2107.39\n"
     ]
    }
   ],
   "source": [
    "s = strategies[bands[0]]\n",
    "benchmark = pf.Benchmark(symbol, capital, s._start, s._end)\n",
    "benchmark.run()\n",
    "benchmark.tlog, benchmark.dbal = benchmark.get_logs()\n",
    "benchmark.stats = benchmark.stats()"
   ]
  },
  {
   "cell_type": "markdown",
   "metadata": {},
   "source": [
    "Equity curve"
   ]
  },
  {
   "cell_type": "code",
   "execution_count": 10,
   "metadata": {
    "collapsed": false
   },
   "outputs": [
    {
     "data": {
      "image/png": "[encoded data removed]",
      "text/plain": [
       "<matplotlib.figure.Figure at 0x7f5a1982f150>"
      ]
     },
     "metadata": {},
     "output_type": "display_data"
    }
   ],
   "source": [
    "pf.plot_equity_curve(strategies['10'].dbal, benchmark=benchmark.dbal)"
   ]
  },
  {
   "cell_type": "code",
   "execution_count": null,
   "metadata": {
    "collapsed": true
   },
   "outputs": [],
   "source": []
  }
 ],
 "metadata": {
  "kernelspec": {
   "display_name": "Python 2",
   "language": "python",
   "name": "python2"
  },
  "language_info": {
   "codemirror_mode": {
    "name": "ipython",
    "version": 2
   },
   "file_extension": ".py",
   "mimetype": "text/x-python",
   "name": "python",
   "nbconvert_exporter": "python",
   "pygments_lexer": "ipython2",
   "version": "2.7.6"
  }
 },
 "nbformat": 4,
 "nbformat_minor": 0
}
