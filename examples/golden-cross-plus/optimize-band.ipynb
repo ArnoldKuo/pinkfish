{
 "cells": [
  {
   "cell_type": "markdown",
   "metadata": {},
   "source": [
    "#Golden Cross Plus\n",
    "\n",
    "    1. The SPY closes above its upper band or sma50>sma200, buy\n",
    "    2. If the SPY closes below its lower band and sma50<sma200, sell your long position.\n",
    "    \n",
    "    (optimize band)"
   ]
  },
  {
   "cell_type": "code",
   "execution_count": 1,
   "metadata": {},
   "outputs": [],
   "source": [
    "%matplotlib inline"
   ]
  },
  {
   "cell_type": "markdown",
   "metadata": {},
   "source": [
    "Use future imports for python 3.0 forward compatibility"
   ]
  },
  {
   "cell_type": "code",
   "execution_count": 2,
   "metadata": {},
   "outputs": [],
   "source": [
    "from __future__ import print_function\n",
    "from __future__ import unicode_literals\n",
    "from __future__ import division\n",
    "from __future__ import absolute_import"
   ]
  },
  {
   "cell_type": "markdown",
   "metadata": {},
   "source": [
    "Other imports"
   ]
  },
  {
   "cell_type": "code",
   "execution_count": 3,
   "metadata": {},
   "outputs": [],
   "source": [
    "import pandas as pd\n",
    "import numpy as np\n",
    "import matplotlib\n",
    "import matplotlib.pyplot as plt\n",
    "import datetime\n",
    "from talib.abstract import *\n",
    "import pinkfish as pf\n",
    "import strategy\n",
    "\n",
    "# format price data\n",
    "pd.options.display.float_format = '{:0.2f}'.format\n",
    "\n",
    "# set size of inline plots\n",
    "matplotlib.rcParams['figure.figsize'] = [14, 10]"
   ]
  },
  {
   "cell_type": "markdown",
   "metadata": {},
   "source": [
    "Some global data"
   ]
  },
  {
   "cell_type": "code",
   "execution_count": 4,
   "metadata": {},
   "outputs": [],
   "source": [
    "symbol = '^GSPC'\n",
    "#symbol = 'SPY'\n",
    "#symbol = 'DIA'\n",
    "#symbol = 'QQQ'\n",
    "#symbol = 'IWM'\n",
    "#symbol = 'TLT'\n",
    "#symbol = 'GLD'\n",
    "#symbol = 'AAPL'\n",
    "#symbol = 'BBRY'\n",
    "#symbol = 'GDX'\n",
    "capital = 10000\n",
    "start = datetime.datetime(1900, 1, 1)\n",
    "#end = datetime.datetime(2005, 12, 1)\n",
    "end = datetime.datetime.now()"
   ]
  },
  {
   "cell_type": "markdown",
   "metadata": {},
   "source": [
    "Define percent bands"
   ]
  },
  {
   "cell_type": "code",
   "execution_count": 5,
   "metadata": {},
   "outputs": [],
   "source": [
    "bands = range(0, 100, 5)\n",
    "bands = [str(band) for band in bands]"
   ]
  },
  {
   "cell_type": "markdown",
   "metadata": {},
   "source": [
    "Run Strategy"
   ]
  },
  {
   "cell_type": "code",
   "execution_count": 6,
   "metadata": {},
   "outputs": [
    {
     "name": "stdout",
     "output_type": "stream",
     "text": [
      "0 5 10 15 20 25 30 35 40 45 50 55 60 65 70 75 80 85 90 95 "
     ]
    }
   ],
   "source": [
    "strategies = pd.Series()\n",
    "for band in bands:\n",
    "    print(\"{0}\".format(band), end=\" \")\n",
    "    strategies[band] = strategy.Strategy(symbol, capital, start, end, sma_period=200, percent_band=int(band)/10)\n",
    "    strategies[band].run()\n",
    "    strategies[band].tlog, strategies[band].dbal = strategies[band].get_logs()\n",
    "    strategies[band].stats = strategies[band].stats()"
   ]
  },
  {
   "cell_type": "markdown",
   "metadata": {},
   "source": [
    "Summarize results"
   ]
  },
  {
   "cell_type": "code",
   "execution_count": 7,
   "metadata": {
    "scrolled": true
   },
   "outputs": [
    {
     "data": {
      "text/html": [
       "<div>\n",
       "<style scoped>\n",
       "    .dataframe tbody tr th:only-of-type {\n",
       "        vertical-align: middle;\n",
       "    }\n",
       "\n",
       "    .dataframe tbody tr th {\n",
       "        vertical-align: top;\n",
       "    }\n",
       "\n",
       "    .dataframe thead th {\n",
       "        text-align: right;\n",
       "    }\n",
       "</style>\n",
       "<table border=\"1\" class=\"dataframe\">\n",
       "  <thead>\n",
       "    <tr style=\"text-align: right;\">\n",
       "      <th></th>\n",
       "      <th>0</th>\n",
       "      <th>5</th>\n",
       "      <th>10</th>\n",
       "      <th>15</th>\n",
       "      <th>20</th>\n",
       "      <th>25</th>\n",
       "      <th>30</th>\n",
       "      <th>35</th>\n",
       "      <th>40</th>\n",
       "      <th>45</th>\n",
       "      <th>50</th>\n",
       "      <th>55</th>\n",
       "      <th>60</th>\n",
       "      <th>65</th>\n",
       "      <th>70</th>\n",
       "      <th>75</th>\n",
       "      <th>80</th>\n",
       "      <th>85</th>\n",
       "      <th>90</th>\n",
       "      <th>95</th>\n",
       "    </tr>\n",
       "  </thead>\n",
       "  <tbody>\n",
       "    <tr>\n",
       "      <th>annual_return_rate</th>\n",
       "      <td>8.08</td>\n",
       "      <td>8.12</td>\n",
       "      <td>7.99</td>\n",
       "      <td>7.71</td>\n",
       "      <td>7.55</td>\n",
       "      <td>7.69</td>\n",
       "      <td>7.59</td>\n",
       "      <td>7.68</td>\n",
       "      <td>7.70</td>\n",
       "      <td>7.75</td>\n",
       "      <td>7.42</td>\n",
       "      <td>7.41</td>\n",
       "      <td>7.17</td>\n",
       "      <td>7.16</td>\n",
       "      <td>6.95</td>\n",
       "      <td>6.89</td>\n",
       "      <td>6.74</td>\n",
       "      <td>6.72</td>\n",
       "      <td>7.14</td>\n",
       "      <td>7.22</td>\n",
       "    </tr>\n",
       "    <tr>\n",
       "      <th>max_closed_out_drawdown</th>\n",
       "      <td>-33.22</td>\n",
       "      <td>-33.21</td>\n",
       "      <td>-33.23</td>\n",
       "      <td>-33.21</td>\n",
       "      <td>-33.23</td>\n",
       "      <td>-33.23</td>\n",
       "      <td>-33.24</td>\n",
       "      <td>-33.21</td>\n",
       "      <td>-33.21</td>\n",
       "      <td>-33.23</td>\n",
       "      <td>-33.23</td>\n",
       "      <td>-33.21</td>\n",
       "      <td>-33.23</td>\n",
       "      <td>-33.23</td>\n",
       "      <td>-33.22</td>\n",
       "      <td>-33.21</td>\n",
       "      <td>-33.21</td>\n",
       "      <td>-33.21</td>\n",
       "      <td>-33.22</td>\n",
       "      <td>-33.23</td>\n",
       "    </tr>\n",
       "    <tr>\n",
       "      <th>drawdown_annualized_return</th>\n",
       "      <td>-4.11</td>\n",
       "      <td>-4.09</td>\n",
       "      <td>-4.16</td>\n",
       "      <td>-4.31</td>\n",
       "      <td>-4.40</td>\n",
       "      <td>-4.32</td>\n",
       "      <td>-4.38</td>\n",
       "      <td>-4.33</td>\n",
       "      <td>-4.31</td>\n",
       "      <td>-4.29</td>\n",
       "      <td>-4.48</td>\n",
       "      <td>-4.48</td>\n",
       "      <td>-4.63</td>\n",
       "      <td>-4.64</td>\n",
       "      <td>-4.78</td>\n",
       "      <td>-4.82</td>\n",
       "      <td>-4.93</td>\n",
       "      <td>-4.94</td>\n",
       "      <td>-4.66</td>\n",
       "      <td>-4.60</td>\n",
       "    </tr>\n",
       "    <tr>\n",
       "      <th>drawdown_recovery</th>\n",
       "      <td>-0.15</td>\n",
       "      <td>-0.15</td>\n",
       "      <td>-0.15</td>\n",
       "      <td>-0.15</td>\n",
       "      <td>-0.15</td>\n",
       "      <td>-0.15</td>\n",
       "      <td>-0.15</td>\n",
       "      <td>-0.15</td>\n",
       "      <td>-0.15</td>\n",
       "      <td>-0.15</td>\n",
       "      <td>-0.15</td>\n",
       "      <td>-0.15</td>\n",
       "      <td>-0.15</td>\n",
       "      <td>-0.15</td>\n",
       "      <td>-0.15</td>\n",
       "      <td>-0.15</td>\n",
       "      <td>-0.15</td>\n",
       "      <td>-0.15</td>\n",
       "      <td>-0.15</td>\n",
       "      <td>-0.15</td>\n",
       "    </tr>\n",
       "    <tr>\n",
       "      <th>best_month</th>\n",
       "      <td>14.93</td>\n",
       "      <td>14.93</td>\n",
       "      <td>14.94</td>\n",
       "      <td>14.94</td>\n",
       "      <td>14.93</td>\n",
       "      <td>14.93</td>\n",
       "      <td>14.92</td>\n",
       "      <td>14.94</td>\n",
       "      <td>14.94</td>\n",
       "      <td>14.94</td>\n",
       "      <td>14.93</td>\n",
       "      <td>14.94</td>\n",
       "      <td>14.93</td>\n",
       "      <td>14.92</td>\n",
       "      <td>14.93</td>\n",
       "      <td>14.94</td>\n",
       "      <td>14.94</td>\n",
       "      <td>14.94</td>\n",
       "      <td>14.93</td>\n",
       "      <td>14.92</td>\n",
       "    </tr>\n",
       "    <tr>\n",
       "      <th>worst_month</th>\n",
       "      <td>-29.54</td>\n",
       "      <td>-29.54</td>\n",
       "      <td>-29.55</td>\n",
       "      <td>-29.53</td>\n",
       "      <td>-29.55</td>\n",
       "      <td>-29.55</td>\n",
       "      <td>-29.56</td>\n",
       "      <td>-29.54</td>\n",
       "      <td>-29.53</td>\n",
       "      <td>-29.55</td>\n",
       "      <td>-29.56</td>\n",
       "      <td>-29.53</td>\n",
       "      <td>-29.56</td>\n",
       "      <td>-29.55</td>\n",
       "      <td>-29.55</td>\n",
       "      <td>-29.54</td>\n",
       "      <td>-29.54</td>\n",
       "      <td>-29.53</td>\n",
       "      <td>-29.54</td>\n",
       "      <td>-29.55</td>\n",
       "    </tr>\n",
       "    <tr>\n",
       "      <th>sharpe_ratio</th>\n",
       "      <td>0.74</td>\n",
       "      <td>0.74</td>\n",
       "      <td>0.73</td>\n",
       "      <td>0.71</td>\n",
       "      <td>0.70</td>\n",
       "      <td>0.71</td>\n",
       "      <td>0.70</td>\n",
       "      <td>0.71</td>\n",
       "      <td>0.71</td>\n",
       "      <td>0.71</td>\n",
       "      <td>0.68</td>\n",
       "      <td>0.68</td>\n",
       "      <td>0.66</td>\n",
       "      <td>0.66</td>\n",
       "      <td>0.64</td>\n",
       "      <td>0.63</td>\n",
       "      <td>0.62</td>\n",
       "      <td>0.61</td>\n",
       "      <td>0.64</td>\n",
       "      <td>0.64</td>\n",
       "    </tr>\n",
       "    <tr>\n",
       "      <th>sortino_ratio</th>\n",
       "      <td>0.81</td>\n",
       "      <td>0.82</td>\n",
       "      <td>0.81</td>\n",
       "      <td>0.78</td>\n",
       "      <td>0.76</td>\n",
       "      <td>0.77</td>\n",
       "      <td>0.77</td>\n",
       "      <td>0.77</td>\n",
       "      <td>0.78</td>\n",
       "      <td>0.78</td>\n",
       "      <td>0.75</td>\n",
       "      <td>0.75</td>\n",
       "      <td>0.73</td>\n",
       "      <td>0.73</td>\n",
       "      <td>0.72</td>\n",
       "      <td>0.71</td>\n",
       "      <td>0.70</td>\n",
       "      <td>0.70</td>\n",
       "      <td>0.74</td>\n",
       "      <td>0.75</td>\n",
       "    </tr>\n",
       "    <tr>\n",
       "      <th>monthly_std</th>\n",
       "      <td>3.10</td>\n",
       "      <td>3.10</td>\n",
       "      <td>3.09</td>\n",
       "      <td>3.08</td>\n",
       "      <td>3.08</td>\n",
       "      <td>3.07</td>\n",
       "      <td>3.07</td>\n",
       "      <td>3.08</td>\n",
       "      <td>3.09</td>\n",
       "      <td>3.10</td>\n",
       "      <td>3.11</td>\n",
       "      <td>3.12</td>\n",
       "      <td>3.13</td>\n",
       "      <td>3.15</td>\n",
       "      <td>3.17</td>\n",
       "      <td>3.20</td>\n",
       "      <td>3.23</td>\n",
       "      <td>3.27</td>\n",
       "      <td>3.29</td>\n",
       "      <td>3.34</td>\n",
       "    </tr>\n",
       "    <tr>\n",
       "      <th>pct_time_in_market</th>\n",
       "      <td>76.62</td>\n",
       "      <td>76.24</td>\n",
       "      <td>75.74</td>\n",
       "      <td>75.39</td>\n",
       "      <td>75.42</td>\n",
       "      <td>74.74</td>\n",
       "      <td>74.95</td>\n",
       "      <td>74.89</td>\n",
       "      <td>74.95</td>\n",
       "      <td>75.77</td>\n",
       "      <td>75.79</td>\n",
       "      <td>75.78</td>\n",
       "      <td>76.59</td>\n",
       "      <td>77.41</td>\n",
       "      <td>77.86</td>\n",
       "      <td>79.26</td>\n",
       "      <td>80.08</td>\n",
       "      <td>81.16</td>\n",
       "      <td>82.34</td>\n",
       "      <td>83.80</td>\n",
       "    </tr>\n",
       "    <tr>\n",
       "      <th>total_num_trades</th>\n",
       "      <td>94.00</td>\n",
       "      <td>58.00</td>\n",
       "      <td>47.00</td>\n",
       "      <td>41.00</td>\n",
       "      <td>38.00</td>\n",
       "      <td>32.00</td>\n",
       "      <td>30.00</td>\n",
       "      <td>27.00</td>\n",
       "      <td>26.00</td>\n",
       "      <td>24.00</td>\n",
       "      <td>24.00</td>\n",
       "      <td>24.00</td>\n",
       "      <td>24.00</td>\n",
       "      <td>23.00</td>\n",
       "      <td>23.00</td>\n",
       "      <td>22.00</td>\n",
       "      <td>21.00</td>\n",
       "      <td>20.00</td>\n",
       "      <td>17.00</td>\n",
       "      <td>15.00</td>\n",
       "    </tr>\n",
       "    <tr>\n",
       "      <th>pct_profitable_trades</th>\n",
       "      <td>31.91</td>\n",
       "      <td>50.00</td>\n",
       "      <td>59.57</td>\n",
       "      <td>68.29</td>\n",
       "      <td>65.79</td>\n",
       "      <td>75.00</td>\n",
       "      <td>76.67</td>\n",
       "      <td>77.78</td>\n",
       "      <td>80.77</td>\n",
       "      <td>83.33</td>\n",
       "      <td>83.33</td>\n",
       "      <td>79.17</td>\n",
       "      <td>79.17</td>\n",
       "      <td>82.61</td>\n",
       "      <td>82.61</td>\n",
       "      <td>81.82</td>\n",
       "      <td>80.95</td>\n",
       "      <td>85.00</td>\n",
       "      <td>88.24</td>\n",
       "      <td>93.33</td>\n",
       "    </tr>\n",
       "    <tr>\n",
       "      <th>avg_points</th>\n",
       "      <td>30.03</td>\n",
       "      <td>50.32</td>\n",
       "      <td>62.13</td>\n",
       "      <td>68.53</td>\n",
       "      <td>75.48</td>\n",
       "      <td>94.68</td>\n",
       "      <td>97.19</td>\n",
       "      <td>106.28</td>\n",
       "      <td>111.21</td>\n",
       "      <td>120.75</td>\n",
       "      <td>114.37</td>\n",
       "      <td>112.90</td>\n",
       "      <td>109.44</td>\n",
       "      <td>112.86</td>\n",
       "      <td>109.75</td>\n",
       "      <td>113.22</td>\n",
       "      <td>112.41</td>\n",
       "      <td>121.82</td>\n",
       "      <td>152.06</td>\n",
       "      <td>164.36</td>\n",
       "    </tr>\n",
       "  </tbody>\n",
       "</table>\n",
       "</div>"
      ],
      "text/plain": [
       "                                0      5     10     15     20     25     30  \\\n",
       "annual_return_rate           8.08   8.12   7.99   7.71   7.55   7.69   7.59   \n",
       "max_closed_out_drawdown    -33.22 -33.21 -33.23 -33.21 -33.23 -33.23 -33.24   \n",
       "drawdown_annualized_return  -4.11  -4.09  -4.16  -4.31  -4.40  -4.32  -4.38   \n",
       "drawdown_recovery           -0.15  -0.15  -0.15  -0.15  -0.15  -0.15  -0.15   \n",
       "best_month                  14.93  14.93  14.94  14.94  14.93  14.93  14.92   \n",
       "worst_month                -29.54 -29.54 -29.55 -29.53 -29.55 -29.55 -29.56   \n",
       "sharpe_ratio                 0.74   0.74   0.73   0.71   0.70   0.71   0.70   \n",
       "sortino_ratio                0.81   0.82   0.81   0.78   0.76   0.77   0.77   \n",
       "monthly_std                  3.10   3.10   3.09   3.08   3.08   3.07   3.07   \n",
       "pct_time_in_market          76.62  76.24  75.74  75.39  75.42  74.74  74.95   \n",
       "total_num_trades            94.00  58.00  47.00  41.00  38.00  32.00  30.00   \n",
       "pct_profitable_trades       31.91  50.00  59.57  68.29  65.79  75.00  76.67   \n",
       "avg_points                  30.03  50.32  62.13  68.53  75.48  94.68  97.19   \n",
       "\n",
       "                               35     40     45     50     55     60     65  \\\n",
       "annual_return_rate           7.68   7.70   7.75   7.42   7.41   7.17   7.16   \n",
       "max_closed_out_drawdown    -33.21 -33.21 -33.23 -33.23 -33.21 -33.23 -33.23   \n",
       "drawdown_annualized_return  -4.33  -4.31  -4.29  -4.48  -4.48  -4.63  -4.64   \n",
       "drawdown_recovery           -0.15  -0.15  -0.15  -0.15  -0.15  -0.15  -0.15   \n",
       "best_month                  14.94  14.94  14.94  14.93  14.94  14.93  14.92   \n",
       "worst_month                -29.54 -29.53 -29.55 -29.56 -29.53 -29.56 -29.55   \n",
       "sharpe_ratio                 0.71   0.71   0.71   0.68   0.68   0.66   0.66   \n",
       "sortino_ratio                0.77   0.78   0.78   0.75   0.75   0.73   0.73   \n",
       "monthly_std                  3.08   3.09   3.10   3.11   3.12   3.13   3.15   \n",
       "pct_time_in_market          74.89  74.95  75.77  75.79  75.78  76.59  77.41   \n",
       "total_num_trades            27.00  26.00  24.00  24.00  24.00  24.00  23.00   \n",
       "pct_profitable_trades       77.78  80.77  83.33  83.33  79.17  79.17  82.61   \n",
       "avg_points                 106.28 111.21 120.75 114.37 112.90 109.44 112.86   \n",
       "\n",
       "                               70     75     80     85     90     95  \n",
       "annual_return_rate           6.95   6.89   6.74   6.72   7.14   7.22  \n",
       "max_closed_out_drawdown    -33.22 -33.21 -33.21 -33.21 -33.22 -33.23  \n",
       "drawdown_annualized_return  -4.78  -4.82  -4.93  -4.94  -4.66  -4.60  \n",
       "drawdown_recovery           -0.15  -0.15  -0.15  -0.15  -0.15  -0.15  \n",
       "best_month                  14.93  14.94  14.94  14.94  14.93  14.92  \n",
       "worst_month                -29.55 -29.54 -29.54 -29.53 -29.54 -29.55  \n",
       "sharpe_ratio                 0.64   0.63   0.62   0.61   0.64   0.64  \n",
       "sortino_ratio                0.72   0.71   0.70   0.70   0.74   0.75  \n",
       "monthly_std                  3.17   3.20   3.23   3.27   3.29   3.34  \n",
       "pct_time_in_market          77.86  79.26  80.08  81.16  82.34  83.80  \n",
       "total_num_trades            23.00  22.00  21.00  20.00  17.00  15.00  \n",
       "pct_profitable_trades       82.61  81.82  80.95  85.00  88.24  93.33  \n",
       "avg_points                 109.75 113.22 112.41 121.82 152.06 164.36  "
      ]
     },
     "execution_count": 7,
     "metadata": {},
     "output_type": "execute_result"
    }
   ],
   "source": [
    "metrics = ('annual_return_rate',\n",
    "           'max_closed_out_drawdown',\n",
    "           'drawdown_annualized_return',\n",
    "           'drawdown_recovery',\n",
    "           'best_month',\n",
    "           'worst_month',\n",
    "           'sharpe_ratio',\n",
    "           'sortino_ratio',\n",
    "           'monthly_std',\n",
    "           'pct_time_in_market',\n",
    "           'total_num_trades',\n",
    "           'pct_profitable_trades',\n",
    "           'avg_points')\n",
    "\n",
    "df = strategy.summary(strategies, *metrics)\n",
    "df"
   ]
  },
  {
   "cell_type": "markdown",
   "metadata": {},
   "source": [
    "Bar graphs"
   ]
  },
  {
   "cell_type": "code",
   "execution_count": 8,
   "metadata": {},
   "outputs": [
    {
     "data": {
      "image/png": "[encoded data removed]",
      "text/plain": [
       "<Figure size 1008x720 with 1 Axes>"
      ]
     },
     "metadata": {
      "needs_background": "light"
     },
     "output_type": "display_data"
    },
    {
     "data": {
      "image/png": "[encoded data removed]",
      "text/plain": [
       "<Figure size 1008x720 with 1 Axes>"
      ]
     },
     "metadata": {
      "needs_background": "light"
     },
     "output_type": "display_data"
    },
    {
     "data": {
      "image/png": "[encoded data removed]",
      "text/plain": [
       "<Figure size 1008x720 with 1 Axes>"
      ]
     },
     "metadata": {
      "needs_background": "light"
     },
     "output_type": "display_data"
    }
   ],
   "source": [
    "strategy.plot_bar_graph(df, 'annual_return_rate')\n",
    "strategy.plot_bar_graph(df, 'sharpe_ratio')\n",
    "strategy.plot_bar_graph(df, 'max_closed_out_drawdown')"
   ]
  },
  {
   "cell_type": "markdown",
   "metadata": {},
   "source": [
    "Run Benchmark"
   ]
  },
  {
   "cell_type": "code",
   "execution_count": 9,
   "metadata": {},
   "outputs": [
    {
     "name": "stdout",
     "output_type": "stream",
     "text": [
      "1950-10-18 00:00:00 BUY  499 ^GSPC @ 20.01\n",
      "2019-05-15 00:00:00 SELL 499 ^GSPC @ 2850.96\n"
     ]
    }
   ],
   "source": [
    "s = strategies[bands[0]]\n",
    "benchmark = pf.Benchmark(symbol, capital, s._start, s._end)\n",
    "benchmark.run()\n",
    "benchmark.tlog, benchmark.dbal = benchmark.get_logs()\n",
    "benchmark.stats = benchmark.stats()"
   ]
  },
  {
   "cell_type": "markdown",
   "metadata": {},
   "source": [
    "Equity curve"
   ]
  },
  {
   "cell_type": "code",
   "execution_count": 10,
   "metadata": {},
   "outputs": [
    {
     "data": {
      "image/png": "[encoded data removed]",
      "text/plain": [
       "<Figure size 1008x720 with 1 Axes>"
      ]
     },
     "metadata": {
      "needs_background": "light"
     },
     "output_type": "display_data"
    }
   ],
   "source": [
    "pf.plot_equity_curve(strategies['10'].dbal, benchmark=benchmark.dbal)"
   ]
  }
 ],
 "metadata": {
  "kernelspec": {
   "display_name": "Python 2",
   "language": "python",
   "name": "python2"
  },
  "language_info": {
   "codemirror_mode": {
    "name": "ipython",
    "version": 2
   },
   "file_extension": ".py",
   "mimetype": "text/x-python",
   "name": "python",
   "nbconvert_exporter": "python",
   "pygments_lexer": "ipython2",
   "version": "2.7.15rc1"
  }
 },
 "nbformat": 4,
 "nbformat_minor": 1
}
