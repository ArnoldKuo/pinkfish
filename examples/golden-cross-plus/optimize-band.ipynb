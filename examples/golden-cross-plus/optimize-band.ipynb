{
 "metadata": {
  "kernelspec": {
   "display_name": "Python 2",
   "language": "python",
   "name": "python2"
  },
  "language_info": {
   "codemirror_mode": {
    "name": "ipython",
    "version": 2
   },
   "file_extension": ".py",
   "mimetype": "text/x-python",
   "name": "python",
   "nbconvert_exporter": "python",
   "pygments_lexer": "ipython2",
   "version": "2.7.6"
  },
  "name": "",
  "signature": "sha256:0cb76faff6ad4a92ed2ca3abacfe67ac49bd1c9644dfaf84661aafb7c72e3915"
 },
 "nbformat": 3,
 "nbformat_minor": 0,
 "worksheets": [
  {
   "cells": [
    {
     "cell_type": "markdown",
     "metadata": {},
     "source": [
      "#Golden Cross Plus\n",
      "\n",
      "    1. The SPY closes above its upper band or sma50>sma200, buy\n",
      "    2. If the SPY closes below its lower band and sma50<sma200, sell your long position.\n",
      "    \n",
      "    (optimize band)"
     ]
    },
    {
     "cell_type": "code",
     "collapsed": false,
     "input": [
      "%matplotlib inline"
     ],
     "language": "python",
     "metadata": {},
     "outputs": [],
     "prompt_number": 1
    },
    {
     "cell_type": "markdown",
     "metadata": {},
     "source": [
      "Use future imports for python 3.0 forward compatibility"
     ]
    },
    {
     "cell_type": "code",
     "collapsed": false,
     "input": [
      "from __future__ import print_function\n",
      "from __future__ import unicode_literals\n",
      "from __future__ import division\n",
      "from __future__ import absolute_import"
     ],
     "language": "python",
     "metadata": {},
     "outputs": [],
     "prompt_number": 2
    },
    {
     "cell_type": "markdown",
     "metadata": {},
     "source": [
      "Other imports"
     ]
    },
    {
     "cell_type": "code",
     "collapsed": false,
     "input": [
      "import pandas as pd\n",
      "import numpy as np\n",
      "import matplotlib\n",
      "import matplotlib.pyplot as plt\n",
      "import datetime\n",
      "from talib.abstract import *\n",
      "import pinkfish as pf\n",
      "import strategy\n",
      "\n",
      "# format price data\n",
      "pd.options.display.float_format = '{:0.2f}'.format\n",
      "\n",
      "# Double the DPI, so we are making 2x plots:\n",
      "matplotlib.rcParams['savefig.dpi'] = 2 * matplotlib.rcParams['savefig.dpi']"
     ],
     "language": "python",
     "metadata": {},
     "outputs": [],
     "prompt_number": 3
    },
    {
     "cell_type": "markdown",
     "metadata": {},
     "source": [
      "Some global data"
     ]
    },
    {
     "cell_type": "code",
     "collapsed": false,
     "input": [
      "symbol = '^GSPC'\n",
      "#symbol = 'SPY'\n",
      "#symbol = 'DIA'\n",
      "#symbol = 'QQQ'\n",
      "#symbol = 'IWM'\n",
      "#symbol = 'TLT'\n",
      "#symbol = 'GLD'\n",
      "#symbol = 'AAPL'\n",
      "#symbol = 'BBRY'\n",
      "#symbol = 'GDX'\n",
      "capital = 10000\n",
      "start = datetime.datetime(1900, 1, 1)\n",
      "#end = datetime.datetime(2005, 12, 1)\n",
      "end = datetime.datetime.now()"
     ],
     "language": "python",
     "metadata": {},
     "outputs": [],
     "prompt_number": 4
    },
    {
     "cell_type": "markdown",
     "metadata": {},
     "source": [
      "Define percent bands"
     ]
    },
    {
     "cell_type": "code",
     "collapsed": false,
     "input": [
      "bands = range(0, 100, 5)\n",
      "bands = [str(band) for band in bands]"
     ],
     "language": "python",
     "metadata": {},
     "outputs": [],
     "prompt_number": 5
    },
    {
     "cell_type": "markdown",
     "metadata": {},
     "source": [
      "Run Strategy"
     ]
    },
    {
     "cell_type": "code",
     "collapsed": false,
     "input": [
      "strategies = pd.Series()\n",
      "for band in bands:\n",
      "    print(\"{0}\".format(band), end=\" \")\n",
      "    strategies[band] = strategy.Strategy(symbol, capital, start, end, sma_period=200, percent_band=int(band)/10)\n",
      "    strategies[band].run()\n",
      "    strategies[band].tlog, strategies[band].dbal = strategies[band].get_logs()\n",
      "    strategies[band].stats = strategies[band].stats()"
     ],
     "language": "python",
     "metadata": {},
     "outputs": [
      {
       "output_type": "stream",
       "stream": "stdout",
       "text": [
        "0 5"
       ]
      },
      {
       "output_type": "stream",
       "stream": "stdout",
       "text": [
        " 10"
       ]
      },
      {
       "output_type": "stream",
       "stream": "stdout",
       "text": [
        " 15"
       ]
      },
      {
       "output_type": "stream",
       "stream": "stdout",
       "text": [
        " 20"
       ]
      },
      {
       "output_type": "stream",
       "stream": "stdout",
       "text": [
        " 25"
       ]
      },
      {
       "output_type": "stream",
       "stream": "stdout",
       "text": [
        " 30"
       ]
      },
      {
       "output_type": "stream",
       "stream": "stdout",
       "text": [
        " 35"
       ]
      },
      {
       "output_type": "stream",
       "stream": "stdout",
       "text": [
        " 40"
       ]
      },
      {
       "output_type": "stream",
       "stream": "stdout",
       "text": [
        " 45"
       ]
      },
      {
       "output_type": "stream",
       "stream": "stdout",
       "text": [
        " 50"
       ]
      },
      {
       "output_type": "stream",
       "stream": "stdout",
       "text": [
        " 55"
       ]
      },
      {
       "output_type": "stream",
       "stream": "stdout",
       "text": [
        " 60"
       ]
      },
      {
       "output_type": "stream",
       "stream": "stdout",
       "text": [
        " 65"
       ]
      },
      {
       "output_type": "stream",
       "stream": "stdout",
       "text": [
        " 70"
       ]
      },
      {
       "output_type": "stream",
       "stream": "stdout",
       "text": [
        " 75"
       ]
      },
      {
       "output_type": "stream",
       "stream": "stdout",
       "text": [
        " 80"
       ]
      },
      {
       "output_type": "stream",
       "stream": "stdout",
       "text": [
        " 85"
       ]
      },
      {
       "output_type": "stream",
       "stream": "stdout",
       "text": [
        " 90"
       ]
      },
      {
       "output_type": "stream",
       "stream": "stdout",
       "text": [
        " 95"
       ]
      },
      {
       "output_type": "stream",
       "stream": "stdout",
       "text": [
        " "
       ]
      }
     ],
     "prompt_number": 6
    },
    {
     "cell_type": "markdown",
     "metadata": {},
     "source": [
      "Summarize results"
     ]
    },
    {
     "cell_type": "code",
     "collapsed": false,
     "input": [
      "metrics = ('annual_return_rate',\n",
      "           'max_closed_out_drawdown',\n",
      "           'drawdown_annualized_return',\n",
      "           'drawdown_recovery',\n",
      "           'best_month',\n",
      "           'worst_month',\n",
      "           'sharpe_ratio',\n",
      "           'sortino_ratio',\n",
      "           'monthly_std',\n",
      "           'pct_time_in_market',\n",
      "           'total_num_trades',\n",
      "           'pct_profitable_trades',\n",
      "           'avg_points')\n",
      "\n",
      "df = strategy.summary(strategies, *metrics)\n",
      "df"
     ],
     "language": "python",
     "metadata": {
      "scrolled": true
     },
     "outputs": [
      {
       "html": [
        "<div style=\"max-width:1500px;overflow:auto;\">\n",
        "<style scoped>\n",
        "    .dataframe tbody tr th:only-of-type {\n",
        "        vertical-align: middle;\n",
        "    }\n",
        "\n",
        "    .dataframe tbody tr th {\n",
        "        vertical-align: top;\n",
        "    }\n",
        "\n",
        "    .dataframe thead th {\n",
        "        text-align: right;\n",
        "    }\n",
        "</style>\n",
        "<table border=\"1\" class=\"dataframe\">\n",
        "  <thead>\n",
        "    <tr style=\"text-align: right;\">\n",
        "      <th></th>\n",
        "      <th>0</th>\n",
        "      <th>5</th>\n",
        "      <th>10</th>\n",
        "      <th>15</th>\n",
        "      <th>20</th>\n",
        "      <th>25</th>\n",
        "      <th>30</th>\n",
        "      <th>35</th>\n",
        "      <th>40</th>\n",
        "      <th>45</th>\n",
        "      <th>50</th>\n",
        "      <th>55</th>\n",
        "      <th>60</th>\n",
        "      <th>65</th>\n",
        "      <th>70</th>\n",
        "      <th>75</th>\n",
        "      <th>80</th>\n",
        "      <th>85</th>\n",
        "      <th>90</th>\n",
        "      <th>95</th>\n",
        "    </tr>\n",
        "  </thead>\n",
        "  <tbody>\n",
        "    <tr>\n",
        "      <th>annual_return_rate</th>\n",
        "      <td>8.33</td>\n",
        "      <td>8.37</td>\n",
        "      <td>8.24</td>\n",
        "      <td>7.96</td>\n",
        "      <td>7.80</td>\n",
        "      <td>7.96</td>\n",
        "      <td>7.87</td>\n",
        "      <td>7.96</td>\n",
        "      <td>7.99</td>\n",
        "      <td>8.04</td>\n",
        "      <td>7.73</td>\n",
        "      <td>7.71</td>\n",
        "      <td>7.51</td>\n",
        "      <td>7.49</td>\n",
        "      <td>7.28</td>\n",
        "      <td>7.22</td>\n",
        "      <td>7.09</td>\n",
        "      <td>7.07</td>\n",
        "      <td>7.49</td>\n",
        "      <td>7.61</td>\n",
        "    </tr>\n",
        "    <tr>\n",
        "      <th>max_closed_out_drawdown</th>\n",
        "      <td>-33.22</td>\n",
        "      <td>-33.21</td>\n",
        "      <td>-33.23</td>\n",
        "      <td>-33.21</td>\n",
        "      <td>-33.23</td>\n",
        "      <td>-33.23</td>\n",
        "      <td>-33.24</td>\n",
        "      <td>-33.21</td>\n",
        "      <td>-33.21</td>\n",
        "      <td>-33.23</td>\n",
        "      <td>-33.23</td>\n",
        "      <td>-33.21</td>\n",
        "      <td>-33.23</td>\n",
        "      <td>-33.23</td>\n",
        "      <td>-33.22</td>\n",
        "      <td>-33.21</td>\n",
        "      <td>-33.21</td>\n",
        "      <td>-33.21</td>\n",
        "      <td>-33.22</td>\n",
        "      <td>-33.23</td>\n",
        "    </tr>\n",
        "    <tr>\n",
        "      <th>drawdown_annualized_return</th>\n",
        "      <td>-3.99</td>\n",
        "      <td>-3.97</td>\n",
        "      <td>-4.03</td>\n",
        "      <td>-4.17</td>\n",
        "      <td>-4.26</td>\n",
        "      <td>-4.18</td>\n",
        "      <td>-4.22</td>\n",
        "      <td>-4.17</td>\n",
        "      <td>-4.16</td>\n",
        "      <td>-4.13</td>\n",
        "      <td>-4.30</td>\n",
        "      <td>-4.31</td>\n",
        "      <td>-4.43</td>\n",
        "      <td>-4.44</td>\n",
        "      <td>-4.57</td>\n",
        "      <td>-4.60</td>\n",
        "      <td>-4.68</td>\n",
        "      <td>-4.70</td>\n",
        "      <td>-4.43</td>\n",
        "      <td>-4.37</td>\n",
        "    </tr>\n",
        "    <tr>\n",
        "      <th>drawdown_recovery</th>\n",
        "      <td>-0.15</td>\n",
        "      <td>-0.15</td>\n",
        "      <td>-0.15</td>\n",
        "      <td>-0.15</td>\n",
        "      <td>-0.15</td>\n",
        "      <td>-0.15</td>\n",
        "      <td>-0.15</td>\n",
        "      <td>-0.15</td>\n",
        "      <td>-0.15</td>\n",
        "      <td>-0.15</td>\n",
        "      <td>-0.15</td>\n",
        "      <td>-0.15</td>\n",
        "      <td>-0.15</td>\n",
        "      <td>-0.15</td>\n",
        "      <td>-0.15</td>\n",
        "      <td>-0.15</td>\n",
        "      <td>-0.15</td>\n",
        "      <td>-0.15</td>\n",
        "      <td>-0.15</td>\n",
        "      <td>-0.15</td>\n",
        "    </tr>\n",
        "    <tr>\n",
        "      <th>best_month</th>\n",
        "      <td>14.93</td>\n",
        "      <td>14.93</td>\n",
        "      <td>14.94</td>\n",
        "      <td>14.94</td>\n",
        "      <td>14.93</td>\n",
        "      <td>14.93</td>\n",
        "      <td>14.92</td>\n",
        "      <td>14.94</td>\n",
        "      <td>14.94</td>\n",
        "      <td>14.94</td>\n",
        "      <td>14.93</td>\n",
        "      <td>14.94</td>\n",
        "      <td>14.93</td>\n",
        "      <td>14.92</td>\n",
        "      <td>14.93</td>\n",
        "      <td>14.94</td>\n",
        "      <td>14.94</td>\n",
        "      <td>14.94</td>\n",
        "      <td>14.93</td>\n",
        "      <td>14.92</td>\n",
        "    </tr>\n",
        "    <tr>\n",
        "      <th>worst_month</th>\n",
        "      <td>-29.54</td>\n",
        "      <td>-29.54</td>\n",
        "      <td>-29.55</td>\n",
        "      <td>-29.53</td>\n",
        "      <td>-29.55</td>\n",
        "      <td>-29.55</td>\n",
        "      <td>-29.56</td>\n",
        "      <td>-29.54</td>\n",
        "      <td>-29.53</td>\n",
        "      <td>-29.55</td>\n",
        "      <td>-29.56</td>\n",
        "      <td>-29.53</td>\n",
        "      <td>-29.56</td>\n",
        "      <td>-29.55</td>\n",
        "      <td>-29.55</td>\n",
        "      <td>-29.54</td>\n",
        "      <td>-29.54</td>\n",
        "      <td>-29.53</td>\n",
        "      <td>-29.54</td>\n",
        "      <td>-29.55</td>\n",
        "    </tr>\n",
        "    <tr>\n",
        "      <th>sharpe_ratio</th>\n",
        "      <td>0.76</td>\n",
        "      <td>0.76</td>\n",
        "      <td>0.75</td>\n",
        "      <td>0.73</td>\n",
        "      <td>0.72</td>\n",
        "      <td>0.73</td>\n",
        "      <td>0.73</td>\n",
        "      <td>0.73</td>\n",
        "      <td>0.74</td>\n",
        "      <td>0.74</td>\n",
        "      <td>0.71</td>\n",
        "      <td>0.71</td>\n",
        "      <td>0.69</td>\n",
        "      <td>0.69</td>\n",
        "      <td>0.67</td>\n",
        "      <td>0.66</td>\n",
        "      <td>0.65</td>\n",
        "      <td>0.64</td>\n",
        "      <td>0.67</td>\n",
        "      <td>0.67</td>\n",
        "    </tr>\n",
        "    <tr>\n",
        "      <th>sortino_ratio</th>\n",
        "      <td>0.84</td>\n",
        "      <td>0.85</td>\n",
        "      <td>0.83</td>\n",
        "      <td>0.81</td>\n",
        "      <td>0.79</td>\n",
        "      <td>0.80</td>\n",
        "      <td>0.80</td>\n",
        "      <td>0.80</td>\n",
        "      <td>0.81</td>\n",
        "      <td>0.82</td>\n",
        "      <td>0.79</td>\n",
        "      <td>0.78</td>\n",
        "      <td>0.77</td>\n",
        "      <td>0.77</td>\n",
        "      <td>0.75</td>\n",
        "      <td>0.75</td>\n",
        "      <td>0.74</td>\n",
        "      <td>0.74</td>\n",
        "      <td>0.78</td>\n",
        "      <td>0.79</td>\n",
        "    </tr>\n",
        "    <tr>\n",
        "      <th>monthly_std</th>\n",
        "      <td>3.10</td>\n",
        "      <td>3.10</td>\n",
        "      <td>3.09</td>\n",
        "      <td>3.08</td>\n",
        "      <td>3.08</td>\n",
        "      <td>3.07</td>\n",
        "      <td>3.07</td>\n",
        "      <td>3.08</td>\n",
        "      <td>3.09</td>\n",
        "      <td>3.10</td>\n",
        "      <td>3.11</td>\n",
        "      <td>3.12</td>\n",
        "      <td>3.13</td>\n",
        "      <td>3.15</td>\n",
        "      <td>3.17</td>\n",
        "      <td>3.20</td>\n",
        "      <td>3.23</td>\n",
        "      <td>3.27</td>\n",
        "      <td>3.29</td>\n",
        "      <td>3.34</td>\n",
        "    </tr>\n",
        "    <tr>\n",
        "      <th>pct_time_in_market</th>\n",
        "      <td>76.43</td>\n",
        "      <td>76.05</td>\n",
        "      <td>75.55</td>\n",
        "      <td>75.22</td>\n",
        "      <td>75.32</td>\n",
        "      <td>74.64</td>\n",
        "      <td>74.88</td>\n",
        "      <td>74.82</td>\n",
        "      <td>74.91</td>\n",
        "      <td>75.75</td>\n",
        "      <td>75.74</td>\n",
        "      <td>75.73</td>\n",
        "      <td>76.55</td>\n",
        "      <td>77.39</td>\n",
        "      <td>77.85</td>\n",
        "      <td>79.28</td>\n",
        "      <td>80.10</td>\n",
        "      <td>81.20</td>\n",
        "      <td>82.40</td>\n",
        "      <td>83.89</td>\n",
        "    </tr>\n",
        "    <tr>\n",
        "      <th>total_num_trades</th>\n",
        "      <td>92.00</td>\n",
        "      <td>57.00</td>\n",
        "      <td>46.00</td>\n",
        "      <td>40.00</td>\n",
        "      <td>37.00</td>\n",
        "      <td>31.00</td>\n",
        "      <td>29.00</td>\n",
        "      <td>26.00</td>\n",
        "      <td>25.00</td>\n",
        "      <td>23.00</td>\n",
        "      <td>23.00</td>\n",
        "      <td>23.00</td>\n",
        "      <td>23.00</td>\n",
        "      <td>22.00</td>\n",
        "      <td>22.00</td>\n",
        "      <td>21.00</td>\n",
        "      <td>20.00</td>\n",
        "      <td>19.00</td>\n",
        "      <td>16.00</td>\n",
        "      <td>14.00</td>\n",
        "    </tr>\n",
        "    <tr>\n",
        "      <th>pct_profitable_trades</th>\n",
        "      <td>30.43</td>\n",
        "      <td>49.12</td>\n",
        "      <td>58.70</td>\n",
        "      <td>67.50</td>\n",
        "      <td>64.86</td>\n",
        "      <td>74.19</td>\n",
        "      <td>79.31</td>\n",
        "      <td>80.77</td>\n",
        "      <td>84.00</td>\n",
        "      <td>86.96</td>\n",
        "      <td>86.96</td>\n",
        "      <td>82.61</td>\n",
        "      <td>82.61</td>\n",
        "      <td>86.36</td>\n",
        "      <td>86.36</td>\n",
        "      <td>85.71</td>\n",
        "      <td>85.00</td>\n",
        "      <td>89.47</td>\n",
        "      <td>93.75</td>\n",
        "      <td>100.00</td>\n",
        "    </tr>\n",
        "    <tr>\n",
        "      <th>avg_points</th>\n",
        "      <td>32.30</td>\n",
        "      <td>53.75</td>\n",
        "      <td>66.63</td>\n",
        "      <td>74.30</td>\n",
        "      <td>82.39</td>\n",
        "      <td>103.93</td>\n",
        "      <td>108.27</td>\n",
        "      <td>118.99</td>\n",
        "      <td>125.12</td>\n",
        "      <td>136.29</td>\n",
        "      <td>131.07</td>\n",
        "      <td>129.54</td>\n",
        "      <td>128.28</td>\n",
        "      <td>132.71</td>\n",
        "      <td>129.45</td>\n",
        "      <td>134.03</td>\n",
        "      <td>136.18</td>\n",
        "      <td>147.33</td>\n",
        "      <td>184.24</td>\n",
        "      <td>204.84</td>\n",
        "    </tr>\n",
        "  </tbody>\n",
        "</table>\n",
        "</div>"
       ],
       "metadata": {},
       "output_type": "pyout",
       "prompt_number": 7,
       "text": [
        "                                0      5     10     15     20     25     30  \\\n",
        "annual_return_rate           8.33   8.37   8.24   7.96   7.80   7.96   7.87   \n",
        "max_closed_out_drawdown    -33.22 -33.21 -33.23 -33.21 -33.23 -33.23 -33.24   \n",
        "drawdown_annualized_return  -3.99  -3.97  -4.03  -4.17  -4.26  -4.18  -4.22   \n",
        "drawdown_recovery           -0.15  -0.15  -0.15  -0.15  -0.15  -0.15  -0.15   \n",
        "best_month                  14.93  14.93  14.94  14.94  14.93  14.93  14.92   \n",
        "worst_month                -29.54 -29.54 -29.55 -29.53 -29.55 -29.55 -29.56   \n",
        "sharpe_ratio                 0.76   0.76   0.75   0.73   0.72   0.73   0.73   \n",
        "sortino_ratio                0.84   0.85   0.83   0.81   0.79   0.80   0.80   \n",
        "monthly_std                  3.10   3.10   3.09   3.08   3.08   3.07   3.07   \n",
        "pct_time_in_market          76.43  76.05  75.55  75.22  75.32  74.64  74.88   \n",
        "total_num_trades            92.00  57.00  46.00  40.00  37.00  31.00  29.00   \n",
        "pct_profitable_trades       30.43  49.12  58.70  67.50  64.86  74.19  79.31   \n",
        "avg_points                  32.30  53.75  66.63  74.30  82.39 103.93 108.27   \n",
        "\n",
        "                               35     40     45     50     55     60     65  \\\n",
        "annual_return_rate           7.96   7.99   8.04   7.73   7.71   7.51   7.49   \n",
        "max_closed_out_drawdown    -33.21 -33.21 -33.23 -33.23 -33.21 -33.23 -33.23   \n",
        "drawdown_annualized_return  -4.17  -4.16  -4.13  -4.30  -4.31  -4.43  -4.44   \n",
        "drawdown_recovery           -0.15  -0.15  -0.15  -0.15  -0.15  -0.15  -0.15   \n",
        "best_month                  14.94  14.94  14.94  14.93  14.94  14.93  14.92   \n",
        "worst_month                -29.54 -29.53 -29.55 -29.56 -29.53 -29.56 -29.55   \n",
        "sharpe_ratio                 0.73   0.74   0.74   0.71   0.71   0.69   0.69   \n",
        "sortino_ratio                0.80   0.81   0.82   0.79   0.78   0.77   0.77   \n",
        "monthly_std                  3.08   3.09   3.10   3.11   3.12   3.13   3.15   \n",
        "pct_time_in_market          74.82  74.91  75.75  75.74  75.73  76.55  77.39   \n",
        "total_num_trades            26.00  25.00  23.00  23.00  23.00  23.00  22.00   \n",
        "pct_profitable_trades       80.77  84.00  86.96  86.96  82.61  82.61  86.36   \n",
        "avg_points                 118.99 125.12 136.29 131.07 129.54 128.28 132.71   \n",
        "\n",
        "                               70     75     80     85     90     95  \n",
        "annual_return_rate           7.28   7.22   7.09   7.07   7.49   7.61  \n",
        "max_closed_out_drawdown    -33.22 -33.21 -33.21 -33.21 -33.22 -33.23  \n",
        "drawdown_annualized_return  -4.57  -4.60  -4.68  -4.70  -4.43  -4.37  \n",
        "drawdown_recovery           -0.15  -0.15  -0.15  -0.15  -0.15  -0.15  \n",
        "best_month                  14.93  14.94  14.94  14.94  14.93  14.92  \n",
        "worst_month                -29.55 -29.54 -29.54 -29.53 -29.54 -29.55  \n",
        "sharpe_ratio                 0.67   0.66   0.65   0.64   0.67   0.67  \n",
        "sortino_ratio                0.75   0.75   0.74   0.74   0.78   0.79  \n",
        "monthly_std                  3.17   3.20   3.23   3.27   3.29   3.34  \n",
        "pct_time_in_market          77.85  79.28  80.10  81.20  82.40  83.89  \n",
        "total_num_trades            22.00  21.00  20.00  19.00  16.00  14.00  \n",
        "pct_profitable_trades       86.36  85.71  85.00  89.47  93.75 100.00  \n",
        "avg_points                 129.45 134.03 136.18 147.33 184.24 204.84  "
       ]
      }
     ],
     "prompt_number": 7
    },
    {
     "cell_type": "markdown",
     "metadata": {},
     "source": [
      "Bar graphs"
     ]
    },
    {
     "cell_type": "code",
     "collapsed": false,
     "input": [
      "strategy.plot_bar_graph(df, 'annual_return_rate')\n",
      "strategy.plot_bar_graph(df, 'sharpe_ratio')\n",
      "strategy.plot_bar_graph(df, 'max_closed_out_drawdown')"
     ],
     "language": "python",
     "metadata": {},
     "outputs": [
      {
       "metadata": {},
       "output_type": "display_data",
       "png": "[encoded data removed]",
       "text": [
        "<matplotlib.figure.Figure at 0x7f83194c25d0>"
       ]
      },
      {
       "metadata": {},
       "output_type": "display_data",
       "png": "[encoded data removed]",
       "text": [
        "<matplotlib.figure.Figure at 0x7f830d670cd0>"
       ]
      },
      {
       "metadata": {},
       "output_type": "display_data",
       "png": "[encoded data removed]",
       "text": [
        "<matplotlib.figure.Figure at 0x7f830b4e2090>"
       ]
      }
     ],
     "prompt_number": 8
    },
    {
     "cell_type": "markdown",
     "metadata": {},
     "source": [
      "Run Benchmark"
     ]
    },
    {
     "cell_type": "code",
     "collapsed": false,
     "input": [
      "s = strategies[bands[0]]\n",
      "benchmark = pf.Benchmark(symbol, capital, s._start, s._end)\n",
      "benchmark.run()\n",
      "benchmark.tlog, benchmark.dbal = benchmark.get_logs()\n",
      "benchmark.stats = benchmark.stats()"
     ],
     "language": "python",
     "metadata": {},
     "outputs": [
      {
       "output_type": "stream",
       "stream": "stdout",
       "text": [
        "1950-10-18 00:00:00 BUY  499 ^GSPC @ 20.01\n",
        "2018-01-29 00:00:00 SELL 499 ^GSPC @ 2853.53"
       ]
      },
      {
       "output_type": "stream",
       "stream": "stdout",
       "text": [
        "\n"
       ]
      }
     ],
     "prompt_number": 9
    },
    {
     "cell_type": "markdown",
     "metadata": {},
     "source": [
      "Equity curve"
     ]
    },
    {
     "cell_type": "code",
     "collapsed": false,
     "input": [
      "pf.plot_equity_curve(strategies['10'].dbal, benchmark=benchmark.dbal)"
     ],
     "language": "python",
     "metadata": {},
     "outputs": [
      {
       "metadata": {},
       "output_type": "display_data",
       "png": "[encoded data removed]",
       "text": [
        "<matplotlib.figure.Figure at 0x7f830b5e62d0>"
       ]
      }
     ],
     "prompt_number": 10
    }
   ],
   "metadata": {}
  }
 ]
}