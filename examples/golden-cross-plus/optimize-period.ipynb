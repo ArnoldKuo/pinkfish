{
 "cells": [
  {
   "cell_type": "markdown",
   "metadata": {},
   "source": [
    "#Golden Cross Plus\n",
    "\n",
    "    1. The SPY closes above its upper band or sma50>sma200, buy\n",
    "    2. If the SPY closes below its lower band and sma50<sma200, sell your long position.\n",
    "    \n",
    "    (optimize period)"
   ]
  },
  {
   "cell_type": "code",
   "execution_count": 1,
   "metadata": {},
   "outputs": [],
   "source": [
    "%matplotlib inline"
   ]
  },
  {
   "cell_type": "markdown",
   "metadata": {},
   "source": [
    "Use future imports for python 3.0 forward compatibility"
   ]
  },
  {
   "cell_type": "code",
   "execution_count": 2,
   "metadata": {},
   "outputs": [],
   "source": [
    "from __future__ import print_function\n",
    "from __future__ import unicode_literals\n",
    "from __future__ import division\n",
    "from __future__ import absolute_import"
   ]
  },
  {
   "cell_type": "markdown",
   "metadata": {},
   "source": [
    "Other imports"
   ]
  },
  {
   "cell_type": "code",
   "execution_count": 3,
   "metadata": {},
   "outputs": [],
   "source": [
    "import pandas as pd\n",
    "import numpy as np\n",
    "import matplotlib\n",
    "import matplotlib.pyplot as plt\n",
    "import datetime\n",
    "from talib.abstract import *\n",
    "import pinkfish as pf\n",
    "import strategy\n",
    "\n",
    "# format price data\n",
    "pd.options.display.float_format = '{:0.2f}'.format\n",
    "\n",
    "# set size of inline plots\n",
    "matplotlib.rcParams['figure.figsize'] = [14, 10]"
   ]
  },
  {
   "cell_type": "markdown",
   "metadata": {},
   "source": [
    "Some global data"
   ]
  },
  {
   "cell_type": "code",
   "execution_count": 4,
   "metadata": {},
   "outputs": [],
   "source": [
    "symbol = '^GSPC'\n",
    "#symbol = 'SPY'\n",
    "#symbol = 'DIA'\n",
    "#symbol = 'QQQ'\n",
    "#symbol = 'IWM'\n",
    "#symbol = 'TLT'\n",
    "#symbol = 'GLD'\n",
    "#symbol = 'AAPL'\n",
    "#symbol = 'BBRY'\n",
    "#symbol = 'GDX'\n",
    "capital = 10000\n",
    "start = datetime.datetime(1900, 1, 1)\n",
    "#end = datetime.datetime(2005, 12, 1)\n",
    "end = datetime.datetime.now()"
   ]
  },
  {
   "cell_type": "markdown",
   "metadata": {},
   "source": [
    "Define the periods"
   ]
  },
  {
   "cell_type": "code",
   "execution_count": 5,
   "metadata": {},
   "outputs": [],
   "source": [
    "periods = range(50, 525, 25)\n",
    "periods = [str(period) for period in periods]"
   ]
  },
  {
   "cell_type": "markdown",
   "metadata": {},
   "source": [
    "Run Strategy"
   ]
  },
  {
   "cell_type": "code",
   "execution_count": 6,
   "metadata": {},
   "outputs": [
    {
     "name": "stdout",
     "output_type": "stream",
     "text": [
      "50 75 100 125 150 175 200 225 250 275 300 325 350 375 400 425 450 475 500 "
     ]
    }
   ],
   "source": [
    "strategies = pd.Series()\n",
    "for period in periods:\n",
    "    print(\"{0}\".format(period), end=\" \")\n",
    "    strategies[period] = strategy.Strategy(symbol, capital, start, end, sma_period=int(period))\n",
    "    strategies[period].run()\n",
    "    strategies[period].tlog, strategies[period].dbal = strategies[period].get_logs()\n",
    "    strategies[period].stats = strategies[period].stats()"
   ]
  },
  {
   "cell_type": "markdown",
   "metadata": {},
   "source": [
    "Summarize results"
   ]
  },
  {
   "cell_type": "code",
   "execution_count": 7,
   "metadata": {
    "scrolled": true
   },
   "outputs": [
    {
     "data": {
      "text/html": [
       "<div>\n",
       "<style scoped>\n",
       "    .dataframe tbody tr th:only-of-type {\n",
       "        vertical-align: middle;\n",
       "    }\n",
       "\n",
       "    .dataframe tbody tr th {\n",
       "        vertical-align: top;\n",
       "    }\n",
       "\n",
       "    .dataframe thead th {\n",
       "        text-align: right;\n",
       "    }\n",
       "</style>\n",
       "<table border=\"1\" class=\"dataframe\">\n",
       "  <thead>\n",
       "    <tr style=\"text-align: right;\">\n",
       "      <th></th>\n",
       "      <th>50</th>\n",
       "      <th>75</th>\n",
       "      <th>100</th>\n",
       "      <th>125</th>\n",
       "      <th>150</th>\n",
       "      <th>175</th>\n",
       "      <th>200</th>\n",
       "      <th>225</th>\n",
       "      <th>250</th>\n",
       "      <th>275</th>\n",
       "      <th>300</th>\n",
       "      <th>325</th>\n",
       "      <th>350</th>\n",
       "      <th>375</th>\n",
       "      <th>400</th>\n",
       "      <th>425</th>\n",
       "      <th>450</th>\n",
       "      <th>475</th>\n",
       "      <th>500</th>\n",
       "    </tr>\n",
       "  </thead>\n",
       "  <tbody>\n",
       "    <tr>\n",
       "      <th>annual_return_rate</th>\n",
       "      <td>9.24</td>\n",
       "      <td>8.96</td>\n",
       "      <td>8.42</td>\n",
       "      <td>8.25</td>\n",
       "      <td>8.33</td>\n",
       "      <td>8.24</td>\n",
       "      <td>8.08</td>\n",
       "      <td>8.28</td>\n",
       "      <td>8.18</td>\n",
       "      <td>8.03</td>\n",
       "      <td>8.03</td>\n",
       "      <td>7.99</td>\n",
       "      <td>7.99</td>\n",
       "      <td>8.14</td>\n",
       "      <td>7.93</td>\n",
       "      <td>7.51</td>\n",
       "      <td>7.43</td>\n",
       "      <td>7.49</td>\n",
       "      <td>7.25</td>\n",
       "    </tr>\n",
       "    <tr>\n",
       "      <th>max_closed_out_drawdown</th>\n",
       "      <td>-33.23</td>\n",
       "      <td>-33.24</td>\n",
       "      <td>-38.19</td>\n",
       "      <td>-33.24</td>\n",
       "      <td>-33.22</td>\n",
       "      <td>-33.22</td>\n",
       "      <td>-33.22</td>\n",
       "      <td>-33.21</td>\n",
       "      <td>-33.22</td>\n",
       "      <td>-33.21</td>\n",
       "      <td>-33.23</td>\n",
       "      <td>-33.22</td>\n",
       "      <td>-33.22</td>\n",
       "      <td>-33.21</td>\n",
       "      <td>-33.21</td>\n",
       "      <td>-33.20</td>\n",
       "      <td>-36.09</td>\n",
       "      <td>-35.07</td>\n",
       "      <td>-35.05</td>\n",
       "    </tr>\n",
       "    <tr>\n",
       "      <th>drawdown_annualized_return</th>\n",
       "      <td>-3.60</td>\n",
       "      <td>-3.71</td>\n",
       "      <td>-4.53</td>\n",
       "      <td>-4.03</td>\n",
       "      <td>-3.99</td>\n",
       "      <td>-4.03</td>\n",
       "      <td>-4.11</td>\n",
       "      <td>-4.01</td>\n",
       "      <td>-4.06</td>\n",
       "      <td>-4.14</td>\n",
       "      <td>-4.14</td>\n",
       "      <td>-4.16</td>\n",
       "      <td>-4.16</td>\n",
       "      <td>-4.08</td>\n",
       "      <td>-4.19</td>\n",
       "      <td>-4.42</td>\n",
       "      <td>-4.86</td>\n",
       "      <td>-4.68</td>\n",
       "      <td>-4.83</td>\n",
       "    </tr>\n",
       "    <tr>\n",
       "      <th>drawdown_recovery</th>\n",
       "      <td>-0.15</td>\n",
       "      <td>-0.15</td>\n",
       "      <td>-3.06</td>\n",
       "      <td>-0.15</td>\n",
       "      <td>-0.15</td>\n",
       "      <td>-0.15</td>\n",
       "      <td>-0.15</td>\n",
       "      <td>-0.15</td>\n",
       "      <td>-0.15</td>\n",
       "      <td>-0.15</td>\n",
       "      <td>-0.15</td>\n",
       "      <td>-0.15</td>\n",
       "      <td>-0.15</td>\n",
       "      <td>-0.15</td>\n",
       "      <td>-0.15</td>\n",
       "      <td>-0.15</td>\n",
       "      <td>-0.99</td>\n",
       "      <td>-0.99</td>\n",
       "      <td>-0.99</td>\n",
       "    </tr>\n",
       "    <tr>\n",
       "      <th>best_month</th>\n",
       "      <td>15.18</td>\n",
       "      <td>15.18</td>\n",
       "      <td>15.19</td>\n",
       "      <td>14.94</td>\n",
       "      <td>14.94</td>\n",
       "      <td>14.93</td>\n",
       "      <td>14.93</td>\n",
       "      <td>14.94</td>\n",
       "      <td>14.93</td>\n",
       "      <td>14.94</td>\n",
       "      <td>14.94</td>\n",
       "      <td>14.93</td>\n",
       "      <td>14.93</td>\n",
       "      <td>14.93</td>\n",
       "      <td>15.87</td>\n",
       "      <td>15.89</td>\n",
       "      <td>18.17</td>\n",
       "      <td>18.18</td>\n",
       "      <td>18.17</td>\n",
       "    </tr>\n",
       "    <tr>\n",
       "      <th>worst_month</th>\n",
       "      <td>-29.56</td>\n",
       "      <td>-29.56</td>\n",
       "      <td>-29.55</td>\n",
       "      <td>-29.56</td>\n",
       "      <td>-29.55</td>\n",
       "      <td>-29.54</td>\n",
       "      <td>-29.54</td>\n",
       "      <td>-29.54</td>\n",
       "      <td>-29.55</td>\n",
       "      <td>-29.53</td>\n",
       "      <td>-29.55</td>\n",
       "      <td>-29.55</td>\n",
       "      <td>-29.54</td>\n",
       "      <td>-29.53</td>\n",
       "      <td>-29.54</td>\n",
       "      <td>-29.53</td>\n",
       "      <td>-29.53</td>\n",
       "      <td>-29.55</td>\n",
       "      <td>-29.52</td>\n",
       "    </tr>\n",
       "    <tr>\n",
       "      <th>sharpe_ratio</th>\n",
       "      <td>0.78</td>\n",
       "      <td>0.77</td>\n",
       "      <td>0.74</td>\n",
       "      <td>0.73</td>\n",
       "      <td>0.75</td>\n",
       "      <td>0.75</td>\n",
       "      <td>0.74</td>\n",
       "      <td>0.75</td>\n",
       "      <td>0.75</td>\n",
       "      <td>0.73</td>\n",
       "      <td>0.73</td>\n",
       "      <td>0.73</td>\n",
       "      <td>0.72</td>\n",
       "      <td>0.73</td>\n",
       "      <td>0.71</td>\n",
       "      <td>0.68</td>\n",
       "      <td>0.67</td>\n",
       "      <td>0.67</td>\n",
       "      <td>0.65</td>\n",
       "    </tr>\n",
       "    <tr>\n",
       "      <th>sortino_ratio</th>\n",
       "      <td>0.91</td>\n",
       "      <td>0.90</td>\n",
       "      <td>0.84</td>\n",
       "      <td>0.83</td>\n",
       "      <td>0.84</td>\n",
       "      <td>0.83</td>\n",
       "      <td>0.81</td>\n",
       "      <td>0.83</td>\n",
       "      <td>0.83</td>\n",
       "      <td>0.81</td>\n",
       "      <td>0.81</td>\n",
       "      <td>0.81</td>\n",
       "      <td>0.81</td>\n",
       "      <td>0.82</td>\n",
       "      <td>0.80</td>\n",
       "      <td>0.77</td>\n",
       "      <td>0.76</td>\n",
       "      <td>0.76</td>\n",
       "      <td>0.74</td>\n",
       "    </tr>\n",
       "    <tr>\n",
       "      <th>monthly_std</th>\n",
       "      <td>3.36</td>\n",
       "      <td>3.29</td>\n",
       "      <td>3.26</td>\n",
       "      <td>3.23</td>\n",
       "      <td>3.17</td>\n",
       "      <td>3.13</td>\n",
       "      <td>3.10</td>\n",
       "      <td>3.10</td>\n",
       "      <td>3.10</td>\n",
       "      <td>3.10</td>\n",
       "      <td>3.12</td>\n",
       "      <td>3.13</td>\n",
       "      <td>3.14</td>\n",
       "      <td>3.16</td>\n",
       "      <td>3.17</td>\n",
       "      <td>3.20</td>\n",
       "      <td>3.25</td>\n",
       "      <td>3.27</td>\n",
       "      <td>3.29</td>\n",
       "    </tr>\n",
       "    <tr>\n",
       "      <th>pct_time_in_market</th>\n",
       "      <td>85.40</td>\n",
       "      <td>83.12</td>\n",
       "      <td>80.99</td>\n",
       "      <td>79.39</td>\n",
       "      <td>78.02</td>\n",
       "      <td>77.01</td>\n",
       "      <td>76.62</td>\n",
       "      <td>76.51</td>\n",
       "      <td>76.56</td>\n",
       "      <td>76.76</td>\n",
       "      <td>76.99</td>\n",
       "      <td>77.32</td>\n",
       "      <td>77.70</td>\n",
       "      <td>78.20</td>\n",
       "      <td>78.81</td>\n",
       "      <td>79.42</td>\n",
       "      <td>80.05</td>\n",
       "      <td>80.69</td>\n",
       "      <td>81.43</td>\n",
       "    </tr>\n",
       "    <tr>\n",
       "      <th>total_num_trades</th>\n",
       "      <td>155.00</td>\n",
       "      <td>128.00</td>\n",
       "      <td>124.00</td>\n",
       "      <td>123.00</td>\n",
       "      <td>110.00</td>\n",
       "      <td>98.00</td>\n",
       "      <td>94.00</td>\n",
       "      <td>87.00</td>\n",
       "      <td>83.00</td>\n",
       "      <td>88.00</td>\n",
       "      <td>76.00</td>\n",
       "      <td>74.00</td>\n",
       "      <td>77.00</td>\n",
       "      <td>74.00</td>\n",
       "      <td>78.00</td>\n",
       "      <td>92.00</td>\n",
       "      <td>81.00</td>\n",
       "      <td>85.00</td>\n",
       "      <td>95.00</td>\n",
       "    </tr>\n",
       "    <tr>\n",
       "      <th>pct_profitable_trades</th>\n",
       "      <td>30.97</td>\n",
       "      <td>28.12</td>\n",
       "      <td>24.19</td>\n",
       "      <td>23.58</td>\n",
       "      <td>26.36</td>\n",
       "      <td>29.59</td>\n",
       "      <td>31.91</td>\n",
       "      <td>35.63</td>\n",
       "      <td>38.55</td>\n",
       "      <td>31.82</td>\n",
       "      <td>38.16</td>\n",
       "      <td>35.14</td>\n",
       "      <td>33.77</td>\n",
       "      <td>33.78</td>\n",
       "      <td>29.49</td>\n",
       "      <td>26.09</td>\n",
       "      <td>30.86</td>\n",
       "      <td>29.41</td>\n",
       "      <td>25.26</td>\n",
       "    </tr>\n",
       "    <tr>\n",
       "      <th>avg_points</th>\n",
       "      <td>20.69</td>\n",
       "      <td>24.71</td>\n",
       "      <td>22.35</td>\n",
       "      <td>21.77</td>\n",
       "      <td>24.20</td>\n",
       "      <td>27.81</td>\n",
       "      <td>30.03</td>\n",
       "      <td>34.77</td>\n",
       "      <td>36.18</td>\n",
       "      <td>33.91</td>\n",
       "      <td>38.67</td>\n",
       "      <td>41.52</td>\n",
       "      <td>39.55</td>\n",
       "      <td>43.09</td>\n",
       "      <td>41.21</td>\n",
       "      <td>32.97</td>\n",
       "      <td>37.51</td>\n",
       "      <td>35.86</td>\n",
       "      <td>31.55</td>\n",
       "    </tr>\n",
       "  </tbody>\n",
       "</table>\n",
       "</div>"
      ],
      "text/plain": [
       "                               50     75    100    125    150    175    200  \\\n",
       "annual_return_rate           9.24   8.96   8.42   8.25   8.33   8.24   8.08   \n",
       "max_closed_out_drawdown    -33.23 -33.24 -38.19 -33.24 -33.22 -33.22 -33.22   \n",
       "drawdown_annualized_return  -3.60  -3.71  -4.53  -4.03  -3.99  -4.03  -4.11   \n",
       "drawdown_recovery           -0.15  -0.15  -3.06  -0.15  -0.15  -0.15  -0.15   \n",
       "best_month                  15.18  15.18  15.19  14.94  14.94  14.93  14.93   \n",
       "worst_month                -29.56 -29.56 -29.55 -29.56 -29.55 -29.54 -29.54   \n",
       "sharpe_ratio                 0.78   0.77   0.74   0.73   0.75   0.75   0.74   \n",
       "sortino_ratio                0.91   0.90   0.84   0.83   0.84   0.83   0.81   \n",
       "monthly_std                  3.36   3.29   3.26   3.23   3.17   3.13   3.10   \n",
       "pct_time_in_market          85.40  83.12  80.99  79.39  78.02  77.01  76.62   \n",
       "total_num_trades           155.00 128.00 124.00 123.00 110.00  98.00  94.00   \n",
       "pct_profitable_trades       30.97  28.12  24.19  23.58  26.36  29.59  31.91   \n",
       "avg_points                  20.69  24.71  22.35  21.77  24.20  27.81  30.03   \n",
       "\n",
       "                              225    250    275    300    325    350    375  \\\n",
       "annual_return_rate           8.28   8.18   8.03   8.03   7.99   7.99   8.14   \n",
       "max_closed_out_drawdown    -33.21 -33.22 -33.21 -33.23 -33.22 -33.22 -33.21   \n",
       "drawdown_annualized_return  -4.01  -4.06  -4.14  -4.14  -4.16  -4.16  -4.08   \n",
       "drawdown_recovery           -0.15  -0.15  -0.15  -0.15  -0.15  -0.15  -0.15   \n",
       "best_month                  14.94  14.93  14.94  14.94  14.93  14.93  14.93   \n",
       "worst_month                -29.54 -29.55 -29.53 -29.55 -29.55 -29.54 -29.53   \n",
       "sharpe_ratio                 0.75   0.75   0.73   0.73   0.73   0.72   0.73   \n",
       "sortino_ratio                0.83   0.83   0.81   0.81   0.81   0.81   0.82   \n",
       "monthly_std                  3.10   3.10   3.10   3.12   3.13   3.14   3.16   \n",
       "pct_time_in_market          76.51  76.56  76.76  76.99  77.32  77.70  78.20   \n",
       "total_num_trades            87.00  83.00  88.00  76.00  74.00  77.00  74.00   \n",
       "pct_profitable_trades       35.63  38.55  31.82  38.16  35.14  33.77  33.78   \n",
       "avg_points                  34.77  36.18  33.91  38.67  41.52  39.55  43.09   \n",
       "\n",
       "                              400    425    450    475    500  \n",
       "annual_return_rate           7.93   7.51   7.43   7.49   7.25  \n",
       "max_closed_out_drawdown    -33.21 -33.20 -36.09 -35.07 -35.05  \n",
       "drawdown_annualized_return  -4.19  -4.42  -4.86  -4.68  -4.83  \n",
       "drawdown_recovery           -0.15  -0.15  -0.99  -0.99  -0.99  \n",
       "best_month                  15.87  15.89  18.17  18.18  18.17  \n",
       "worst_month                -29.54 -29.53 -29.53 -29.55 -29.52  \n",
       "sharpe_ratio                 0.71   0.68   0.67   0.67   0.65  \n",
       "sortino_ratio                0.80   0.77   0.76   0.76   0.74  \n",
       "monthly_std                  3.17   3.20   3.25   3.27   3.29  \n",
       "pct_time_in_market          78.81  79.42  80.05  80.69  81.43  \n",
       "total_num_trades            78.00  92.00  81.00  85.00  95.00  \n",
       "pct_profitable_trades       29.49  26.09  30.86  29.41  25.26  \n",
       "avg_points                  41.21  32.97  37.51  35.86  31.55  "
      ]
     },
     "execution_count": 7,
     "metadata": {},
     "output_type": "execute_result"
    }
   ],
   "source": [
    "metrics = ('annual_return_rate',\n",
    "           'max_closed_out_drawdown',\n",
    "           'drawdown_annualized_return',\n",
    "           'drawdown_recovery',\n",
    "           'best_month',\n",
    "           'worst_month',\n",
    "           'sharpe_ratio',\n",
    "           'sortino_ratio',\n",
    "           'monthly_std',\n",
    "           'pct_time_in_market',\n",
    "           'total_num_trades',\n",
    "           'pct_profitable_trades',\n",
    "           'avg_points')\n",
    "\n",
    "df = strategy.summary(strategies, *metrics)\n",
    "df"
   ]
  },
  {
   "cell_type": "markdown",
   "metadata": {},
   "source": [
    "Bar graphs"
   ]
  },
  {
   "cell_type": "code",
   "execution_count": 8,
   "metadata": {},
   "outputs": [
    {
     "data": {
      "image/png": "[encoded data removed]",
      "text/plain": [
       "<Figure size 1008x720 with 1 Axes>"
      ]
     },
     "metadata": {
      "needs_background": "light"
     },
     "output_type": "display_data"
    },
    {
     "data": {
      "image/png": "[encoded data removed]",
      "text/plain": [
       "<Figure size 1008x720 with 1 Axes>"
      ]
     },
     "metadata": {
      "needs_background": "light"
     },
     "output_type": "display_data"
    },
    {
     "data": {
      "image/png": "[encoded data removed]",
      "text/plain": [
       "<Figure size 1008x720 with 1 Axes>"
      ]
     },
     "metadata": {
      "needs_background": "light"
     },
     "output_type": "display_data"
    }
   ],
   "source": [
    "strategy.plot_bar_graph(df, 'annual_return_rate')\n",
    "strategy.plot_bar_graph(df, 'sharpe_ratio')\n",
    "strategy.plot_bar_graph(df, 'max_closed_out_drawdown')"
   ]
  },
  {
   "cell_type": "markdown",
   "metadata": {},
   "source": [
    "Run Benchmark"
   ]
  },
  {
   "cell_type": "code",
   "execution_count": 9,
   "metadata": {},
   "outputs": [
    {
     "name": "stdout",
     "output_type": "stream",
     "text": [
      "1950-03-15 00:00:00 BUY  573 ^GSPC @ 17.45\n",
      "2019-05-15 00:00:00 SELL 573 ^GSPC @ 2850.96\n"
     ]
    }
   ],
   "source": [
    "s = strategies[periods[0]]\n",
    "benchmark = pf.Benchmark(symbol, capital, s._start, s._end)\n",
    "benchmark.run()\n",
    "benchmark.tlog, benchmark.dbal = benchmark.get_logs()\n",
    "benchmark.stats = benchmark.stats()"
   ]
  },
  {
   "cell_type": "markdown",
   "metadata": {},
   "source": [
    "Equity curve"
   ]
  },
  {
   "cell_type": "code",
   "execution_count": 10,
   "metadata": {},
   "outputs": [
    {
     "data": {
      "image/png": "[encoded data removed]",
      "text/plain": [
       "<Figure size 1008x720 with 1 Axes>"
      ]
     },
     "metadata": {
      "needs_background": "light"
     },
     "output_type": "display_data"
    }
   ],
   "source": [
    "pf.plot_equity_curve(strategies['200'].dbal, benchmark=benchmark.dbal)"
   ]
  }
 ],
 "metadata": {
  "kernelspec": {
   "display_name": "Python 2",
   "language": "python",
   "name": "python2"
  },
  "language_info": {
   "codemirror_mode": {
    "name": "ipython",
    "version": 2
   },
   "file_extension": ".py",
   "mimetype": "text/x-python",
   "name": "python",
   "nbconvert_exporter": "python",
   "pygments_lexer": "ipython2",
   "version": "2.7.15rc1"
  }
 },
 "nbformat": 4,
 "nbformat_minor": 1
}
