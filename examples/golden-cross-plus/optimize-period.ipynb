{
 "metadata": {
  "kernelspec": {
   "display_name": "Python 2",
   "language": "python",
   "name": "python2"
  },
  "language_info": {
   "codemirror_mode": {
    "name": "ipython",
    "version": 2
   },
   "file_extension": ".py",
   "mimetype": "text/x-python",
   "name": "python",
   "nbconvert_exporter": "python",
   "pygments_lexer": "ipython2",
   "version": "2.7.6"
  },
  "name": "",
  "signature": "sha256:f435fdbc7316f59c6184944b9588e10b00a0adb2a18fad2e672108d7aa024f4c"
 },
 "nbformat": 3,
 "nbformat_minor": 0,
 "worksheets": [
  {
   "cells": [
    {
     "cell_type": "markdown",
     "metadata": {},
     "source": [
      "#Golden Cross Plus\n",
      "\n",
      "    1. The SPY closes above its upper band or sma50>sma200, buy\n",
      "    2. If the SPY closes below its lower band and sma50<sma200, sell your long position.\n",
      "    \n",
      "    (optimize period)"
     ]
    },
    {
     "cell_type": "code",
     "collapsed": false,
     "input": [
      "%matplotlib inline"
     ],
     "language": "python",
     "metadata": {},
     "outputs": [],
     "prompt_number": 1
    },
    {
     "cell_type": "markdown",
     "metadata": {},
     "source": [
      "Use future imports for python 3.0 forward compatibility"
     ]
    },
    {
     "cell_type": "code",
     "collapsed": false,
     "input": [
      "from __future__ import print_function\n",
      "from __future__ import unicode_literals\n",
      "from __future__ import division\n",
      "from __future__ import absolute_import"
     ],
     "language": "python",
     "metadata": {},
     "outputs": [],
     "prompt_number": 2
    },
    {
     "cell_type": "markdown",
     "metadata": {},
     "source": [
      "Other imports"
     ]
    },
    {
     "cell_type": "code",
     "collapsed": false,
     "input": [
      "import pandas as pd\n",
      "import numpy as np\n",
      "import matplotlib\n",
      "import matplotlib.pyplot as plt\n",
      "import datetime\n",
      "from talib.abstract import *\n",
      "import pinkfish as pf\n",
      "import strategy\n",
      "\n",
      "# format price data\n",
      "pd.options.display.float_format = '{:0.2f}'.format\n",
      "\n",
      "# Double the DPI, so we are making 2x plots:\n",
      "matplotlib.rcParams['savefig.dpi'] = 2 * matplotlib.rcParams['savefig.dpi']"
     ],
     "language": "python",
     "metadata": {},
     "outputs": [],
     "prompt_number": 3
    },
    {
     "cell_type": "markdown",
     "metadata": {},
     "source": [
      "Some global data"
     ]
    },
    {
     "cell_type": "code",
     "collapsed": false,
     "input": [
      "symbol = '^GSPC'\n",
      "#symbol = 'SPY'\n",
      "#symbol = 'DIA'\n",
      "#symbol = 'QQQ'\n",
      "#symbol = 'IWM'\n",
      "#symbol = 'TLT'\n",
      "#symbol = 'GLD'\n",
      "#symbol = 'AAPL'\n",
      "#symbol = 'BBRY'\n",
      "#symbol = 'GDX'\n",
      "capital = 10000\n",
      "start = datetime.datetime(1900, 1, 1)\n",
      "#end = datetime.datetime(2005, 12, 1)\n",
      "end = datetime.datetime.now()"
     ],
     "language": "python",
     "metadata": {},
     "outputs": [],
     "prompt_number": 4
    },
    {
     "cell_type": "markdown",
     "metadata": {},
     "source": [
      "Define the periods"
     ]
    },
    {
     "cell_type": "code",
     "collapsed": false,
     "input": [
      "periods = range(50, 525, 25)\n",
      "periods = [str(period) for period in periods]"
     ],
     "language": "python",
     "metadata": {},
     "outputs": [],
     "prompt_number": 5
    },
    {
     "cell_type": "markdown",
     "metadata": {},
     "source": [
      "Run Strategy"
     ]
    },
    {
     "cell_type": "code",
     "collapsed": false,
     "input": [
      "strategies = pd.Series()\n",
      "for period in periods:\n",
      "    print(\"{0}\".format(period), end=\" \")\n",
      "    strategies[period] = strategy.Strategy(symbol, capital, start, end, sma_period=int(period))\n",
      "    strategies[period].run()\n",
      "    strategies[period].tlog, strategies[period].dbal = strategies[period].get_logs()\n",
      "    strategies[period].stats = strategies[period].stats()"
     ],
     "language": "python",
     "metadata": {},
     "outputs": [
      {
       "output_type": "stream",
       "stream": "stdout",
       "text": [
        "50 75"
       ]
      },
      {
       "output_type": "stream",
       "stream": "stdout",
       "text": [
        " 100"
       ]
      },
      {
       "output_type": "stream",
       "stream": "stdout",
       "text": [
        " 125"
       ]
      },
      {
       "output_type": "stream",
       "stream": "stdout",
       "text": [
        " 150"
       ]
      },
      {
       "output_type": "stream",
       "stream": "stdout",
       "text": [
        " 175"
       ]
      },
      {
       "output_type": "stream",
       "stream": "stdout",
       "text": [
        " 200"
       ]
      },
      {
       "output_type": "stream",
       "stream": "stdout",
       "text": [
        " 225"
       ]
      },
      {
       "output_type": "stream",
       "stream": "stdout",
       "text": [
        " 250"
       ]
      },
      {
       "output_type": "stream",
       "stream": "stdout",
       "text": [
        " 275"
       ]
      },
      {
       "output_type": "stream",
       "stream": "stdout",
       "text": [
        " 300"
       ]
      },
      {
       "output_type": "stream",
       "stream": "stdout",
       "text": [
        " 325"
       ]
      },
      {
       "output_type": "stream",
       "stream": "stdout",
       "text": [
        " 350"
       ]
      },
      {
       "output_type": "stream",
       "stream": "stdout",
       "text": [
        " 375"
       ]
      },
      {
       "output_type": "stream",
       "stream": "stdout",
       "text": [
        " 400"
       ]
      },
      {
       "output_type": "stream",
       "stream": "stdout",
       "text": [
        " 425"
       ]
      },
      {
       "output_type": "stream",
       "stream": "stdout",
       "text": [
        " 450"
       ]
      },
      {
       "output_type": "stream",
       "stream": "stdout",
       "text": [
        " 475"
       ]
      },
      {
       "output_type": "stream",
       "stream": "stdout",
       "text": [
        " 500"
       ]
      },
      {
       "output_type": "stream",
       "stream": "stdout",
       "text": [
        " "
       ]
      }
     ],
     "prompt_number": 6
    },
    {
     "cell_type": "markdown",
     "metadata": {},
     "source": [
      "Summarize results"
     ]
    },
    {
     "cell_type": "code",
     "collapsed": false,
     "input": [
      "metrics = ('annual_return_rate',\n",
      "           'max_closed_out_drawdown',\n",
      "           'drawdown_annualized_return',\n",
      "           'drawdown_recovery',\n",
      "           'best_month',\n",
      "           'worst_month',\n",
      "           'sharpe_ratio',\n",
      "           'sortino_ratio',\n",
      "           'monthly_std',\n",
      "           'pct_time_in_market',\n",
      "           'total_num_trades',\n",
      "           'pct_profitable_trades',\n",
      "           'avg_points')\n",
      "\n",
      "df = strategy.summary(strategies, *metrics)\n",
      "df"
     ],
     "language": "python",
     "metadata": {
      "scrolled": true
     },
     "outputs": [
      {
       "html": [
        "<div style=\"max-width:1500px;overflow:auto;\">\n",
        "<style scoped>\n",
        "    .dataframe tbody tr th:only-of-type {\n",
        "        vertical-align: middle;\n",
        "    }\n",
        "\n",
        "    .dataframe tbody tr th {\n",
        "        vertical-align: top;\n",
        "    }\n",
        "\n",
        "    .dataframe thead th {\n",
        "        text-align: right;\n",
        "    }\n",
        "</style>\n",
        "<table border=\"1\" class=\"dataframe\">\n",
        "  <thead>\n",
        "    <tr style=\"text-align: right;\">\n",
        "      <th></th>\n",
        "      <th>50</th>\n",
        "      <th>75</th>\n",
        "      <th>100</th>\n",
        "      <th>125</th>\n",
        "      <th>150</th>\n",
        "      <th>175</th>\n",
        "      <th>200</th>\n",
        "      <th>225</th>\n",
        "      <th>250</th>\n",
        "      <th>275</th>\n",
        "      <th>300</th>\n",
        "      <th>325</th>\n",
        "      <th>350</th>\n",
        "      <th>375</th>\n",
        "      <th>400</th>\n",
        "      <th>425</th>\n",
        "      <th>450</th>\n",
        "      <th>475</th>\n",
        "      <th>500</th>\n",
        "    </tr>\n",
        "  </thead>\n",
        "  <tbody>\n",
        "    <tr>\n",
        "      <th>annual_return_rate</th>\n",
        "      <td>9.43</td>\n",
        "      <td>9.19</td>\n",
        "      <td>8.65</td>\n",
        "      <td>8.48</td>\n",
        "      <td>8.61</td>\n",
        "      <td>8.52</td>\n",
        "      <td>8.33</td>\n",
        "      <td>8.54</td>\n",
        "      <td>8.43</td>\n",
        "      <td>8.26</td>\n",
        "      <td>8.28</td>\n",
        "      <td>8.23</td>\n",
        "      <td>8.20</td>\n",
        "      <td>8.35</td>\n",
        "      <td>8.14</td>\n",
        "      <td>7.76</td>\n",
        "      <td>7.64</td>\n",
        "      <td>7.67</td>\n",
        "      <td>7.44</td>\n",
        "    </tr>\n",
        "    <tr>\n",
        "      <th>max_closed_out_drawdown</th>\n",
        "      <td>-33.23</td>\n",
        "      <td>-33.24</td>\n",
        "      <td>-38.19</td>\n",
        "      <td>-33.24</td>\n",
        "      <td>-33.22</td>\n",
        "      <td>-33.22</td>\n",
        "      <td>-33.22</td>\n",
        "      <td>-33.21</td>\n",
        "      <td>-33.22</td>\n",
        "      <td>-33.21</td>\n",
        "      <td>-33.23</td>\n",
        "      <td>-33.22</td>\n",
        "      <td>-33.22</td>\n",
        "      <td>-33.21</td>\n",
        "      <td>-33.21</td>\n",
        "      <td>-33.20</td>\n",
        "      <td>-36.09</td>\n",
        "      <td>-35.07</td>\n",
        "      <td>-35.05</td>\n",
        "    </tr>\n",
        "    <tr>\n",
        "      <th>drawdown_annualized_return</th>\n",
        "      <td>-3.52</td>\n",
        "      <td>-3.62</td>\n",
        "      <td>-4.42</td>\n",
        "      <td>-3.92</td>\n",
        "      <td>-3.86</td>\n",
        "      <td>-3.90</td>\n",
        "      <td>-3.99</td>\n",
        "      <td>-3.89</td>\n",
        "      <td>-3.94</td>\n",
        "      <td>-4.02</td>\n",
        "      <td>-4.01</td>\n",
        "      <td>-4.03</td>\n",
        "      <td>-4.05</td>\n",
        "      <td>-3.98</td>\n",
        "      <td>-4.08</td>\n",
        "      <td>-4.28</td>\n",
        "      <td>-4.73</td>\n",
        "      <td>-4.57</td>\n",
        "      <td>-4.71</td>\n",
        "    </tr>\n",
        "    <tr>\n",
        "      <th>drawdown_recovery</th>\n",
        "      <td>-0.15</td>\n",
        "      <td>-0.15</td>\n",
        "      <td>-3.06</td>\n",
        "      <td>-0.15</td>\n",
        "      <td>-0.15</td>\n",
        "      <td>-0.15</td>\n",
        "      <td>-0.15</td>\n",
        "      <td>-0.15</td>\n",
        "      <td>-0.15</td>\n",
        "      <td>-0.15</td>\n",
        "      <td>-0.15</td>\n",
        "      <td>-0.15</td>\n",
        "      <td>-0.15</td>\n",
        "      <td>-0.15</td>\n",
        "      <td>-0.15</td>\n",
        "      <td>-0.15</td>\n",
        "      <td>-0.99</td>\n",
        "      <td>-0.99</td>\n",
        "      <td>-0.99</td>\n",
        "    </tr>\n",
        "    <tr>\n",
        "      <th>best_month</th>\n",
        "      <td>15.18</td>\n",
        "      <td>15.18</td>\n",
        "      <td>15.19</td>\n",
        "      <td>14.94</td>\n",
        "      <td>14.94</td>\n",
        "      <td>14.93</td>\n",
        "      <td>14.93</td>\n",
        "      <td>14.94</td>\n",
        "      <td>14.93</td>\n",
        "      <td>14.94</td>\n",
        "      <td>14.94</td>\n",
        "      <td>14.93</td>\n",
        "      <td>14.93</td>\n",
        "      <td>14.93</td>\n",
        "      <td>15.87</td>\n",
        "      <td>15.89</td>\n",
        "      <td>18.17</td>\n",
        "      <td>18.18</td>\n",
        "      <td>18.17</td>\n",
        "    </tr>\n",
        "    <tr>\n",
        "      <th>worst_month</th>\n",
        "      <td>-29.56</td>\n",
        "      <td>-29.56</td>\n",
        "      <td>-29.55</td>\n",
        "      <td>-29.56</td>\n",
        "      <td>-29.55</td>\n",
        "      <td>-29.54</td>\n",
        "      <td>-29.54</td>\n",
        "      <td>-29.54</td>\n",
        "      <td>-29.55</td>\n",
        "      <td>-29.53</td>\n",
        "      <td>-29.55</td>\n",
        "      <td>-29.55</td>\n",
        "      <td>-29.54</td>\n",
        "      <td>-29.53</td>\n",
        "      <td>-29.54</td>\n",
        "      <td>-29.53</td>\n",
        "      <td>-29.53</td>\n",
        "      <td>-29.55</td>\n",
        "      <td>-29.52</td>\n",
        "    </tr>\n",
        "    <tr>\n",
        "      <th>sharpe_ratio</th>\n",
        "      <td>0.80</td>\n",
        "      <td>0.79</td>\n",
        "      <td>0.76</td>\n",
        "      <td>0.75</td>\n",
        "      <td>0.77</td>\n",
        "      <td>0.77</td>\n",
        "      <td>0.76</td>\n",
        "      <td>0.78</td>\n",
        "      <td>0.77</td>\n",
        "      <td>0.76</td>\n",
        "      <td>0.76</td>\n",
        "      <td>0.75</td>\n",
        "      <td>0.74</td>\n",
        "      <td>0.75</td>\n",
        "      <td>0.73</td>\n",
        "      <td>0.70</td>\n",
        "      <td>0.69</td>\n",
        "      <td>0.69</td>\n",
        "      <td>0.67</td>\n",
        "    </tr>\n",
        "    <tr>\n",
        "      <th>sortino_ratio</th>\n",
        "      <td>0.94</td>\n",
        "      <td>0.92</td>\n",
        "      <td>0.87</td>\n",
        "      <td>0.85</td>\n",
        "      <td>0.87</td>\n",
        "      <td>0.86</td>\n",
        "      <td>0.84</td>\n",
        "      <td>0.86</td>\n",
        "      <td>0.85</td>\n",
        "      <td>0.84</td>\n",
        "      <td>0.84</td>\n",
        "      <td>0.83</td>\n",
        "      <td>0.83</td>\n",
        "      <td>0.85</td>\n",
        "      <td>0.83</td>\n",
        "      <td>0.79</td>\n",
        "      <td>0.78</td>\n",
        "      <td>0.78</td>\n",
        "      <td>0.76</td>\n",
        "    </tr>\n",
        "    <tr>\n",
        "      <th>monthly_std</th>\n",
        "      <td>3.36</td>\n",
        "      <td>3.29</td>\n",
        "      <td>3.26</td>\n",
        "      <td>3.23</td>\n",
        "      <td>3.17</td>\n",
        "      <td>3.13</td>\n",
        "      <td>3.10</td>\n",
        "      <td>3.10</td>\n",
        "      <td>3.10</td>\n",
        "      <td>3.10</td>\n",
        "      <td>3.12</td>\n",
        "      <td>3.13</td>\n",
        "      <td>3.14</td>\n",
        "      <td>3.16</td>\n",
        "      <td>3.17</td>\n",
        "      <td>3.20</td>\n",
        "      <td>3.25</td>\n",
        "      <td>3.27</td>\n",
        "      <td>3.29</td>\n",
        "    </tr>\n",
        "    <tr>\n",
        "      <th>pct_time_in_market</th>\n",
        "      <td>85.27</td>\n",
        "      <td>82.98</td>\n",
        "      <td>80.85</td>\n",
        "      <td>79.25</td>\n",
        "      <td>77.86</td>\n",
        "      <td>76.84</td>\n",
        "      <td>76.43</td>\n",
        "      <td>76.30</td>\n",
        "      <td>76.34</td>\n",
        "      <td>76.55</td>\n",
        "      <td>76.78</td>\n",
        "      <td>77.11</td>\n",
        "      <td>77.48</td>\n",
        "      <td>77.98</td>\n",
        "      <td>78.59</td>\n",
        "      <td>79.18</td>\n",
        "      <td>79.79</td>\n",
        "      <td>80.44</td>\n",
        "      <td>81.17</td>\n",
        "    </tr>\n",
        "    <tr>\n",
        "      <th>total_num_trades</th>\n",
        "      <td>154.00</td>\n",
        "      <td>126.00</td>\n",
        "      <td>123.00</td>\n",
        "      <td>122.00</td>\n",
        "      <td>107.00</td>\n",
        "      <td>95.00</td>\n",
        "      <td>92.00</td>\n",
        "      <td>84.00</td>\n",
        "      <td>81.00</td>\n",
        "      <td>86.00</td>\n",
        "      <td>74.00</td>\n",
        "      <td>72.00</td>\n",
        "      <td>76.00</td>\n",
        "      <td>73.00</td>\n",
        "      <td>76.00</td>\n",
        "      <td>88.00</td>\n",
        "      <td>78.00</td>\n",
        "      <td>84.00</td>\n",
        "      <td>94.00</td>\n",
        "    </tr>\n",
        "    <tr>\n",
        "      <th>pct_profitable_trades</th>\n",
        "      <td>30.52</td>\n",
        "      <td>27.78</td>\n",
        "      <td>23.58</td>\n",
        "      <td>22.95</td>\n",
        "      <td>26.17</td>\n",
        "      <td>29.47</td>\n",
        "      <td>30.43</td>\n",
        "      <td>35.71</td>\n",
        "      <td>38.27</td>\n",
        "      <td>31.40</td>\n",
        "      <td>37.84</td>\n",
        "      <td>34.72</td>\n",
        "      <td>32.89</td>\n",
        "      <td>32.88</td>\n",
        "      <td>28.95</td>\n",
        "      <td>26.14</td>\n",
        "      <td>29.49</td>\n",
        "      <td>28.57</td>\n",
        "      <td>24.47</td>\n",
        "    </tr>\n",
        "    <tr>\n",
        "      <th>avg_points</th>\n",
        "      <td>20.86</td>\n",
        "      <td>25.66</td>\n",
        "      <td>23.30</td>\n",
        "      <td>22.89</td>\n",
        "      <td>26.68</td>\n",
        "      <td>30.66</td>\n",
        "      <td>32.30</td>\n",
        "      <td>37.92</td>\n",
        "      <td>38.87</td>\n",
        "      <td>36.10</td>\n",
        "      <td>41.69</td>\n",
        "      <td>44.52</td>\n",
        "      <td>41.04</td>\n",
        "      <td>44.68</td>\n",
        "      <td>43.45</td>\n",
        "      <td>36.29</td>\n",
        "      <td>40.05</td>\n",
        "      <td>36.75</td>\n",
        "      <td>32.60</td>\n",
        "    </tr>\n",
        "  </tbody>\n",
        "</table>\n",
        "</div>"
       ],
       "metadata": {},
       "output_type": "pyout",
       "prompt_number": 7,
       "text": [
        "                               50     75    100    125    150    175    200  \\\n",
        "annual_return_rate           9.43   9.19   8.65   8.48   8.61   8.52   8.33   \n",
        "max_closed_out_drawdown    -33.23 -33.24 -38.19 -33.24 -33.22 -33.22 -33.22   \n",
        "drawdown_annualized_return  -3.52  -3.62  -4.42  -3.92  -3.86  -3.90  -3.99   \n",
        "drawdown_recovery           -0.15  -0.15  -3.06  -0.15  -0.15  -0.15  -0.15   \n",
        "best_month                  15.18  15.18  15.19  14.94  14.94  14.93  14.93   \n",
        "worst_month                -29.56 -29.56 -29.55 -29.56 -29.55 -29.54 -29.54   \n",
        "sharpe_ratio                 0.80   0.79   0.76   0.75   0.77   0.77   0.76   \n",
        "sortino_ratio                0.94   0.92   0.87   0.85   0.87   0.86   0.84   \n",
        "monthly_std                  3.36   3.29   3.26   3.23   3.17   3.13   3.10   \n",
        "pct_time_in_market          85.27  82.98  80.85  79.25  77.86  76.84  76.43   \n",
        "total_num_trades           154.00 126.00 123.00 122.00 107.00  95.00  92.00   \n",
        "pct_profitable_trades       30.52  27.78  23.58  22.95  26.17  29.47  30.43   \n",
        "avg_points                  20.86  25.66  23.30  22.89  26.68  30.66  32.30   \n",
        "\n",
        "                              225    250    275    300    325    350    375  \\\n",
        "annual_return_rate           8.54   8.43   8.26   8.28   8.23   8.20   8.35   \n",
        "max_closed_out_drawdown    -33.21 -33.22 -33.21 -33.23 -33.22 -33.22 -33.21   \n",
        "drawdown_annualized_return  -3.89  -3.94  -4.02  -4.01  -4.03  -4.05  -3.98   \n",
        "drawdown_recovery           -0.15  -0.15  -0.15  -0.15  -0.15  -0.15  -0.15   \n",
        "best_month                  14.94  14.93  14.94  14.94  14.93  14.93  14.93   \n",
        "worst_month                -29.54 -29.55 -29.53 -29.55 -29.55 -29.54 -29.53   \n",
        "sharpe_ratio                 0.78   0.77   0.76   0.76   0.75   0.74   0.75   \n",
        "sortino_ratio                0.86   0.85   0.84   0.84   0.83   0.83   0.85   \n",
        "monthly_std                  3.10   3.10   3.10   3.12   3.13   3.14   3.16   \n",
        "pct_time_in_market          76.30  76.34  76.55  76.78  77.11  77.48  77.98   \n",
        "total_num_trades            84.00  81.00  86.00  74.00  72.00  76.00  73.00   \n",
        "pct_profitable_trades       35.71  38.27  31.40  37.84  34.72  32.89  32.88   \n",
        "avg_points                  37.92  38.87  36.10  41.69  44.52  41.04  44.68   \n",
        "\n",
        "                              400    425    450    475    500  \n",
        "annual_return_rate           8.14   7.76   7.64   7.67   7.44  \n",
        "max_closed_out_drawdown    -33.21 -33.20 -36.09 -35.07 -35.05  \n",
        "drawdown_annualized_return  -4.08  -4.28  -4.73  -4.57  -4.71  \n",
        "drawdown_recovery           -0.15  -0.15  -0.99  -0.99  -0.99  \n",
        "best_month                  15.87  15.89  18.17  18.18  18.17  \n",
        "worst_month                -29.54 -29.53 -29.53 -29.55 -29.52  \n",
        "sharpe_ratio                 0.73   0.70   0.69   0.69   0.67  \n",
        "sortino_ratio                0.83   0.79   0.78   0.78   0.76  \n",
        "monthly_std                  3.17   3.20   3.25   3.27   3.29  \n",
        "pct_time_in_market          78.59  79.18  79.79  80.44  81.17  \n",
        "total_num_trades            76.00  88.00  78.00  84.00  94.00  \n",
        "pct_profitable_trades       28.95  26.14  29.49  28.57  24.47  \n",
        "avg_points                  43.45  36.29  40.05  36.75  32.60  "
       ]
      }
     ],
     "prompt_number": 7
    },
    {
     "cell_type": "markdown",
     "metadata": {},
     "source": [
      "Bar graphs"
     ]
    },
    {
     "cell_type": "code",
     "collapsed": false,
     "input": [
      "strategy.plot_bar_graph(df, 'annual_return_rate')\n",
      "strategy.plot_bar_graph(df, 'sharpe_ratio')\n",
      "strategy.plot_bar_graph(df, 'max_closed_out_drawdown')"
     ],
     "language": "python",
     "metadata": {},
     "outputs": [
      {
       "metadata": {},
       "output_type": "display_data",
       "png": "[encoded data removed]",
       "text": [
        "<matplotlib.figure.Figure at 0x7f2641e7cc10>"
       ]
      },
      {
       "metadata": {},
       "output_type": "display_data",
       "png": "[encoded data removed]",
       "text": [
        "<matplotlib.figure.Figure at 0x7f264747e990>"
       ]
      },
      {
       "metadata": {},
       "output_type": "display_data",
       "png": "[encoded data removed]",
       "text": [
        "<matplotlib.figure.Figure at 0x7f2639ab06d0>"
       ]
      }
     ],
     "prompt_number": 8
    },
    {
     "cell_type": "markdown",
     "metadata": {},
     "source": [
      "Run Benchmark"
     ]
    },
    {
     "cell_type": "code",
     "collapsed": false,
     "input": [
      "s = strategies[periods[0]]\n",
      "benchmark = pf.Benchmark(symbol, capital, s._start, s._end)\n",
      "benchmark.run()\n",
      "benchmark.tlog, benchmark.dbal = benchmark.get_logs()\n",
      "benchmark.stats = benchmark.stats()"
     ],
     "language": "python",
     "metadata": {},
     "outputs": [
      {
       "output_type": "stream",
       "stream": "stdout",
       "text": [
        "1950-03-15 00:00:00 BUY  573 ^GSPC @ 17.45\n",
        "2018-01-29 00:00:00 SELL 573 ^GSPC @ 2853.53"
       ]
      },
      {
       "output_type": "stream",
       "stream": "stdout",
       "text": [
        "\n"
       ]
      }
     ],
     "prompt_number": 9
    },
    {
     "cell_type": "markdown",
     "metadata": {},
     "source": [
      "Equity curve"
     ]
    },
    {
     "cell_type": "code",
     "collapsed": false,
     "input": [
      "pf.plot_equity_curve(strategies['200'].dbal, benchmark=benchmark.dbal)"
     ],
     "language": "python",
     "metadata": {},
     "outputs": [
      {
       "metadata": {},
       "output_type": "display_data",
       "png": "[encoded data removed]",
       "text": [
        "<matplotlib.figure.Figure at 0x7f26399e4710>"
       ]
      }
     ],
     "prompt_number": 10
    }
   ],
   "metadata": {}
  }
 ]
}