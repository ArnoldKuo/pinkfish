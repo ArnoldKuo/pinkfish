{
 "cells": [
  {
   "cell_type": "markdown",
   "metadata": {},
   "source": [
    "# Double 7's (Short Term Trading Strategies that Work)\n",
    "\n",
    "    1. The SPY is above its 200-day moving average\n",
    "    2. The SPY closes at a X-day low, buy some shares.\n",
    "       If it falls further, buy some more, etc...\n",
    "    3. If the SPY closes at a X-day high, sell your entire long position.\n",
    "    \n",
    "    (Scaling in)"
   ]
  },
  {
   "cell_type": "code",
   "execution_count": 1,
   "metadata": {
    "ExecuteTime": {
     "end_time": "2019-12-24T14:20:53.928043Z",
     "start_time": "2019-12-24T14:20:53.124581Z"
    }
   },
   "outputs": [],
   "source": [
    "# use future imports for python 3.x forward compatibility\n",
    "from __future__ import print_function\n",
    "from __future__ import unicode_literals\n",
    "from __future__ import division\n",
    "from __future__ import absolute_import\n",
    "\n",
    "# other imports\n",
    "import pandas as pd\n",
    "import matplotlib.pyplot as plt\n",
    "import datetime\n",
    "from talib.abstract import *\n",
    "\n",
    "# project imports\n",
    "import pinkfish as pf\n",
    "import strategy\n",
    "\n",
    "# format price data\n",
    "pd.options.display.float_format = '{:0.2f}'.format\n",
    "\n",
    "%matplotlib inline"
   ]
  },
  {
   "cell_type": "code",
   "execution_count": 2,
   "metadata": {
    "ExecuteTime": {
     "end_time": "2019-12-24T14:20:53.945070Z",
     "start_time": "2019-12-24T14:20:53.938583Z"
    }
   },
   "outputs": [],
   "source": [
    "# set size of inline plots\n",
    "'''note: rcParams can't be in same cell as import matplotlib\n",
    "   or %matplotlib inline\n",
    "   \n",
    "   %matplotlib notebook: will lead to interactive plots embedded within\n",
    "   the notebook, you can zoom and resize the figure\n",
    "   \n",
    "   %matplotlib inline: only draw static images in the notebook\n",
    "'''\n",
    "plt.rcParams[\"figure.figsize\"] = (10, 7)"
   ]
  },
  {
   "cell_type": "markdown",
   "metadata": {},
   "source": [
    "Some global data"
   ]
  },
  {
   "cell_type": "code",
   "execution_count": 3,
   "metadata": {
    "ExecuteTime": {
     "end_time": "2019-12-24T14:20:53.957438Z",
     "start_time": "2019-12-24T14:20:53.950957Z"
    }
   },
   "outputs": [],
   "source": [
    "#symbol = '^GSPC'\n",
    "symbol = 'SPY'\n",
    "#symbol = 'DIA'\n",
    "#symbol = 'QQQ'\n",
    "#symbol = 'IWM'\n",
    "#symbol = 'TLT'\n",
    "#symbol = 'GLD'\n",
    "#symbol = 'AAPL'\n",
    "#symbol = 'BBRY'\n",
    "#symbol = 'GDX'\n",
    "capital = 10000\n",
    "start = datetime.datetime(2000, 1, 1)\n",
    "end = datetime.datetime.now()"
   ]
  },
  {
   "cell_type": "markdown",
   "metadata": {},
   "source": [
    "Define high low trade periods"
   ]
  },
  {
   "cell_type": "code",
   "execution_count": 4,
   "metadata": {
    "ExecuteTime": {
     "end_time": "2019-12-24T14:20:53.966640Z",
     "start_time": "2019-12-24T14:20:53.961994Z"
    }
   },
   "outputs": [],
   "source": [
    "period = 8"
   ]
  },
  {
   "cell_type": "markdown",
   "metadata": {},
   "source": [
    "Define max number of positions to scale into"
   ]
  },
  {
   "cell_type": "code",
   "execution_count": 5,
   "metadata": {
    "ExecuteTime": {
     "end_time": "2019-12-24T14:20:53.980525Z",
     "start_time": "2019-12-24T14:20:53.970216Z"
    }
   },
   "outputs": [],
   "source": [
    "max_positions = 4"
   ]
  },
  {
   "cell_type": "markdown",
   "metadata": {},
   "source": [
    "Run Strategy"
   ]
  },
  {
   "cell_type": "code",
   "execution_count": 6,
   "metadata": {
    "ExecuteTime": {
     "end_time": "2019-12-24T14:20:54.173736Z",
     "start_time": "2019-12-24T14:20:53.987845Z"
    },
    "scrolled": false
   },
   "outputs": [],
   "source": [
    "s = strategy.Strategy(symbol, capital, start, end, period=period, max_positions=max_positions)\n",
    "s.run()"
   ]
  },
  {
   "cell_type": "markdown",
   "metadata": {},
   "source": [
    "Retrieve log DataFrames"
   ]
  },
  {
   "cell_type": "code",
   "execution_count": 7,
   "metadata": {
    "ExecuteTime": {
     "end_time": "2019-12-24T14:20:54.889673Z",
     "start_time": "2019-12-24T14:20:54.182720Z"
    }
   },
   "outputs": [],
   "source": [
    "rlog, tlog, dbal = s.get_logs()\n",
    "stats = s.get_stats()"
   ]
  },
  {
   "cell_type": "code",
   "execution_count": 8,
   "metadata": {
    "ExecuteTime": {
     "end_time": "2019-12-24T14:20:54.932431Z",
     "start_time": "2019-12-24T14:20:54.899430Z"
    }
   },
   "outputs": [
    {
     "data": {
      "text/html": [
       "<div>\n",
       "<style scoped>\n",
       "    .dataframe tbody tr th:only-of-type {\n",
       "        vertical-align: middle;\n",
       "    }\n",
       "\n",
       "    .dataframe tbody tr th {\n",
       "        vertical-align: top;\n",
       "    }\n",
       "\n",
       "    .dataframe thead th {\n",
       "        text-align: right;\n",
       "    }\n",
       "</style>\n",
       "<table border=\"1\" class=\"dataframe\">\n",
       "  <thead>\n",
       "    <tr style=\"text-align: right;\">\n",
       "      <th></th>\n",
       "      <th>date</th>\n",
       "      <th>price</th>\n",
       "      <th>shares</th>\n",
       "      <th>entry_exit</th>\n",
       "    </tr>\n",
       "  </thead>\n",
       "  <tbody>\n",
       "    <tr>\n",
       "      <th>562</th>\n",
       "      <td>2019-08-02</td>\n",
       "      <td>292.62</td>\n",
       "      <td>20</td>\n",
       "      <td>entry</td>\n",
       "    </tr>\n",
       "    <tr>\n",
       "      <th>563</th>\n",
       "      <td>2019-08-05</td>\n",
       "      <td>283.82</td>\n",
       "      <td>21</td>\n",
       "      <td>entry</td>\n",
       "    </tr>\n",
       "    <tr>\n",
       "      <th>564</th>\n",
       "      <td>2019-08-29</td>\n",
       "      <td>292.58</td>\n",
       "      <td>80</td>\n",
       "      <td>exit</td>\n",
       "    </tr>\n",
       "    <tr>\n",
       "      <th>565</th>\n",
       "      <td>2019-09-20</td>\n",
       "      <td>298.28</td>\n",
       "      <td>19</td>\n",
       "      <td>entry</td>\n",
       "    </tr>\n",
       "    <tr>\n",
       "      <th>566</th>\n",
       "      <td>2019-09-23</td>\n",
       "      <td>298.21</td>\n",
       "      <td>20</td>\n",
       "      <td>entry</td>\n",
       "    </tr>\n",
       "    <tr>\n",
       "      <th>567</th>\n",
       "      <td>2019-09-24</td>\n",
       "      <td>295.87</td>\n",
       "      <td>20</td>\n",
       "      <td>entry</td>\n",
       "    </tr>\n",
       "    <tr>\n",
       "      <th>568</th>\n",
       "      <td>2019-09-27</td>\n",
       "      <td>295.40</td>\n",
       "      <td>20</td>\n",
       "      <td>entry</td>\n",
       "    </tr>\n",
       "    <tr>\n",
       "      <th>569</th>\n",
       "      <td>2019-10-11</td>\n",
       "      <td>296.28</td>\n",
       "      <td>79</td>\n",
       "      <td>exit</td>\n",
       "    </tr>\n",
       "    <tr>\n",
       "      <th>570</th>\n",
       "      <td>2019-12-03</td>\n",
       "      <td>309.55</td>\n",
       "      <td>18</td>\n",
       "      <td>entry</td>\n",
       "    </tr>\n",
       "    <tr>\n",
       "      <th>571</th>\n",
       "      <td>2019-12-12</td>\n",
       "      <td>317.13</td>\n",
       "      <td>18</td>\n",
       "      <td>exit</td>\n",
       "    </tr>\n",
       "  </tbody>\n",
       "</table>\n",
       "</div>"
      ],
      "text/plain": [
       "          date  price  shares entry_exit\n",
       "562 2019-08-02 292.62      20      entry\n",
       "563 2019-08-05 283.82      21      entry\n",
       "564 2019-08-29 292.58      80       exit\n",
       "565 2019-09-20 298.28      19      entry\n",
       "566 2019-09-23 298.21      20      entry\n",
       "567 2019-09-24 295.87      20      entry\n",
       "568 2019-09-27 295.40      20      entry\n",
       "569 2019-10-11 296.28      79       exit\n",
       "570 2019-12-03 309.55      18      entry\n",
       "571 2019-12-12 317.13      18       exit"
      ]
     },
     "execution_count": 8,
     "metadata": {},
     "output_type": "execute_result"
    }
   ],
   "source": [
    "s.rlog.tail(10)"
   ]
  },
  {
   "cell_type": "code",
   "execution_count": 9,
   "metadata": {
    "ExecuteTime": {
     "end_time": "2019-12-24T14:20:54.975710Z",
     "start_time": "2019-12-24T14:20:54.941304Z"
    }
   },
   "outputs": [
    {
     "data": {
      "text/html": [
       "<div>\n",
       "<style scoped>\n",
       "    .dataframe tbody tr th:only-of-type {\n",
       "        vertical-align: middle;\n",
       "    }\n",
       "\n",
       "    .dataframe tbody tr th {\n",
       "        vertical-align: top;\n",
       "    }\n",
       "\n",
       "    .dataframe thead th {\n",
       "        text-align: right;\n",
       "    }\n",
       "</style>\n",
       "<table border=\"1\" class=\"dataframe\">\n",
       "  <thead>\n",
       "    <tr style=\"text-align: right;\">\n",
       "      <th></th>\n",
       "      <th>entry_date</th>\n",
       "      <th>entry_price</th>\n",
       "      <th>exit_date</th>\n",
       "      <th>exit_price</th>\n",
       "      <th>pl_points</th>\n",
       "      <th>pl_cash</th>\n",
       "      <th>qty</th>\n",
       "      <th>cumul_total</th>\n",
       "    </tr>\n",
       "  </thead>\n",
       "  <tbody>\n",
       "    <tr>\n",
       "      <th>394</th>\n",
       "      <td>2019-07-19</td>\n",
       "      <td>297.17</td>\n",
       "      <td>2019-07-24</td>\n",
       "      <td>301.44</td>\n",
       "      <td>4.27</td>\n",
       "      <td>81.13</td>\n",
       "      <td>19</td>\n",
       "      <td>13516.10</td>\n",
       "    </tr>\n",
       "    <tr>\n",
       "      <th>395</th>\n",
       "      <td>2019-07-31</td>\n",
       "      <td>297.43</td>\n",
       "      <td>2019-08-29</td>\n",
       "      <td>292.58</td>\n",
       "      <td>-4.85</td>\n",
       "      <td>-92.15</td>\n",
       "      <td>19</td>\n",
       "      <td>13423.95</td>\n",
       "    </tr>\n",
       "    <tr>\n",
       "      <th>396</th>\n",
       "      <td>2019-08-01</td>\n",
       "      <td>294.84</td>\n",
       "      <td>2019-08-29</td>\n",
       "      <td>292.58</td>\n",
       "      <td>-2.26</td>\n",
       "      <td>-45.20</td>\n",
       "      <td>20</td>\n",
       "      <td>13378.75</td>\n",
       "    </tr>\n",
       "    <tr>\n",
       "      <th>397</th>\n",
       "      <td>2019-08-02</td>\n",
       "      <td>292.62</td>\n",
       "      <td>2019-08-29</td>\n",
       "      <td>292.58</td>\n",
       "      <td>-0.04</td>\n",
       "      <td>-0.80</td>\n",
       "      <td>20</td>\n",
       "      <td>13377.95</td>\n",
       "    </tr>\n",
       "    <tr>\n",
       "      <th>398</th>\n",
       "      <td>2019-08-05</td>\n",
       "      <td>283.82</td>\n",
       "      <td>2019-08-29</td>\n",
       "      <td>292.58</td>\n",
       "      <td>8.76</td>\n",
       "      <td>183.96</td>\n",
       "      <td>21</td>\n",
       "      <td>13561.90</td>\n",
       "    </tr>\n",
       "    <tr>\n",
       "      <th>399</th>\n",
       "      <td>2019-09-20</td>\n",
       "      <td>298.28</td>\n",
       "      <td>2019-10-11</td>\n",
       "      <td>296.28</td>\n",
       "      <td>-2.00</td>\n",
       "      <td>-38.00</td>\n",
       "      <td>19</td>\n",
       "      <td>13523.90</td>\n",
       "    </tr>\n",
       "    <tr>\n",
       "      <th>400</th>\n",
       "      <td>2019-09-23</td>\n",
       "      <td>298.21</td>\n",
       "      <td>2019-10-11</td>\n",
       "      <td>296.28</td>\n",
       "      <td>-1.93</td>\n",
       "      <td>-38.60</td>\n",
       "      <td>20</td>\n",
       "      <td>13485.30</td>\n",
       "    </tr>\n",
       "    <tr>\n",
       "      <th>401</th>\n",
       "      <td>2019-09-24</td>\n",
       "      <td>295.87</td>\n",
       "      <td>2019-10-11</td>\n",
       "      <td>296.28</td>\n",
       "      <td>0.41</td>\n",
       "      <td>8.20</td>\n",
       "      <td>20</td>\n",
       "      <td>13493.50</td>\n",
       "    </tr>\n",
       "    <tr>\n",
       "      <th>402</th>\n",
       "      <td>2019-09-27</td>\n",
       "      <td>295.40</td>\n",
       "      <td>2019-10-11</td>\n",
       "      <td>296.28</td>\n",
       "      <td>0.88</td>\n",
       "      <td>17.60</td>\n",
       "      <td>20</td>\n",
       "      <td>13511.11</td>\n",
       "    </tr>\n",
       "    <tr>\n",
       "      <th>403</th>\n",
       "      <td>2019-12-03</td>\n",
       "      <td>309.55</td>\n",
       "      <td>2019-12-12</td>\n",
       "      <td>317.13</td>\n",
       "      <td>7.58</td>\n",
       "      <td>136.44</td>\n",
       "      <td>18</td>\n",
       "      <td>13647.55</td>\n",
       "    </tr>\n",
       "  </tbody>\n",
       "</table>\n",
       "</div>"
      ],
      "text/plain": [
       "    entry_date  entry_price  exit_date  exit_price  pl_points  pl_cash  qty  \\\n",
       "394 2019-07-19       297.17 2019-07-24      301.44       4.27    81.13   19   \n",
       "395 2019-07-31       297.43 2019-08-29      292.58      -4.85   -92.15   19   \n",
       "396 2019-08-01       294.84 2019-08-29      292.58      -2.26   -45.20   20   \n",
       "397 2019-08-02       292.62 2019-08-29      292.58      -0.04    -0.80   20   \n",
       "398 2019-08-05       283.82 2019-08-29      292.58       8.76   183.96   21   \n",
       "399 2019-09-20       298.28 2019-10-11      296.28      -2.00   -38.00   19   \n",
       "400 2019-09-23       298.21 2019-10-11      296.28      -1.93   -38.60   20   \n",
       "401 2019-09-24       295.87 2019-10-11      296.28       0.41     8.20   20   \n",
       "402 2019-09-27       295.40 2019-10-11      296.28       0.88    17.60   20   \n",
       "403 2019-12-03       309.55 2019-12-12      317.13       7.58   136.44   18   \n",
       "\n",
       "     cumul_total  \n",
       "394     13516.10  \n",
       "395     13423.95  \n",
       "396     13378.75  \n",
       "397     13377.95  \n",
       "398     13561.90  \n",
       "399     13523.90  \n",
       "400     13485.30  \n",
       "401     13493.50  \n",
       "402     13511.11  \n",
       "403     13647.55  "
      ]
     },
     "execution_count": 9,
     "metadata": {},
     "output_type": "execute_result"
    }
   ],
   "source": [
    "tlog.tail(10)"
   ]
  },
  {
   "cell_type": "code",
   "execution_count": 10,
   "metadata": {
    "ExecuteTime": {
     "end_time": "2019-12-24T14:20:55.011682Z",
     "start_time": "2019-12-24T14:20:54.979784Z"
    }
   },
   "outputs": [
    {
     "data": {
      "text/html": [
       "<div>\n",
       "<style scoped>\n",
       "    .dataframe tbody tr th:only-of-type {\n",
       "        vertical-align: middle;\n",
       "    }\n",
       "\n",
       "    .dataframe tbody tr th {\n",
       "        vertical-align: top;\n",
       "    }\n",
       "\n",
       "    .dataframe thead th {\n",
       "        text-align: right;\n",
       "    }\n",
       "</style>\n",
       "<table border=\"1\" class=\"dataframe\">\n",
       "  <thead>\n",
       "    <tr style=\"text-align: right;\">\n",
       "      <th></th>\n",
       "      <th>high</th>\n",
       "      <th>low</th>\n",
       "      <th>close</th>\n",
       "      <th>shares</th>\n",
       "      <th>cash</th>\n",
       "      <th>state</th>\n",
       "    </tr>\n",
       "    <tr>\n",
       "      <th>date</th>\n",
       "      <th></th>\n",
       "      <th></th>\n",
       "      <th></th>\n",
       "      <th></th>\n",
       "      <th></th>\n",
       "      <th></th>\n",
       "    </tr>\n",
       "  </thead>\n",
       "  <tbody>\n",
       "    <tr>\n",
       "      <th>2019-12-13</th>\n",
       "      <td>23647.55</td>\n",
       "      <td>23647.55</td>\n",
       "      <td>23647.55</td>\n",
       "      <td>0</td>\n",
       "      <td>23647.55</td>\n",
       "      <td>-</td>\n",
       "    </tr>\n",
       "    <tr>\n",
       "      <th>2019-12-16</th>\n",
       "      <td>23647.55</td>\n",
       "      <td>23647.55</td>\n",
       "      <td>23647.55</td>\n",
       "      <td>0</td>\n",
       "      <td>23647.55</td>\n",
       "      <td>-</td>\n",
       "    </tr>\n",
       "    <tr>\n",
       "      <th>2019-12-17</th>\n",
       "      <td>23647.55</td>\n",
       "      <td>23647.55</td>\n",
       "      <td>23647.55</td>\n",
       "      <td>0</td>\n",
       "      <td>23647.55</td>\n",
       "      <td>-</td>\n",
       "    </tr>\n",
       "    <tr>\n",
       "      <th>2019-12-18</th>\n",
       "      <td>23647.55</td>\n",
       "      <td>23647.55</td>\n",
       "      <td>23647.55</td>\n",
       "      <td>0</td>\n",
       "      <td>23647.55</td>\n",
       "      <td>-</td>\n",
       "    </tr>\n",
       "    <tr>\n",
       "      <th>2019-12-19</th>\n",
       "      <td>23647.55</td>\n",
       "      <td>23647.55</td>\n",
       "      <td>23647.55</td>\n",
       "      <td>0</td>\n",
       "      <td>23647.55</td>\n",
       "      <td>-</td>\n",
       "    </tr>\n",
       "  </tbody>\n",
       "</table>\n",
       "</div>"
      ],
      "text/plain": [
       "               high      low    close  shares     cash state\n",
       "date                                                        \n",
       "2019-12-13 23647.55 23647.55 23647.55       0 23647.55     -\n",
       "2019-12-16 23647.55 23647.55 23647.55       0 23647.55     -\n",
       "2019-12-17 23647.55 23647.55 23647.55       0 23647.55     -\n",
       "2019-12-18 23647.55 23647.55 23647.55       0 23647.55     -\n",
       "2019-12-19 23647.55 23647.55 23647.55       0 23647.55     -"
      ]
     },
     "execution_count": 10,
     "metadata": {},
     "output_type": "execute_result"
    }
   ],
   "source": [
    "dbal.tail()"
   ]
  },
  {
   "cell_type": "markdown",
   "metadata": {},
   "source": [
    "Generate strategy stats - display all available stats"
   ]
  },
  {
   "cell_type": "code",
   "execution_count": 11,
   "metadata": {
    "ExecuteTime": {
     "end_time": "2019-12-24T14:20:55.043835Z",
     "start_time": "2019-12-24T14:20:55.016941Z"
    }
   },
   "outputs": [
    {
     "name": "stdout",
     "output_type": "stream",
     "text": [
      "start                                                    2000-01-03\n",
      "end                                                      2019-12-19\n",
      "beginning_balance                                             10000\n",
      "ending_balance                                             23647.55\n",
      "total_net_profit                                           13647.55\n",
      "gross_profit                                               20393.99\n",
      "gross_loss                                                 -6746.45\n",
      "profit_factor                                                  3.02\n",
      "return_on_initial_capital                                    136.48\n",
      "annual_return_rate                                             4.41\n",
      "trading_period                           19 years 11 months 16 days\n",
      "pct_time_in_market                                            27.73\n",
      "total_num_trades                                                404\n",
      "trades_per_year                                               20.24\n",
      "num_winning_trades                                              320\n",
      "num_losing_trades                                                84\n",
      "num_even_trades                                                   0\n",
      "pct_profitable_trades                                         79.21\n",
      "avg_profit_per_trade                                          33.78\n",
      "avg_profit_per_winning_trade                                  63.73\n",
      "avg_loss_per_losing_trade                                    -80.31\n",
      "ratio_avg_profit_win_loss                                      0.79\n",
      "largest_profit_winning_trade                                 287.04\n",
      "largest_loss_losing_trade                                   -289.42\n",
      "num_winning_points                                           838.09\n",
      "num_losing_points                                           -288.57\n",
      "total_net_points                                             549.53\n",
      "avg_points                                                     1.36\n",
      "largest_points_winning_trade                                  11.96\n",
      "largest_points_losing_trade                                  -14.32\n",
      "avg_pct_gain_per_trade                                         0.87\n",
      "largest_pct_winning_trade                                      6.69\n",
      "largest_pct_losing_trade                                      -7.64\n",
      "max_consecutive_winning_trades                                   32\n",
      "max_consecutive_losing_trades                                     5\n",
      "avg_bars_winning_trades                                        7.20\n",
      "avg_bars_losing_trades                                        16.49\n",
      "max_closed_out_drawdown                                      -13.36\n",
      "max_closed_out_drawdown_start_date                       2011-07-21\n",
      "max_closed_out_drawdown_end_date                         2011-08-08\n",
      "max_closed_out_drawdown_recovery_date                    2012-12-31\n",
      "drawdown_recovery                                             -0.05\n",
      "drawdown_annualized_return                                    -3.03\n",
      "max_intra_day_drawdown                                       -15.68\n",
      "avg_yearly_closed_out_drawdown                                -4.12\n",
      "max_yearly_closed_out_drawdown                               -13.36\n",
      "avg_monthly_closed_out_drawdown                               -0.77\n",
      "max_monthly_closed_out_drawdown                              -13.36\n",
      "avg_weekly_closed_out_drawdown                                -0.26\n",
      "max_weekly_closed_out_drawdown                               -12.73\n",
      "avg_yearly_closed_out_runup                                    7.47\n",
      "max_yearly_closed_out_runup                                   18.48\n",
      "avg_monthly_closed_out_runup                                   1.07\n",
      "max_monthly_closed_out_runup                                   7.38\n",
      "avg_weekly_closed_out_runup                                    0.35\n",
      "max_weekly_closed_out_runup                                    7.38\n",
      "pct_profitable_years                                          75.19\n",
      "best_year                                                     17.08\n",
      "worst_year                                                    -7.17\n",
      "avg_year                                                       4.42\n",
      "annual_std                                                     4.84\n",
      "pct_profitable_months                                         50.46\n",
      "best_month                                                     7.38\n",
      "worst_month                                                  -11.68\n",
      "avg_month                                                      0.34\n",
      "monthly_std                                                    1.24\n",
      "pct_profitable_weeks                                          27.56\n",
      "best_week                                                      7.38\n",
      "worst_week                                                   -12.73\n",
      "avg_week                                                       0.09\n",
      "weekly_std                                                     0.79\n",
      "sharpe_ratio                                                   0.70\n",
      "sortino_ratio                                                  0.44\n",
      "dtype: object\n"
     ]
    }
   ],
   "source": [
    "pf.print_full(stats)"
   ]
  },
  {
   "cell_type": "markdown",
   "metadata": {},
   "source": [
    "Equity curve"
   ]
  },
  {
   "cell_type": "markdown",
   "metadata": {},
   "source": [
    "Run Benchmark, Retrieve benchmark logs, and Generate benchmark stats"
   ]
  },
  {
   "cell_type": "code",
   "execution_count": 12,
   "metadata": {
    "ExecuteTime": {
     "end_time": "2019-12-24T14:20:55.636688Z",
     "start_time": "2019-12-24T14:20:55.056899Z"
    }
   },
   "outputs": [
    {
     "name": "stdout",
     "output_type": "stream",
     "text": [
      "2000-01-03 00:00:00 BUY  68 SPY @ 145.44\n",
      "2019-12-19 00:00:00 SELL 68 SPY @ 320.90\n"
     ]
    }
   ],
   "source": [
    "benchmark = pf.Benchmark(symbol, capital, s._start, s._end)\n",
    "benchmark.run()\n",
    "benchmark.tlog, benchmark.dbal = benchmark.get_logs()\n",
    "benchmark.stats = benchmark.get_stats()"
   ]
  },
  {
   "cell_type": "markdown",
   "metadata": {},
   "source": [
    "Plot Equity Curves: Strategy vs Benchmark"
   ]
  },
  {
   "cell_type": "code",
   "execution_count": 13,
   "metadata": {
    "ExecuteTime": {
     "end_time": "2019-12-24T14:20:55.914621Z",
     "start_time": "2019-12-24T14:20:55.647863Z"
    }
   },
   "outputs": [
    {
     "data": {
      "image/png": "[encoded data removed]",
      "text/plain": [
       "<Figure size 720x504 with 1 Axes>"
      ]
     },
     "metadata": {
      "needs_background": "light"
     },
     "output_type": "display_data"
    }
   ],
   "source": [
    "pf.plot_equity_curve(dbal, benchmark=benchmark.dbal)"
   ]
  },
  {
   "cell_type": "markdown",
   "metadata": {},
   "source": [
    "Plot Trades"
   ]
  },
  {
   "cell_type": "code",
   "execution_count": 14,
   "metadata": {
    "ExecuteTime": {
     "end_time": "2019-12-24T14:20:56.201923Z",
     "start_time": "2019-12-24T14:20:55.922443Z"
    }
   },
   "outputs": [
    {
     "data": {
      "image/png": "[encoded data removed]",
      "text/plain": [
       "<Figure size 720x504 with 1 Axes>"
      ]
     },
     "metadata": {
      "needs_background": "light"
     },
     "output_type": "display_data"
    }
   ],
   "source": [
    "pf.plot_trades(dbal, benchmark=benchmark.dbal)"
   ]
  },
  {
   "cell_type": "markdown",
   "metadata": {},
   "source": [
    "Bar Graph: Strategy vs Benchmark"
   ]
  },
  {
   "cell_type": "code",
   "execution_count": 15,
   "metadata": {
    "ExecuteTime": {
     "end_time": "2019-12-24T14:20:56.625016Z",
     "start_time": "2019-12-24T14:20:56.210699Z"
    }
   },
   "outputs": [
    {
     "data": {
      "text/html": [
       "<div>\n",
       "<style scoped>\n",
       "    .dataframe tbody tr th:only-of-type {\n",
       "        vertical-align: middle;\n",
       "    }\n",
       "\n",
       "    .dataframe tbody tr th {\n",
       "        vertical-align: top;\n",
       "    }\n",
       "\n",
       "    .dataframe thead th {\n",
       "        text-align: right;\n",
       "    }\n",
       "</style>\n",
       "<table border=\"1\" class=\"dataframe\">\n",
       "  <thead>\n",
       "    <tr style=\"text-align: right;\">\n",
       "      <th></th>\n",
       "      <th>strategy</th>\n",
       "      <th>benchmark</th>\n",
       "    </tr>\n",
       "  </thead>\n",
       "  <tbody>\n",
       "    <tr>\n",
       "      <th>annual_return_rate</th>\n",
       "      <td>4.41</td>\n",
       "      <td>4.01</td>\n",
       "    </tr>\n",
       "    <tr>\n",
       "      <th>max_closed_out_drawdown</th>\n",
       "      <td>-13.36</td>\n",
       "      <td>-55.89</td>\n",
       "    </tr>\n",
       "    <tr>\n",
       "      <th>drawdown_annualized_return</th>\n",
       "      <td>-3.03</td>\n",
       "      <td>-13.93</td>\n",
       "    </tr>\n",
       "    <tr>\n",
       "      <th>drawdown_recovery</th>\n",
       "      <td>-0.05</td>\n",
       "      <td>-1.42</td>\n",
       "    </tr>\n",
       "    <tr>\n",
       "      <th>best_month</th>\n",
       "      <td>7.38</td>\n",
       "      <td>22.21</td>\n",
       "    </tr>\n",
       "    <tr>\n",
       "      <th>worst_month</th>\n",
       "      <td>-11.68</td>\n",
       "      <td>-29.43</td>\n",
       "    </tr>\n",
       "    <tr>\n",
       "      <th>sharpe_ratio</th>\n",
       "      <td>0.70</td>\n",
       "      <td>0.30</td>\n",
       "    </tr>\n",
       "    <tr>\n",
       "      <th>sortino_ratio</th>\n",
       "      <td>0.44</td>\n",
       "      <td>0.39</td>\n",
       "    </tr>\n",
       "    <tr>\n",
       "      <th>monthly_std</th>\n",
       "      <td>1.24</td>\n",
       "      <td>4.39</td>\n",
       "    </tr>\n",
       "  </tbody>\n",
       "</table>\n",
       "</div>"
      ],
      "text/plain": [
       "                            strategy  benchmark\n",
       "annual_return_rate              4.41       4.01\n",
       "max_closed_out_drawdown       -13.36     -55.89\n",
       "drawdown_annualized_return     -3.03     -13.93\n",
       "drawdown_recovery              -0.05      -1.42\n",
       "best_month                      7.38      22.21\n",
       "worst_month                   -11.68     -29.43\n",
       "sharpe_ratio                    0.70       0.30\n",
       "sortino_ratio                   0.44       0.39\n",
       "monthly_std                     1.24       4.39"
      ]
     },
     "execution_count": 15,
     "metadata": {},
     "output_type": "execute_result"
    },
    {
     "data": {
      "image/png": "[encoded data removed]",
      "text/plain": [
       "<Figure size 720x504 with 1 Axes>"
      ]
     },
     "metadata": {
      "needs_background": "light"
     },
     "output_type": "display_data"
    }
   ],
   "source": [
    "metrics = ('annual_return_rate',\n",
    "           'max_closed_out_drawdown',\n",
    "           'drawdown_annualized_return',\n",
    "           'drawdown_recovery',\n",
    "           'best_month',\n",
    "           'worst_month',\n",
    "           'sharpe_ratio',\n",
    "           'sortino_ratio',\n",
    "           'monthly_std')\n",
    "\n",
    "df = pf.plot_bar_graph(stats, benchmark.stats, *metrics)\n",
    "df"
   ]
  }
 ],
 "metadata": {
  "kernelspec": {
   "display_name": "Python 2",
   "language": "python",
   "name": "python2"
  },
  "language_info": {
   "codemirror_mode": {
    "name": "ipython",
    "version": 2
   },
   "file_extension": ".py",
   "mimetype": "text/x-python",
   "name": "python",
   "nbconvert_exporter": "python",
   "pygments_lexer": "ipython2",
   "version": "2.7.15+"
  },
  "latex_envs": {
   "LaTeX_envs_menu_present": true,
   "autoclose": false,
   "autocomplete": true,
   "bibliofile": "biblio.bib",
   "cite_by": "apalike",
   "current_citInitial": 1,
   "eqLabelWithNumbers": true,
   "eqNumInitial": 1,
   "hotkeys": {
    "equation": "Ctrl-E",
    "itemize": "Ctrl-I"
   },
   "labels_anchors": false,
   "latex_user_defs": false,
   "report_style_numbering": false,
   "user_envs_cfg": false
  }
 },
 "nbformat": 4,
 "nbformat_minor": 1
}
